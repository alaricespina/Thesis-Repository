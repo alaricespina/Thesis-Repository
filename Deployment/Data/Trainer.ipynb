{
 "cells": [
  {
   "cell_type": "code",
   "execution_count": 1,
   "metadata": {},
   "outputs": [],
   "source": [
    "import numpy as np \n",
    "import pandas as pd \n",
    "import pickle \n",
    "\n",
    "from sklearn.model_selection import train_test_split\n",
    "from sklearn.neural_network import BernoulliRBM\n",
    "from sklearn.metrics import classification_report, accuracy_score, confusion_matrix\n",
    "from sklearn.pipeline import Pipeline\n",
    "\n"
   ]
  },
  {
   "cell_type": "code",
   "execution_count": null,
   "metadata": {},
   "outputs": [],
   "source": [
    "data_2011 = pd.read_csv(\"Data/2011.csv\")\n",
    "data_2012 = pd.read_csv(\"Data/2012.csv\")\n",
    "data_2013 = pd.read_csv(\"Data/2013.csv\")\n",
    "data_2014 = pd.read_csv(\"Data/2014.csv\")\n",
    "concatenated_data = pd.concat([self.data_2011, self.data_2012, self.data_2013, self.data_2014], ignore_index=True, sort=False)\n",
    "\"datetime\", \"tempmax\", \"tempmin\", \"temp\", \"humidity\", \"windspeed\", \"sealevelpressure\", \"conditions\""
   ]
  }
 ],
 "metadata": {
  "kernelspec": {
   "display_name": "Python 3",
   "language": "python",
   "name": "python3"
  },
  "language_info": {
   "codemirror_mode": {
    "name": "ipython",
    "version": 3
   },
   "file_extension": ".py",
   "mimetype": "text/x-python",
   "name": "python",
   "nbconvert_exporter": "python",
   "pygments_lexer": "ipython3",
   "version": "3.11.3"
  }
 },
 "nbformat": 4,
 "nbformat_minor": 2
}
