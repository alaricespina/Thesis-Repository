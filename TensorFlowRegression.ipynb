{
 "cells": [
  {
   "cell_type": "code",
   "execution_count": 61,
   "metadata": {},
   "outputs": [
    {
     "name": "stdout",
     "output_type": "stream",
     "text": [
      "2.11.0\n"
     ]
    }
   ],
   "source": [
    "import matplotlib.pyplot as plt\n",
    "import numpy as np\n",
    "import pandas as pd\n",
    "import seaborn as sns\n",
    "\n",
    "# Make NumPy printouts easier to read.\n",
    "np.set_printoptions(precision=3, suppress=True)\n",
    "\n",
    "import tensorflow as tf\n",
    "\n",
    "from tensorflow import keras\n",
    "from tensorflow.keras import layers\n",
    "\n",
    "print(tf.__version__)\n"
   ]
  },
  {
   "attachments": {},
   "cell_type": "markdown",
   "metadata": {},
   "source": [
    "Gather Data"
   ]
  },
  {
   "cell_type": "code",
   "execution_count": 62,
   "metadata": {},
   "outputs": [],
   "source": [
    "url = 'http://archive.ics.uci.edu/ml/machine-learning-databases/auto-mpg/auto-mpg.data'\n",
    "column_names = ['MPG', 'Cylinders', 'Displacement', 'Horsepower', 'Weight',\n",
    "                'Acceleration', 'Model Year', 'Origin']\n",
    "\n",
    "raw_dataset = pd.read_csv(url, names=column_names,\n",
    "                          na_values='?', comment='\\t',\n",
    "                          sep=' ', skipinitialspace=True)"
   ]
  },
  {
   "attachments": {},
   "cell_type": "markdown",
   "metadata": {},
   "source": [
    "Copy of raw dataset to be set as the actual dataset for the notebook"
   ]
  },
  {
   "cell_type": "code",
   "execution_count": 63,
   "metadata": {},
   "outputs": [
    {
     "data": {
      "text/html": [
       "<div>\n",
       "<style scoped>\n",
       "    .dataframe tbody tr th:only-of-type {\n",
       "        vertical-align: middle;\n",
       "    }\n",
       "\n",
       "    .dataframe tbody tr th {\n",
       "        vertical-align: top;\n",
       "    }\n",
       "\n",
       "    .dataframe thead th {\n",
       "        text-align: right;\n",
       "    }\n",
       "</style>\n",
       "<table border=\"1\" class=\"dataframe\">\n",
       "  <thead>\n",
       "    <tr style=\"text-align: right;\">\n",
       "      <th></th>\n",
       "      <th>MPG</th>\n",
       "      <th>Cylinders</th>\n",
       "      <th>Displacement</th>\n",
       "      <th>Horsepower</th>\n",
       "      <th>Weight</th>\n",
       "      <th>Acceleration</th>\n",
       "      <th>Model Year</th>\n",
       "      <th>Origin</th>\n",
       "    </tr>\n",
       "  </thead>\n",
       "  <tbody>\n",
       "    <tr>\n",
       "      <th>393</th>\n",
       "      <td>27.0</td>\n",
       "      <td>4</td>\n",
       "      <td>140.0</td>\n",
       "      <td>86.0</td>\n",
       "      <td>2790.0</td>\n",
       "      <td>15.6</td>\n",
       "      <td>82</td>\n",
       "      <td>1</td>\n",
       "    </tr>\n",
       "    <tr>\n",
       "      <th>394</th>\n",
       "      <td>44.0</td>\n",
       "      <td>4</td>\n",
       "      <td>97.0</td>\n",
       "      <td>52.0</td>\n",
       "      <td>2130.0</td>\n",
       "      <td>24.6</td>\n",
       "      <td>82</td>\n",
       "      <td>2</td>\n",
       "    </tr>\n",
       "    <tr>\n",
       "      <th>395</th>\n",
       "      <td>32.0</td>\n",
       "      <td>4</td>\n",
       "      <td>135.0</td>\n",
       "      <td>84.0</td>\n",
       "      <td>2295.0</td>\n",
       "      <td>11.6</td>\n",
       "      <td>82</td>\n",
       "      <td>1</td>\n",
       "    </tr>\n",
       "    <tr>\n",
       "      <th>396</th>\n",
       "      <td>28.0</td>\n",
       "      <td>4</td>\n",
       "      <td>120.0</td>\n",
       "      <td>79.0</td>\n",
       "      <td>2625.0</td>\n",
       "      <td>18.6</td>\n",
       "      <td>82</td>\n",
       "      <td>1</td>\n",
       "    </tr>\n",
       "    <tr>\n",
       "      <th>397</th>\n",
       "      <td>31.0</td>\n",
       "      <td>4</td>\n",
       "      <td>119.0</td>\n",
       "      <td>82.0</td>\n",
       "      <td>2720.0</td>\n",
       "      <td>19.4</td>\n",
       "      <td>82</td>\n",
       "      <td>1</td>\n",
       "    </tr>\n",
       "  </tbody>\n",
       "</table>\n",
       "</div>"
      ],
      "text/plain": [
       "      MPG  Cylinders  Displacement  Horsepower  Weight  Acceleration  \\\n",
       "393  27.0          4         140.0        86.0  2790.0          15.6   \n",
       "394  44.0          4          97.0        52.0  2130.0          24.6   \n",
       "395  32.0          4         135.0        84.0  2295.0          11.6   \n",
       "396  28.0          4         120.0        79.0  2625.0          18.6   \n",
       "397  31.0          4         119.0        82.0  2720.0          19.4   \n",
       "\n",
       "     Model Year  Origin  \n",
       "393          82       1  \n",
       "394          82       2  \n",
       "395          82       1  \n",
       "396          82       1  \n",
       "397          82       1  "
      ]
     },
     "execution_count": 63,
     "metadata": {},
     "output_type": "execute_result"
    }
   ],
   "source": [
    "dataset = raw_dataset.copy()\n",
    "dataset.tail()"
   ]
  },
  {
   "attachments": {},
   "cell_type": "markdown",
   "metadata": {},
   "source": [
    "Dropping the rows that contain 0 values to keep the notebook simple"
   ]
  },
  {
   "cell_type": "code",
   "execution_count": 64,
   "metadata": {},
   "outputs": [
    {
     "name": "stdout",
     "output_type": "stream",
     "text": [
      "=====Before removing=====\n",
      "MPG             0\n",
      "Cylinders       0\n",
      "Displacement    0\n",
      "Horsepower      6\n",
      "Weight          0\n",
      "Acceleration    0\n",
      "Model Year      0\n",
      "Origin          0\n",
      "dtype: int64\n",
      "=====After removing=====\n",
      "MPG             0\n",
      "Cylinders       0\n",
      "Displacement    0\n",
      "Horsepower      0\n",
      "Weight          0\n",
      "Acceleration    0\n",
      "Model Year      0\n",
      "Origin          0\n",
      "dtype: int64\n"
     ]
    }
   ],
   "source": [
    "print(\"=====Before removing=====\")\n",
    "print(dataset.isna().sum())\n",
    "dataset = dataset.dropna()\n",
    "print(\"=====After removing=====\")\n",
    "print(dataset.isna().sum())"
   ]
  },
  {
   "attachments": {},
   "cell_type": "markdown",
   "metadata": {},
   "source": [
    "One Hot encode using map function of the pandas dataframe"
   ]
  },
  {
   "cell_type": "code",
   "execution_count": 65,
   "metadata": {},
   "outputs": [
    {
     "data": {
      "text/html": [
       "<div>\n",
       "<style scoped>\n",
       "    .dataframe tbody tr th:only-of-type {\n",
       "        vertical-align: middle;\n",
       "    }\n",
       "\n",
       "    .dataframe tbody tr th {\n",
       "        vertical-align: top;\n",
       "    }\n",
       "\n",
       "    .dataframe thead th {\n",
       "        text-align: right;\n",
       "    }\n",
       "</style>\n",
       "<table border=\"1\" class=\"dataframe\">\n",
       "  <thead>\n",
       "    <tr style=\"text-align: right;\">\n",
       "      <th></th>\n",
       "      <th>MPG</th>\n",
       "      <th>Cylinders</th>\n",
       "      <th>Displacement</th>\n",
       "      <th>Horsepower</th>\n",
       "      <th>Weight</th>\n",
       "      <th>Acceleration</th>\n",
       "      <th>Model Year</th>\n",
       "      <th>Europe</th>\n",
       "      <th>Japan</th>\n",
       "      <th>USA</th>\n",
       "    </tr>\n",
       "  </thead>\n",
       "  <tbody>\n",
       "    <tr>\n",
       "      <th>393</th>\n",
       "      <td>27.0</td>\n",
       "      <td>4</td>\n",
       "      <td>140.0</td>\n",
       "      <td>86.0</td>\n",
       "      <td>2790.0</td>\n",
       "      <td>15.6</td>\n",
       "      <td>82</td>\n",
       "      <td>0</td>\n",
       "      <td>0</td>\n",
       "      <td>1</td>\n",
       "    </tr>\n",
       "    <tr>\n",
       "      <th>394</th>\n",
       "      <td>44.0</td>\n",
       "      <td>4</td>\n",
       "      <td>97.0</td>\n",
       "      <td>52.0</td>\n",
       "      <td>2130.0</td>\n",
       "      <td>24.6</td>\n",
       "      <td>82</td>\n",
       "      <td>1</td>\n",
       "      <td>0</td>\n",
       "      <td>0</td>\n",
       "    </tr>\n",
       "    <tr>\n",
       "      <th>395</th>\n",
       "      <td>32.0</td>\n",
       "      <td>4</td>\n",
       "      <td>135.0</td>\n",
       "      <td>84.0</td>\n",
       "      <td>2295.0</td>\n",
       "      <td>11.6</td>\n",
       "      <td>82</td>\n",
       "      <td>0</td>\n",
       "      <td>0</td>\n",
       "      <td>1</td>\n",
       "    </tr>\n",
       "    <tr>\n",
       "      <th>396</th>\n",
       "      <td>28.0</td>\n",
       "      <td>4</td>\n",
       "      <td>120.0</td>\n",
       "      <td>79.0</td>\n",
       "      <td>2625.0</td>\n",
       "      <td>18.6</td>\n",
       "      <td>82</td>\n",
       "      <td>0</td>\n",
       "      <td>0</td>\n",
       "      <td>1</td>\n",
       "    </tr>\n",
       "    <tr>\n",
       "      <th>397</th>\n",
       "      <td>31.0</td>\n",
       "      <td>4</td>\n",
       "      <td>119.0</td>\n",
       "      <td>82.0</td>\n",
       "      <td>2720.0</td>\n",
       "      <td>19.4</td>\n",
       "      <td>82</td>\n",
       "      <td>0</td>\n",
       "      <td>0</td>\n",
       "      <td>1</td>\n",
       "    </tr>\n",
       "  </tbody>\n",
       "</table>\n",
       "</div>"
      ],
      "text/plain": [
       "      MPG  Cylinders  Displacement  Horsepower  Weight  Acceleration  \\\n",
       "393  27.0          4         140.0        86.0  2790.0          15.6   \n",
       "394  44.0          4          97.0        52.0  2130.0          24.6   \n",
       "395  32.0          4         135.0        84.0  2295.0          11.6   \n",
       "396  28.0          4         120.0        79.0  2625.0          18.6   \n",
       "397  31.0          4         119.0        82.0  2720.0          19.4   \n",
       "\n",
       "     Model Year  Europe  Japan  USA  \n",
       "393          82       0      0    1  \n",
       "394          82       1      0    0  \n",
       "395          82       0      0    1  \n",
       "396          82       0      0    1  \n",
       "397          82       0      0    1  "
      ]
     },
     "execution_count": 65,
     "metadata": {},
     "output_type": "execute_result"
    }
   ],
   "source": [
    "dataset['Origin'] = dataset['Origin'].map({1: 'USA', 2: 'Europe', 3: 'Japan'})\n",
    "dataset = pd.get_dummies(dataset, columns=['Origin'], prefix='', prefix_sep='')\n",
    "dataset.tail()"
   ]
  },
  {
   "attachments": {},
   "cell_type": "markdown",
   "metadata": {},
   "source": [
    "Splitting dataset into training and testing sets"
   ]
  },
  {
   "cell_type": "code",
   "execution_count": 66,
   "metadata": {},
   "outputs": [],
   "source": [
    "train_dataset = dataset.sample(frac=0.8, random_state=0)\n",
    "test_dataset = dataset.drop(train_dataset.index)"
   ]
  },
  {
   "attachments": {},
   "cell_type": "markdown",
   "metadata": {},
   "source": [
    "Plot data using seaborn"
   ]
  },
  {
   "cell_type": "code",
   "execution_count": 67,
   "metadata": {},
   "outputs": [
    {
     "data": {
      "text/plain": [
       "<seaborn.axisgrid.PairGrid at 0x2238a3f1a00>"
      ]
     },
     "execution_count": 67,
     "metadata": {},
     "output_type": "execute_result"
    },
    {
     "data": {
      "image/png": "[encoded data removed]",
      "text/plain": [
       "<Figure size 720x720 with 20 Axes>"
      ]
     },
     "metadata": {
      "needs_background": "light"
     },
     "output_type": "display_data"
    }
   ],
   "source": [
    "sns.pairplot(train_dataset[['MPG', 'Cylinders', 'Displacement', 'Weight']], diag_kind='kde')"
   ]
  },
  {
   "cell_type": "code",
   "execution_count": 68,
   "metadata": {},
   "outputs": [
    {
     "data": {
      "text/html": [
       "<div>\n",
       "<style scoped>\n",
       "    .dataframe tbody tr th:only-of-type {\n",
       "        vertical-align: middle;\n",
       "    }\n",
       "\n",
       "    .dataframe tbody tr th {\n",
       "        vertical-align: top;\n",
       "    }\n",
       "\n",
       "    .dataframe thead th {\n",
       "        text-align: right;\n",
       "    }\n",
       "</style>\n",
       "<table border=\"1\" class=\"dataframe\">\n",
       "  <thead>\n",
       "    <tr style=\"text-align: right;\">\n",
       "      <th></th>\n",
       "      <th>MPG</th>\n",
       "      <th>Cylinders</th>\n",
       "      <th>Displacement</th>\n",
       "      <th>Horsepower</th>\n",
       "      <th>Weight</th>\n",
       "      <th>Acceleration</th>\n",
       "      <th>Model Year</th>\n",
       "      <th>Europe</th>\n",
       "      <th>Japan</th>\n",
       "      <th>USA</th>\n",
       "    </tr>\n",
       "  </thead>\n",
       "  <tbody>\n",
       "    <tr>\n",
       "      <th>count</th>\n",
       "      <td>314.000000</td>\n",
       "      <td>314.000000</td>\n",
       "      <td>314.000000</td>\n",
       "      <td>314.000000</td>\n",
       "      <td>314.000000</td>\n",
       "      <td>314.000000</td>\n",
       "      <td>314.000000</td>\n",
       "      <td>314.000000</td>\n",
       "      <td>314.000000</td>\n",
       "      <td>314.000000</td>\n",
       "    </tr>\n",
       "    <tr>\n",
       "      <th>mean</th>\n",
       "      <td>23.310510</td>\n",
       "      <td>5.477707</td>\n",
       "      <td>195.318471</td>\n",
       "      <td>104.869427</td>\n",
       "      <td>2990.251592</td>\n",
       "      <td>15.559236</td>\n",
       "      <td>75.898089</td>\n",
       "      <td>0.178344</td>\n",
       "      <td>0.197452</td>\n",
       "      <td>0.624204</td>\n",
       "    </tr>\n",
       "    <tr>\n",
       "      <th>std</th>\n",
       "      <td>7.728652</td>\n",
       "      <td>1.699788</td>\n",
       "      <td>104.331589</td>\n",
       "      <td>38.096214</td>\n",
       "      <td>843.898596</td>\n",
       "      <td>2.789230</td>\n",
       "      <td>3.675642</td>\n",
       "      <td>0.383413</td>\n",
       "      <td>0.398712</td>\n",
       "      <td>0.485101</td>\n",
       "    </tr>\n",
       "    <tr>\n",
       "      <th>min</th>\n",
       "      <td>10.000000</td>\n",
       "      <td>3.000000</td>\n",
       "      <td>68.000000</td>\n",
       "      <td>46.000000</td>\n",
       "      <td>1649.000000</td>\n",
       "      <td>8.000000</td>\n",
       "      <td>70.000000</td>\n",
       "      <td>0.000000</td>\n",
       "      <td>0.000000</td>\n",
       "      <td>0.000000</td>\n",
       "    </tr>\n",
       "    <tr>\n",
       "      <th>25%</th>\n",
       "      <td>17.000000</td>\n",
       "      <td>4.000000</td>\n",
       "      <td>105.500000</td>\n",
       "      <td>76.250000</td>\n",
       "      <td>2256.500000</td>\n",
       "      <td>13.800000</td>\n",
       "      <td>73.000000</td>\n",
       "      <td>0.000000</td>\n",
       "      <td>0.000000</td>\n",
       "      <td>0.000000</td>\n",
       "    </tr>\n",
       "    <tr>\n",
       "      <th>50%</th>\n",
       "      <td>22.000000</td>\n",
       "      <td>4.000000</td>\n",
       "      <td>151.000000</td>\n",
       "      <td>94.500000</td>\n",
       "      <td>2822.500000</td>\n",
       "      <td>15.500000</td>\n",
       "      <td>76.000000</td>\n",
       "      <td>0.000000</td>\n",
       "      <td>0.000000</td>\n",
       "      <td>1.000000</td>\n",
       "    </tr>\n",
       "    <tr>\n",
       "      <th>75%</th>\n",
       "      <td>28.950000</td>\n",
       "      <td>8.000000</td>\n",
       "      <td>265.750000</td>\n",
       "      <td>128.000000</td>\n",
       "      <td>3608.000000</td>\n",
       "      <td>17.200000</td>\n",
       "      <td>79.000000</td>\n",
       "      <td>0.000000</td>\n",
       "      <td>0.000000</td>\n",
       "      <td>1.000000</td>\n",
       "    </tr>\n",
       "    <tr>\n",
       "      <th>max</th>\n",
       "      <td>46.600000</td>\n",
       "      <td>8.000000</td>\n",
       "      <td>455.000000</td>\n",
       "      <td>225.000000</td>\n",
       "      <td>5140.000000</td>\n",
       "      <td>24.800000</td>\n",
       "      <td>82.000000</td>\n",
       "      <td>1.000000</td>\n",
       "      <td>1.000000</td>\n",
       "      <td>1.000000</td>\n",
       "    </tr>\n",
       "  </tbody>\n",
       "</table>\n",
       "</div>"
      ],
      "text/plain": [
       "              MPG   Cylinders  Displacement  Horsepower       Weight  \\\n",
       "count  314.000000  314.000000    314.000000  314.000000   314.000000   \n",
       "mean    23.310510    5.477707    195.318471  104.869427  2990.251592   \n",
       "std      7.728652    1.699788    104.331589   38.096214   843.898596   \n",
       "min     10.000000    3.000000     68.000000   46.000000  1649.000000   \n",
       "25%     17.000000    4.000000    105.500000   76.250000  2256.500000   \n",
       "50%     22.000000    4.000000    151.000000   94.500000  2822.500000   \n",
       "75%     28.950000    8.000000    265.750000  128.000000  3608.000000   \n",
       "max     46.600000    8.000000    455.000000  225.000000  5140.000000   \n",
       "\n",
       "       Acceleration  Model Year      Europe       Japan         USA  \n",
       "count    314.000000  314.000000  314.000000  314.000000  314.000000  \n",
       "mean      15.559236   75.898089    0.178344    0.197452    0.624204  \n",
       "std        2.789230    3.675642    0.383413    0.398712    0.485101  \n",
       "min        8.000000   70.000000    0.000000    0.000000    0.000000  \n",
       "25%       13.800000   73.000000    0.000000    0.000000    0.000000  \n",
       "50%       15.500000   76.000000    0.000000    0.000000    1.000000  \n",
       "75%       17.200000   79.000000    0.000000    0.000000    1.000000  \n",
       "max       24.800000   82.000000    1.000000    1.000000    1.000000  "
      ]
     },
     "execution_count": 68,
     "metadata": {},
     "output_type": "execute_result"
    }
   ],
   "source": [
    "train_dataset.describe()"
   ]
  },
  {
   "attachments": {},
   "cell_type": "markdown",
   "metadata": {},
   "source": [
    "Removing the target variable (label) from the other variables (features)"
   ]
  },
  {
   "cell_type": "code",
   "execution_count": 69,
   "metadata": {},
   "outputs": [],
   "source": [
    "train_features = train_dataset.copy()\n",
    "test_features = test_dataset.copy()\n",
    "\n",
    "train_labels = train_features.pop('MPG')\n",
    "test_labels = test_features.pop('MPG')"
   ]
  },
  {
   "attachments": {},
   "cell_type": "markdown",
   "metadata": {},
   "source": [
    "Normalization Part using tensorflow normalization"
   ]
  },
  {
   "cell_type": "code",
   "execution_count": 70,
   "metadata": {},
   "outputs": [
    {
     "name": "stdout",
     "output_type": "stream",
     "text": [
      "[[   5.478  195.318  104.869 2990.252   15.559   75.898    0.178    0.197\n",
      "     0.624]]\n"
     ]
    }
   ],
   "source": [
    "normalizer = tf.keras.layers.Normalization(axis=-1)\n",
    "normalizer.adapt(np.array(train_features))\n",
    "print(normalizer.mean.numpy())"
   ]
  },
  {
   "attachments": {},
   "cell_type": "markdown",
   "metadata": {},
   "source": [
    "Linear Regression Model, using only one Dense Layer"
   ]
  },
  {
   "cell_type": "code",
   "execution_count": 71,
   "metadata": {},
   "outputs": [
    {
     "name": "stdout",
     "output_type": "stream",
     "text": [
      "Model: \"sequential_8\"\n",
      "_________________________________________________________________\n",
      " Layer (type)                Output Shape              Param #   \n",
      "=================================================================\n",
      " normalization_5 (Normalizat  (None, 1)                3         \n",
      " ion)                                                            \n",
      "                                                                 \n",
      " dense_18 (Dense)            (None, 1)                 2         \n",
      "                                                                 \n",
      "=================================================================\n",
      "Total params: 5\n",
      "Trainable params: 2\n",
      "Non-trainable params: 3\n",
      "_________________________________________________________________\n",
      "None\n"
     ]
    }
   ],
   "source": [
    "horsepower = np.array(train_features['Horsepower'])\n",
    "\n",
    "horsepower_normalizer = layers.Normalization(input_shape=[1,], axis=None)\n",
    "horsepower_normalizer.adapt(horsepower)\n",
    "horsepower_model = tf.keras.Sequential([\n",
    "    horsepower_normalizer,\n",
    "    layers.Dense(units=1)\n",
    "])\n",
    "\n",
    "print(horsepower_model.summary())"
   ]
  },
  {
   "attachments": {},
   "cell_type": "markdown",
   "metadata": {},
   "source": [
    "Compiling and testing the one layer Dense Model (Essentially a linear model) with Adam Optimizer and Mean Aboslute Error as loss function"
   ]
  },
  {
   "cell_type": "code",
   "execution_count": 72,
   "metadata": {},
   "outputs": [
    {
     "name": "stdout",
     "output_type": "stream",
     "text": [
      "Epoch 1/100\n",
      "8/8 [==============================] - 1s 53ms/step - loss: 22.8645 - val_loss: 22.9387\n",
      "Epoch 2/100\n",
      "8/8 [==============================] - 0s 13ms/step - loss: 22.0612 - val_loss: 22.1385\n",
      "Epoch 3/100\n",
      "8/8 [==============================] - 0s 15ms/step - loss: 21.2610 - val_loss: 21.3385\n",
      "Epoch 4/100\n",
      "8/8 [==============================] - 0s 12ms/step - loss: 20.4620 - val_loss: 20.5388\n",
      "Epoch 5/100\n",
      "8/8 [==============================] - 0s 12ms/step - loss: 19.6651 - val_loss: 19.7390\n",
      "Epoch 6/100\n",
      "8/8 [==============================] - 0s 14ms/step - loss: 18.8605 - val_loss: 18.9389\n",
      "Epoch 7/100\n",
      "8/8 [==============================] - 0s 14ms/step - loss: 18.0616 - val_loss: 18.1388\n",
      "Epoch 8/100\n",
      "8/8 [==============================] - 0s 12ms/step - loss: 17.2618 - val_loss: 17.3388\n",
      "Epoch 9/100\n",
      "8/8 [==============================] - 0s 10ms/step - loss: 16.4619 - val_loss: 16.5387\n",
      "Epoch 10/100\n",
      "8/8 [==============================] - 0s 8ms/step - loss: 15.6683 - val_loss: 15.7425\n",
      "Epoch 11/100\n",
      "8/8 [==============================] - 0s 8ms/step - loss: 14.8902 - val_loss: 14.9514\n",
      "Epoch 12/100\n",
      "8/8 [==============================] - 0s 10ms/step - loss: 14.1007 - val_loss: 14.1747\n",
      "Epoch 13/100\n",
      "8/8 [==============================] - 0s 10ms/step - loss: 13.3172 - val_loss: 13.3962\n",
      "Epoch 14/100\n",
      "8/8 [==============================] - 0s 10ms/step - loss: 12.5390 - val_loss: 12.6075\n",
      "Epoch 15/100\n",
      "8/8 [==============================] - 0s 12ms/step - loss: 11.7501 - val_loss: 11.8277\n",
      "Epoch 16/100\n",
      "8/8 [==============================] - 0s 11ms/step - loss: 10.9754 - val_loss: 11.0432\n",
      "Epoch 17/100\n",
      "8/8 [==============================] - 0s 14ms/step - loss: 10.1903 - val_loss: 10.2640\n",
      "Epoch 18/100\n",
      "8/8 [==============================] - 0s 14ms/step - loss: 9.4163 - val_loss: 9.4905\n",
      "Epoch 19/100\n",
      "8/8 [==============================] - 0s 10ms/step - loss: 8.6673 - val_loss: 8.7412\n",
      "Epoch 20/100\n",
      "8/8 [==============================] - 0s 10ms/step - loss: 7.9552 - val_loss: 8.0060\n",
      "Epoch 21/100\n",
      "8/8 [==============================] - 0s 10ms/step - loss: 7.2832 - val_loss: 7.2849\n",
      "Epoch 22/100\n",
      "8/8 [==============================] - 0s 9ms/step - loss: 6.6335 - val_loss: 6.6374\n",
      "Epoch 23/100\n",
      "8/8 [==============================] - 0s 9ms/step - loss: 6.0434 - val_loss: 6.0454\n",
      "Epoch 24/100\n",
      "8/8 [==============================] - 0s 8ms/step - loss: 5.5141 - val_loss: 5.6117\n",
      "Epoch 25/100\n",
      "8/8 [==============================] - 0s 7ms/step - loss: 5.0940 - val_loss: 5.2611\n",
      "Epoch 26/100\n",
      "8/8 [==============================] - 0s 7ms/step - loss: 4.7773 - val_loss: 5.0275\n",
      "Epoch 27/100\n",
      "8/8 [==============================] - 0s 8ms/step - loss: 4.5161 - val_loss: 4.8358\n",
      "Epoch 28/100\n",
      "8/8 [==============================] - 0s 11ms/step - loss: 4.3116 - val_loss: 4.6754\n",
      "Epoch 29/100\n",
      "8/8 [==============================] - 0s 9ms/step - loss: 4.1601 - val_loss: 4.5541\n",
      "Epoch 30/100\n",
      "8/8 [==============================] - 0s 8ms/step - loss: 4.0524 - val_loss: 4.4672\n",
      "Epoch 31/100\n",
      "8/8 [==============================] - 0s 8ms/step - loss: 3.9607 - val_loss: 4.3910\n",
      "Epoch 32/100\n",
      "8/8 [==============================] - 0s 9ms/step - loss: 3.9087 - val_loss: 4.3381\n",
      "Epoch 33/100\n",
      "8/8 [==============================] - 0s 8ms/step - loss: 3.8730 - val_loss: 4.2773\n",
      "Epoch 34/100\n",
      "8/8 [==============================] - 0s 8ms/step - loss: 3.8513 - val_loss: 4.2572\n",
      "Epoch 35/100\n",
      "8/8 [==============================] - 0s 8ms/step - loss: 3.8314 - val_loss: 4.2351\n",
      "Epoch 36/100\n",
      "8/8 [==============================] - 0s 10ms/step - loss: 3.8254 - val_loss: 4.2128\n",
      "Epoch 37/100\n",
      "8/8 [==============================] - 0s 11ms/step - loss: 3.8264 - val_loss: 4.2324\n",
      "Epoch 38/100\n",
      "8/8 [==============================] - 0s 9ms/step - loss: 3.8111 - val_loss: 4.2070\n",
      "Epoch 39/100\n",
      "8/8 [==============================] - 0s 9ms/step - loss: 3.8079 - val_loss: 4.2058\n",
      "Epoch 40/100\n",
      "8/8 [==============================] - 0s 9ms/step - loss: 3.8033 - val_loss: 4.2119\n",
      "Epoch 41/100\n",
      "8/8 [==============================] - 0s 10ms/step - loss: 3.8044 - val_loss: 4.2075\n",
      "Epoch 42/100\n",
      "8/8 [==============================] - 0s 11ms/step - loss: 3.8095 - val_loss: 4.2163\n",
      "Epoch 43/100\n",
      "8/8 [==============================] - 0s 13ms/step - loss: 3.8064 - val_loss: 4.1829\n",
      "Epoch 44/100\n",
      "8/8 [==============================] - 0s 11ms/step - loss: 3.8044 - val_loss: 4.1789\n",
      "Epoch 45/100\n",
      "8/8 [==============================] - 0s 13ms/step - loss: 3.8037 - val_loss: 4.1923\n",
      "Epoch 46/100\n",
      "8/8 [==============================] - 0s 9ms/step - loss: 3.8054 - val_loss: 4.2079\n",
      "Epoch 47/100\n",
      "8/8 [==============================] - 0s 8ms/step - loss: 3.8037 - val_loss: 4.1977\n",
      "Epoch 48/100\n",
      "8/8 [==============================] - 0s 10ms/step - loss: 3.8049 - val_loss: 4.1982\n",
      "Epoch 49/100\n",
      "8/8 [==============================] - 0s 10ms/step - loss: 3.8066 - val_loss: 4.1821\n",
      "Epoch 50/100\n",
      "8/8 [==============================] - 0s 9ms/step - loss: 3.8035 - val_loss: 4.1985\n",
      "Epoch 51/100\n",
      "8/8 [==============================] - 0s 8ms/step - loss: 3.8036 - val_loss: 4.1880\n",
      "Epoch 52/100\n",
      "8/8 [==============================] - 0s 8ms/step - loss: 3.8055 - val_loss: 4.1714\n",
      "Epoch 53/100\n",
      "8/8 [==============================] - 0s 7ms/step - loss: 3.8126 - val_loss: 4.2149\n",
      "Epoch 54/100\n",
      "8/8 [==============================] - 0s 7ms/step - loss: 3.8034 - val_loss: 4.2011\n",
      "Epoch 55/100\n",
      "8/8 [==============================] - 0s 7ms/step - loss: 3.8034 - val_loss: 4.1790\n",
      "Epoch 56/100\n",
      "8/8 [==============================] - 0s 8ms/step - loss: 3.8188 - val_loss: 4.1421\n",
      "Epoch 57/100\n",
      "8/8 [==============================] - 0s 16ms/step - loss: 3.8037 - val_loss: 4.1621\n",
      "Epoch 58/100\n",
      "8/8 [==============================] - 0s 11ms/step - loss: 3.8035 - val_loss: 4.2017\n",
      "Epoch 59/100\n",
      "8/8 [==============================] - 0s 8ms/step - loss: 3.8034 - val_loss: 4.2061\n",
      "Epoch 60/100\n",
      "8/8 [==============================] - 0s 8ms/step - loss: 3.8037 - val_loss: 4.1859\n",
      "Epoch 61/100\n",
      "8/8 [==============================] - 0s 9ms/step - loss: 3.8032 - val_loss: 4.1849\n",
      "Epoch 62/100\n",
      "8/8 [==============================] - 0s 8ms/step - loss: 3.8042 - val_loss: 4.1958\n",
      "Epoch 63/100\n",
      "8/8 [==============================] - 0s 8ms/step - loss: 3.8060 - val_loss: 4.1721\n",
      "Epoch 64/100\n",
      "8/8 [==============================] - 0s 8ms/step - loss: 3.8036 - val_loss: 4.1993\n",
      "Epoch 65/100\n",
      "8/8 [==============================] - 0s 8ms/step - loss: 3.8025 - val_loss: 4.1947\n",
      "Epoch 66/100\n",
      "8/8 [==============================] - 0s 7ms/step - loss: 3.8020 - val_loss: 4.1774\n",
      "Epoch 67/100\n",
      "8/8 [==============================] - 0s 7ms/step - loss: 3.8093 - val_loss: 4.1879\n",
      "Epoch 68/100\n",
      "8/8 [==============================] - 0s 8ms/step - loss: 3.8035 - val_loss: 4.1745\n",
      "Epoch 69/100\n",
      "8/8 [==============================] - 0s 7ms/step - loss: 3.8088 - val_loss: 4.1952\n",
      "Epoch 70/100\n",
      "8/8 [==============================] - 0s 8ms/step - loss: 3.8097 - val_loss: 4.1719\n",
      "Epoch 71/100\n",
      "8/8 [==============================] - 0s 8ms/step - loss: 3.8043 - val_loss: 4.1683\n",
      "Epoch 72/100\n",
      "8/8 [==============================] - 0s 7ms/step - loss: 3.8062 - val_loss: 4.1999\n",
      "Epoch 73/100\n",
      "8/8 [==============================] - 0s 8ms/step - loss: 3.8020 - val_loss: 4.1939\n",
      "Epoch 74/100\n",
      "8/8 [==============================] - 0s 8ms/step - loss: 3.8026 - val_loss: 4.1948\n",
      "Epoch 75/100\n",
      "8/8 [==============================] - 0s 8ms/step - loss: 3.8031 - val_loss: 4.1824\n",
      "Epoch 76/100\n",
      "8/8 [==============================] - 0s 8ms/step - loss: 3.8029 - val_loss: 4.1830\n",
      "Epoch 77/100\n",
      "8/8 [==============================] - 0s 8ms/step - loss: 3.8023 - val_loss: 4.1956\n",
      "Epoch 78/100\n",
      "8/8 [==============================] - 0s 8ms/step - loss: 3.8074 - val_loss: 4.2135\n",
      "Epoch 79/100\n",
      "8/8 [==============================] - 0s 8ms/step - loss: 3.8074 - val_loss: 4.1770\n",
      "Epoch 80/100\n",
      "8/8 [==============================] - 0s 8ms/step - loss: 3.8034 - val_loss: 4.1819\n",
      "Epoch 81/100\n",
      "8/8 [==============================] - 0s 7ms/step - loss: 3.8041 - val_loss: 4.2092\n",
      "Epoch 82/100\n",
      "8/8 [==============================] - 0s 8ms/step - loss: 3.8063 - val_loss: 4.1973\n",
      "Epoch 83/100\n",
      "8/8 [==============================] - 0s 7ms/step - loss: 3.8027 - val_loss: 4.1789\n",
      "Epoch 84/100\n",
      "8/8 [==============================] - 0s 7ms/step - loss: 3.8054 - val_loss: 4.1819\n",
      "Epoch 85/100\n",
      "8/8 [==============================] - 0s 8ms/step - loss: 3.8047 - val_loss: 4.1973\n",
      "Epoch 86/100\n",
      "8/8 [==============================] - 0s 8ms/step - loss: 3.8071 - val_loss: 4.1806\n",
      "Epoch 87/100\n",
      "8/8 [==============================] - 0s 8ms/step - loss: 3.8026 - val_loss: 4.1980\n",
      "Epoch 88/100\n",
      "8/8 [==============================] - 0s 7ms/step - loss: 3.8060 - val_loss: 4.2069\n",
      "Epoch 89/100\n",
      "8/8 [==============================] - 0s 8ms/step - loss: 3.8044 - val_loss: 4.1797\n",
      "Epoch 90/100\n",
      "8/8 [==============================] - 0s 8ms/step - loss: 3.8044 - val_loss: 4.1688\n",
      "Epoch 91/100\n",
      "8/8 [==============================] - 0s 7ms/step - loss: 3.8043 - val_loss: 4.1923\n",
      "Epoch 92/100\n",
      "8/8 [==============================] - 0s 9ms/step - loss: 3.8042 - val_loss: 4.1805\n",
      "Epoch 93/100\n",
      "8/8 [==============================] - 0s 8ms/step - loss: 3.8026 - val_loss: 4.1995\n",
      "Epoch 94/100\n",
      "8/8 [==============================] - 0s 8ms/step - loss: 3.8025 - val_loss: 4.1868\n",
      "Epoch 95/100\n",
      "8/8 [==============================] - 0s 8ms/step - loss: 3.8038 - val_loss: 4.1820\n",
      "Epoch 96/100\n",
      "8/8 [==============================] - 0s 9ms/step - loss: 3.8039 - val_loss: 4.2026\n",
      "Epoch 97/100\n",
      "8/8 [==============================] - 0s 8ms/step - loss: 3.8099 - val_loss: 4.2142\n",
      "Epoch 98/100\n",
      "8/8 [==============================] - 0s 10ms/step - loss: 3.8047 - val_loss: 4.1831\n",
      "Epoch 99/100\n",
      "8/8 [==============================] - 0s 10ms/step - loss: 3.8057 - val_loss: 4.1652\n",
      "Epoch 100/100\n",
      "8/8 [==============================] - 0s 10ms/step - loss: 3.8063 - val_loss: 4.1783\n"
     ]
    }
   ],
   "source": [
    "horsepower_model.compile(\n",
    "    optimizer=tf.keras.optimizers.Adam(learning_rate=0.1),\n",
    "    loss='mean_absolute_error')\n",
    "\n",
    "history = horsepower_model.fit(\n",
    "    train_features['Horsepower'],\n",
    "    train_labels,\n",
    "    epochs=100,\n",
    "    # Suppress logging if 0.\n",
    "    verbose=1,\n",
    "    # Calculate validation results on 20% of the training data.\n",
    "    validation_split = 0.2)\n",
    "\n",
    "hist = pd.DataFrame(history.history)\n",
    "hist['epoch'] = history.epoch\n"
   ]
  },
  {
   "cell_type": "code",
   "execution_count": 73,
   "metadata": {},
   "outputs": [
    {
     "name": "stdout",
     "output_type": "stream",
     "text": [
      "        loss  val_loss  epoch\n",
      "95  3.803931  4.202634     95\n",
      "96  3.809870  4.214203     96\n",
      "97  3.804670  4.183083     97\n",
      "98  3.805686  4.165185     98\n",
      "99  3.806341  4.178349     99\n"
     ]
    },
    {
     "data": {
      "image/png": "[encoded data removed]",
      "text/plain": [
       "<Figure size 432x288 with 1 Axes>"
      ]
     },
     "metadata": {
      "needs_background": "light"
     },
     "output_type": "display_data"
    }
   ],
   "source": [
    "print(hist.tail())\n",
    "\n",
    "def plot_loss(history):\n",
    "  plt.plot(history.history['loss'], label='loss')\n",
    "  plt.plot(history.history['val_loss'], label='val_loss')\n",
    "  plt.ylim([0, 10])\n",
    "  plt.xlabel('Epoch')\n",
    "  plt.ylabel('Error [MPG]')\n",
    "  plt.legend()\n",
    "  plt.grid(True)\n",
    "\n",
    "plot_loss(history)\n",
    "\n",
    "test_results = {}\n",
    "test_results['horsepower_model'] = horsepower_model.evaluate(test_features['Horsepower'],test_labels, verbose=0)"
   ]
  },
  {
   "cell_type": "code",
   "execution_count": 74,
   "metadata": {},
   "outputs": [
    {
     "name": "stdout",
     "output_type": "stream",
     "text": [
      "8/8 [==============================] - 0s 2ms/step\n"
     ]
    },
    {
     "data": {
      "image/png": "[encoded data removed]",
      "text/plain": [
       "<Figure size 432x288 with 1 Axes>"
      ]
     },
     "metadata": {
      "needs_background": "light"
     },
     "output_type": "display_data"
    }
   ],
   "source": [
    "x = tf.linspace(0.0, 250, 251)\n",
    "y = horsepower_model.predict(x)\n",
    "\n",
    "def plot_horsepower(x, y):\n",
    "  plt.scatter(train_features['Horsepower'], train_labels, label='Data')\n",
    "  plt.plot(x, y, color='k', label='Predictions')\n",
    "  plt.xlabel('Horsepower')\n",
    "  plt.ylabel('MPG')\n",
    "  plt.legend()\n",
    "\n",
    "plot_horsepower(x, y)"
   ]
  },
  {
   "cell_type": "code",
   "execution_count": 75,
   "metadata": {},
   "outputs": [
    {
     "name": "stdout",
     "output_type": "stream",
     "text": [
      "Model: \"sequential_9\"\n",
      "_________________________________________________________________\n",
      " Layer (type)                Output Shape              Param #   \n",
      "=================================================================\n",
      " normalization_4 (Normalizat  (None, 9)                19        \n",
      " ion)                                                            \n",
      "                                                                 \n",
      " dense_19 (Dense)            (None, 1)                 10        \n",
      "                                                                 \n",
      "=================================================================\n",
      "Total params: 29\n",
      "Trainable params: 10\n",
      "Non-trainable params: 19\n",
      "_________________________________________________________________\n"
     ]
    }
   ],
   "source": [
    "linear_model = tf.keras.Sequential([\n",
    "    normalizer,\n",
    "    layers.Dense(units=1)\n",
    "])\n",
    "\n",
    "linear_model.summary()"
   ]
  },
  {
   "cell_type": "code",
   "execution_count": 76,
   "metadata": {},
   "outputs": [],
   "source": [
    "linear_model.compile(\n",
    "    optimizer=tf.keras.optimizers.Adam(learning_rate=0.1),\n",
    "    loss='mean_absolute_error')\n",
    "\n",
    "history = linear_model.fit(\n",
    "    train_features,\n",
    "    train_labels,\n",
    "    epochs=100,\n",
    "    # Suppress logging.\n",
    "    verbose=0,\n",
    "    # Calculate validation results on 20% of the training data.\n",
    "    validation_split = 0.2)"
   ]
  },
  {
   "cell_type": "code",
   "execution_count": 77,
   "metadata": {},
   "outputs": [
    {
     "data": {
      "image/png": "[encoded data removed]",
      "text/plain": [
       "<Figure size 432x288 with 1 Axes>"
      ]
     },
     "metadata": {
      "needs_background": "light"
     },
     "output_type": "display_data"
    }
   ],
   "source": [
    "plot_loss(history)"
   ]
  },
  {
   "cell_type": "code",
   "execution_count": 78,
   "metadata": {},
   "outputs": [],
   "source": [
    "test_results['linear_model'] = linear_model.evaluate(\n",
    "    test_features, test_labels, verbose=0)"
   ]
  },
  {
   "cell_type": "code",
   "execution_count": 79,
   "metadata": {},
   "outputs": [
    {
     "name": "stdout",
     "output_type": "stream",
     "text": [
      "Model: \"sequential_10\"\n",
      "_________________________________________________________________\n",
      " Layer (type)                Output Shape              Param #   \n",
      "=================================================================\n",
      " normalization_5 (Normalizat  (None, 1)                3         \n",
      " ion)                                                            \n",
      "                                                                 \n",
      " dense_20 (Dense)            (None, 64)                128       \n",
      "                                                                 \n",
      " dense_21 (Dense)            (None, 64)                4160      \n",
      "                                                                 \n",
      " dense_22 (Dense)            (None, 1)                 65        \n",
      "                                                                 \n",
      "=================================================================\n",
      "Total params: 4,356\n",
      "Trainable params: 4,353\n",
      "Non-trainable params: 3\n",
      "_________________________________________________________________\n"
     ]
    }
   ],
   "source": [
    "def build_and_compile_model(norm):\n",
    "  model = keras.Sequential([\n",
    "      norm,\n",
    "      layers.Dense(64, activation='relu'),\n",
    "      layers.Dense(64, activation='relu'),\n",
    "      layers.Dense(1)\n",
    "  ])\n",
    "\n",
    "  model.compile(loss='mean_absolute_error',\n",
    "                optimizer=tf.keras.optimizers.Adam(0.001))\n",
    "  return model\n",
    "\n",
    "dnn_horsepower_model = build_and_compile_model(horsepower_normalizer)\n",
    "\n",
    "dnn_horsepower_model.summary()"
   ]
  },
  {
   "cell_type": "code",
   "execution_count": 80,
   "metadata": {},
   "outputs": [
    {
     "name": "stdout",
     "output_type": "stream",
     "text": [
      "Epoch 1/100\n",
      "8/8 [==============================] - 1s 29ms/step - loss: 22.8729 - val_loss: 23.1949\n",
      "Epoch 2/100\n",
      "8/8 [==============================] - 0s 8ms/step - loss: 22.5670 - val_loss: 22.8406\n",
      "Epoch 3/100\n",
      "8/8 [==============================] - 0s 8ms/step - loss: 22.1961 - val_loss: 22.3804\n",
      "Epoch 4/100\n",
      "8/8 [==============================] - 0s 7ms/step - loss: 21.7013 - val_loss: 21.7854\n",
      "Epoch 5/100\n",
      "8/8 [==============================] - 0s 7ms/step - loss: 21.0684 - val_loss: 21.0169\n",
      "Epoch 6/100\n",
      "8/8 [==============================] - 0s 8ms/step - loss: 20.2501 - val_loss: 20.0149\n",
      "Epoch 7/100\n",
      "8/8 [==============================] - 0s 7ms/step - loss: 19.2040 - val_loss: 18.8304\n",
      "Epoch 8/100\n",
      "8/8 [==============================] - 0s 8ms/step - loss: 18.0421 - val_loss: 17.5511\n",
      "Epoch 9/100\n",
      "8/8 [==============================] - 0s 8ms/step - loss: 16.8121 - val_loss: 16.2968\n",
      "Epoch 10/100\n",
      "8/8 [==============================] - 0s 7ms/step - loss: 15.3138 - val_loss: 15.0151\n",
      "Epoch 11/100\n",
      "8/8 [==============================] - 0s 8ms/step - loss: 13.7502 - val_loss: 13.5514\n",
      "Epoch 12/100\n",
      "8/8 [==============================] - 0s 7ms/step - loss: 11.9803 - val_loss: 11.6786\n",
      "Epoch 13/100\n",
      "8/8 [==============================] - 0s 8ms/step - loss: 10.0456 - val_loss: 9.5774\n",
      "Epoch 14/100\n",
      "8/8 [==============================] - 0s 7ms/step - loss: 7.8381 - val_loss: 7.4002\n",
      "Epoch 15/100\n",
      "8/8 [==============================] - 0s 7ms/step - loss: 5.6144 - val_loss: 5.6541\n",
      "Epoch 16/100\n",
      "8/8 [==============================] - 0s 7ms/step - loss: 4.4089 - val_loss: 5.3736\n",
      "Epoch 17/100\n",
      "8/8 [==============================] - 0s 8ms/step - loss: 4.1956 - val_loss: 5.2893\n",
      "Epoch 18/100\n",
      "8/8 [==============================] - 0s 8ms/step - loss: 4.1218 - val_loss: 5.1259\n",
      "Epoch 19/100\n",
      "8/8 [==============================] - 0s 8ms/step - loss: 4.0124 - val_loss: 4.9642\n",
      "Epoch 20/100\n",
      "8/8 [==============================] - 0s 8ms/step - loss: 3.9363 - val_loss: 4.8693\n",
      "Epoch 21/100\n",
      "8/8 [==============================] - 0s 8ms/step - loss: 3.8770 - val_loss: 4.8017\n",
      "Epoch 22/100\n",
      "8/8 [==============================] - 0s 7ms/step - loss: 3.8171 - val_loss: 4.7187\n",
      "Epoch 23/100\n",
      "8/8 [==============================] - 0s 8ms/step - loss: 3.7595 - val_loss: 4.6294\n",
      "Epoch 24/100\n",
      "8/8 [==============================] - 0s 7ms/step - loss: 3.7121 - val_loss: 4.5649\n",
      "Epoch 25/100\n",
      "8/8 [==============================] - 0s 7ms/step - loss: 3.6763 - val_loss: 4.4826\n",
      "Epoch 26/100\n",
      "8/8 [==============================] - 0s 8ms/step - loss: 3.6304 - val_loss: 4.4199\n",
      "Epoch 27/100\n",
      "8/8 [==============================] - 0s 8ms/step - loss: 3.5973 - val_loss: 4.3641\n",
      "Epoch 28/100\n",
      "8/8 [==============================] - 0s 7ms/step - loss: 3.5681 - val_loss: 4.3068\n",
      "Epoch 29/100\n",
      "8/8 [==============================] - 0s 8ms/step - loss: 3.5424 - val_loss: 4.2634\n",
      "Epoch 30/100\n",
      "8/8 [==============================] - 0s 7ms/step - loss: 3.5262 - val_loss: 4.2282\n",
      "Epoch 31/100\n",
      "8/8 [==============================] - 0s 7ms/step - loss: 3.5138 - val_loss: 4.1888\n",
      "Epoch 32/100\n",
      "8/8 [==============================] - 0s 7ms/step - loss: 3.4896 - val_loss: 4.1595\n",
      "Epoch 33/100\n",
      "8/8 [==============================] - 0s 8ms/step - loss: 3.4826 - val_loss: 4.1338\n",
      "Epoch 34/100\n",
      "8/8 [==============================] - 0s 7ms/step - loss: 3.4718 - val_loss: 4.1050\n",
      "Epoch 35/100\n",
      "8/8 [==============================] - 0s 8ms/step - loss: 3.4356 - val_loss: 4.0762\n",
      "Epoch 36/100\n",
      "8/8 [==============================] - 0s 7ms/step - loss: 3.4242 - val_loss: 4.0613\n",
      "Epoch 37/100\n",
      "8/8 [==============================] - 0s 7ms/step - loss: 3.4105 - val_loss: 4.0330\n",
      "Epoch 38/100\n",
      "8/8 [==============================] - 0s 7ms/step - loss: 3.4002 - val_loss: 4.0120\n",
      "Epoch 39/100\n",
      "8/8 [==============================] - 0s 7ms/step - loss: 3.3864 - val_loss: 4.0047\n",
      "Epoch 40/100\n",
      "8/8 [==============================] - 0s 9ms/step - loss: 3.3876 - val_loss: 3.9876\n",
      "Epoch 41/100\n",
      "8/8 [==============================] - 0s 9ms/step - loss: 3.3824 - val_loss: 3.9506\n",
      "Epoch 42/100\n",
      "8/8 [==============================] - 0s 9ms/step - loss: 3.3671 - val_loss: 3.9492\n",
      "Epoch 43/100\n",
      "8/8 [==============================] - 0s 14ms/step - loss: 3.3627 - val_loss: 3.9289\n",
      "Epoch 44/100\n",
      "8/8 [==============================] - 0s 9ms/step - loss: 3.3484 - val_loss: 3.9123\n",
      "Epoch 45/100\n",
      "8/8 [==============================] - 0s 8ms/step - loss: 3.3517 - val_loss: 3.9006\n",
      "Epoch 46/100\n",
      "8/8 [==============================] - 0s 8ms/step - loss: 3.3394 - val_loss: 3.8780\n",
      "Epoch 47/100\n",
      "8/8 [==============================] - 0s 8ms/step - loss: 3.3542 - val_loss: 3.8628\n",
      "Epoch 48/100\n",
      "8/8 [==============================] - 0s 8ms/step - loss: 3.3306 - val_loss: 3.8652\n",
      "Epoch 49/100\n",
      "8/8 [==============================] - 0s 7ms/step - loss: 3.3228 - val_loss: 3.8466\n",
      "Epoch 50/100\n",
      "8/8 [==============================] - 0s 8ms/step - loss: 3.3088 - val_loss: 3.8337\n",
      "Epoch 51/100\n",
      "8/8 [==============================] - 0s 7ms/step - loss: 3.3009 - val_loss: 3.8188\n",
      "Epoch 52/100\n",
      "8/8 [==============================] - 0s 8ms/step - loss: 3.3052 - val_loss: 3.8066\n",
      "Epoch 53/100\n",
      "8/8 [==============================] - 0s 7ms/step - loss: 3.2955 - val_loss: 3.7975\n",
      "Epoch 54/100\n",
      "8/8 [==============================] - 0s 8ms/step - loss: 3.3132 - val_loss: 3.8236\n",
      "Epoch 55/100\n",
      "8/8 [==============================] - 0s 7ms/step - loss: 3.3010 - val_loss: 3.7955\n",
      "Epoch 56/100\n",
      "8/8 [==============================] - 0s 7ms/step - loss: 3.2868 - val_loss: 3.7795\n",
      "Epoch 57/100\n",
      "8/8 [==============================] - 0s 7ms/step - loss: 3.3056 - val_loss: 3.8146\n",
      "Epoch 58/100\n",
      "8/8 [==============================] - 0s 7ms/step - loss: 3.2906 - val_loss: 3.8016\n",
      "Epoch 59/100\n",
      "8/8 [==============================] - 0s 8ms/step - loss: 3.2836 - val_loss: 3.7776\n",
      "Epoch 60/100\n",
      "8/8 [==============================] - 0s 7ms/step - loss: 3.2847 - val_loss: 3.7746\n",
      "Epoch 61/100\n",
      "8/8 [==============================] - 0s 7ms/step - loss: 3.2799 - val_loss: 3.8016\n",
      "Epoch 62/100\n",
      "8/8 [==============================] - 0s 7ms/step - loss: 3.2892 - val_loss: 3.7967\n",
      "Epoch 63/100\n",
      "8/8 [==============================] - 0s 7ms/step - loss: 3.2851 - val_loss: 3.7572\n",
      "Epoch 64/100\n",
      "8/8 [==============================] - 0s 8ms/step - loss: 3.2826 - val_loss: 3.7558\n",
      "Epoch 65/100\n",
      "8/8 [==============================] - 0s 7ms/step - loss: 3.2876 - val_loss: 3.7835\n",
      "Epoch 66/100\n",
      "8/8 [==============================] - 0s 7ms/step - loss: 3.2723 - val_loss: 3.7751\n",
      "Epoch 67/100\n",
      "8/8 [==============================] - 0s 7ms/step - loss: 3.2859 - val_loss: 3.7625\n",
      "Epoch 68/100\n",
      "8/8 [==============================] - 0s 7ms/step - loss: 3.2843 - val_loss: 3.7994\n",
      "Epoch 69/100\n",
      "8/8 [==============================] - 0s 8ms/step - loss: 3.2699 - val_loss: 3.7686\n",
      "Epoch 70/100\n",
      "8/8 [==============================] - 0s 7ms/step - loss: 3.2700 - val_loss: 3.7575\n",
      "Epoch 71/100\n",
      "8/8 [==============================] - 0s 7ms/step - loss: 3.2678 - val_loss: 3.7828\n",
      "Epoch 72/100\n",
      "8/8 [==============================] - 0s 7ms/step - loss: 3.2705 - val_loss: 3.7791\n",
      "Epoch 73/100\n",
      "8/8 [==============================] - 0s 7ms/step - loss: 3.2808 - val_loss: 3.7786\n",
      "Epoch 74/100\n",
      "8/8 [==============================] - 0s 8ms/step - loss: 3.2758 - val_loss: 3.7685\n",
      "Epoch 75/100\n",
      "8/8 [==============================] - 0s 7ms/step - loss: 3.2648 - val_loss: 3.7859\n",
      "Epoch 76/100\n",
      "8/8 [==============================] - 0s 8ms/step - loss: 3.2626 - val_loss: 3.7616\n",
      "Epoch 77/100\n",
      "8/8 [==============================] - 0s 10ms/step - loss: 3.2688 - val_loss: 3.7566\n",
      "Epoch 78/100\n",
      "8/8 [==============================] - 0s 11ms/step - loss: 3.2865 - val_loss: 3.7988\n",
      "Epoch 79/100\n",
      "8/8 [==============================] - 0s 8ms/step - loss: 3.2596 - val_loss: 3.7507\n",
      "Epoch 80/100\n",
      "8/8 [==============================] - 0s 7ms/step - loss: 3.2640 - val_loss: 3.7536\n",
      "Epoch 81/100\n",
      "8/8 [==============================] - 0s 8ms/step - loss: 3.2584 - val_loss: 3.7810\n",
      "Epoch 82/100\n",
      "8/8 [==============================] - 0s 9ms/step - loss: 3.2574 - val_loss: 3.7638\n",
      "Epoch 83/100\n",
      "8/8 [==============================] - 0s 8ms/step - loss: 3.2524 - val_loss: 3.7654\n",
      "Epoch 84/100\n",
      "8/8 [==============================] - 0s 7ms/step - loss: 3.2544 - val_loss: 3.7610\n",
      "Epoch 85/100\n",
      "8/8 [==============================] - 0s 8ms/step - loss: 3.2522 - val_loss: 3.7760\n",
      "Epoch 86/100\n",
      "8/8 [==============================] - 0s 8ms/step - loss: 3.2525 - val_loss: 3.7678\n",
      "Epoch 87/100\n",
      "8/8 [==============================] - 0s 7ms/step - loss: 3.2581 - val_loss: 3.7712\n",
      "Epoch 88/100\n",
      "8/8 [==============================] - 0s 8ms/step - loss: 3.2465 - val_loss: 3.7516\n",
      "Epoch 89/100\n",
      "8/8 [==============================] - 0s 7ms/step - loss: 3.2515 - val_loss: 3.7552\n",
      "Epoch 90/100\n",
      "8/8 [==============================] - 0s 12ms/step - loss: 3.2530 - val_loss: 3.7874\n",
      "Epoch 91/100\n",
      "8/8 [==============================] - 0s 18ms/step - loss: 3.2598 - val_loss: 3.7662\n",
      "Epoch 92/100\n",
      "8/8 [==============================] - 0s 15ms/step - loss: 3.2839 - val_loss: 3.7476\n",
      "Epoch 93/100\n",
      "8/8 [==============================] - 0s 13ms/step - loss: 3.2516 - val_loss: 3.7848\n",
      "Epoch 94/100\n",
      "8/8 [==============================] - 0s 10ms/step - loss: 3.2506 - val_loss: 3.7671\n",
      "Epoch 95/100\n",
      "8/8 [==============================] - 0s 9ms/step - loss: 3.2464 - val_loss: 3.7481\n",
      "Epoch 96/100\n",
      "8/8 [==============================] - 0s 10ms/step - loss: 3.2659 - val_loss: 3.7784\n",
      "Epoch 97/100\n",
      "8/8 [==============================] - 0s 8ms/step - loss: 3.2449 - val_loss: 3.7635\n",
      "Epoch 98/100\n",
      "8/8 [==============================] - 0s 8ms/step - loss: 3.2409 - val_loss: 3.7562\n",
      "Epoch 99/100\n",
      "8/8 [==============================] - 0s 8ms/step - loss: 3.2413 - val_loss: 3.7518\n",
      "Epoch 100/100\n",
      "8/8 [==============================] - 0s 7ms/step - loss: 3.2416 - val_loss: 3.7651\n"
     ]
    }
   ],
   "source": [
    "history = dnn_horsepower_model.fit(\n",
    "    train_features['Horsepower'],\n",
    "    train_labels,\n",
    "    validation_split=0.2, epochs=100)"
   ]
  },
  {
   "cell_type": "code",
   "execution_count": 81,
   "metadata": {},
   "outputs": [
    {
     "data": {
      "image/png": "[encoded data removed]",
      "text/plain": [
       "<Figure size 432x288 with 1 Axes>"
      ]
     },
     "metadata": {
      "needs_background": "light"
     },
     "output_type": "display_data"
    }
   ],
   "source": [
    "plt.plot(history.history['loss'], label='loss')\n",
    "plt.plot(history.history['val_loss'], label='val_loss')\n",
    "plt.ylim([0, 10])\n",
    "plt.xlabel('Epoch')\n",
    "plt.ylabel('Error [MPG]')\n",
    "plt.legend()\n",
    "plt.grid(True)"
   ]
  },
  {
   "cell_type": "code",
   "execution_count": 82,
   "metadata": {},
   "outputs": [
    {
     "name": "stdout",
     "output_type": "stream",
     "text": [
      "8/8 [==============================] - 0s 2ms/step\n"
     ]
    },
    {
     "data": {
      "text/plain": [
       "<matplotlib.legend.Legend at 0x2238539b4c0>"
      ]
     },
     "execution_count": 82,
     "metadata": {},
     "output_type": "execute_result"
    },
    {
     "data": {
      "image/png": "[encoded data removed]",
      "text/plain": [
       "<Figure size 432x288 with 1 Axes>"
      ]
     },
     "metadata": {
      "needs_background": "light"
     },
     "output_type": "display_data"
    }
   ],
   "source": [
    "x = tf.linspace(0.0, 250, 251)\n",
    "y = dnn_horsepower_model.predict(x)\n",
    "\n",
    "plt.scatter(train_features['Horsepower'], train_labels, label='Data')\n",
    "plt.plot(x, y, color='k', label='Predictions')\n",
    "plt.xlabel('Horsepower')\n",
    "plt.ylabel('MPG')   \n",
    "plt.legend()\n"
   ]
  },
  {
   "cell_type": "code",
   "execution_count": 83,
   "metadata": {},
   "outputs": [],
   "source": [
    "test_results['dnn_horsepower_model'] = dnn_horsepower_model.evaluate(\n",
    "    test_features['Horsepower'], test_labels,\n",
    "    verbose=0)"
   ]
  },
  {
   "cell_type": "code",
   "execution_count": 84,
   "metadata": {},
   "outputs": [
    {
     "name": "stdout",
     "output_type": "stream",
     "text": [
      "Model: \"sequential_11\"\n",
      "_________________________________________________________________\n",
      " Layer (type)                Output Shape              Param #   \n",
      "=================================================================\n",
      " normalization_4 (Normalizat  (None, 9)                19        \n",
      " ion)                                                            \n",
      "                                                                 \n",
      " dense_23 (Dense)            (None, 64)                640       \n",
      "                                                                 \n",
      " dense_24 (Dense)            (None, 64)                4160      \n",
      "                                                                 \n",
      " dense_25 (Dense)            (None, 1)                 65        \n",
      "                                                                 \n",
      "=================================================================\n",
      "Total params: 4,884\n",
      "Trainable params: 4,865\n",
      "Non-trainable params: 19\n",
      "_________________________________________________________________\n"
     ]
    }
   ],
   "source": [
    "dnn_model = build_and_compile_model(normalizer)\n",
    "dnn_model.summary()"
   ]
  },
  {
   "cell_type": "code",
   "execution_count": 85,
   "metadata": {},
   "outputs": [
    {
     "name": "stdout",
     "output_type": "stream",
     "text": [
      "Epoch 1/100\n",
      "8/8 [==============================] - 1s 32ms/step - loss: 22.9590 - val_loss: 23.0828\n",
      "Epoch 2/100\n",
      "8/8 [==============================] - 0s 7ms/step - loss: 22.2754 - val_loss: 22.3426\n",
      "Epoch 3/100\n",
      "8/8 [==============================] - 0s 8ms/step - loss: 21.5208 - val_loss: 21.4613\n",
      "Epoch 4/100\n",
      "8/8 [==============================] - 0s 10ms/step - loss: 20.5916 - val_loss: 20.3299\n",
      "Epoch 5/100\n",
      "8/8 [==============================] - 0s 10ms/step - loss: 19.4000 - val_loss: 18.8544\n",
      "Epoch 6/100\n",
      "8/8 [==============================] - 0s 8ms/step - loss: 17.8429 - val_loss: 17.0289\n",
      "Epoch 7/100\n",
      "8/8 [==============================] - 0s 8ms/step - loss: 16.1292 - val_loss: 15.5205\n",
      "Epoch 8/100\n",
      "8/8 [==============================] - 0s 8ms/step - loss: 14.4405 - val_loss: 14.0497\n",
      "Epoch 9/100\n",
      "8/8 [==============================] - 0s 9ms/step - loss: 12.6507 - val_loss: 12.0373\n",
      "Epoch 10/100\n",
      "8/8 [==============================] - 0s 11ms/step - loss: 10.5418 - val_loss: 9.2883\n",
      "Epoch 11/100\n",
      "8/8 [==============================] - 0s 10ms/step - loss: 7.8191 - val_loss: 6.3198\n",
      "Epoch 12/100\n",
      "8/8 [==============================] - 0s 11ms/step - loss: 5.3052 - val_loss: 4.9221\n",
      "Epoch 13/100\n",
      "8/8 [==============================] - 0s 9ms/step - loss: 4.5211 - val_loss: 4.5759\n",
      "Epoch 14/100\n",
      "8/8 [==============================] - 0s 16ms/step - loss: 3.9725 - val_loss: 3.8476\n",
      "Epoch 15/100\n",
      "8/8 [==============================] - 0s 11ms/step - loss: 3.4029 - val_loss: 3.4598\n",
      "Epoch 16/100\n",
      "8/8 [==============================] - 0s 10ms/step - loss: 3.0052 - val_loss: 3.3512\n",
      "Epoch 17/100\n",
      "8/8 [==============================] - 0s 10ms/step - loss: 2.8340 - val_loss: 3.1760\n",
      "Epoch 18/100\n",
      "8/8 [==============================] - 0s 10ms/step - loss: 2.6645 - val_loss: 2.9358\n",
      "Epoch 19/100\n",
      "8/8 [==============================] - 0s 8ms/step - loss: 2.5566 - val_loss: 2.7977\n",
      "Epoch 20/100\n",
      "8/8 [==============================] - 0s 8ms/step - loss: 2.4591 - val_loss: 2.6833\n",
      "Epoch 21/100\n",
      "8/8 [==============================] - 0s 9ms/step - loss: 2.3653 - val_loss: 2.6217\n",
      "Epoch 22/100\n",
      "8/8 [==============================] - 0s 8ms/step - loss: 2.3148 - val_loss: 2.5775\n",
      "Epoch 23/100\n",
      "8/8 [==============================] - 0s 9ms/step - loss: 2.2852 - val_loss: 2.4701\n",
      "Epoch 24/100\n",
      "8/8 [==============================] - 0s 10ms/step - loss: 2.2328 - val_loss: 2.4917\n",
      "Epoch 25/100\n",
      "8/8 [==============================] - 0s 9ms/step - loss: 2.1879 - val_loss: 2.4463\n",
      "Epoch 26/100\n",
      "8/8 [==============================] - 0s 8ms/step - loss: 2.1560 - val_loss: 2.4117\n",
      "Epoch 27/100\n",
      "8/8 [==============================] - 0s 8ms/step - loss: 2.1390 - val_loss: 2.4044\n",
      "Epoch 28/100\n",
      "8/8 [==============================] - 0s 8ms/step - loss: 2.1095 - val_loss: 2.3770\n",
      "Epoch 29/100\n",
      "8/8 [==============================] - 0s 8ms/step - loss: 2.0884 - val_loss: 2.3726\n",
      "Epoch 30/100\n",
      "8/8 [==============================] - 0s 8ms/step - loss: 2.0671 - val_loss: 2.3637\n",
      "Epoch 31/100\n",
      "8/8 [==============================] - 0s 8ms/step - loss: 2.0598 - val_loss: 2.3691\n",
      "Epoch 32/100\n",
      "8/8 [==============================] - 0s 9ms/step - loss: 2.0381 - val_loss: 2.3774\n",
      "Epoch 33/100\n",
      "8/8 [==============================] - 0s 8ms/step - loss: 2.0309 - val_loss: 2.3213\n",
      "Epoch 34/100\n",
      "8/8 [==============================] - 0s 12ms/step - loss: 2.0087 - val_loss: 2.3654\n",
      "Epoch 35/100\n",
      "8/8 [==============================] - 0s 9ms/step - loss: 2.0257 - val_loss: 2.3391\n",
      "Epoch 36/100\n",
      "8/8 [==============================] - 0s 9ms/step - loss: 1.9981 - val_loss: 2.2911\n",
      "Epoch 37/100\n",
      "8/8 [==============================] - 0s 8ms/step - loss: 1.9761 - val_loss: 2.3571\n",
      "Epoch 38/100\n",
      "8/8 [==============================] - 0s 8ms/step - loss: 1.9665 - val_loss: 2.2786\n",
      "Epoch 39/100\n",
      "8/8 [==============================] - 0s 9ms/step - loss: 1.9597 - val_loss: 2.3241\n",
      "Epoch 40/100\n",
      "8/8 [==============================] - 0s 11ms/step - loss: 1.9368 - val_loss: 2.2902\n",
      "Epoch 41/100\n",
      "8/8 [==============================] - 0s 9ms/step - loss: 1.9307 - val_loss: 2.2845\n",
      "Epoch 42/100\n",
      "8/8 [==============================] - 0s 8ms/step - loss: 1.9718 - val_loss: 2.3205\n",
      "Epoch 43/100\n",
      "8/8 [==============================] - 0s 8ms/step - loss: 1.9208 - val_loss: 2.2726\n",
      "Epoch 44/100\n",
      "8/8 [==============================] - 0s 10ms/step - loss: 1.9181 - val_loss: 2.3494\n",
      "Epoch 45/100\n",
      "8/8 [==============================] - 0s 10ms/step - loss: 1.9035 - val_loss: 2.2590\n",
      "Epoch 46/100\n",
      "8/8 [==============================] - 0s 9ms/step - loss: 1.8999 - val_loss: 2.3168\n",
      "Epoch 47/100\n",
      "8/8 [==============================] - 0s 8ms/step - loss: 1.9142 - val_loss: 2.2746\n",
      "Epoch 48/100\n",
      "8/8 [==============================] - 0s 12ms/step - loss: 1.9112 - val_loss: 2.3190\n",
      "Epoch 49/100\n",
      "8/8 [==============================] - 0s 10ms/step - loss: 1.8934 - val_loss: 2.2783\n",
      "Epoch 50/100\n",
      "8/8 [==============================] - 0s 9ms/step - loss: 1.8882 - val_loss: 2.3053\n",
      "Epoch 51/100\n",
      "8/8 [==============================] - 0s 8ms/step - loss: 1.8740 - val_loss: 2.2378\n",
      "Epoch 52/100\n",
      "8/8 [==============================] - 0s 8ms/step - loss: 1.8646 - val_loss: 2.3233\n",
      "Epoch 53/100\n",
      "8/8 [==============================] - 0s 12ms/step - loss: 1.8566 - val_loss: 2.2605\n",
      "Epoch 54/100\n",
      "8/8 [==============================] - 0s 11ms/step - loss: 1.8457 - val_loss: 2.2728\n",
      "Epoch 55/100\n",
      "8/8 [==============================] - 0s 8ms/step - loss: 1.8433 - val_loss: 2.2766\n",
      "Epoch 56/100\n",
      "8/8 [==============================] - 0s 10ms/step - loss: 1.8385 - val_loss: 2.3072\n",
      "Epoch 57/100\n",
      "8/8 [==============================] - 0s 10ms/step - loss: 1.8522 - val_loss: 2.2892\n",
      "Epoch 58/100\n",
      "8/8 [==============================] - 0s 12ms/step - loss: 1.8273 - val_loss: 2.2245\n",
      "Epoch 59/100\n",
      "8/8 [==============================] - 0s 10ms/step - loss: 1.8328 - val_loss: 2.3000\n",
      "Epoch 60/100\n",
      "8/8 [==============================] - 0s 10ms/step - loss: 1.8631 - val_loss: 2.2334\n",
      "Epoch 61/100\n",
      "8/8 [==============================] - 0s 10ms/step - loss: 1.8261 - val_loss: 2.3199\n",
      "Epoch 62/100\n",
      "8/8 [==============================] - 0s 11ms/step - loss: 1.8201 - val_loss: 2.2390\n",
      "Epoch 63/100\n",
      "8/8 [==============================] - 0s 10ms/step - loss: 1.7951 - val_loss: 2.3072\n",
      "Epoch 64/100\n",
      "8/8 [==============================] - 0s 9ms/step - loss: 1.7940 - val_loss: 2.2282\n",
      "Epoch 65/100\n",
      "8/8 [==============================] - 0s 10ms/step - loss: 1.7907 - val_loss: 2.2734\n",
      "Epoch 66/100\n",
      "8/8 [==============================] - 0s 11ms/step - loss: 1.7839 - val_loss: 2.2279\n",
      "Epoch 67/100\n",
      "8/8 [==============================] - 0s 10ms/step - loss: 1.7842 - val_loss: 2.2593\n",
      "Epoch 68/100\n",
      "8/8 [==============================] - 0s 9ms/step - loss: 1.7912 - val_loss: 2.2186\n",
      "Epoch 69/100\n",
      "8/8 [==============================] - 0s 9ms/step - loss: 1.7627 - val_loss: 2.2844\n",
      "Epoch 70/100\n",
      "8/8 [==============================] - 0s 9ms/step - loss: 1.7679 - val_loss: 2.2112\n",
      "Epoch 71/100\n",
      "8/8 [==============================] - 0s 9ms/step - loss: 1.7694 - val_loss: 2.1925\n",
      "Epoch 72/100\n",
      "8/8 [==============================] - 0s 10ms/step - loss: 1.7669 - val_loss: 2.2565\n",
      "Epoch 73/100\n",
      "8/8 [==============================] - 0s 11ms/step - loss: 1.7728 - val_loss: 2.2092\n",
      "Epoch 74/100\n",
      "8/8 [==============================] - 0s 12ms/step - loss: 1.7407 - val_loss: 2.2700\n",
      "Epoch 75/100\n",
      "8/8 [==============================] - 0s 9ms/step - loss: 1.7501 - val_loss: 2.2464\n",
      "Epoch 76/100\n",
      "8/8 [==============================] - 0s 10ms/step - loss: 1.7371 - val_loss: 2.1726\n",
      "Epoch 77/100\n",
      "8/8 [==============================] - 0s 9ms/step - loss: 1.7626 - val_loss: 2.2953\n",
      "Epoch 78/100\n",
      "8/8 [==============================] - 0s 9ms/step - loss: 1.7289 - val_loss: 2.2381\n",
      "Epoch 79/100\n",
      "8/8 [==============================] - 0s 8ms/step - loss: 1.7542 - val_loss: 2.2029\n",
      "Epoch 80/100\n",
      "8/8 [==============================] - 0s 9ms/step - loss: 1.7455 - val_loss: 2.3298\n",
      "Epoch 81/100\n",
      "8/8 [==============================] - 0s 8ms/step - loss: 1.7220 - val_loss: 2.2136\n",
      "Epoch 82/100\n",
      "8/8 [==============================] - 0s 8ms/step - loss: 1.7642 - val_loss: 2.2363\n",
      "Epoch 83/100\n",
      "8/8 [==============================] - 0s 8ms/step - loss: 1.7433 - val_loss: 2.3108\n",
      "Epoch 84/100\n",
      "8/8 [==============================] - 0s 8ms/step - loss: 1.7190 - val_loss: 2.2302\n",
      "Epoch 85/100\n",
      "8/8 [==============================] - 0s 9ms/step - loss: 1.7111 - val_loss: 2.2623\n",
      "Epoch 86/100\n",
      "8/8 [==============================] - 0s 9ms/step - loss: 1.7047 - val_loss: 2.2344\n",
      "Epoch 87/100\n",
      "8/8 [==============================] - 0s 10ms/step - loss: 1.6982 - val_loss: 2.2437\n",
      "Epoch 88/100\n",
      "8/8 [==============================] - 0s 9ms/step - loss: 1.7096 - val_loss: 2.2828\n",
      "Epoch 89/100\n",
      "8/8 [==============================] - 0s 10ms/step - loss: 1.6845 - val_loss: 2.2188\n",
      "Epoch 90/100\n",
      "8/8 [==============================] - 0s 9ms/step - loss: 1.6894 - val_loss: 2.2371\n",
      "Epoch 91/100\n",
      "8/8 [==============================] - 0s 9ms/step - loss: 1.6962 - val_loss: 2.2748\n",
      "Epoch 92/100\n",
      "8/8 [==============================] - 0s 13ms/step - loss: 1.6890 - val_loss: 2.2635\n",
      "Epoch 93/100\n",
      "8/8 [==============================] - 0s 11ms/step - loss: 1.6818 - val_loss: 2.2176\n",
      "Epoch 94/100\n",
      "8/8 [==============================] - 0s 12ms/step - loss: 1.6724 - val_loss: 2.3160\n",
      "Epoch 95/100\n",
      "8/8 [==============================] - 0s 10ms/step - loss: 1.6811 - val_loss: 2.1995\n",
      "Epoch 96/100\n",
      "8/8 [==============================] - 0s 11ms/step - loss: 1.6835 - val_loss: 2.2893\n",
      "Epoch 97/100\n",
      "8/8 [==============================] - 0s 10ms/step - loss: 1.6739 - val_loss: 2.2691\n",
      "Epoch 98/100\n",
      "8/8 [==============================] - 0s 11ms/step - loss: 1.6538 - val_loss: 2.1996\n",
      "Epoch 99/100\n",
      "8/8 [==============================] - 0s 9ms/step - loss: 1.6593 - val_loss: 2.2806\n",
      "Epoch 100/100\n",
      "8/8 [==============================] - 0s 9ms/step - loss: 1.6513 - val_loss: 2.2867\n"
     ]
    }
   ],
   "source": [
    "history = dnn_model.fit(\n",
    "    train_features,\n",
    "    train_labels,\n",
    "    validation_split=0.2,\n",
    "    verbose=1, epochs=100)"
   ]
  },
  {
   "cell_type": "code",
   "execution_count": 86,
   "metadata": {},
   "outputs": [],
   "source": [
    "test_results['dnn_model'] = dnn_model.evaluate(test_features, test_labels, verbose=0)"
   ]
  },
  {
   "cell_type": "code",
   "execution_count": 87,
   "metadata": {},
   "outputs": [
    {
     "data": {
      "text/html": [
       "<div>\n",
       "<style scoped>\n",
       "    .dataframe tbody tr th:only-of-type {\n",
       "        vertical-align: middle;\n",
       "    }\n",
       "\n",
       "    .dataframe tbody tr th {\n",
       "        vertical-align: top;\n",
       "    }\n",
       "\n",
       "    .dataframe thead th {\n",
       "        text-align: right;\n",
       "    }\n",
       "</style>\n",
       "<table border=\"1\" class=\"dataframe\">\n",
       "  <thead>\n",
       "    <tr style=\"text-align: right;\">\n",
       "      <th></th>\n",
       "      <th>Mean absolute error [MPG]</th>\n",
       "    </tr>\n",
       "  </thead>\n",
       "  <tbody>\n",
       "    <tr>\n",
       "      <th>horsepower_model</th>\n",
       "      <td>3.662414</td>\n",
       "    </tr>\n",
       "    <tr>\n",
       "      <th>linear_model</th>\n",
       "      <td>2.478077</td>\n",
       "    </tr>\n",
       "    <tr>\n",
       "      <th>dnn_horsepower_model</th>\n",
       "      <td>2.888817</td>\n",
       "    </tr>\n",
       "    <tr>\n",
       "      <th>dnn_model</th>\n",
       "      <td>1.785148</td>\n",
       "    </tr>\n",
       "  </tbody>\n",
       "</table>\n",
       "</div>"
      ],
      "text/plain": [
       "                      Mean absolute error [MPG]\n",
       "horsepower_model                       3.662414\n",
       "linear_model                           2.478077\n",
       "dnn_horsepower_model                   2.888817\n",
       "dnn_model                              1.785148"
      ]
     },
     "execution_count": 87,
     "metadata": {},
     "output_type": "execute_result"
    }
   ],
   "source": [
    "pd.DataFrame(test_results, index=['Mean absolute error [MPG]']).T"
   ]
  },
  {
   "cell_type": "code",
   "execution_count": 91,
   "metadata": {},
   "outputs": [
    {
     "name": "stdout",
     "output_type": "stream",
     "text": [
      "3/3 [==============================] - 0s 3ms/step\n"
     ]
    },
    {
     "data": {
      "image/png": "[encoded data removed]",
      "text/plain": [
       "<Figure size 432x288 with 1 Axes>"
      ]
     },
     "metadata": {
      "needs_background": "light"
     },
     "output_type": "display_data"
    }
   ],
   "source": [
    "test_predictions = dnn_model.predict(test_features).flatten()\n",
    "\n",
    "a = plt.axes(aspect='equal')\n",
    "plt.scatter(test_labels, test_predictions)\n",
    "plt.xlabel('True Values [MPG]')\n",
    "plt.ylabel('Predictions [MPG]')\n",
    "lims = [0, 50]\n",
    "plt.xlim(lims)\n",
    "plt.ylim(lims)\n",
    "_ = plt.plot(lims, lims)"
   ]
  },
  {
   "cell_type": "code",
   "execution_count": 94,
   "metadata": {},
   "outputs": [
    {
     "name": "stdout",
     "output_type": "stream",
     "text": [
      "[14.827 11.196 12.569 24.815 20.857 12.68  13.631 12.093 19.027 31.264\n",
      " 23.734 26.815 15.134 25.33  13.61  14.867 15.121 13.53  18.72  12.935\n",
      " 14.933 25.761 19.471 20.567 30.346 23.316 16.342 23.397 17.081 19.145\n",
      " 28.659 20.364 18.631 20.85  26.544 15.829 19.15  32.005 29.658 17.518\n",
      " 31.058 29.268 16.049 34.539 34.905 35.193 20.655 21.868 20.971 25.546\n",
      " 30.967 17.297 31.772 18.195 17.582 17.876 32.118 34.449 22.495 24.932\n",
      " 36.679 32.256 27.505 27.135 32.433 38.232 35.673 35.431 31.829 29.659\n",
      " 22.366 22.938 30.357 30.757 33.958 35.005 37.256 30.549]\n"
     ]
    }
   ],
   "source": [
    "print(test_predictions)"
   ]
  },
  {
   "cell_type": "code",
   "execution_count": 89,
   "metadata": {},
   "outputs": [
    {
     "name": "stderr",
     "output_type": "stream",
     "text": [
      "WARNING:absl:Found untraced functions such as _update_step_xla while saving (showing 1 of 1). These functions will not be directly callable after loading.\n"
     ]
    },
    {
     "name": "stdout",
     "output_type": "stream",
     "text": [
      "INFO:tensorflow:Assets written to: dnn_model\\assets\n"
     ]
    },
    {
     "name": "stderr",
     "output_type": "stream",
     "text": [
      "INFO:tensorflow:Assets written to: dnn_model\\assets\n"
     ]
    }
   ],
   "source": [
    "dnn_model.save('dnn_model')"
   ]
  }
 ],
 "metadata": {
  "kernelspec": {
   "display_name": "Python 3",
   "language": "python",
   "name": "python3"
  },
  "language_info": {
   "codemirror_mode": {
    "name": "ipython",
    "version": 3
   },
   "file_extension": ".py",
   "mimetype": "text/x-python",
   "name": "python",
   "nbconvert_exporter": "python",
   "pygments_lexer": "ipython3",
   "version": "3.9.2"
  },
  "orig_nbformat": 4,
  "vscode": {
   "interpreter": {
    "hash": "2966a61383ff9c7e136d2cab556bc1d3f7015bf83f9afddc1a15537aae5f0f0f"
   }
  }
 },
 "nbformat": 4,
 "nbformat_minor": 2
}
