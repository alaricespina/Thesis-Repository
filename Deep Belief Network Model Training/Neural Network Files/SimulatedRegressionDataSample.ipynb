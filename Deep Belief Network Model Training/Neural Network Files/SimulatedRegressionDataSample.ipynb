{
 "cells": [
  {
   "cell_type": "code",
   "execution_count": 1,
   "metadata": {},
   "outputs": [],
   "source": [
    "import matplotlib.pyplot as plt\n",
    "import numpy as np\n",
    "import pandas as pd\n",
    "import tensorflow as tf\n",
    "\n",
    "from tensorflow import keras\n",
    "from tensorflow.keras import layers\n",
    "\n",
    "\n",
    "# Make NumPy printouts easier to read.\n",
    "np.set_printoptions(precision=3, suppress=True)"
   ]
  },
  {
   "attachments": {},
   "cell_type": "markdown",
   "metadata": {},
   "source": [
    "# DATA GENERATION"
   ]
  },
  {
   "cell_type": "code",
   "execution_count": 2,
   "metadata": {},
   "outputs": [
    {
     "name": "stdout",
     "output_type": "stream",
     "text": [
      "     A    B         C     D  TARGET\n",
      "0  0.0  0.5  0.666667  0.75     0.8\n",
      "1  1.0  1.0  1.000000  1.00     1.0\n",
      "2  2.0  1.5  1.333333  1.25     1.2\n",
      "3  3.0  2.0  1.666667  1.50     1.4\n",
      "4  4.0  2.5  2.000000  1.75     1.6\n"
     ]
    }
   ],
   "source": [
    "WIDTH = 5\n",
    "HEIGHT = 500\n",
    "\n",
    "sample_data = [[(i+j)/(i+1) for i in range(WIDTH)] for j in range(HEIGHT)]\n",
    "\n",
    "names = \"ABCDEFGHIJKLMNOPQRSTUVWXYZabcdefghijklmnopqrstuvwxyz\"\n",
    "column_names = [names[i] for i in range(WIDTH-1)] + [\"TARGET\"]\n",
    "orig_data = pd.DataFrame(sample_data)\n",
    "\n",
    "orig_data.columns = column_names\n",
    "\n",
    "print(orig_data.head())"
   ]
  },
  {
   "attachments": {},
   "cell_type": "markdown",
   "metadata": {},
   "source": [
    "DATA SPLITTING"
   ]
  },
  {
   "cell_type": "code",
   "execution_count": 3,
   "metadata": {},
   "outputs": [],
   "source": [
    "dataset = orig_data.copy()\n",
    "train_dataset = dataset.sample(frac=0.8, random_state=0)\n",
    "test_dataset = dataset.drop(train_dataset.index)\n",
    "\n",
    "train_features = train_dataset.copy()\n",
    "test_features = test_dataset.copy()\n",
    "\n",
    "train_labels = train_features.pop('TARGET')\n",
    "test_labels = test_features.pop('TARGET')"
   ]
  },
  {
   "cell_type": "markdown",
   "metadata": {},
   "source": [
    "Adding the Normalizer"
   ]
  },
  {
   "cell_type": "code",
   "execution_count": 4,
   "metadata": {},
   "outputs": [],
   "source": [
    "normalizer = tf.keras.layers.Normalization(axis=-1)\n",
    "normalizer.adapt(np.array(train_features))"
   ]
  },
  {
   "attachments": {},
   "cell_type": "markdown",
   "metadata": {},
   "source": [
    "Sequential Model (Deep Neural Network)"
   ]
  },
  {
   "cell_type": "code",
   "execution_count": 5,
   "metadata": {},
   "outputs": [
    {
     "name": "stdout",
     "output_type": "stream",
     "text": [
      "Model: \"sequential\"\n",
      "_________________________________________________________________\n",
      " Layer (type)                Output Shape              Param #   \n",
      "=================================================================\n",
      " normalization (Normalizatio  (None, 4)                9         \n",
      " n)                                                              \n",
      "                                                                 \n",
      " dense (Dense)               (None, 64)                320       \n",
      "                                                                 \n",
      " dense_1 (Dense)             (None, 64)                4160      \n",
      "                                                                 \n",
      " dense_2 (Dense)             (None, 64)                4160      \n",
      "                                                                 \n",
      " dense_3 (Dense)             (None, 1)                 65        \n",
      "                                                                 \n",
      "=================================================================\n",
      "Total params: 8,714\n",
      "Trainable params: 8,705\n",
      "Non-trainable params: 9\n",
      "_________________________________________________________________\n"
     ]
    }
   ],
   "source": [
    "def build_and_compile_model(norm):\n",
    "  model = keras.Sequential([\n",
    "      norm,     \n",
    "      layers.Dense(64, activation='relu'),\n",
    "      layers.Dense(64, activation='relu'),\n",
    "      layers.Dense(64, activation='relu'),\n",
    "      layers.Dense(1)\n",
    "  ])\n",
    "\n",
    "  model.compile(loss='mean_absolute_error',\n",
    "                optimizer=tf.keras.optimizers.Adam(0.001))\n",
    "  return model\n",
    "\n",
    "dnn_model = build_and_compile_model(normalizer)\n",
    "dnn_model.summary()"
   ]
  },
  {
   "attachments": {},
   "cell_type": "markdown",
   "metadata": {},
   "source": [
    "Early Stopping Mechanism"
   ]
  },
  {
   "cell_type": "code",
   "execution_count": 6,
   "metadata": {},
   "outputs": [],
   "source": [
    "early_stopping = keras.callbacks.EarlyStopping(\n",
    "    patience = 5,\n",
    "    min_delta = 0.001,\n",
    "    restore_best_weights = True\n",
    ")"
   ]
  },
  {
   "attachments": {},
   "cell_type": "markdown",
   "metadata": {},
   "source": [
    "Fit the model to the train features (X) and train labels (Y)"
   ]
  },
  {
   "cell_type": "code",
   "execution_count": 7,
   "metadata": {},
   "outputs": [
    {
     "name": "stdout",
     "output_type": "stream",
     "text": [
      "Epoch 1/100\n"
     ]
    },
    {
     "name": "stdout",
     "output_type": "stream",
     "text": [
      "13/13 [==============================] - 3s 52ms/step - loss: 49.7007 - val_loss: 51.8762\n",
      "Epoch 2/100\n",
      "13/13 [==============================] - 0s 10ms/step - loss: 48.7366 - val_loss: 50.3773\n",
      "Epoch 3/100\n",
      "13/13 [==============================] - 0s 8ms/step - loss: 46.9134 - val_loss: 47.3967\n",
      "Epoch 4/100\n",
      "13/13 [==============================] - 0s 7ms/step - loss: 43.5644 - val_loss: 42.2836\n",
      "Epoch 5/100\n",
      "13/13 [==============================] - 0s 7ms/step - loss: 37.6269 - val_loss: 33.1069\n",
      "Epoch 6/100\n",
      "13/13 [==============================] - 0s 7ms/step - loss: 26.7756 - val_loss: 16.3441\n",
      "Epoch 7/100\n",
      "13/13 [==============================] - 0s 7ms/step - loss: 17.0007 - val_loss: 17.6173\n",
      "Epoch 8/100\n",
      "13/13 [==============================] - 0s 7ms/step - loss: 16.3530 - val_loss: 14.5716\n",
      "Epoch 9/100\n",
      "13/13 [==============================] - 0s 7ms/step - loss: 14.9718 - val_loss: 13.7914\n",
      "Epoch 10/100\n",
      "13/13 [==============================] - 0s 7ms/step - loss: 13.7156 - val_loss: 12.6211\n",
      "Epoch 11/100\n",
      "13/13 [==============================] - 0s 7ms/step - loss: 12.2056 - val_loss: 10.8361\n",
      "Epoch 12/100\n",
      "13/13 [==============================] - 0s 7ms/step - loss: 10.5800 - val_loss: 9.2187\n",
      "Epoch 13/100\n",
      "13/13 [==============================] - 0s 7ms/step - loss: 8.4885 - val_loss: 6.7970\n",
      "Epoch 14/100\n",
      "13/13 [==============================] - 0s 7ms/step - loss: 5.8854 - val_loss: 3.9499\n",
      "Epoch 15/100\n",
      "13/13 [==============================] - 0s 9ms/step - loss: 2.9109 - val_loss: 1.5781\n",
      "Epoch 16/100\n",
      "13/13 [==============================] - 0s 11ms/step - loss: 1.6242 - val_loss: 1.5569\n",
      "Epoch 17/100\n",
      "13/13 [==============================] - 0s 15ms/step - loss: 1.3236 - val_loss: 0.9315\n",
      "Epoch 18/100\n",
      "13/13 [==============================] - 0s 11ms/step - loss: 0.8526 - val_loss: 0.5944\n",
      "Epoch 19/100\n",
      "13/13 [==============================] - 0s 7ms/step - loss: 0.6349 - val_loss: 0.4141\n",
      "Epoch 20/100\n",
      "13/13 [==============================] - 0s 8ms/step - loss: 0.4621 - val_loss: 0.5070\n",
      "Epoch 21/100\n",
      "13/13 [==============================] - 0s 7ms/step - loss: 0.3830 - val_loss: 0.2920\n",
      "Epoch 22/100\n",
      "13/13 [==============================] - 0s 7ms/step - loss: 0.2742 - val_loss: 0.3864\n",
      "Epoch 23/100\n",
      "13/13 [==============================] - 0s 7ms/step - loss: 0.4423 - val_loss: 0.5446\n",
      "Epoch 24/100\n",
      "13/13 [==============================] - 0s 7ms/step - loss: 0.4276 - val_loss: 0.6831\n",
      "Epoch 25/100\n",
      "13/13 [==============================] - 0s 7ms/step - loss: 0.4158 - val_loss: 0.5387\n",
      "Epoch 26/100\n",
      "13/13 [==============================] - 0s 8ms/step - loss: 0.5308 - val_loss: 0.5233\n"
     ]
    }
   ],
   "source": [
    "history = dnn_model.fit(\n",
    "    train_features,\n",
    "    train_labels,\n",
    "    validation_data = (test_features, test_labels),\n",
    "    verbose=1, \n",
    "    callbacks = [early_stopping],\n",
    "    epochs=100)"
   ]
  },
  {
   "attachments": {},
   "cell_type": "markdown",
   "metadata": {},
   "source": [
    "Loss Curve"
   ]
  },
  {
   "cell_type": "code",
   "execution_count": 8,
   "metadata": {},
   "outputs": [
    {
     "name": "stdout",
     "output_type": "stream",
     "text": [
      "Minimum Validation Loss: 0.2920\n"
     ]
    },
    {
     "data": {
      "image/png": "[encoded data removed]",
      "text/plain": [
       "<Figure size 640x480 with 1 Axes>"
      ]
     },
     "metadata": {},
     "output_type": "display_data"
    }
   ],
   "source": [
    "history_df = pd.DataFrame(history.history)\n",
    "history_df.loc[0:, ['loss', 'val_loss']].plot()\n",
    "print((\"Minimum Validation Loss: {:0.4f}\").format(history_df['val_loss'].min()))\n",
    "\n",
    "plt.show()"
   ]
  },
  {
   "attachments": {},
   "cell_type": "markdown",
   "metadata": {},
   "source": [
    "Prediction Curve"
   ]
  },
  {
   "cell_type": "code",
   "execution_count": 9,
   "metadata": {},
   "outputs": [
    {
     "name": "stdout",
     "output_type": "stream",
     "text": [
      "4/4 [==============================] - 0s 3ms/step\n"
     ]
    },
    {
     "data": {
      "image/png": "[encoded data removed]",
      "text/plain": [
       "<Figure size 640x480 with 1 Axes>"
      ]
     },
     "metadata": {},
     "output_type": "display_data"
    }
   ],
   "source": [
    "test_predictions = dnn_model.predict(test_features).flatten()\n",
    "\n",
    "a = plt.axes(aspect='equal')\n",
    "plt.scatter(range(len(test_labels)), test_labels, color=\"red\")\n",
    "plt.scatter(range(len(test_labels)), test_predictions, color=\"green\")\n",
    "plt.xlabel('Features Test')\n",
    "plt.ylabel('Predictions and Labels')\n",
    "\n",
    "plt.show()"
   ]
  },
  {
   "attachments": {},
   "cell_type": "markdown",
   "metadata": {},
   "source": [
    "Evaluate Accuracy"
   ]
  },
  {
   "cell_type": "code",
   "execution_count": 10,
   "metadata": {},
   "outputs": [
    {
     "data": {
      "text/plain": [
       "count    100.000000\n",
       "mean       1.001907\n",
       "std        0.030263\n",
       "min        0.980604\n",
       "25%        0.994197\n",
       "50%        1.003261\n",
       "75%        1.004433\n",
       "max        1.287459\n",
       "Name: Accuracy, dtype: float64"
      ]
     },
     "execution_count": 10,
     "metadata": {},
     "output_type": "execute_result"
    }
   ],
   "source": [
    "test_labels_copy = test_labels.copy()\n",
    "\n",
    "predict_df = pd.DataFrame(test_predictions, columns=[\"PREDICTED\"])\n",
    "predict_df.index = test_labels_copy.index\n",
    "\n",
    "accuracy_df = pd.concat([test_features, test_labels, predict_df], axis=1)\n",
    "accuracy_df[\"Accuracy\"] = accuracy_df.PREDICTED/accuracy_df.TARGET\n",
    "accuracy_df.Accuracy.describe()"
   ]
  },
  {
   "attachments": {},
   "cell_type": "markdown",
   "metadata": {},
   "source": [
    "FURTHER ACCURACY TEST"
   ]
  },
  {
   "cell_type": "code",
   "execution_count": 11,
   "metadata": {},
   "outputs": [
    {
     "name": "stdout",
     "output_type": "stream",
     "text": [
      "       A      B           C       D  TARGET\n",
      "0  500.0  250.5  167.333333  125.75   100.8\n",
      "1  501.0  251.0  167.666667  126.00   101.0\n",
      "2  502.0  251.5  168.000000  126.25   101.2\n",
      "3  503.0  252.0  168.333333  126.50   101.4\n",
      "4  504.0  252.5  168.666667  126.75   101.6\n"
     ]
    }
   ],
   "source": [
    "WIDTH = 5\n",
    "REFERENCE_HEIGHT = HEIGHT\n",
    "TEST_HEIGHT = 500\n",
    "\n",
    "\n",
    "test_accuracy_data = [[(i+j)/(i+1) for i in range(WIDTH)] for j in range(REFERENCE_HEIGHT, REFERENCE_HEIGHT + TEST_HEIGHT)]\n",
    "\n",
    "names = \"ABCDEFGHIJKLMNOPQRSTUVWXYZabcdefghijklmnopqrstuvwxyz\"\n",
    "column_names = [names[i] for i in range(WIDTH-1)] + [\"TARGET\"]\n",
    "test_accuracy_data = pd.DataFrame(test_accuracy_data)\n",
    "\n",
    "test_accuracy_data.columns = column_names\n",
    "\n",
    "print(test_accuracy_data.head())"
   ]
  },
  {
   "attachments": {},
   "cell_type": "markdown",
   "metadata": {},
   "source": [
    "Predict using the model"
   ]
  },
  {
   "cell_type": "code",
   "execution_count": 12,
   "metadata": {},
   "outputs": [
    {
     "name": "stdout",
     "output_type": "stream",
     "text": [
      "16/16 [==============================] - 0s 4ms/step\n"
     ]
    },
    {
     "data": {
      "image/png": "[encoded data removed]",
      "text/plain": [
       "<Figure size 640x480 with 1 Axes>"
      ]
     },
     "metadata": {},
     "output_type": "display_data"
    }
   ],
   "source": [
    "test_features2 = test_accuracy_data.copy()\n",
    "test_labels2 = test_features2.pop('TARGET')\n",
    "\n",
    "test_predictions2 = dnn_model.predict(test_features2).flatten()\n",
    "\n",
    "a = plt.axes(aspect='equal')\n",
    "plt.scatter(range(len(test_labels2)), test_labels2, color=\"red\")\n",
    "plt.scatter(range(len(test_labels2)), test_predictions2, color=\"green\")\n",
    "plt.xlabel('Features Test')\n",
    "plt.ylabel('Predictions and Labels')\n",
    "\n",
    "plt.show()"
   ]
  },
  {
   "attachments": {},
   "cell_type": "markdown",
   "metadata": {},
   "source": [
    "Accuracy Level 2"
   ]
  },
  {
   "cell_type": "code",
   "execution_count": 13,
   "metadata": {},
   "outputs": [
    {
     "data": {
      "text/plain": [
       "count    500.000000\n",
       "mean       1.009047\n",
       "std        0.002474\n",
       "min        1.004706\n",
       "25%        1.007115\n",
       "50%        1.008718\n",
       "75%        1.011110\n",
       "max        1.013689\n",
       "Name: Accuracy, dtype: float64"
      ]
     },
     "execution_count": 13,
     "metadata": {},
     "output_type": "execute_result"
    }
   ],
   "source": [
    "test_labels2_copy = test_labels2.copy()\n",
    "\n",
    "predict2_df = pd.DataFrame(test_predictions2, columns=[\"PREDICTED\"])\n",
    "predict2_df.index = test_labels2_copy.index\n",
    "\n",
    "accuracy2_df = pd.concat([test_features2, test_labels2, predict2_df], axis=1)\n",
    "accuracy2_df[\"Accuracy\"] = accuracy2_df.PREDICTED/accuracy2_df.TARGET\n",
    "accuracy2_df.Accuracy.describe()"
   ]
  },
  {
   "cell_type": "markdown",
   "metadata": {},
   "source": [
    "Save Model"
   ]
  },
  {
   "cell_type": "code",
   "execution_count": 14,
   "metadata": {},
   "outputs": [],
   "source": [
    "#dnn_model.save('DNN_TEST_MODEL')"
   ]
  }
 ],
 "metadata": {
  "kernelspec": {
   "display_name": "Python 3",
   "language": "python",
   "name": "python3"
  },
  "language_info": {
   "codemirror_mode": {
    "name": "ipython",
    "version": 3
   },
   "file_extension": ".py",
   "mimetype": "text/x-python",
   "name": "python",
   "nbconvert_exporter": "python",
   "pygments_lexer": "ipython3",
   "version": "3.11.3"
  },
  "orig_nbformat": 4,
  "vscode": {
   "interpreter": {
    "hash": "284023ca2f5758cc35a7c2ed4364af929cf45b33beebbd84d3dd04f9d95d8c51"
   }
  }
 },
 "nbformat": 4,
 "nbformat_minor": 2
}
