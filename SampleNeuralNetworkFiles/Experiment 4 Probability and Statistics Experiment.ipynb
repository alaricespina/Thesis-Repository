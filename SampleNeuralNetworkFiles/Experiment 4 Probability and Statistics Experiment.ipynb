{
 "cells": [
  {
   "cell_type": "code",
   "execution_count": 1,
   "id": "a2534f90",
   "metadata": {},
   "outputs": [
    {
     "data": {
      "text/plain": [
       "4.5"
      ]
     },
     "execution_count": 1,
     "metadata": {},
     "output_type": "execute_result"
    }
   ],
   "source": [
    "import numpy as np\n",
    "import scipy as sp\n",
    "\n",
    "# Data preparation\n",
    "ll = [[1,2,3,4,5,6],[3,4,5,6,7,8]]\n",
    "np.mean(ll) #calculate the mean value of all elements.\n"
   ]
  },
  {
   "cell_type": "code",
   "execution_count": 2,
   "id": "236c314a",
   "metadata": {},
   "outputs": [
    {
     "data": {
      "text/plain": [
       "array([2., 3., 4., 5., 6., 7.])"
      ]
     },
     "execution_count": 2,
     "metadata": {},
     "output_type": "execute_result"
    }
   ],
   "source": [
    "import numpy as np\n",
    "import scipy as sp\n",
    "\n",
    "np.mean(ll,0) #Calculate the mean value by column. The value 0indicates the column vector"
   ]
  },
  {
   "cell_type": "code",
   "execution_count": 3,
   "id": "c4c79f0b",
   "metadata": {},
   "outputs": [
    {
     "data": {
      "text/plain": [
       "array([3.5, 5.5])"
      ]
     },
     "execution_count": 3,
     "metadata": {},
     "output_type": "execute_result"
    }
   ],
   "source": [
    "import numpy as np\n",
    "import scipy as sp\n",
    "\n",
    "np.mean(ll,1)# Calculate the mean value by row. The value 1indicates the row vector."
   ]
  },
  {
   "cell_type": "code",
   "execution_count": 4,
   "id": "2ec220d2",
   "metadata": {},
   "outputs": [
    {
     "data": {
      "text/plain": [
       "3.6875"
      ]
     },
     "execution_count": 4,
     "metadata": {},
     "output_type": "execute_result"
    }
   ],
   "source": [
    "import numpy as np\n",
    "import scipy as sp\n",
    "\n",
    "#Data preparation:\n",
    "b=[1,3,5,6]\n",
    "ll=[[1,2,3,4,5,6],[3,4,5,6,7,8]]\n",
    "\n",
    "#Calculate the variance:\n",
    "np.var(b)"
   ]
  },
  {
   "cell_type": "code",
   "execution_count": 5,
   "id": "5861a400",
   "metadata": {},
   "outputs": [
    {
     "data": {
      "text/plain": [
       "array([2.91666667, 2.91666667])"
      ]
     },
     "execution_count": 5,
     "metadata": {},
     "output_type": "execute_result"
    }
   ],
   "source": [
    "import numpy as np\n",
    "import scipy as sp\n",
    "\n",
    "np.var(ll,1) # The value of the second parameter is 1, indicating that the variance is calculated by row."
   ]
  },
  {
   "cell_type": "code",
   "execution_count": 6,
   "id": "54892bbb",
   "metadata": {},
   "outputs": [
    {
     "data": {
      "text/plain": [
       "1.9790570145063195"
      ]
     },
     "execution_count": 6,
     "metadata": {},
     "output_type": "execute_result"
    }
   ],
   "source": [
    "import numpy as np\n",
    "import scipy as sp\n",
    "\n",
    "#Data preparation:\n",
    "ll=[[1,2,3,4,5,6],[3,4,5,6,7,8]]\n",
    "np.std(ll)"
   ]
  },
  {
   "cell_type": "code",
   "execution_count": 7,
   "id": "a293493e",
   "metadata": {},
   "outputs": [
    {
     "name": "stdout",
     "output_type": "stream",
     "text": [
      "[[0.5 2. ]\n",
      " [2.  8. ]]\n"
     ]
    }
   ],
   "source": [
    "import numpy as np\n",
    "import scipy as sp\n",
    "\n",
    "#Data preparation:\n",
    "x = np.array([[1, 2], [3, 7]])\n",
    "print(np.cov(x))"
   ]
  },
  {
   "cell_type": "code",
   "execution_count": 9,
   "id": "28cc346a",
   "metadata": {},
   "outputs": [
    {
     "data": {
      "text/plain": [
       "array([[1.        , 0.99998623],\n",
       "       [0.99998623, 1.        ]])"
      ]
     },
     "execution_count": 9,
     "metadata": {},
     "output_type": "execute_result"
    }
   ],
   "source": [
    "import numpy as np\n",
    "import scipy as sp\n",
    "\n",
    "#Data preparation:\n",
    "vc=[1,2,39,0,8]\n",
    "vb=[1,2,38,0,8]\n",
    "\n",
    "#Function-based implementation:\n",
    "np.corrcoef(vc,vb)"
   ]
  },
  {
   "cell_type": "code",
   "execution_count": 19,
   "id": "d565fdc6",
   "metadata": {},
   "outputs": [
    {
     "name": "stdout",
     "output_type": "stream",
     "text": [
      "Data: [3 3 4 ... 5 2 1]\n",
      "Mean: 2.999\n",
      "SD: 1.45245\n"
     ]
    },
    {
     "data": {
      "image/png": "[encoded data removed]",
      "text/plain": [
       "<Figure size 432x288 with 1 Axes>"
      ]
     },
     "metadata": {
      "needs_background": "light"
     },
     "output_type": "display_data"
    }
   ],
   "source": [
    "from scipy.stats import binom, norm, beta, expon\n",
    "import numpy as np\n",
    "import matplotlib.pyplot as plt \n",
    "\n",
    "binom_sim = binom.rvs(n=10,p=0.3,size=10000)\n",
    "print('Data:',binom_sim)\n",
    "print('Mean: %g'%np.mean(binom_sim))\n",
    "print('SD: %g'%np.std(binom_sim,ddof=1))\n",
    "\n",
    "plt.hist(binom_sim,bins=10)\n",
    "plt.xlabel(('x'))\n",
    "plt.ylabel('density')\n",
    "plt.show()"
   ]
  },
  {
   "cell_type": "code",
   "execution_count": 26,
   "id": "037eec5d",
   "metadata": {},
   "outputs": [
    {
     "data": {
      "image/png": "[encoded data removed]",
      "text/plain": [
       "<Figure size 432x288 with 1 Axes>"
      ]
     },
     "metadata": {
      "needs_background": "light"
     },
     "output_type": "display_data"
    }
   ],
   "source": [
    "import numpy as np\n",
    "import matplotlib.pyplot as plt\n",
    "\n",
    "X = np.random.poisson(lam=2,size=10000)\n",
    "\n",
    "a = plt.hist(X, bins=15,range=[0,15])\n",
    "\n",
    "plt.grid()\n",
    "plt.show()"
   ]
  },
  {
   "cell_type": "code",
   "execution_count": 25,
   "id": "028b887e",
   "metadata": {},
   "outputs": [
    {
     "data": {
      "image/png": "[encoded data removed]",
      "text/plain": [
       "<Figure size 432x288 with 1 Axes>"
      ]
     },
     "metadata": {
      "needs_background": "light"
     },
     "output_type": "display_data"
    }
   ],
   "source": [
    "from scipy.stats import norm\n",
    "import numpy as np\n",
    "import matplotlib.pyplot as plt\n",
    "\n",
    "mu = 0\n",
    "sigma = 1\n",
    "x = np.arange(-5, 5, 0.1)\n",
    "y = norm.pdf(x,mu,sigma)\n",
    "plt.plot(x,y)\n",
    "plt.xlabel('x')\n",
    "plt.ylabel('density')\n",
    "plt.show()"
   ]
  },
  {
   "cell_type": "code",
   "execution_count": null,
   "id": "c35372d7",
   "metadata": {},
   "outputs": [],
   "source": []
  }
 ],
 "metadata": {
  "kernelspec": {
   "display_name": "Python 3",
   "language": "python",
   "name": "python3"
  },
  "language_info": {
   "codemirror_mode": {
    "name": "ipython",
    "version": 3
   },
   "file_extension": ".py",
   "mimetype": "text/x-python",
   "name": "python",
   "nbconvert_exporter": "python",
   "pygments_lexer": "ipython3",
   "version": "3.9.2"
  },
  "vscode": {
   "interpreter": {
    "hash": "2966a61383ff9c7e136d2cab556bc1d3f7015bf83f9afddc1a15537aae5f0f0f"
   }
  }
 },
 "nbformat": 4,
 "nbformat_minor": 5
}
