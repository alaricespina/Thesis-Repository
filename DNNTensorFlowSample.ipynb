{
 "cells": [
  {
   "cell_type": "code",
   "execution_count": 35,
   "metadata": {},
   "outputs": [
    {
     "name": "stdout",
     "output_type": "stream",
     "text": [
      "2.11.0\n"
     ]
    }
   ],
   "source": [
    "import matplotlib.pyplot as plt\n",
    "import numpy as np\n",
    "import pandas as pd\n",
    "import seaborn as sns\n",
    "\n",
    "# Make NumPy printouts easier to read.\n",
    "np.set_printoptions(precision=3, suppress=True)\n",
    "\n",
    "import tensorflow as tf\n",
    "\n",
    "from tensorflow import keras\n",
    "from tensorflow.keras import layers\n",
    "\n",
    "print(tf.__version__)\n"
   ]
  },
  {
   "attachments": {},
   "cell_type": "markdown",
   "metadata": {},
   "source": [
    "Gather Data"
   ]
  },
  {
   "cell_type": "code",
   "execution_count": 36,
   "metadata": {},
   "outputs": [],
   "source": [
    "url = 'http://archive.ics.uci.edu/ml/machine-learning-databases/auto-mpg/auto-mpg.data'\n",
    "column_names = ['MPG', 'Cylinders', 'Displacement', 'Horsepower', 'Weight',\n",
    "                'Acceleration', 'Model Year', 'Origin']\n",
    "\n",
    "raw_dataset = pd.read_csv(url, names=column_names,\n",
    "                          na_values='?', comment='\\t',\n",
    "                          sep=' ', skipinitialspace=True)"
   ]
  },
  {
   "attachments": {},
   "cell_type": "markdown",
   "metadata": {},
   "source": [
    "Copy of raw dataset to be set as the actual dataset for the notebook"
   ]
  },
  {
   "cell_type": "code",
   "execution_count": 37,
   "metadata": {},
   "outputs": [
    {
     "data": {
      "text/html": [
       "<div>\n",
       "<style scoped>\n",
       "    .dataframe tbody tr th:only-of-type {\n",
       "        vertical-align: middle;\n",
       "    }\n",
       "\n",
       "    .dataframe tbody tr th {\n",
       "        vertical-align: top;\n",
       "    }\n",
       "\n",
       "    .dataframe thead th {\n",
       "        text-align: right;\n",
       "    }\n",
       "</style>\n",
       "<table border=\"1\" class=\"dataframe\">\n",
       "  <thead>\n",
       "    <tr style=\"text-align: right;\">\n",
       "      <th></th>\n",
       "      <th>MPG</th>\n",
       "      <th>Cylinders</th>\n",
       "      <th>Displacement</th>\n",
       "      <th>Horsepower</th>\n",
       "      <th>Weight</th>\n",
       "      <th>Acceleration</th>\n",
       "      <th>Model Year</th>\n",
       "      <th>Origin</th>\n",
       "    </tr>\n",
       "  </thead>\n",
       "  <tbody>\n",
       "    <tr>\n",
       "      <th>393</th>\n",
       "      <td>27.0</td>\n",
       "      <td>4</td>\n",
       "      <td>140.0</td>\n",
       "      <td>86.0</td>\n",
       "      <td>2790.0</td>\n",
       "      <td>15.6</td>\n",
       "      <td>82</td>\n",
       "      <td>1</td>\n",
       "    </tr>\n",
       "    <tr>\n",
       "      <th>394</th>\n",
       "      <td>44.0</td>\n",
       "      <td>4</td>\n",
       "      <td>97.0</td>\n",
       "      <td>52.0</td>\n",
       "      <td>2130.0</td>\n",
       "      <td>24.6</td>\n",
       "      <td>82</td>\n",
       "      <td>2</td>\n",
       "    </tr>\n",
       "    <tr>\n",
       "      <th>395</th>\n",
       "      <td>32.0</td>\n",
       "      <td>4</td>\n",
       "      <td>135.0</td>\n",
       "      <td>84.0</td>\n",
       "      <td>2295.0</td>\n",
       "      <td>11.6</td>\n",
       "      <td>82</td>\n",
       "      <td>1</td>\n",
       "    </tr>\n",
       "    <tr>\n",
       "      <th>396</th>\n",
       "      <td>28.0</td>\n",
       "      <td>4</td>\n",
       "      <td>120.0</td>\n",
       "      <td>79.0</td>\n",
       "      <td>2625.0</td>\n",
       "      <td>18.6</td>\n",
       "      <td>82</td>\n",
       "      <td>1</td>\n",
       "    </tr>\n",
       "    <tr>\n",
       "      <th>397</th>\n",
       "      <td>31.0</td>\n",
       "      <td>4</td>\n",
       "      <td>119.0</td>\n",
       "      <td>82.0</td>\n",
       "      <td>2720.0</td>\n",
       "      <td>19.4</td>\n",
       "      <td>82</td>\n",
       "      <td>1</td>\n",
       "    </tr>\n",
       "  </tbody>\n",
       "</table>\n",
       "</div>"
      ],
      "text/plain": [
       "      MPG  Cylinders  Displacement  Horsepower  Weight  Acceleration  \\\n",
       "393  27.0          4         140.0        86.0  2790.0          15.6   \n",
       "394  44.0          4          97.0        52.0  2130.0          24.6   \n",
       "395  32.0          4         135.0        84.0  2295.0          11.6   \n",
       "396  28.0          4         120.0        79.0  2625.0          18.6   \n",
       "397  31.0          4         119.0        82.0  2720.0          19.4   \n",
       "\n",
       "     Model Year  Origin  \n",
       "393          82       1  \n",
       "394          82       2  \n",
       "395          82       1  \n",
       "396          82       1  \n",
       "397          82       1  "
      ]
     },
     "execution_count": 37,
     "metadata": {},
     "output_type": "execute_result"
    }
   ],
   "source": [
    "dataset = raw_dataset.copy()\n",
    "dataset.tail()"
   ]
  },
  {
   "attachments": {},
   "cell_type": "markdown",
   "metadata": {},
   "source": [
    "Dropping the rows that contain 0 values to keep the notebook simple"
   ]
  },
  {
   "cell_type": "code",
   "execution_count": 38,
   "metadata": {},
   "outputs": [
    {
     "name": "stdout",
     "output_type": "stream",
     "text": [
      "=====Before removing=====\n",
      "MPG             0\n",
      "Cylinders       0\n",
      "Displacement    0\n",
      "Horsepower      6\n",
      "Weight          0\n",
      "Acceleration    0\n",
      "Model Year      0\n",
      "Origin          0\n",
      "dtype: int64\n",
      "=====After removing=====\n",
      "MPG             0\n",
      "Cylinders       0\n",
      "Displacement    0\n",
      "Horsepower      0\n",
      "Weight          0\n",
      "Acceleration    0\n",
      "Model Year      0\n",
      "Origin          0\n",
      "dtype: int64\n"
     ]
    }
   ],
   "source": [
    "print(\"=====Before removing=====\")\n",
    "print(dataset.isna().sum())\n",
    "dataset = dataset.dropna()\n",
    "print(\"=====After removing=====\")\n",
    "print(dataset.isna().sum())"
   ]
  },
  {
   "attachments": {},
   "cell_type": "markdown",
   "metadata": {},
   "source": [
    "One Hot encode using map function of the pandas dataframe"
   ]
  },
  {
   "cell_type": "code",
   "execution_count": 39,
   "metadata": {},
   "outputs": [
    {
     "data": {
      "text/html": [
       "<div>\n",
       "<style scoped>\n",
       "    .dataframe tbody tr th:only-of-type {\n",
       "        vertical-align: middle;\n",
       "    }\n",
       "\n",
       "    .dataframe tbody tr th {\n",
       "        vertical-align: top;\n",
       "    }\n",
       "\n",
       "    .dataframe thead th {\n",
       "        text-align: right;\n",
       "    }\n",
       "</style>\n",
       "<table border=\"1\" class=\"dataframe\">\n",
       "  <thead>\n",
       "    <tr style=\"text-align: right;\">\n",
       "      <th></th>\n",
       "      <th>MPG</th>\n",
       "      <th>Cylinders</th>\n",
       "      <th>Displacement</th>\n",
       "      <th>Horsepower</th>\n",
       "      <th>Weight</th>\n",
       "      <th>Acceleration</th>\n",
       "      <th>Model Year</th>\n",
       "      <th>Europe</th>\n",
       "      <th>Japan</th>\n",
       "      <th>USA</th>\n",
       "    </tr>\n",
       "  </thead>\n",
       "  <tbody>\n",
       "    <tr>\n",
       "      <th>393</th>\n",
       "      <td>27.0</td>\n",
       "      <td>4</td>\n",
       "      <td>140.0</td>\n",
       "      <td>86.0</td>\n",
       "      <td>2790.0</td>\n",
       "      <td>15.6</td>\n",
       "      <td>82</td>\n",
       "      <td>0</td>\n",
       "      <td>0</td>\n",
       "      <td>1</td>\n",
       "    </tr>\n",
       "    <tr>\n",
       "      <th>394</th>\n",
       "      <td>44.0</td>\n",
       "      <td>4</td>\n",
       "      <td>97.0</td>\n",
       "      <td>52.0</td>\n",
       "      <td>2130.0</td>\n",
       "      <td>24.6</td>\n",
       "      <td>82</td>\n",
       "      <td>1</td>\n",
       "      <td>0</td>\n",
       "      <td>0</td>\n",
       "    </tr>\n",
       "    <tr>\n",
       "      <th>395</th>\n",
       "      <td>32.0</td>\n",
       "      <td>4</td>\n",
       "      <td>135.0</td>\n",
       "      <td>84.0</td>\n",
       "      <td>2295.0</td>\n",
       "      <td>11.6</td>\n",
       "      <td>82</td>\n",
       "      <td>0</td>\n",
       "      <td>0</td>\n",
       "      <td>1</td>\n",
       "    </tr>\n",
       "    <tr>\n",
       "      <th>396</th>\n",
       "      <td>28.0</td>\n",
       "      <td>4</td>\n",
       "      <td>120.0</td>\n",
       "      <td>79.0</td>\n",
       "      <td>2625.0</td>\n",
       "      <td>18.6</td>\n",
       "      <td>82</td>\n",
       "      <td>0</td>\n",
       "      <td>0</td>\n",
       "      <td>1</td>\n",
       "    </tr>\n",
       "    <tr>\n",
       "      <th>397</th>\n",
       "      <td>31.0</td>\n",
       "      <td>4</td>\n",
       "      <td>119.0</td>\n",
       "      <td>82.0</td>\n",
       "      <td>2720.0</td>\n",
       "      <td>19.4</td>\n",
       "      <td>82</td>\n",
       "      <td>0</td>\n",
       "      <td>0</td>\n",
       "      <td>1</td>\n",
       "    </tr>\n",
       "  </tbody>\n",
       "</table>\n",
       "</div>"
      ],
      "text/plain": [
       "      MPG  Cylinders  Displacement  Horsepower  Weight  Acceleration  \\\n",
       "393  27.0          4         140.0        86.0  2790.0          15.6   \n",
       "394  44.0          4          97.0        52.0  2130.0          24.6   \n",
       "395  32.0          4         135.0        84.0  2295.0          11.6   \n",
       "396  28.0          4         120.0        79.0  2625.0          18.6   \n",
       "397  31.0          4         119.0        82.0  2720.0          19.4   \n",
       "\n",
       "     Model Year  Europe  Japan  USA  \n",
       "393          82       0      0    1  \n",
       "394          82       1      0    0  \n",
       "395          82       0      0    1  \n",
       "396          82       0      0    1  \n",
       "397          82       0      0    1  "
      ]
     },
     "execution_count": 39,
     "metadata": {},
     "output_type": "execute_result"
    }
   ],
   "source": [
    "dataset['Origin'] = dataset['Origin'].map({1: 'USA', 2: 'Europe', 3: 'Japan'})\n",
    "dataset = pd.get_dummies(dataset, columns=['Origin'], prefix='', prefix_sep='')\n",
    "dataset.tail()"
   ]
  },
  {
   "attachments": {},
   "cell_type": "markdown",
   "metadata": {},
   "source": [
    "Splitting dataset into training and testing sets"
   ]
  },
  {
   "cell_type": "code",
   "execution_count": 40,
   "metadata": {},
   "outputs": [],
   "source": [
    "train_dataset = dataset.sample(frac=0.8, random_state=0)\n",
    "test_dataset = dataset.drop(train_dataset.index)"
   ]
  },
  {
   "cell_type": "code",
   "execution_count": 41,
   "metadata": {},
   "outputs": [
    {
     "data": {
      "text/html": [
       "<div>\n",
       "<style scoped>\n",
       "    .dataframe tbody tr th:only-of-type {\n",
       "        vertical-align: middle;\n",
       "    }\n",
       "\n",
       "    .dataframe tbody tr th {\n",
       "        vertical-align: top;\n",
       "    }\n",
       "\n",
       "    .dataframe thead th {\n",
       "        text-align: right;\n",
       "    }\n",
       "</style>\n",
       "<table border=\"1\" class=\"dataframe\">\n",
       "  <thead>\n",
       "    <tr style=\"text-align: right;\">\n",
       "      <th></th>\n",
       "      <th>MPG</th>\n",
       "      <th>Cylinders</th>\n",
       "      <th>Displacement</th>\n",
       "      <th>Horsepower</th>\n",
       "      <th>Weight</th>\n",
       "      <th>Acceleration</th>\n",
       "      <th>Model Year</th>\n",
       "      <th>Europe</th>\n",
       "      <th>Japan</th>\n",
       "      <th>USA</th>\n",
       "    </tr>\n",
       "  </thead>\n",
       "  <tbody>\n",
       "    <tr>\n",
       "      <th>count</th>\n",
       "      <td>314.000000</td>\n",
       "      <td>314.000000</td>\n",
       "      <td>314.000000</td>\n",
       "      <td>314.000000</td>\n",
       "      <td>314.000000</td>\n",
       "      <td>314.000000</td>\n",
       "      <td>314.000000</td>\n",
       "      <td>314.000000</td>\n",
       "      <td>314.000000</td>\n",
       "      <td>314.000000</td>\n",
       "    </tr>\n",
       "    <tr>\n",
       "      <th>mean</th>\n",
       "      <td>23.310510</td>\n",
       "      <td>5.477707</td>\n",
       "      <td>195.318471</td>\n",
       "      <td>104.869427</td>\n",
       "      <td>2990.251592</td>\n",
       "      <td>15.559236</td>\n",
       "      <td>75.898089</td>\n",
       "      <td>0.178344</td>\n",
       "      <td>0.197452</td>\n",
       "      <td>0.624204</td>\n",
       "    </tr>\n",
       "    <tr>\n",
       "      <th>std</th>\n",
       "      <td>7.728652</td>\n",
       "      <td>1.699788</td>\n",
       "      <td>104.331589</td>\n",
       "      <td>38.096214</td>\n",
       "      <td>843.898596</td>\n",
       "      <td>2.789230</td>\n",
       "      <td>3.675642</td>\n",
       "      <td>0.383413</td>\n",
       "      <td>0.398712</td>\n",
       "      <td>0.485101</td>\n",
       "    </tr>\n",
       "    <tr>\n",
       "      <th>min</th>\n",
       "      <td>10.000000</td>\n",
       "      <td>3.000000</td>\n",
       "      <td>68.000000</td>\n",
       "      <td>46.000000</td>\n",
       "      <td>1649.000000</td>\n",
       "      <td>8.000000</td>\n",
       "      <td>70.000000</td>\n",
       "      <td>0.000000</td>\n",
       "      <td>0.000000</td>\n",
       "      <td>0.000000</td>\n",
       "    </tr>\n",
       "    <tr>\n",
       "      <th>25%</th>\n",
       "      <td>17.000000</td>\n",
       "      <td>4.000000</td>\n",
       "      <td>105.500000</td>\n",
       "      <td>76.250000</td>\n",
       "      <td>2256.500000</td>\n",
       "      <td>13.800000</td>\n",
       "      <td>73.000000</td>\n",
       "      <td>0.000000</td>\n",
       "      <td>0.000000</td>\n",
       "      <td>0.000000</td>\n",
       "    </tr>\n",
       "    <tr>\n",
       "      <th>50%</th>\n",
       "      <td>22.000000</td>\n",
       "      <td>4.000000</td>\n",
       "      <td>151.000000</td>\n",
       "      <td>94.500000</td>\n",
       "      <td>2822.500000</td>\n",
       "      <td>15.500000</td>\n",
       "      <td>76.000000</td>\n",
       "      <td>0.000000</td>\n",
       "      <td>0.000000</td>\n",
       "      <td>1.000000</td>\n",
       "    </tr>\n",
       "    <tr>\n",
       "      <th>75%</th>\n",
       "      <td>28.950000</td>\n",
       "      <td>8.000000</td>\n",
       "      <td>265.750000</td>\n",
       "      <td>128.000000</td>\n",
       "      <td>3608.000000</td>\n",
       "      <td>17.200000</td>\n",
       "      <td>79.000000</td>\n",
       "      <td>0.000000</td>\n",
       "      <td>0.000000</td>\n",
       "      <td>1.000000</td>\n",
       "    </tr>\n",
       "    <tr>\n",
       "      <th>max</th>\n",
       "      <td>46.600000</td>\n",
       "      <td>8.000000</td>\n",
       "      <td>455.000000</td>\n",
       "      <td>225.000000</td>\n",
       "      <td>5140.000000</td>\n",
       "      <td>24.800000</td>\n",
       "      <td>82.000000</td>\n",
       "      <td>1.000000</td>\n",
       "      <td>1.000000</td>\n",
       "      <td>1.000000</td>\n",
       "    </tr>\n",
       "  </tbody>\n",
       "</table>\n",
       "</div>"
      ],
      "text/plain": [
       "              MPG   Cylinders  Displacement  Horsepower       Weight  \\\n",
       "count  314.000000  314.000000    314.000000  314.000000   314.000000   \n",
       "mean    23.310510    5.477707    195.318471  104.869427  2990.251592   \n",
       "std      7.728652    1.699788    104.331589   38.096214   843.898596   \n",
       "min     10.000000    3.000000     68.000000   46.000000  1649.000000   \n",
       "25%     17.000000    4.000000    105.500000   76.250000  2256.500000   \n",
       "50%     22.000000    4.000000    151.000000   94.500000  2822.500000   \n",
       "75%     28.950000    8.000000    265.750000  128.000000  3608.000000   \n",
       "max     46.600000    8.000000    455.000000  225.000000  5140.000000   \n",
       "\n",
       "       Acceleration  Model Year      Europe       Japan         USA  \n",
       "count    314.000000  314.000000  314.000000  314.000000  314.000000  \n",
       "mean      15.559236   75.898089    0.178344    0.197452    0.624204  \n",
       "std        2.789230    3.675642    0.383413    0.398712    0.485101  \n",
       "min        8.000000   70.000000    0.000000    0.000000    0.000000  \n",
       "25%       13.800000   73.000000    0.000000    0.000000    0.000000  \n",
       "50%       15.500000   76.000000    0.000000    0.000000    1.000000  \n",
       "75%       17.200000   79.000000    0.000000    0.000000    1.000000  \n",
       "max       24.800000   82.000000    1.000000    1.000000    1.000000  "
      ]
     },
     "execution_count": 41,
     "metadata": {},
     "output_type": "execute_result"
    }
   ],
   "source": [
    "train_dataset.describe()"
   ]
  },
  {
   "attachments": {},
   "cell_type": "markdown",
   "metadata": {},
   "source": [
    "Removing the target variable (label) from the other variables (features)"
   ]
  },
  {
   "cell_type": "code",
   "execution_count": 42,
   "metadata": {},
   "outputs": [],
   "source": [
    "train_features = train_dataset.copy()\n",
    "test_features = test_dataset.copy()\n",
    "\n",
    "train_labels = train_features.pop('MPG')\n",
    "test_labels = test_features.pop('MPG')"
   ]
  },
  {
   "attachments": {},
   "cell_type": "markdown",
   "metadata": {},
   "source": [
    "Normalization Part using tensorflow normalization"
   ]
  },
  {
   "cell_type": "code",
   "execution_count": 43,
   "metadata": {},
   "outputs": [
    {
     "name": "stdout",
     "output_type": "stream",
     "text": [
      "[[   5.478  195.318  104.869 2990.252   15.559   75.898    0.178    0.197\n",
      "     0.624]]\n"
     ]
    }
   ],
   "source": [
    "normalizer = tf.keras.layers.Normalization(axis=-1)\n",
    "normalizer.adapt(np.array(train_features))\n",
    "print(normalizer.mean.numpy())"
   ]
  },
  {
   "cell_type": "code",
   "execution_count": 44,
   "metadata": {},
   "outputs": [],
   "source": [
    "def build_and_compile_model(norm):\n",
    "  model = keras.Sequential([\n",
    "      norm,\n",
    "      layers.Dense(64, activation='relu'),\n",
    "      layers.Dense(64, activation='relu'),\n",
    "      layers.Dense(1)\n",
    "  ])\n",
    "\n",
    "  model.compile(loss='mean_absolute_error',\n",
    "                optimizer=tf.keras.optimizers.Adam(0.001))\n",
    "  return model"
   ]
  },
  {
   "cell_type": "code",
   "execution_count": 45,
   "metadata": {},
   "outputs": [
    {
     "name": "stdout",
     "output_type": "stream",
     "text": [
      "Model: \"sequential_2\"\n",
      "_________________________________________________________________\n",
      " Layer (type)                Output Shape              Param #   \n",
      "=================================================================\n",
      " normalization_2 (Normalizat  (None, 9)                19        \n",
      " ion)                                                            \n",
      "                                                                 \n",
      " dense_6 (Dense)             (None, 64)                640       \n",
      "                                                                 \n",
      " dense_7 (Dense)             (None, 64)                4160      \n",
      "                                                                 \n",
      " dense_8 (Dense)             (None, 1)                 65        \n",
      "                                                                 \n",
      "=================================================================\n",
      "Total params: 4,884\n",
      "Trainable params: 4,865\n",
      "Non-trainable params: 19\n",
      "_________________________________________________________________\n"
     ]
    }
   ],
   "source": [
    "dnn_model = build_and_compile_model(normalizer)\n",
    "dnn_model.summary()"
   ]
  },
  {
   "cell_type": "code",
   "execution_count": 46,
   "metadata": {},
   "outputs": [
    {
     "name": "stdout",
     "output_type": "stream",
     "text": [
      "Epoch 1/100\n",
      "10/10 [==============================] - 1s 29ms/step - loss: 22.8762 - val_loss: 22.9667\n",
      "Epoch 2/100\n",
      "10/10 [==============================] - 0s 6ms/step - loss: 21.7792 - val_loss: 21.7381\n",
      "Epoch 3/100\n",
      "10/10 [==============================] - 0s 7ms/step - loss: 20.4273 - val_loss: 20.1485\n",
      "Epoch 4/100\n",
      "10/10 [==============================] - 0s 7ms/step - loss: 18.6305 - val_loss: 17.9712\n",
      "Epoch 5/100\n",
      "10/10 [==============================] - 0s 7ms/step - loss: 16.2039 - val_loss: 15.3570\n",
      "Epoch 6/100\n",
      "10/10 [==============================] - 0s 6ms/step - loss: 13.6887 - val_loss: 12.9089\n",
      "Epoch 7/100\n",
      "10/10 [==============================] - 0s 6ms/step - loss: 10.9562 - val_loss: 9.7810\n",
      "Epoch 8/100\n",
      "10/10 [==============================] - 0s 7ms/step - loss: 7.6743 - val_loss: 5.9602\n",
      "Epoch 9/100\n",
      "10/10 [==============================] - 0s 6ms/step - loss: 5.2228 - val_loss: 4.7276\n",
      "Epoch 10/100\n",
      "10/10 [==============================] - 0s 7ms/step - loss: 4.3932 - val_loss: 3.6597\n",
      "Epoch 11/100\n",
      "10/10 [==============================] - 0s 7ms/step - loss: 3.4575 - val_loss: 2.8360\n",
      "Epoch 12/100\n",
      "10/10 [==============================] - 0s 7ms/step - loss: 2.9963 - val_loss: 2.5183\n",
      "Epoch 13/100\n",
      "10/10 [==============================] - 0s 7ms/step - loss: 2.7663 - val_loss: 2.3418\n",
      "Epoch 14/100\n",
      "10/10 [==============================] - 0s 7ms/step - loss: 2.5893 - val_loss: 2.2241\n",
      "Epoch 15/100\n",
      "10/10 [==============================] - 0s 7ms/step - loss: 2.4283 - val_loss: 2.1292\n",
      "Epoch 16/100\n",
      "10/10 [==============================] - 0s 7ms/step - loss: 2.3139 - val_loss: 2.0925\n",
      "Epoch 17/100\n",
      "10/10 [==============================] - 0s 6ms/step - loss: 2.2011 - val_loss: 2.0450\n",
      "Epoch 18/100\n",
      "10/10 [==============================] - 0s 6ms/step - loss: 2.1460 - val_loss: 2.0190\n",
      "Epoch 19/100\n",
      "10/10 [==============================] - 0s 7ms/step - loss: 2.1230 - val_loss: 2.0389\n",
      "Epoch 20/100\n",
      "10/10 [==============================] - 0s 7ms/step - loss: 2.0617 - val_loss: 2.0143\n",
      "Epoch 21/100\n",
      "10/10 [==============================] - 0s 6ms/step - loss: 2.0371 - val_loss: 1.9763\n",
      "Epoch 22/100\n",
      "10/10 [==============================] - 0s 7ms/step - loss: 2.0229 - val_loss: 1.9619\n",
      "Epoch 23/100\n",
      "10/10 [==============================] - 0s 7ms/step - loss: 2.0037 - val_loss: 2.0037\n",
      "Epoch 24/100\n",
      "10/10 [==============================] - 0s 6ms/step - loss: 2.0156 - val_loss: 1.9472\n",
      "Epoch 25/100\n",
      "10/10 [==============================] - 0s 6ms/step - loss: 1.9674 - val_loss: 1.9461\n",
      "Epoch 26/100\n",
      "10/10 [==============================] - 0s 6ms/step - loss: 1.9551 - val_loss: 1.9090\n",
      "Epoch 27/100\n",
      "10/10 [==============================] - 0s 7ms/step - loss: 1.9508 - val_loss: 1.9341\n",
      "Epoch 28/100\n",
      "10/10 [==============================] - 0s 6ms/step - loss: 1.9367 - val_loss: 1.9046\n",
      "Epoch 29/100\n",
      "10/10 [==============================] - 0s 7ms/step - loss: 1.9208 - val_loss: 1.9124\n",
      "Epoch 30/100\n",
      "10/10 [==============================] - 0s 6ms/step - loss: 1.9184 - val_loss: 1.9032\n",
      "Epoch 31/100\n",
      "10/10 [==============================] - 0s 6ms/step - loss: 1.9017 - val_loss: 1.9143\n",
      "Epoch 32/100\n",
      "10/10 [==============================] - 0s 8ms/step - loss: 1.9106 - val_loss: 1.8825\n",
      "Epoch 33/100\n",
      "10/10 [==============================] - 0s 7ms/step - loss: 1.9023 - val_loss: 1.9226\n",
      "Epoch 34/100\n",
      "10/10 [==============================] - 0s 7ms/step - loss: 1.8905 - val_loss: 1.9050\n",
      "Epoch 35/100\n",
      "10/10 [==============================] - 0s 8ms/step - loss: 1.8732 - val_loss: 1.8859\n",
      "Epoch 36/100\n",
      "10/10 [==============================] - 0s 7ms/step - loss: 1.8638 - val_loss: 1.8562\n",
      "Epoch 37/100\n",
      "10/10 [==============================] - 0s 7ms/step - loss: 1.8861 - val_loss: 1.8434\n",
      "Epoch 38/100\n",
      "10/10 [==============================] - 0s 7ms/step - loss: 1.8642 - val_loss: 1.9434\n",
      "Epoch 39/100\n",
      "10/10 [==============================] - 0s 7ms/step - loss: 1.8946 - val_loss: 1.8451\n",
      "Epoch 40/100\n",
      "10/10 [==============================] - 0s 7ms/step - loss: 1.8551 - val_loss: 1.9301\n",
      "Epoch 41/100\n",
      "10/10 [==============================] - 0s 8ms/step - loss: 1.8582 - val_loss: 1.8416\n",
      "Epoch 42/100\n",
      "10/10 [==============================] - 0s 19ms/step - loss: 1.8264 - val_loss: 1.9099\n",
      "Epoch 43/100\n",
      "10/10 [==============================] - 0s 36ms/step - loss: 1.8508 - val_loss: 1.8416\n",
      "Epoch 44/100\n",
      "10/10 [==============================] - 0s 16ms/step - loss: 1.8277 - val_loss: 1.8302\n",
      "Epoch 45/100\n",
      "10/10 [==============================] - 0s 13ms/step - loss: 1.8210 - val_loss: 1.8532\n",
      "Epoch 46/100\n",
      "10/10 [==============================] - 0s 9ms/step - loss: 1.8094 - val_loss: 1.8241\n",
      "Epoch 47/100\n",
      "10/10 [==============================] - 0s 13ms/step - loss: 1.8115 - val_loss: 1.8126\n",
      "Epoch 48/100\n",
      "10/10 [==============================] - 0s 10ms/step - loss: 1.8114 - val_loss: 1.8379\n",
      "Epoch 49/100\n",
      "10/10 [==============================] - 0s 9ms/step - loss: 1.8154 - val_loss: 1.8300\n",
      "Epoch 50/100\n",
      "10/10 [==============================] - 0s 9ms/step - loss: 1.8003 - val_loss: 1.8269\n",
      "Epoch 51/100\n",
      "10/10 [==============================] - 0s 11ms/step - loss: 1.8071 - val_loss: 1.8368\n",
      "Epoch 52/100\n",
      "10/10 [==============================] - 0s 9ms/step - loss: 1.7879 - val_loss: 1.8388\n",
      "Epoch 53/100\n",
      "10/10 [==============================] - 0s 9ms/step - loss: 1.8277 - val_loss: 1.8006\n",
      "Epoch 54/100\n",
      "10/10 [==============================] - 0s 8ms/step - loss: 1.7874 - val_loss: 1.7888\n",
      "Epoch 55/100\n",
      "10/10 [==============================] - 0s 8ms/step - loss: 1.7865 - val_loss: 1.8365\n",
      "Epoch 56/100\n",
      "10/10 [==============================] - 0s 8ms/step - loss: 1.7661 - val_loss: 1.7764\n",
      "Epoch 57/100\n",
      "10/10 [==============================] - 0s 9ms/step - loss: 1.7689 - val_loss: 1.8004\n",
      "Epoch 58/100\n",
      "10/10 [==============================] - 0s 10ms/step - loss: 1.7667 - val_loss: 1.8212\n",
      "Epoch 59/100\n",
      "10/10 [==============================] - 0s 9ms/step - loss: 1.7713 - val_loss: 1.8242\n",
      "Epoch 60/100\n",
      "10/10 [==============================] - 0s 10ms/step - loss: 1.7952 - val_loss: 1.7838\n",
      "Epoch 61/100\n",
      "10/10 [==============================] - 0s 9ms/step - loss: 1.7688 - val_loss: 1.9156\n",
      "Epoch 62/100\n",
      "10/10 [==============================] - 0s 8ms/step - loss: 1.7522 - val_loss: 1.8090\n",
      "Epoch 63/100\n",
      "10/10 [==============================] - 0s 8ms/step - loss: 1.7390 - val_loss: 1.8506\n",
      "Epoch 64/100\n",
      "10/10 [==============================] - 0s 8ms/step - loss: 1.7491 - val_loss: 1.8336\n",
      "Epoch 65/100\n",
      "10/10 [==============================] - 0s 8ms/step - loss: 1.7252 - val_loss: 1.7566\n",
      "Epoch 66/100\n",
      "10/10 [==============================] - 0s 7ms/step - loss: 1.7273 - val_loss: 1.9027\n",
      "Epoch 67/100\n",
      "10/10 [==============================] - 0s 8ms/step - loss: 1.7399 - val_loss: 1.7762\n",
      "Epoch 68/100\n",
      "10/10 [==============================] - 0s 10ms/step - loss: 1.7294 - val_loss: 1.9039\n",
      "Epoch 69/100\n",
      "10/10 [==============================] - 0s 10ms/step - loss: 1.7472 - val_loss: 1.7707\n",
      "Epoch 70/100\n",
      "10/10 [==============================] - 0s 10ms/step - loss: 1.7460 - val_loss: 1.7872\n",
      "Epoch 71/100\n",
      "10/10 [==============================] - 0s 7ms/step - loss: 1.7103 - val_loss: 1.8600\n",
      "Epoch 72/100\n",
      "10/10 [==============================] - 0s 7ms/step - loss: 1.7094 - val_loss: 1.7723\n",
      "Epoch 73/100\n",
      "10/10 [==============================] - 0s 7ms/step - loss: 1.7181 - val_loss: 1.8264\n",
      "Epoch 74/100\n",
      "10/10 [==============================] - 0s 7ms/step - loss: 1.7009 - val_loss: 1.7810\n",
      "Epoch 75/100\n",
      "10/10 [==============================] - 0s 8ms/step - loss: 1.6999 - val_loss: 1.8565\n",
      "Epoch 76/100\n",
      "10/10 [==============================] - 0s 9ms/step - loss: 1.6890 - val_loss: 1.8273\n",
      "Epoch 77/100\n",
      "10/10 [==============================] - 0s 9ms/step - loss: 1.6866 - val_loss: 1.8239\n",
      "Epoch 78/100\n",
      "10/10 [==============================] - 0s 9ms/step - loss: 1.6795 - val_loss: 1.8101\n",
      "Epoch 79/100\n",
      "10/10 [==============================] - 0s 9ms/step - loss: 1.6913 - val_loss: 1.8243\n",
      "Epoch 80/100\n",
      "10/10 [==============================] - 0s 9ms/step - loss: 1.6938 - val_loss: 1.8019\n",
      "Epoch 81/100\n",
      "10/10 [==============================] - 0s 9ms/step - loss: 1.6706 - val_loss: 1.8078\n",
      "Epoch 82/100\n",
      "10/10 [==============================] - 0s 10ms/step - loss: 1.6967 - val_loss: 1.7732\n",
      "Epoch 83/100\n",
      "10/10 [==============================] - 0s 9ms/step - loss: 1.6756 - val_loss: 1.8621\n",
      "Epoch 84/100\n",
      "10/10 [==============================] - 0s 8ms/step - loss: 1.6783 - val_loss: 1.7613\n",
      "Epoch 85/100\n",
      "10/10 [==============================] - 0s 8ms/step - loss: 1.6854 - val_loss: 1.8647\n",
      "Epoch 86/100\n",
      "10/10 [==============================] - 0s 7ms/step - loss: 1.6615 - val_loss: 1.7808\n",
      "Epoch 87/100\n",
      "10/10 [==============================] - 0s 7ms/step - loss: 1.6899 - val_loss: 1.8222\n",
      "Epoch 88/100\n",
      "10/10 [==============================] - 0s 8ms/step - loss: 1.6549 - val_loss: 1.8238\n",
      "Epoch 89/100\n",
      "10/10 [==============================] - 0s 8ms/step - loss: 1.6540 - val_loss: 1.7776\n",
      "Epoch 90/100\n",
      "10/10 [==============================] - 0s 8ms/step - loss: 1.6470 - val_loss: 1.8361\n",
      "Epoch 91/100\n",
      "10/10 [==============================] - 0s 8ms/step - loss: 1.6516 - val_loss: 1.7817\n",
      "Epoch 92/100\n",
      "10/10 [==============================] - 0s 7ms/step - loss: 1.6568 - val_loss: 1.7818\n",
      "Epoch 93/100\n",
      "10/10 [==============================] - 0s 7ms/step - loss: 1.6824 - val_loss: 1.8892\n",
      "Epoch 94/100\n",
      "10/10 [==============================] - 0s 8ms/step - loss: 1.6626 - val_loss: 1.7782\n",
      "Epoch 95/100\n",
      "10/10 [==============================] - 0s 9ms/step - loss: 1.6332 - val_loss: 1.8609\n",
      "Epoch 96/100\n",
      "10/10 [==============================] - 0s 7ms/step - loss: 1.6228 - val_loss: 1.7735\n",
      "Epoch 97/100\n",
      "10/10 [==============================] - 0s 8ms/step - loss: 1.6660 - val_loss: 1.8331\n",
      "Epoch 98/100\n",
      "10/10 [==============================] - 0s 7ms/step - loss: 1.6601 - val_loss: 1.8238\n",
      "Epoch 99/100\n",
      "10/10 [==============================] - 0s 8ms/step - loss: 1.6373 - val_loss: 1.8405\n",
      "Epoch 100/100\n",
      "10/10 [==============================] - 0s 7ms/step - loss: 1.6149 - val_loss: 1.8110\n"
     ]
    }
   ],
   "source": [
    "history = dnn_model.fit(\n",
    "    train_features,\n",
    "    train_labels,\n",
    "    validation_data = (test_features, test_labels),\n",
    "    verbose=1, epochs=100)"
   ]
  },
  {
   "cell_type": "code",
   "execution_count": 47,
   "metadata": {},
   "outputs": [],
   "source": [
    "test_results = {}\n",
    "test_results['dnn_model'] = dnn_model.evaluate(test_features, test_labels, verbose=0)"
   ]
  },
  {
   "cell_type": "code",
   "execution_count": 48,
   "metadata": {},
   "outputs": [
    {
     "data": {
      "text/html": [
       "<div>\n",
       "<style scoped>\n",
       "    .dataframe tbody tr th:only-of-type {\n",
       "        vertical-align: middle;\n",
       "    }\n",
       "\n",
       "    .dataframe tbody tr th {\n",
       "        vertical-align: top;\n",
       "    }\n",
       "\n",
       "    .dataframe thead th {\n",
       "        text-align: right;\n",
       "    }\n",
       "</style>\n",
       "<table border=\"1\" class=\"dataframe\">\n",
       "  <thead>\n",
       "    <tr style=\"text-align: right;\">\n",
       "      <th></th>\n",
       "      <th>Mean absolute error [MPG]</th>\n",
       "    </tr>\n",
       "  </thead>\n",
       "  <tbody>\n",
       "    <tr>\n",
       "      <th>dnn_model</th>\n",
       "      <td>1.811029</td>\n",
       "    </tr>\n",
       "  </tbody>\n",
       "</table>\n",
       "</div>"
      ],
      "text/plain": [
       "           Mean absolute error [MPG]\n",
       "dnn_model                   1.811029"
      ]
     },
     "execution_count": 48,
     "metadata": {},
     "output_type": "execute_result"
    }
   ],
   "source": [
    "pd.DataFrame(test_results, index=['Mean absolute error [MPG]']).T"
   ]
  },
  {
   "cell_type": "code",
   "execution_count": 49,
   "metadata": {},
   "outputs": [
    {
     "name": "stdout",
     "output_type": "stream",
     "text": [
      "3/3 [==============================] - 0s 3ms/step\n"
     ]
    },
    {
     "data": {
      "image/png": "[encoded data removed]",
      "text/plain": [
       "<Figure size 432x288 with 1 Axes>"
      ]
     },
     "metadata": {
      "needs_background": "light"
     },
     "output_type": "display_data"
    }
   ],
   "source": [
    "test_predictions = dnn_model.predict(test_features).flatten()\n",
    "\n",
    "a = plt.axes(aspect='equal')\n",
    "plt.scatter(test_labels, test_predictions)\n",
    "plt.xlabel('True Values [MPG]')\n",
    "plt.ylabel('Predictions [MPG]')\n",
    "lims = [0, 50]\n",
    "plt.xlim(lims)\n",
    "plt.ylim(lims)\n",
    "_ = plt.plot(lims, lims)"
   ]
  },
  {
   "cell_type": "code",
   "execution_count": 50,
   "metadata": {},
   "outputs": [
    {
     "name": "stdout",
     "output_type": "stream",
     "text": [
      "[14.91  10.961 12.101 25.162 20.124 12.78  13.626 12.451 19.28  31.484\n",
      " 24.291 26.982 15.292 25.709 12.499 14.741 14.635 13.143 18.658 12.568\n",
      " 13.717 25.795 20.768 22.006 30.602 23.958 16.821 23.596 17.481 19.05\n",
      " 28.309 21.319 19.009 21.878 26.702 15.751 19.469 29.104 29.903 17.843\n",
      " 31.017 29.133 15.928 34.963 34.728 35.569 20.629 21.976 20.5   25.316\n",
      " 31.003 19.345 31.904 18.592 17.867 18.097 34.733 34.609 21.844 26.013\n",
      " 38.109 32.708 28.125 27.957 33.177 39.271 36.493 35.758 35.914 30.524\n",
      " 22.044 22.426 29.633 30.782 38.202 35.551 38.115 29.806]\n"
     ]
    }
   ],
   "source": [
    "print(test_predictions)"
   ]
  },
  {
   "cell_type": "code",
   "execution_count": 51,
   "metadata": {},
   "outputs": [
    {
     "name": "stderr",
     "output_type": "stream",
     "text": [
      "WARNING:absl:Found untraced functions such as _update_step_xla while saving (showing 1 of 1). These functions will not be directly callable after loading.\n"
     ]
    },
    {
     "name": "stdout",
     "output_type": "stream",
     "text": [
      "INFO:tensorflow:Assets written to: dnn_model\\assets\n"
     ]
    },
    {
     "name": "stderr",
     "output_type": "stream",
     "text": [
      "INFO:tensorflow:Assets written to: dnn_model\\assets\n"
     ]
    }
   ],
   "source": [
    "dnn_model.save('dnn_model')"
   ]
  }
 ],
 "metadata": {
  "kernelspec": {
   "display_name": "Python 3",
   "language": "python",
   "name": "python3"
  },
  "language_info": {
   "codemirror_mode": {
    "name": "ipython",
    "version": 3
   },
   "file_extension": ".py",
   "mimetype": "text/x-python",
   "name": "python",
   "nbconvert_exporter": "python",
   "pygments_lexer": "ipython3",
   "version": "3.9.2"
  },
  "orig_nbformat": 4,
  "vscode": {
   "interpreter": {
    "hash": "2966a61383ff9c7e136d2cab556bc1d3f7015bf83f9afddc1a15537aae5f0f0f"
   }
  }
 },
 "nbformat": 4,
 "nbformat_minor": 2
}
