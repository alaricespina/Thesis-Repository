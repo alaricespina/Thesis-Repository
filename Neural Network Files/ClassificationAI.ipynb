{
 "cells": [
  {
   "cell_type": "markdown",
   "metadata": {},
   "source": [
    "# AI Reference Notebook\n",
    "\n",
    "### Table of Contents\n",
    "\n",
    "* [Chapter 1] Data Generation\n",
    "    * [Section 1.1] Simple Data Generation\n",
    "        * [Sub Section 1.1.1] Regression\n",
    "        * [Sub Section 1.1.2] Classification\n",
    "    * [Section 1.2] Complex Data Generation\n",
    "        * [Sub Section 1.2.1] Noise Generation\n",
    "        * [Sub Section 1.2.1] Recurrence\n",
    "        * [Sub Section 1.2.1] Application\n",
    "    * [Section 1.3] Tools\n",
    "        * [Sub Section 1.3.1] MNIST\n",
    "        * [Sub Section 1.3.2] SciKit\n",
    "        * [Sub Section 1.3.3] Numpy\n",
    "        * [Sub Section 1.3.4] Pandas\n",
    "\n",
    "* [Chapter 2] Model Building\n",
    "    * [Section 1.1] Classification\n",
    "        * [Sub Section 1.1.1] Using Simple Data Generated\n",
    "        * [Sub Section 1.1.2] Using Complex Data Generated\n",
    "        * [Sub Section 1.1.2] Using Toolkit Generated Data\n",
    "    * [Section 1.2] Regression\n",
    "        * [Sub Section 1.1.1] Using Simple Data Generated\n",
    "        * [Sub Section 1.1.2] Using Complex Data Generated\n",
    "        * [Sub Section 1.1.2] Using Toolkit Generated Data\n",
    "\n",
    "* [Chapter 3] Model Optimization\n",
    "    * [Section 1.1] Classification\n",
    "        * [Sub Section 1.1.1] Using Simple Data Generated\n",
    "        * [Sub Section 1.1.2] Using Complex Data Generated\n",
    "        * [Sub Section 1.1.2] Using Toolkit Generated Data\n",
    "    * [Section 1.2] Regression\n",
    "        * [Sub Section 1.1.1] Using Simple Data Generated\n",
    "        * [Sub Section 1.1.2] Using Complex Data Generated\n",
    "        * [Sub Section 1.1.2] Using Toolkit Generated Data       \n",
    "\n"
   ]
  },
  {
   "cell_type": "markdown",
   "metadata": {},
   "source": [
    "## Data Generation"
   ]
  },
  {
   "cell_type": "code",
   "execution_count": null,
   "metadata": {},
   "outputs": [],
   "source": []
  },
  {
   "cell_type": "markdown",
   "metadata": {},
   "source": [
    "# Classification AI\n",
    "\n",
    "Single Model Base"
   ]
  },
  {
   "cell_type": "code",
   "execution_count": null,
   "metadata": {},
   "outputs": [],
   "source": [
    "import tensorflow as tf \n",
    "import numpy as np \n",
    "import pandas as pd \n",
    "import matplotlib.pyplot as plt\n",
    "import random\n",
    "\n",
    "from sklearn.model_selection import train_test_split\n",
    "from tensorflow import keras \n",
    "from tensorflow.keras import layers\n",
    "from keras.models import load_model\n",
    "\n",
    "df = pd.read_csv(\"Generated Data.csv\", index_col=\"Unnamed: 0\")\n",
    "\n",
    "X = df.copy()[[\"Inputs 0\", \"Inputs 1\", \"Inputs 2\", \"Inputs 3\", \"Inputs 4\"]]\n",
    "Y = df.copy()[\"Output Class\"]\n",
    "\n",
    "X_train, X_test, Y_train, Y_test = train_test_split(X, Y, test_size=0.2, random_state=0)\n",
    "\n",
    "model = keras.Sequential(\n",
    "    [\n",
    "        layers.Dense(64, activation='relu', input_shape=(5, )),\n",
    "        layers.Dense(128, activation='relu'),\n",
    "        layers.Dense(128, activation='relu'),\n",
    "        layers.Dense(128, activation='relu'),\n",
    "        layers.Dense(11, activation=\"softmax\")\n",
    "    ]\n",
    ")\n",
    "\n",
    "loss = keras.losses.SparseCategoricalCrossentropy()\n",
    "optim = 'sgd'\n",
    "metrics = [\"accuracy\"]\n",
    "\n",
    "target_batch_size = 256\n",
    "input_batch_size = len(X_train) // target_batch_size\n",
    "\n",
    "early_stopping = keras.callbacks.EarlyStopping(\n",
    "    patience = 5,\n",
    "    min_delta = 0.001,\n",
    "    restore_best_weights = True\n",
    ")\n",
    "\n",
    "model_chkpt = keras.callbacks.ModelCheckpoint(\n",
    "    \"test_model.hdf5\",\n",
    "    monitor='val_accuracy', \n",
    "    verbose=0, \n",
    "    save_best_only=True, \n",
    "    mode='max'\n",
    ")\n",
    "\n",
    "model.compile(loss=loss, optimizer=optim, metrics=metrics)\n",
    "\n",
    "history = model.fit(X_train, \n",
    "                    Y_train, \n",
    "                    batch_size=input_batch_size, \n",
    "                    epochs=100, \n",
    "                    verbose=1, \n",
    "                    validation_split = 0.2,\n",
    "                    validation_data=(X_test, Y_test),\n",
    "                    callbacks = [model_chkpt])\n",
    "\n",
    "model = load_model(\"test_model.hdf5\")\n",
    "\n",
    "plt.plot(history.history[\"accuracy\"], label=\"Train Acy\")\n",
    "plt.plot(history.history[\"val_accuracy\"], label=\"Valid Acc\")\n",
    "plt.legend()\n",
    "plt.show()"
   ]
  },
  {
   "cell_type": "markdown",
   "metadata": {},
   "source": [
    "Multiple Models Comparison"
   ]
  },
  {
   "cell_type": "code",
   "execution_count": null,
   "metadata": {},
   "outputs": [],
   "source": [
    "import tensorflow as tf \n",
    "import numpy as np \n",
    "import pandas as pd \n",
    "import matplotlib.pyplot as plt\n",
    "import random\n",
    "\n",
    "from sklearn.model_selection import train_test_split\n",
    "from tensorflow import keras \n",
    "from tensorflow.keras import layers\n",
    "from keras.models import load_model\n",
    "\n",
    "df = pd.read_csv(\"Generated Data.csv\", index_col=\"Unnamed: 0\")\n",
    "\n",
    "X = df.copy()[[\"Inputs 0\", \"Inputs 1\", \"Inputs 2\", \"Inputs 3\", \"Inputs 4\"]]\n",
    "Y = df.copy()[\"Output Class\"]\n",
    "\n",
    "X_train, X_test, Y_train, Y_test = train_test_split(X, Y, test_size=0.2, random_state=0)\n",
    "\n",
    "model = keras.Sequential(\n",
    "    [\n",
    "        layers.Dense(64, activation='relu', input_shape=(5, )),\n",
    "        layers.Dense(128, activation='relu'),\n",
    "        layers.Dense(128, activation='relu'),\n",
    "        layers.Dense(128, activation='relu'),\n",
    "        layers.Dense(11, activation=\"softmax\")\n",
    "    ]\n",
    ")\n",
    "\n",
    "loss = keras.losses.SparseCategoricalCrossentropy()\n",
    "optim = 'sgd'\n",
    "metrics = [\"accuracy\"]\n",
    "\n",
    "target_batch_size = 256\n",
    "input_batch_size = len(X_train) // target_batch_size\n",
    "\n",
    "early_stopping = keras.callbacks.EarlyStopping(\n",
    "    patience = 5,\n",
    "    min_delta = 0.001,\n",
    "    restore_best_weights = True\n",
    ")\n",
    "\n",
    "model_chkpt = keras.callbacks.ModelCheckpoint(\n",
    "    \"test_model.hdf5\",\n",
    "    monitor='val_accuracy', \n",
    "    verbose=0, \n",
    "    save_best_only=True, \n",
    "    mode='max'\n",
    ")\n",
    "\n",
    "model.compile(loss=loss, optimizer=optim, metrics=metrics)\n",
    "\n",
    "history = model.fit(X_train, \n",
    "                    Y_train, \n",
    "                    batch_size=input_batch_size, \n",
    "                    epochs=100, \n",
    "                    verbose=1, \n",
    "                    validation_split = 0.2,\n",
    "                    validation_data=(X_test, Y_test),\n",
    "                    callbacks = [model_chkpt])\n",
    "\n",
    "model = load_model(\"test_model.hdf5\")\n",
    "\n",
    "plt.plot(history.history[\"accuracy\"], label=\"Train Acy\")\n",
    "plt.plot(history.history[\"val_accuracy\"], label=\"Valid Acc\")\n",
    "plt.legend()\n",
    "plt.show()"
   ]
  },
  {
   "cell_type": "markdown",
   "metadata": {},
   "source": [
    "Recurring Dataset"
   ]
  },
  {
   "cell_type": "code",
   "execution_count": 87,
   "metadata": {},
   "outputs": [
    {
     "data": {
      "text/html": [
       "<div>\n",
       "<style scoped>\n",
       "    .dataframe tbody tr th:only-of-type {\n",
       "        vertical-align: middle;\n",
       "    }\n",
       "\n",
       "    .dataframe tbody tr th {\n",
       "        vertical-align: top;\n",
       "    }\n",
       "\n",
       "    .dataframe thead th {\n",
       "        text-align: right;\n",
       "    }\n",
       "</style>\n",
       "<table border=\"1\" class=\"dataframe\">\n",
       "  <thead>\n",
       "    <tr style=\"text-align: right;\">\n",
       "      <th></th>\n",
       "      <th>Ins</th>\n",
       "      <th>Outs</th>\n",
       "    </tr>\n",
       "  </thead>\n",
       "  <tbody>\n",
       "    <tr>\n",
       "      <th>0</th>\n",
       "      <td>0</td>\n",
       "      <td>0</td>\n",
       "    </tr>\n",
       "    <tr>\n",
       "      <th>1</th>\n",
       "      <td>1</td>\n",
       "      <td>1</td>\n",
       "    </tr>\n",
       "    <tr>\n",
       "      <th>2</th>\n",
       "      <td>2</td>\n",
       "      <td>2</td>\n",
       "    </tr>\n",
       "    <tr>\n",
       "      <th>3</th>\n",
       "      <td>3</td>\n",
       "      <td>3</td>\n",
       "    </tr>\n",
       "    <tr>\n",
       "      <th>4</th>\n",
       "      <td>4</td>\n",
       "      <td>4</td>\n",
       "    </tr>\n",
       "    <tr>\n",
       "      <th>...</th>\n",
       "      <td>...</td>\n",
       "      <td>...</td>\n",
       "    </tr>\n",
       "    <tr>\n",
       "      <th>499995</th>\n",
       "      <td>499995</td>\n",
       "      <td>5</td>\n",
       "    </tr>\n",
       "    <tr>\n",
       "      <th>499996</th>\n",
       "      <td>499996</td>\n",
       "      <td>6</td>\n",
       "    </tr>\n",
       "    <tr>\n",
       "      <th>499997</th>\n",
       "      <td>499997</td>\n",
       "      <td>7</td>\n",
       "    </tr>\n",
       "    <tr>\n",
       "      <th>499998</th>\n",
       "      <td>499998</td>\n",
       "      <td>8</td>\n",
       "    </tr>\n",
       "    <tr>\n",
       "      <th>499999</th>\n",
       "      <td>499999</td>\n",
       "      <td>9</td>\n",
       "    </tr>\n",
       "  </tbody>\n",
       "</table>\n",
       "<p>500000 rows × 2 columns</p>\n",
       "</div>"
      ],
      "text/plain": [
       "           Ins  Outs\n",
       "0            0     0\n",
       "1            1     1\n",
       "2            2     2\n",
       "3            3     3\n",
       "4            4     4\n",
       "...        ...   ...\n",
       "499995  499995     5\n",
       "499996  499996     6\n",
       "499997  499997     7\n",
       "499998  499998     8\n",
       "499999  499999     9\n",
       "\n",
       "[500000 rows x 2 columns]"
      ]
     },
     "execution_count": 87,
     "metadata": {},
     "output_type": "execute_result"
    }
   ],
   "source": [
    "d_l = 500000\n",
    "n_m = 10 \n",
    "\n",
    "r_X = [x for x in range(d_l)]\n",
    "r_Y = [x % n_m for x in r_X]\n",
    "\n",
    "df = pd.DataFrame({\n",
    "    \"Ins\" : r_X,\n",
    "    \"Outs\" : r_Y\n",
    "})\n",
    "temp = df[\"Outs\"]\n",
    "df\n"
   ]
  },
  {
   "cell_type": "code",
   "execution_count": 100,
   "metadata": {},
   "outputs": [
    {
     "data": {
      "text/plain": [
       "[<matplotlib.lines.Line2D at 0x7f5eca3ff340>]"
      ]
     },
     "execution_count": 100,
     "metadata": {},
     "output_type": "execute_result"
    },
    {
     "data": {
      "image/png": "[encoded data removed]",
      "text/plain": [
       "<Figure size 640x480 with 1 Axes>"
      ]
     },
     "metadata": {},
     "output_type": "display_data"
    }
   ],
   "source": [
    "plt.plot(temp[:50])"
   ]
  },
  {
   "cell_type": "code",
   "execution_count": 88,
   "metadata": {},
   "outputs": [
    {
     "data": {
      "text/plain": [
       "((500000,), (499995, 5, 1), (499995,))"
      ]
     },
     "execution_count": 88,
     "metadata": {},
     "output_type": "execute_result"
    }
   ],
   "source": [
    "def df_to_X_y(df, window_size=5):\n",
    "  df_as_np = df.to_numpy()\n",
    "  X = []\n",
    "  y = []\n",
    "  for i in range(len(df_as_np)-window_size):\n",
    "    row = [[a] for a in df_as_np[i:i+window_size]]\n",
    "    X.append(row)\n",
    "    label = df_as_np[i+window_size]\n",
    "    y.append(label)\n",
    "  return np.array(X), np.array(y)\n",
    "\n",
    "WINDOW_SIZE = 5\n",
    "X1, y1 = df_to_X_y(temp, WINDOW_SIZE)\n",
    "temp.shape, X1.shape, y1.shape"
   ]
  },
  {
   "cell_type": "code",
   "execution_count": 89,
   "metadata": {},
   "outputs": [
    {
     "data": {
      "text/plain": [
       "((60000, 5, 1), (60000,), (5000, 5, 1), (5000,), (434995, 5, 1), (434995,))"
      ]
     },
     "execution_count": 89,
     "metadata": {},
     "output_type": "execute_result"
    }
   ],
   "source": [
    "X_train1, y_train1 = X1[:60000], y1[:60000]\n",
    "X_val1, y_val1 = X1[60000:65000], y1[60000:65000]\n",
    "X_test1, y_test1 = X1[65000:], y1[65000:]\n",
    "X_train1.shape, y_train1.shape, X_val1.shape, y_val1.shape, X_test1.shape, y_test1.shape"
   ]
  },
  {
   "cell_type": "code",
   "execution_count": 102,
   "metadata": {},
   "outputs": [
    {
     "name": "stdout",
     "output_type": "stream",
     "text": [
      "Model: \"sequential_9\"\n",
      "_________________________________________________________________\n",
      " Layer (type)                Output Shape              Param #   \n",
      "=================================================================\n",
      " lstm_6 (LSTM)               (None, 64)                16896     \n",
      "                                                                 \n",
      " dense_24 (Dense)            (None, 8)                 520       \n",
      "                                                                 \n",
      " dense_25 (Dense)            (None, 1)                 9         \n",
      "                                                                 \n",
      "=================================================================\n",
      "Total params: 17425 (68.07 KB)\n",
      "Trainable params: 17425 (68.07 KB)\n",
      "Non-trainable params: 0 (0.00 Byte)\n",
      "_________________________________________________________________\n"
     ]
    }
   ],
   "source": [
    "from tensorflow.keras.models import Sequential\n",
    "from tensorflow.keras.layers import *\n",
    "from tensorflow.keras.callbacks import ModelCheckpoint\n",
    "from tensorflow.keras.losses import MeanSquaredError\n",
    "from tensorflow.keras.metrics import RootMeanSquaredError\n",
    "from tensorflow.keras.optimizers import Adam\n",
    "\n",
    "model1 = Sequential(\n",
    "    [\n",
    "    InputLayer((5, 1)),\n",
    "    LSTM(64),\n",
    "    #Dense(64),\n",
    "    Dense(8, activation=\"relu\"),\n",
    "    Dense(1, activation=\"linear\")\n",
    "    ]\n",
    ")\n",
    "\n",
    "model1.summary()"
   ]
  },
  {
   "cell_type": "code",
   "execution_count": 103,
   "metadata": {},
   "outputs": [],
   "source": [
    "cp1 = ModelCheckpoint('model1/', save_best_only=True)\n",
    "model1.compile(loss=MeanSquaredError(), optimizer=Adam(learning_rate=0.0001), metrics=[RootMeanSquaredError()])"
   ]
  },
  {
   "cell_type": "code",
   "execution_count": 104,
   "metadata": {},
   "outputs": [
    {
     "name": "stdout",
     "output_type": "stream",
     "text": [
      "Epoch 1/10\n"
     ]
    },
    {
     "name": "stdout",
     "output_type": "stream",
     "text": [
      "1851/1875 [============================>.] - ETA: 0s - loss: 9.0310 - root_mean_squared_error: 3.0052 - accuracy: 0.1004INFO:tensorflow:Assets written to: model1/assets\n"
     ]
    },
    {
     "name": "stderr",
     "output_type": "stream",
     "text": [
      "INFO:tensorflow:Assets written to: model1/assets\n"
     ]
    },
    {
     "name": "stdout",
     "output_type": "stream",
     "text": [
      "1875/1875 [==============================] - 8s 3ms/step - loss: 8.9673 - root_mean_squared_error: 2.9946 - accuracy: 0.1004 - val_loss: 4.1176 - val_root_mean_squared_error: 2.0292 - val_accuracy: 0.1000\n",
      "Epoch 2/10\n",
      "1864/1875 [============================>.] - ETA: 0s - loss: 1.3196 - root_mean_squared_error: 1.1487 - accuracy: 0.1273INFO:tensorflow:Assets written to: model1/assets\n"
     ]
    },
    {
     "name": "stderr",
     "output_type": "stream",
     "text": [
      "INFO:tensorflow:Assets written to: model1/assets\n"
     ]
    },
    {
     "name": "stdout",
     "output_type": "stream",
     "text": [
      "1875/1875 [==============================] - 6s 3ms/step - loss: 1.3120 - root_mean_squared_error: 1.1454 - accuracy: 0.1278 - val_loss: 0.0169 - val_root_mean_squared_error: 0.1298 - val_accuracy: 0.2000\n",
      "Epoch 3/10\n",
      "1853/1875 [============================>.] - ETA: 0s - loss: 0.0024 - root_mean_squared_error: 0.0486 - accuracy: 0.2000INFO:tensorflow:Assets written to: model1/assets\n"
     ]
    },
    {
     "name": "stderr",
     "output_type": "stream",
     "text": [
      "INFO:tensorflow:Assets written to: model1/assets\n"
     ]
    },
    {
     "name": "stdout",
     "output_type": "stream",
     "text": [
      "1875/1875 [==============================] - 6s 3ms/step - loss: 0.0023 - root_mean_squared_error: 0.0484 - accuracy: 0.2000 - val_loss: 4.2320e-05 - val_root_mean_squared_error: 0.0065 - val_accuracy: 0.2000\n",
      "Epoch 4/10\n",
      "1856/1875 [============================>.] - ETA: 0s - loss: 1.1244e-05 - root_mean_squared_error: 0.0034 - accuracy: 0.1997INFO:tensorflow:Assets written to: model1/assets\n"
     ]
    },
    {
     "name": "stderr",
     "output_type": "stream",
     "text": [
      "INFO:tensorflow:Assets written to: model1/assets\n"
     ]
    },
    {
     "name": "stdout",
     "output_type": "stream",
     "text": [
      "1875/1875 [==============================] - 6s 3ms/step - loss: 1.1134e-05 - root_mean_squared_error: 0.0033 - accuracy: 0.2000 - val_loss: 3.0498e-07 - val_root_mean_squared_error: 5.5225e-04 - val_accuracy: 0.2000\n",
      "Epoch 5/10\n",
      "1854/1875 [============================>.] - ETA: 0s - loss: 4.0965e-08 - root_mean_squared_error: 2.0240e-04 - accuracy: 0.1998INFO:tensorflow:Assets written to: model1/assets\n"
     ]
    },
    {
     "name": "stderr",
     "output_type": "stream",
     "text": [
      "INFO:tensorflow:Assets written to: model1/assets\n"
     ]
    },
    {
     "name": "stdout",
     "output_type": "stream",
     "text": [
      "1875/1875 [==============================] - 6s 3ms/step - loss: 4.0506e-08 - root_mean_squared_error: 2.0126e-04 - accuracy: 0.2000 - val_loss: 9.5138e-12 - val_root_mean_squared_error: 3.0844e-06 - val_accuracy: 0.2000\n",
      "Epoch 6/10\n",
      "1851/1875 [============================>.] - ETA: 0s - loss: 1.5048e-12 - root_mean_squared_error: 1.2267e-06 - accuracy: 0.2001INFO:tensorflow:Assets written to: model1/assets\n"
     ]
    },
    {
     "name": "stderr",
     "output_type": "stream",
     "text": [
      "INFO:tensorflow:Assets written to: model1/assets\n"
     ]
    },
    {
     "name": "stdout",
     "output_type": "stream",
     "text": [
      "1875/1875 [==============================] - 6s 3ms/step - loss: 1.4915e-12 - root_mean_squared_error: 1.2213e-06 - accuracy: 0.2000 - val_loss: 2.3915e-13 - val_root_mean_squared_error: 4.8903e-07 - val_accuracy: 0.2000\n",
      "Epoch 7/10\n",
      "1875/1875 [==============================] - 4s 2ms/step - loss: 1.7700e-05 - root_mean_squared_error: 0.0042 - accuracy: 0.2000 - val_loss: 3.9626e-07 - val_root_mean_squared_error: 6.2949e-04 - val_accuracy: 0.2000\n",
      "Epoch 8/10\n",
      "1875/1875 [==============================] - 5s 2ms/step - loss: 6.1947e-09 - root_mean_squared_error: 7.8707e-05 - accuracy: 0.2000 - val_loss: 5.1991e-13 - val_root_mean_squared_error: 7.2105e-07 - val_accuracy: 0.2000\n",
      "Epoch 9/10\n",
      "1875/1875 [==============================] - 4s 2ms/step - loss: 1.0209e-05 - root_mean_squared_error: 0.0032 - accuracy: 0.2000 - val_loss: 3.0482e-04 - val_root_mean_squared_error: 0.0175 - val_accuracy: 0.2000\n",
      "Epoch 10/10\n",
      "1875/1875 [==============================] - 4s 2ms/step - loss: 2.7109e-05 - root_mean_squared_error: 0.0052 - accuracy: 0.2000 - val_loss: 8.6018e-13 - val_root_mean_squared_error: 9.2746e-07 - val_accuracy: 0.2000\n"
     ]
    }
   ],
   "source": [
    "history = model1.fit(X_train1, y_train1, validation_data=(X_val1, y_val1), epochs=10, callbacks=[cp1])"
   ]
  },
  {
   "cell_type": "code",
   "execution_count": 105,
   "metadata": {},
   "outputs": [],
   "source": [
    "from tensorflow.keras.models import load_model\n",
    "model1 = load_model('model1/')"
   ]
  },
  {
   "cell_type": "code",
   "execution_count": 106,
   "metadata": {},
   "outputs": [
    {
     "name": "stdout",
     "output_type": "stream",
     "text": [
      "13594/13594 [==============================] - 19s 1ms/step - loss: 2.3920e-13 - root_mean_squared_error: 4.8908e-07 - accuracy: 0.2000\n"
     ]
    },
    {
     "data": {
      "text/plain": [
       "[2.391957888269597e-13, 4.890764557785587e-07, 0.1999977082014084]"
      ]
     },
     "execution_count": 106,
     "metadata": {},
     "output_type": "execute_result"
    }
   ],
   "source": [
    "model1.evaluate(X_test1, y_test1)"
   ]
  },
  {
   "cell_type": "code",
   "execution_count": 94,
   "metadata": {},
   "outputs": [
    {
     "name": "stdout",
     "output_type": "stream",
     "text": [
      "1875/1875 [==============================] - 3s 1ms/step\n"
     ]
    },
    {
     "data": {
      "text/html": [
       "<div>\n",
       "<style scoped>\n",
       "    .dataframe tbody tr th:only-of-type {\n",
       "        vertical-align: middle;\n",
       "    }\n",
       "\n",
       "    .dataframe tbody tr th {\n",
       "        vertical-align: top;\n",
       "    }\n",
       "\n",
       "    .dataframe thead th {\n",
       "        text-align: right;\n",
       "    }\n",
       "</style>\n",
       "<table border=\"1\" class=\"dataframe\">\n",
       "  <thead>\n",
       "    <tr style=\"text-align: right;\">\n",
       "      <th></th>\n",
       "      <th>Train Predictions</th>\n",
       "      <th>Actuals</th>\n",
       "    </tr>\n",
       "  </thead>\n",
       "  <tbody>\n",
       "    <tr>\n",
       "      <th>0</th>\n",
       "      <td>5.000000e+00</td>\n",
       "      <td>5</td>\n",
       "    </tr>\n",
       "    <tr>\n",
       "      <th>1</th>\n",
       "      <td>6.000000e+00</td>\n",
       "      <td>6</td>\n",
       "    </tr>\n",
       "    <tr>\n",
       "      <th>2</th>\n",
       "      <td>7.000000e+00</td>\n",
       "      <td>7</td>\n",
       "    </tr>\n",
       "    <tr>\n",
       "      <th>3</th>\n",
       "      <td>8.000000e+00</td>\n",
       "      <td>8</td>\n",
       "    </tr>\n",
       "    <tr>\n",
       "      <th>4</th>\n",
       "      <td>8.999999e+00</td>\n",
       "      <td>9</td>\n",
       "    </tr>\n",
       "    <tr>\n",
       "      <th>...</th>\n",
       "      <td>...</td>\n",
       "      <td>...</td>\n",
       "    </tr>\n",
       "    <tr>\n",
       "      <th>59995</th>\n",
       "      <td>1.695007e-07</td>\n",
       "      <td>0</td>\n",
       "    </tr>\n",
       "    <tr>\n",
       "      <th>59996</th>\n",
       "      <td>1.000000e+00</td>\n",
       "      <td>1</td>\n",
       "    </tr>\n",
       "    <tr>\n",
       "      <th>59997</th>\n",
       "      <td>2.000000e+00</td>\n",
       "      <td>2</td>\n",
       "    </tr>\n",
       "    <tr>\n",
       "      <th>59998</th>\n",
       "      <td>3.000000e+00</td>\n",
       "      <td>3</td>\n",
       "    </tr>\n",
       "    <tr>\n",
       "      <th>59999</th>\n",
       "      <td>3.999999e+00</td>\n",
       "      <td>4</td>\n",
       "    </tr>\n",
       "  </tbody>\n",
       "</table>\n",
       "<p>60000 rows × 2 columns</p>\n",
       "</div>"
      ],
      "text/plain": [
       "       Train Predictions  Actuals\n",
       "0           5.000000e+00        5\n",
       "1           6.000000e+00        6\n",
       "2           7.000000e+00        7\n",
       "3           8.000000e+00        8\n",
       "4           8.999999e+00        9\n",
       "...                  ...      ...\n",
       "59995       1.695007e-07        0\n",
       "59996       1.000000e+00        1\n",
       "59997       2.000000e+00        2\n",
       "59998       3.000000e+00        3\n",
       "59999       3.999999e+00        4\n",
       "\n",
       "[60000 rows x 2 columns]"
      ]
     },
     "execution_count": 94,
     "metadata": {},
     "output_type": "execute_result"
    }
   ],
   "source": [
    "train_predictions = model1.predict(X_train1).flatten()\n",
    "#train_predictions = model1.predict(X_train1)\n",
    "train_results = pd.DataFrame(data={'Train Predictions':train_predictions, 'Actuals':y_train1})\n",
    "train_results\n",
    "#train_predictions.shape, y_train1.shape"
   ]
  },
  {
   "cell_type": "code",
   "execution_count": 95,
   "metadata": {},
   "outputs": [
    {
     "data": {
      "text/plain": [
       "[<matplotlib.lines.Line2D at 0x7f5edd923eb0>]"
      ]
     },
     "execution_count": 95,
     "metadata": {},
     "output_type": "execute_result"
    },
    {
     "data": {
      "image/png": "[encoded data removed]",
      "text/plain": [
       "<Figure size 640x480 with 1 Axes>"
      ]
     },
     "metadata": {},
     "output_type": "display_data"
    }
   ],
   "source": [
    "import matplotlib.pyplot as plt\n",
    "plt.plot(train_results['Train Predictions'][50:100])\n",
    "plt.plot(train_results['Actuals'][50:100])"
   ]
  },
  {
   "cell_type": "code",
   "execution_count": 96,
   "metadata": {},
   "outputs": [
    {
     "name": "stdout",
     "output_type": "stream",
     "text": [
      "157/157 [==============================] - 0s 1ms/step\n"
     ]
    },
    {
     "data": {
      "text/html": [
       "<div>\n",
       "<style scoped>\n",
       "    .dataframe tbody tr th:only-of-type {\n",
       "        vertical-align: middle;\n",
       "    }\n",
       "\n",
       "    .dataframe tbody tr th {\n",
       "        vertical-align: top;\n",
       "    }\n",
       "\n",
       "    .dataframe thead th {\n",
       "        text-align: right;\n",
       "    }\n",
       "</style>\n",
       "<table border=\"1\" class=\"dataframe\">\n",
       "  <thead>\n",
       "    <tr style=\"text-align: right;\">\n",
       "      <th></th>\n",
       "      <th>Val Predictions</th>\n",
       "      <th>Actuals</th>\n",
       "    </tr>\n",
       "  </thead>\n",
       "  <tbody>\n",
       "    <tr>\n",
       "      <th>0</th>\n",
       "      <td>5.000000e+00</td>\n",
       "      <td>5</td>\n",
       "    </tr>\n",
       "    <tr>\n",
       "      <th>1</th>\n",
       "      <td>6.000000e+00</td>\n",
       "      <td>6</td>\n",
       "    </tr>\n",
       "    <tr>\n",
       "      <th>2</th>\n",
       "      <td>7.000000e+00</td>\n",
       "      <td>7</td>\n",
       "    </tr>\n",
       "    <tr>\n",
       "      <th>3</th>\n",
       "      <td>8.000000e+00</td>\n",
       "      <td>8</td>\n",
       "    </tr>\n",
       "    <tr>\n",
       "      <th>4</th>\n",
       "      <td>8.999999e+00</td>\n",
       "      <td>9</td>\n",
       "    </tr>\n",
       "    <tr>\n",
       "      <th>...</th>\n",
       "      <td>...</td>\n",
       "      <td>...</td>\n",
       "    </tr>\n",
       "    <tr>\n",
       "      <th>4995</th>\n",
       "      <td>1.695007e-07</td>\n",
       "      <td>0</td>\n",
       "    </tr>\n",
       "    <tr>\n",
       "      <th>4996</th>\n",
       "      <td>1.000000e+00</td>\n",
       "      <td>1</td>\n",
       "    </tr>\n",
       "    <tr>\n",
       "      <th>4997</th>\n",
       "      <td>2.000000e+00</td>\n",
       "      <td>2</td>\n",
       "    </tr>\n",
       "    <tr>\n",
       "      <th>4998</th>\n",
       "      <td>3.000000e+00</td>\n",
       "      <td>3</td>\n",
       "    </tr>\n",
       "    <tr>\n",
       "      <th>4999</th>\n",
       "      <td>3.999999e+00</td>\n",
       "      <td>4</td>\n",
       "    </tr>\n",
       "  </tbody>\n",
       "</table>\n",
       "<p>5000 rows × 2 columns</p>\n",
       "</div>"
      ],
      "text/plain": [
       "      Val Predictions  Actuals\n",
       "0        5.000000e+00        5\n",
       "1        6.000000e+00        6\n",
       "2        7.000000e+00        7\n",
       "3        8.000000e+00        8\n",
       "4        8.999999e+00        9\n",
       "...               ...      ...\n",
       "4995     1.695007e-07        0\n",
       "4996     1.000000e+00        1\n",
       "4997     2.000000e+00        2\n",
       "4998     3.000000e+00        3\n",
       "4999     3.999999e+00        4\n",
       "\n",
       "[5000 rows x 2 columns]"
      ]
     },
     "execution_count": 96,
     "metadata": {},
     "output_type": "execute_result"
    }
   ],
   "source": [
    "val_predictions = model1.predict(X_val1).flatten()\n",
    "val_results = pd.DataFrame(data={'Val Predictions':val_predictions, 'Actuals':y_val1})\n",
    "val_results"
   ]
  },
  {
   "cell_type": "code",
   "execution_count": 97,
   "metadata": {},
   "outputs": [
    {
     "data": {
      "text/plain": [
       "[<matplotlib.lines.Line2D at 0x7f5ecb46e8f0>]"
      ]
     },
     "execution_count": 97,
     "metadata": {},
     "output_type": "execute_result"
    },
    {
     "data": {
      "image/png": "[encoded data removed]",
      "text/plain": [
       "<Figure size 640x480 with 1 Axes>"
      ]
     },
     "metadata": {},
     "output_type": "display_data"
    }
   ],
   "source": [
    "plt.plot(val_results['Val Predictions'][:100])\n",
    "plt.plot(val_results['Actuals'][:100])"
   ]
  },
  {
   "cell_type": "code",
   "execution_count": 98,
   "metadata": {},
   "outputs": [
    {
     "name": "stdout",
     "output_type": "stream",
     "text": [
      "    1/13594 [..............................] - ETA: 5:02"
     ]
    },
    {
     "name": "stdout",
     "output_type": "stream",
     "text": [
      "13594/13594 [==============================] - 17s 1ms/step\n"
     ]
    },
    {
     "data": {
      "text/html": [
       "<div>\n",
       "<style scoped>\n",
       "    .dataframe tbody tr th:only-of-type {\n",
       "        vertical-align: middle;\n",
       "    }\n",
       "\n",
       "    .dataframe tbody tr th {\n",
       "        vertical-align: top;\n",
       "    }\n",
       "\n",
       "    .dataframe thead th {\n",
       "        text-align: right;\n",
       "    }\n",
       "</style>\n",
       "<table border=\"1\" class=\"dataframe\">\n",
       "  <thead>\n",
       "    <tr style=\"text-align: right;\">\n",
       "      <th></th>\n",
       "      <th>Test Predictions</th>\n",
       "      <th>Actuals</th>\n",
       "    </tr>\n",
       "  </thead>\n",
       "  <tbody>\n",
       "    <tr>\n",
       "      <th>0</th>\n",
       "      <td>5.000000</td>\n",
       "      <td>5</td>\n",
       "    </tr>\n",
       "    <tr>\n",
       "      <th>1</th>\n",
       "      <td>6.000000</td>\n",
       "      <td>6</td>\n",
       "    </tr>\n",
       "    <tr>\n",
       "      <th>2</th>\n",
       "      <td>7.000000</td>\n",
       "      <td>7</td>\n",
       "    </tr>\n",
       "    <tr>\n",
       "      <th>3</th>\n",
       "      <td>8.000000</td>\n",
       "      <td>8</td>\n",
       "    </tr>\n",
       "    <tr>\n",
       "      <th>4</th>\n",
       "      <td>8.999999</td>\n",
       "      <td>9</td>\n",
       "    </tr>\n",
       "    <tr>\n",
       "      <th>...</th>\n",
       "      <td>...</td>\n",
       "      <td>...</td>\n",
       "    </tr>\n",
       "    <tr>\n",
       "      <th>434990</th>\n",
       "      <td>5.000000</td>\n",
       "      <td>5</td>\n",
       "    </tr>\n",
       "    <tr>\n",
       "      <th>434991</th>\n",
       "      <td>6.000000</td>\n",
       "      <td>6</td>\n",
       "    </tr>\n",
       "    <tr>\n",
       "      <th>434992</th>\n",
       "      <td>7.000000</td>\n",
       "      <td>7</td>\n",
       "    </tr>\n",
       "    <tr>\n",
       "      <th>434993</th>\n",
       "      <td>8.000000</td>\n",
       "      <td>8</td>\n",
       "    </tr>\n",
       "    <tr>\n",
       "      <th>434994</th>\n",
       "      <td>9.000000</td>\n",
       "      <td>9</td>\n",
       "    </tr>\n",
       "  </tbody>\n",
       "</table>\n",
       "<p>434995 rows × 2 columns</p>\n",
       "</div>"
      ],
      "text/plain": [
       "        Test Predictions  Actuals\n",
       "0               5.000000        5\n",
       "1               6.000000        6\n",
       "2               7.000000        7\n",
       "3               8.000000        8\n",
       "4               8.999999        9\n",
       "...                  ...      ...\n",
       "434990          5.000000        5\n",
       "434991          6.000000        6\n",
       "434992          7.000000        7\n",
       "434993          8.000000        8\n",
       "434994          9.000000        9\n",
       "\n",
       "[434995 rows x 2 columns]"
      ]
     },
     "execution_count": 98,
     "metadata": {},
     "output_type": "execute_result"
    }
   ],
   "source": [
    "test_predictions = model1.predict(X_test1).flatten()\n",
    "test_results = pd.DataFrame(data={'Test Predictions':test_predictions, 'Actuals':y_test1})\n",
    "test_results"
   ]
  },
  {
   "cell_type": "code",
   "execution_count": 99,
   "metadata": {},
   "outputs": [
    {
     "data": {
      "text/plain": [
       "[<matplotlib.lines.Line2D at 0x7f5edbc3e0b0>]"
      ]
     },
     "execution_count": 99,
     "metadata": {},
     "output_type": "execute_result"
    },
    {
     "data": {
      "image/png": "[encoded data removed]",
      "text/plain": [
       "<Figure size 640x480 with 1 Axes>"
      ]
     },
     "metadata": {},
     "output_type": "display_data"
    }
   ],
   "source": [
    "plt.plot(test_results['Test Predictions'][:100])\n",
    "plt.plot(test_results['Actuals'][:100])"
   ]
  }
 ],
 "metadata": {
  "kernelspec": {
   "display_name": "Python 3",
   "language": "python",
   "name": "python3"
  },
  "language_info": {
   "codemirror_mode": {
    "name": "ipython",
    "version": 3
   },
   "file_extension": ".py",
   "mimetype": "text/x-python",
   "name": "python",
   "nbconvert_exporter": "python",
   "pygments_lexer": "ipython3",
   "version": "3.10.8"
  },
  "orig_nbformat": 4
 },
 "nbformat": 4,
 "nbformat_minor": 2
}
