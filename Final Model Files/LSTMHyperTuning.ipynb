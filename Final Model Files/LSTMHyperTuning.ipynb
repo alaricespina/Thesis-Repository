{
 "cells": [
  {
   "cell_type": "code",
   "execution_count": 1,
   "metadata": {},
   "outputs": [],
   "source": [
    "import tensorflow as tf \n",
    "import numpy as np \n",
    "import pandas as pd \n",
    "import matplotlib.pyplot as plt\n",
    "\n",
    "from tensorflow import keras \n",
    "from tensorflow.keras import layers \n",
    "from tensorflow.keras.models import Sequential\n",
    "from tensorflow.keras.callbacks import ModelCheckpoint\n",
    "from tensorflow.keras.metrics import RootMeanSquaredError, MeanAbsoluteError\n",
    "from tensorflow.keras.losses import MeanSquaredError, MeanAbsoluteError\n",
    "from tensorflow.keras.optimizers import Adam \n",
    "\n",
    "from keras.models import load_model\n",
    "from sklearn.model_selection import train_test_split"
   ]
  },
  {
   "cell_type": "code",
   "execution_count": null,
   "metadata": {},
   "outputs": [],
   "source": [
    "GetData\n",
    "ProcessData\n",
    "BuildModel\n",
    "EvaluateModel"
   ]
  },
  {
   "cell_type": "code",
   "execution_count": null,
   "metadata": {},
   "outputs": [],
   "source": [
    "# Get Data\n",
    "csv_filename = \"qc aggregated data.csv\"\n",
    "df = pd.read_csv(csv_filename)\n",
    "\n",
    "# Turn Data into Window of X Length\n",
    "raw_Inputs = df[\"precip\"].copy()\n",
    "window_length = 5\n",
    "t_arr = raw_Inputs.to_numpy()\n",
    "X = []\n",
    "y= []\n",
    "\n",
    "for i in range(len(t_arr)-window_length):\n",
    "    t_row = []\n",
    "    for j in t_arr[i:i+window_length]:\n",
    "        t_row.append([j])\n",
    "    X.append(t_row)\n",
    "    y.append(t_arr[i + window_length])\n",
    "\n",
    "X = np.array(X)\n",
    "y = np.array(y)\n",
    "\n",
    "X.shape, y.shape"
   ]
  },
  {
   "cell_type": "code",
   "execution_count": 11,
   "metadata": {},
   "outputs": [
    {
     "data": {
      "text/plain": [
       "113400"
      ]
     },
     "execution_count": 11,
     "metadata": {},
     "output_type": "execute_result"
    }
   ],
   "source": [
    "Special_Layer_Types = [layers.SimpleRNN, layers.LSTM]\n",
    "Special_Layer_Names = [\"Simple RNN\", \"LSTM\"]\n",
    "Special_Layer_Nums = [1, 2, 4, 8, 16]\n",
    "Special_Layer_Units = [4, 8, 16, 32, 64, 128, 256, 512, 1024]\n",
    "Dense_Layer_Nums = [1, 2, 4, 8, 16]\n",
    "Dense_Layer_Units = [4, 8, 16, 32, 64, 128, 256, 512, 1024]\n",
    "Epochs = [10, 25, 50, 75, 100, 150, 200]\n",
    "Window_Lengths = [3, 7, 14, 28]\n",
    "Results = {}\n",
    "\n",
    "for i in range(len(Special_Layer_Types)):\n",
    "    for sln in Special_Layer_Nums:\n",
    "        for slu in Special_Layer_Units:\n",
    "            for dln in Dense_Layer_Nums:\n",
    "                for dlu in Dense_Layer_Units:\n",
    "                    for e in Epochs:\n",
    "                        for wl in Window_Lengths:\n",
    "                            n_string = f\"{Special_Layer_Names[i]} {sln} {slu} {dln} {dlu} {e} {wl}\"\n",
    "                            Results[n_string] = 0\n",
    "\n",
    "len(Results)"
   ]
  }
 ],
 "metadata": {
  "kernelspec": {
   "display_name": "Python 3",
   "language": "python",
   "name": "python3"
  },
  "language_info": {
   "codemirror_mode": {
    "name": "ipython",
    "version": 3
   },
   "file_extension": ".py",
   "mimetype": "text/x-python",
   "name": "python",
   "nbconvert_exporter": "python",
   "pygments_lexer": "ipython3",
   "version": "3.11.3"
  },
  "orig_nbformat": 4
 },
 "nbformat": 4,
 "nbformat_minor": 2
}
