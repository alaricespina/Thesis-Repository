{
 "cells": [
  {
   "cell_type": "code",
   "execution_count": 1,
   "metadata": {},
   "outputs": [],
   "source": [
    "import pickle \n",
    "from pprint import pprint"
   ]
  },
  {
   "cell_type": "code",
   "execution_count": 2,
   "metadata": {},
   "outputs": [],
   "source": [
    "Save_File = \"TensorflowAccuracySaves.pkl\"\n",
    "\n",
    "retrieved_data = None\n",
    "\n",
    "with open(Save_File, \"rb\") as f:\n",
    "    retrieved_data = pickle.load(f)"
   ]
  },
  {
   "cell_type": "code",
   "execution_count": 12,
   "metadata": {},
   "outputs": [
    {
     "data": {
      "text/plain": [
       "dict_keys(['accuracy', 'history'])"
      ]
     },
     "execution_count": 12,
     "metadata": {},
     "output_type": "execute_result"
    }
   ],
   "source": [
    "retrieved_data[\"LSTM\"][0].keys()"
   ]
  },
  {
   "cell_type": "code",
   "execution_count": 14,
   "metadata": {},
   "outputs": [
    {
     "name": "stdout",
     "output_type": "stream",
     "text": [
      "Model: LSTM\tLayer: 0\tAcc: 74.18300653594771\n",
      "Model: LSTM\tLayer: 1\tAcc: 39.351851851851855\n",
      "Model: LSTM\tLayer: 2\tAcc: 44.104030501089326\n",
      "Model: LSTM\tLayer: 3\tAcc: 29.588779956427015\n",
      "Model: LSTM\tLayer: 4\tAcc: 37.33660130718954\n",
      "Model: LSTM\tLayer: 5\tAcc: 39.36546840958606\n",
      "\n",
      "\n",
      "Model: GRU\tLayer: 0\tAcc: 75.09531590413944\n",
      "Model: GRU\tLayer: 1\tAcc: 38.98420479302832\n",
      "Model: GRU\tLayer: 2\tAcc: 41.85729847494553\n",
      "Model: GRU\tLayer: 3\tAcc: 40.00544662309368\n",
      "Model: GRU\tLayer: 4\tAcc: 38.87527233115469\n",
      "Model: GRU\tLayer: 5\tAcc: 41.1900871459695\n",
      "\n",
      "\n",
      "Model: RNN\tLayer: 0\tAcc: 73.51579520697167\n",
      "Model: RNN\tLayer: 1\tAcc: 43.54575163398693\n",
      "Model: RNN\tLayer: 2\tAcc: 47.848583877995644\n",
      "Model: RNN\tLayer: 3\tAcc: 38.63017429193899\n",
      "Model: RNN\tLayer: 4\tAcc: 52.600762527233115\n",
      "Model: RNN\tLayer: 5\tAcc: 34.531590413943356\n",
      "\n",
      "\n",
      "Model: BI LSTM\tLayer: 0\tAcc: 86.20642701525054\n",
      "Model: BI LSTM\tLayer: 1\tAcc: 41.72113289760348\n",
      "Model: BI LSTM\tLayer: 2\tAcc: 36.83278867102396\n",
      "Model: BI LSTM\tLayer: 3\tAcc: 42.10239651416122\n",
      "Model: BI LSTM\tLayer: 4\tAcc: 37.96296296296296\n",
      "Model: BI LSTM\tLayer: 5\tAcc: 35.430283224400874\n",
      "\n",
      "\n",
      "Model: BI GRU\tLayer: 0\tAcc: 75.43572984749454\n",
      "Model: BI GRU\tLayer: 1\tAcc: 41.230936819172115\n",
      "Model: BI GRU\tLayer: 2\tAcc: 39.351851851851855\n",
      "Model: BI GRU\tLayer: 3\tAcc: 40.114379084967325\n",
      "Model: BI GRU\tLayer: 4\tAcc: 41.57135076252723\n",
      "Model: BI GRU\tLayer: 5\tAcc: 38.63017429193899\n",
      "\n",
      "\n",
      "Model: BI RNN\tLayer: 0\tAcc: 91.06753812636165\n",
      "Model: BI RNN\tLayer: 1\tAcc: 40.60457516339869\n",
      "Model: BI RNN\tLayer: 2\tAcc: 44.839324618736384\n",
      "Model: BI RNN\tLayer: 3\tAcc: 55.923202614379086\n",
      "Model: BI RNN\tLayer: 4\tAcc: 39.025054466230934\n",
      "Model: BI RNN\tLayer: 5\tAcc: 34.58605664488017\n",
      "\n",
      "\n"
     ]
    }
   ],
   "source": [
    "for model_key in retrieved_data:\n",
    "    current_model = retrieved_data[model_key]\n",
    "    for rbm_layer in current_model:\n",
    "        current_iteration = current_model[rbm_layer]\n",
    "        print(f\"Model: {model_key}\\tLayer: {rbm_layer}\\tAcc: {current_iteration['accuracy']}\")\n",
    "    print(\"\\n\")\n"
   ]
  }
 ],
 "metadata": {
  "kernelspec": {
   "display_name": "Python 3",
   "language": "python",
   "name": "python3"
  },
  "language_info": {
   "codemirror_mode": {
    "name": "ipython",
    "version": 3
   },
   "file_extension": ".py",
   "mimetype": "text/x-python",
   "name": "python",
   "nbconvert_exporter": "python",
   "pygments_lexer": "ipython3",
   "version": "3.11.3"
  }
 },
 "nbformat": 4,
 "nbformat_minor": 2
}
