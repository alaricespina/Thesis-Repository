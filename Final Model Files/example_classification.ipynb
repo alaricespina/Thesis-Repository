{
 "cells": [
  {
   "cell_type": "code",
   "execution_count": 8,
   "metadata": {},
   "outputs": [],
   "source": [
    "import numpy as np\n",
    "import matplotlib.pyplot as plt\n",
    "import seaborn as sns\n",
    "\n",
    "from sklearn.datasets import load_digits\n",
    "from sklearn.model_selection import train_test_split\n",
    "from sklearn.metrics import accuracy_score, confusion_matrix\n",
    "\n",
    "\n",
    "from dbn import SupervisedDBNClassification"
   ]
  },
  {
   "cell_type": "code",
   "execution_count": 2,
   "metadata": {},
   "outputs": [],
   "source": [
    "digits = load_digits()\n",
    "X, Y = digits.data, digits.target\n",
    "X = (X / 16)\n",
    "X = X.astype(np.float32)\n",
    "X_train, X_test, Y_train, Y_test = train_test_split(X, Y, test_size=0.2, random_state=0)"
   ]
  },
  {
   "cell_type": "code",
   "execution_count": 18,
   "metadata": {},
   "outputs": [
    {
     "data": {
      "text/plain": [
       "(1797,)"
      ]
     },
     "execution_count": 18,
     "metadata": {},
     "output_type": "execute_result"
    }
   ],
   "source": [
    "Y.shape"
   ]
  },
  {
   "cell_type": "code",
   "execution_count": 13,
   "metadata": {},
   "outputs": [
    {
     "data": {
      "text/plain": [
       "array([0.    , 0.    , 0.3125, 0.8125, 0.5625, 0.0625, 0.    , 0.    ,\n",
       "       0.    , 0.    , 0.8125, 0.9375, 0.625 , 0.9375, 0.3125, 0.    ,\n",
       "       0.    , 0.1875, 0.9375, 0.125 , 0.    , 0.6875, 0.5   , 0.    ,\n",
       "       0.    , 0.25  , 0.75  , 0.    , 0.    , 0.5   , 0.5   , 0.    ,\n",
       "       0.    , 0.3125, 0.5   , 0.    , 0.    , 0.5625, 0.5   , 0.    ,\n",
       "       0.    , 0.25  , 0.6875, 0.    , 0.0625, 0.75  , 0.4375, 0.    ,\n",
       "       0.    , 0.125 , 0.875 , 0.3125, 0.625 , 0.75  , 0.    , 0.    ,\n",
       "       0.    , 0.    , 0.375 , 0.8125, 0.625 , 0.    , 0.    , 0.    ],\n",
       "      dtype=float32)"
      ]
     },
     "execution_count": 13,
     "metadata": {},
     "output_type": "execute_result"
    }
   ],
   "source": [
    "X[0]"
   ]
  },
  {
   "cell_type": "code",
   "execution_count": 16,
   "metadata": {},
   "outputs": [
    {
     "data": {
      "text/plain": [
       "array([0, 1, 2, 3, 4, 5, 6, 7, 8, 9])"
      ]
     },
     "execution_count": 16,
     "metadata": {},
     "output_type": "execute_result"
    }
   ],
   "source": [
    "np.unique(Y)"
   ]
  },
  {
   "cell_type": "code",
   "execution_count": 3,
   "metadata": {},
   "outputs": [
    {
     "name": "stdout",
     "output_type": "stream",
     "text": [
      "[START] Pre-training step:\n",
      ">> Epoch 1 finished \tRBM Reconstruction error 2.794956\n",
      ">> Epoch 2 finished \tRBM Reconstruction error 1.838199\n",
      ">> Epoch 3 finished \tRBM Reconstruction error 1.478933\n",
      ">> Epoch 4 finished \tRBM Reconstruction error 1.267090\n",
      ">> Epoch 5 finished \tRBM Reconstruction error 1.103811\n",
      ">> Epoch 6 finished \tRBM Reconstruction error 1.001111\n",
      ">> Epoch 7 finished \tRBM Reconstruction error 0.936655\n",
      ">> Epoch 8 finished \tRBM Reconstruction error 0.935733\n",
      ">> Epoch 9 finished \tRBM Reconstruction error 0.866084\n",
      ">> Epoch 10 finished \tRBM Reconstruction error 0.806699\n",
      ">> Epoch 1 finished \tRBM Reconstruction error 2.858534\n",
      ">> Epoch 2 finished \tRBM Reconstruction error 1.515529\n",
      ">> Epoch 3 finished \tRBM Reconstruction error 1.135121\n",
      ">> Epoch 4 finished \tRBM Reconstruction error 0.906473\n",
      ">> Epoch 5 finished \tRBM Reconstruction error 0.766554\n",
      ">> Epoch 6 finished \tRBM Reconstruction error 0.670521\n",
      ">> Epoch 7 finished \tRBM Reconstruction error 0.575204\n",
      ">> Epoch 8 finished \tRBM Reconstruction error 0.540524\n",
      ">> Epoch 9 finished \tRBM Reconstruction error 0.474387\n",
      ">> Epoch 10 finished \tRBM Reconstruction error 0.458361\n",
      "[END] Pre-training step\n",
      "[START] Fine tuning step:\n",
      ">> Epoch 1 finished \tANN training loss 19.883038\n",
      ">> Epoch 2 finished \tANN training loss 12.852484\n",
      ">> Epoch 3 finished \tANN training loss 8.939778\n",
      ">> Epoch 4 finished \tANN training loss 7.200940\n",
      ">> Epoch 5 finished \tANN training loss 6.323710\n",
      ">> Epoch 6 finished \tANN training loss 5.552968\n",
      ">> Epoch 7 finished \tANN training loss 5.257812\n",
      ">> Epoch 8 finished \tANN training loss 5.062278\n",
      ">> Epoch 9 finished \tANN training loss 4.736308\n",
      ">> Epoch 10 finished \tANN training loss 4.451820\n",
      "[END] Fine tuning step\n"
     ]
    }
   ],
   "source": [
    "classifier = SupervisedDBNClassification(hidden_layers_structure=[256, 256],\n",
    "                                         learning_rate_rbm=0.05,\n",
    "                                         learning_rate=0.1,\n",
    "                                         n_epochs_rbm=10,\n",
    "                                         n_iter_backprop=10,\n",
    "                                         batch_size=32,\n",
    "                                         activation_function='relu',\n",
    "                                         dropout_p=0.2)\n",
    "history = classifier.fit(X_train, Y_train)"
   ]
  },
  {
   "cell_type": "code",
   "execution_count": 5,
   "metadata": {},
   "outputs": [
    {
     "name": "stdout",
     "output_type": "stream",
     "text": [
      "Done.\n",
      "Accuracy: 0.944444\n"
     ]
    }
   ],
   "source": [
    "Y_pred = classifier.predict(X_test)\n",
    "print('Done.\\nAccuracy: %f' % accuracy_score(Y_test, Y_pred))"
   ]
  },
  {
   "cell_type": "code",
   "execution_count": 11,
   "metadata": {},
   "outputs": [
    {
     "data": {
      "image/png": "[encoded data removed]",
      "text/plain": [
       "<Figure size 640x480 with 2 Axes>"
      ]
     },
     "metadata": {},
     "output_type": "display_data"
    }
   ],
   "source": [
    "# Predict on testing (for verification)\n",
    "Y_pred_test = classifier.predict(X_test)\n",
    "CM_test = confusion_matrix(Y_pred_test, Y_test)\n",
    "test_acc = accuracy_score(Y_test, Y_pred_test)\n",
    "\n",
    "ax2 = plt.subplot(122)\n",
    "ax2.set_title(\"Training - Confusion Matrix\")\n",
    "sns.heatmap(CM_test, annot=True, cmap=\"magma\", ax=ax2, fmt='d')\n",
    "plt.yticks(rotation=0)\n",
    "\n",
    "plt.show()"
   ]
  }
 ],
 "metadata": {
  "kernelspec": {
   "display_name": "Python 3",
   "language": "python",
   "name": "python3"
  },
  "language_info": {
   "codemirror_mode": {
    "name": "ipython",
    "version": 3
   },
   "file_extension": ".py",
   "mimetype": "text/x-python",
   "name": "python",
   "nbconvert_exporter": "python",
   "pygments_lexer": "ipython3",
   "version": "3.11.3"
  },
  "orig_nbformat": 4
 },
 "nbformat": 4,
 "nbformat_minor": 2
}
