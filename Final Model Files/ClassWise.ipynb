{
 "cells": [
  {
   "cell_type": "code",
   "execution_count": 3,
   "metadata": {},
   "outputs": [],
   "source": [
    "import tensorflow as tf \n",
    "import numpy as np \n",
    "import pandas as pd \n",
    "import matplotlib.pyplot as plt\n",
    "\n",
    "from tensorflow import keras \n",
    "from tensorflow.keras import layers \n",
    "from tensorflow.keras.models import Sequential\n",
    "from tensorflow.keras.callbacks import ModelCheckpoint\n",
    "from tensorflow.keras.metrics import RootMeanSquaredError, MeanAbsoluteError\n",
    "from tensorflow.keras.losses import MeanSquaredError, MeanAbsoluteError, CategoricalCrossentropy\n",
    "from tensorflow.keras.optimizers import Adam \n",
    "#from keras.utils.np_utils import to_categorical\n",
    "\n",
    "from keras.models import load_model\n",
    "from sklearn.model_selection import train_test_split\n",
    "from sklearn.preprocessing import LabelEncoder\n",
    "\n",
    "from keras.utils import to_categorical"
   ]
  },
  {
   "cell_type": "code",
   "execution_count": 4,
   "metadata": {},
   "outputs": [
    {
     "data": {
      "text/html": [
       "<div>\n",
       "<style scoped>\n",
       "    .dataframe tbody tr th:only-of-type {\n",
       "        vertical-align: middle;\n",
       "    }\n",
       "\n",
       "    .dataframe tbody tr th {\n",
       "        vertical-align: top;\n",
       "    }\n",
       "\n",
       "    .dataframe thead th {\n",
       "        text-align: right;\n",
       "    }\n",
       "</style>\n",
       "<table border=\"1\" class=\"dataframe\">\n",
       "  <thead>\n",
       "    <tr style=\"text-align: right;\">\n",
       "      <th></th>\n",
       "      <th>tempmax</th>\n",
       "      <th>tempmin</th>\n",
       "      <th>temp</th>\n",
       "      <th>feelslikemax</th>\n",
       "      <th>feelslikemin</th>\n",
       "      <th>feelslike</th>\n",
       "      <th>dew</th>\n",
       "      <th>humidity</th>\n",
       "      <th>windspeed</th>\n",
       "      <th>winddir</th>\n",
       "      <th>conditions</th>\n",
       "    </tr>\n",
       "  </thead>\n",
       "  <tbody>\n",
       "    <tr>\n",
       "      <th>0</th>\n",
       "      <td>29.3</td>\n",
       "      <td>24.5</td>\n",
       "      <td>26.9</td>\n",
       "      <td>32.3</td>\n",
       "      <td>24.5</td>\n",
       "      <td>28.7</td>\n",
       "      <td>22.6</td>\n",
       "      <td>77.4</td>\n",
       "      <td>8.8</td>\n",
       "      <td>4.5</td>\n",
       "      <td>Rain, Partially cloudy</td>\n",
       "    </tr>\n",
       "    <tr>\n",
       "      <th>1</th>\n",
       "      <td>31.0</td>\n",
       "      <td>24.7</td>\n",
       "      <td>27.6</td>\n",
       "      <td>35.4</td>\n",
       "      <td>24.7</td>\n",
       "      <td>29.2</td>\n",
       "      <td>21.9</td>\n",
       "      <td>72.1</td>\n",
       "      <td>16.7</td>\n",
       "      <td>69.1</td>\n",
       "      <td>Rain, Partially cloudy</td>\n",
       "    </tr>\n",
       "    <tr>\n",
       "      <th>2</th>\n",
       "      <td>31.9</td>\n",
       "      <td>22.8</td>\n",
       "      <td>27.1</td>\n",
       "      <td>34.2</td>\n",
       "      <td>22.8</td>\n",
       "      <td>28.0</td>\n",
       "      <td>19.7</td>\n",
       "      <td>65.0</td>\n",
       "      <td>17.1</td>\n",
       "      <td>66.2</td>\n",
       "      <td>Partially cloudy</td>\n",
       "    </tr>\n",
       "    <tr>\n",
       "      <th>3</th>\n",
       "      <td>31.2</td>\n",
       "      <td>21.6</td>\n",
       "      <td>26.8</td>\n",
       "      <td>34.4</td>\n",
       "      <td>21.6</td>\n",
       "      <td>27.9</td>\n",
       "      <td>20.3</td>\n",
       "      <td>68.7</td>\n",
       "      <td>11.1</td>\n",
       "      <td>44.0</td>\n",
       "      <td>Rain, Partially cloudy</td>\n",
       "    </tr>\n",
       "    <tr>\n",
       "      <th>4</th>\n",
       "      <td>30.9</td>\n",
       "      <td>23.3</td>\n",
       "      <td>27.1</td>\n",
       "      <td>33.0</td>\n",
       "      <td>23.3</td>\n",
       "      <td>28.2</td>\n",
       "      <td>21.1</td>\n",
       "      <td>71.0</td>\n",
       "      <td>17.2</td>\n",
       "      <td>77.8</td>\n",
       "      <td>Rain, Partially cloudy</td>\n",
       "    </tr>\n",
       "    <tr>\n",
       "      <th>...</th>\n",
       "      <td>...</td>\n",
       "      <td>...</td>\n",
       "      <td>...</td>\n",
       "      <td>...</td>\n",
       "      <td>...</td>\n",
       "      <td>...</td>\n",
       "      <td>...</td>\n",
       "      <td>...</td>\n",
       "      <td>...</td>\n",
       "      <td>...</td>\n",
       "      <td>...</td>\n",
       "    </tr>\n",
       "    <tr>\n",
       "      <th>1303</th>\n",
       "      <td>30.8</td>\n",
       "      <td>25.7</td>\n",
       "      <td>27.8</td>\n",
       "      <td>38.8</td>\n",
       "      <td>25.7</td>\n",
       "      <td>32.4</td>\n",
       "      <td>25.4</td>\n",
       "      <td>86.5</td>\n",
       "      <td>16.7</td>\n",
       "      <td>233.0</td>\n",
       "      <td>Rain, Overcast</td>\n",
       "    </tr>\n",
       "    <tr>\n",
       "      <th>1304</th>\n",
       "      <td>29.9</td>\n",
       "      <td>24.2</td>\n",
       "      <td>26.9</td>\n",
       "      <td>37.3</td>\n",
       "      <td>24.2</td>\n",
       "      <td>29.6</td>\n",
       "      <td>24.9</td>\n",
       "      <td>89.5</td>\n",
       "      <td>14.6</td>\n",
       "      <td>228.3</td>\n",
       "      <td>Rain, Overcast</td>\n",
       "    </tr>\n",
       "    <tr>\n",
       "      <th>1305</th>\n",
       "      <td>29.4</td>\n",
       "      <td>21.9</td>\n",
       "      <td>25.7</td>\n",
       "      <td>36.3</td>\n",
       "      <td>21.9</td>\n",
       "      <td>26.9</td>\n",
       "      <td>25.0</td>\n",
       "      <td>94.9</td>\n",
       "      <td>11.2</td>\n",
       "      <td>265.7</td>\n",
       "      <td>Rain, Overcast</td>\n",
       "    </tr>\n",
       "    <tr>\n",
       "      <th>1306</th>\n",
       "      <td>28.0</td>\n",
       "      <td>24.9</td>\n",
       "      <td>26.6</td>\n",
       "      <td>34.5</td>\n",
       "      <td>24.9</td>\n",
       "      <td>29.0</td>\n",
       "      <td>25.1</td>\n",
       "      <td>92.0</td>\n",
       "      <td>19.3</td>\n",
       "      <td>254.2</td>\n",
       "      <td>Rain, Overcast</td>\n",
       "    </tr>\n",
       "    <tr>\n",
       "      <th>1307</th>\n",
       "      <td>29.9</td>\n",
       "      <td>25.2</td>\n",
       "      <td>26.6</td>\n",
       "      <td>37.3</td>\n",
       "      <td>25.2</td>\n",
       "      <td>28.9</td>\n",
       "      <td>25.3</td>\n",
       "      <td>92.5</td>\n",
       "      <td>18.0</td>\n",
       "      <td>266.4</td>\n",
       "      <td>Rain, Overcast</td>\n",
       "    </tr>\n",
       "  </tbody>\n",
       "</table>\n",
       "<p>1308 rows × 11 columns</p>\n",
       "</div>"
      ],
      "text/plain": [
       "      tempmax  tempmin  temp  feelslikemax  feelslikemin  feelslike   dew  \\\n",
       "0        29.3     24.5  26.9          32.3          24.5       28.7  22.6   \n",
       "1        31.0     24.7  27.6          35.4          24.7       29.2  21.9   \n",
       "2        31.9     22.8  27.1          34.2          22.8       28.0  19.7   \n",
       "3        31.2     21.6  26.8          34.4          21.6       27.9  20.3   \n",
       "4        30.9     23.3  27.1          33.0          23.3       28.2  21.1   \n",
       "...       ...      ...   ...           ...           ...        ...   ...   \n",
       "1303     30.8     25.7  27.8          38.8          25.7       32.4  25.4   \n",
       "1304     29.9     24.2  26.9          37.3          24.2       29.6  24.9   \n",
       "1305     29.4     21.9  25.7          36.3          21.9       26.9  25.0   \n",
       "1306     28.0     24.9  26.6          34.5          24.9       29.0  25.1   \n",
       "1307     29.9     25.2  26.6          37.3          25.2       28.9  25.3   \n",
       "\n",
       "      humidity  windspeed  winddir              conditions  \n",
       "0         77.4        8.8      4.5  Rain, Partially cloudy  \n",
       "1         72.1       16.7     69.1  Rain, Partially cloudy  \n",
       "2         65.0       17.1     66.2        Partially cloudy  \n",
       "3         68.7       11.1     44.0  Rain, Partially cloudy  \n",
       "4         71.0       17.2     77.8  Rain, Partially cloudy  \n",
       "...        ...        ...      ...                     ...  \n",
       "1303      86.5       16.7    233.0          Rain, Overcast  \n",
       "1304      89.5       14.6    228.3          Rain, Overcast  \n",
       "1305      94.9       11.2    265.7          Rain, Overcast  \n",
       "1306      92.0       19.3    254.2          Rain, Overcast  \n",
       "1307      92.5       18.0    266.4          Rain, Overcast  \n",
       "\n",
       "[1308 rows x 11 columns]"
      ]
     },
     "execution_count": 4,
     "metadata": {},
     "output_type": "execute_result"
    }
   ],
   "source": [
    "csv_filename = \"qc aggregated data.csv\"\n",
    "df = pd.read_csv(csv_filename)\n",
    "df[[\"tempmax\", \"tempmin\", \"temp\", \"feelslikemax\", \"feelslikemin\", \"feelslike\", \"dew\", \"humidity\", \"windspeed\", \"winddir\", \"conditions\"]]"
   ]
  },
  {
   "cell_type": "code",
   "execution_count": 5,
   "metadata": {},
   "outputs": [],
   "source": [
    "X = df[[\"tempmax\", \"tempmin\", \"temp\", \"feelslikemax\", \"feelslikemin\", \"feelslike\", \"dew\", \"humidity\", \"windspeed\", \"winddir\"]]\n",
    "y = df[\"conditions\"]\n",
    "X = np.array(X)\n",
    "y = np.array(y)\n",
    "\n",
    "le = LabelEncoder()\n",
    "le.fit(y)\n",
    "y = le.transform(y)\n",
    "y = to_categorical(y)\n",
    "\n",
    "X_t, X_test, y_t, y_test = train_test_split(X, y, test_size=0.2, random_state=0)\n",
    "X_train, X_valid, y_train, y_valid = train_test_split(X_t, y_t, test_size=0.2, random_state=0)"
   ]
  },
  {
   "cell_type": "code",
   "execution_count": 7,
   "metadata": {},
   "outputs": [
    {
     "name": "stdout",
     "output_type": "stream",
     "text": [
      "Epoch 1/50\n",
      "27/27 - 1s - loss: 6.1930 - accuracy: 0.4258 - val_loss: 0.9641 - val_accuracy: 0.7000 - 756ms/epoch - 28ms/step\n",
      "Epoch 2/50\n",
      "27/27 - 0s - loss: 0.9889 - accuracy: 0.6005 - val_loss: 0.7787 - val_accuracy: 0.6810 - 45ms/epoch - 2ms/step\n",
      "Epoch 3/50\n",
      "27/27 - 0s - loss: 0.7999 - accuracy: 0.6543 - val_loss: 0.7680 - val_accuracy: 0.6333 - 45ms/epoch - 2ms/step\n",
      "Epoch 4/50\n",
      "27/27 - 0s - loss: 0.7618 - accuracy: 0.6794 - val_loss: 0.6922 - val_accuracy: 0.7048 - 44ms/epoch - 2ms/step\n",
      "Epoch 5/50\n",
      "27/27 - 0s - loss: 0.8013 - accuracy: 0.6507 - val_loss: 0.7100 - val_accuracy: 0.6810 - 47ms/epoch - 2ms/step\n",
      "Epoch 6/50\n",
      "27/27 - 0s - loss: 0.7536 - accuracy: 0.6651 - val_loss: 0.6797 - val_accuracy: 0.6762 - 44ms/epoch - 2ms/step\n",
      "Epoch 7/50\n",
      "27/27 - 0s - loss: 0.7145 - accuracy: 0.6878 - val_loss: 0.6722 - val_accuracy: 0.7048 - 44ms/epoch - 2ms/step\n",
      "Epoch 8/50\n",
      "27/27 - 0s - loss: 0.7082 - accuracy: 0.6926 - val_loss: 0.6566 - val_accuracy: 0.7048 - 45ms/epoch - 2ms/step\n",
      "Epoch 9/50\n",
      "27/27 - 0s - loss: 0.7112 - accuracy: 0.6818 - val_loss: 0.6737 - val_accuracy: 0.6571 - 44ms/epoch - 2ms/step\n",
      "Epoch 10/50\n",
      "27/27 - 0s - loss: 0.6770 - accuracy: 0.7022 - val_loss: 0.7061 - val_accuracy: 0.6476 - 44ms/epoch - 2ms/step\n",
      "Epoch 11/50\n",
      "27/27 - 0s - loss: 0.6918 - accuracy: 0.7153 - val_loss: 0.6338 - val_accuracy: 0.7000 - 43ms/epoch - 2ms/step\n",
      "Epoch 12/50\n",
      "27/27 - 0s - loss: 0.6836 - accuracy: 0.7081 - val_loss: 0.6140 - val_accuracy: 0.7238 - 45ms/epoch - 2ms/step\n",
      "Epoch 13/50\n",
      "27/27 - 0s - loss: 0.7057 - accuracy: 0.7033 - val_loss: 0.8917 - val_accuracy: 0.4810 - 45ms/epoch - 2ms/step\n",
      "Epoch 14/50\n",
      "27/27 - 0s - loss: 0.6675 - accuracy: 0.7045 - val_loss: 0.7973 - val_accuracy: 0.5429 - 44ms/epoch - 2ms/step\n",
      "Epoch 15/50\n",
      "27/27 - 0s - loss: 0.6870 - accuracy: 0.6878 - val_loss: 0.5878 - val_accuracy: 0.7286 - 49ms/epoch - 2ms/step\n",
      "Epoch 16/50\n",
      "27/27 - 0s - loss: 0.6184 - accuracy: 0.7177 - val_loss: 0.6386 - val_accuracy: 0.7190 - 44ms/epoch - 2ms/step\n",
      "Epoch 17/50\n",
      "27/27 - 0s - loss: 0.6193 - accuracy: 0.7309 - val_loss: 0.5573 - val_accuracy: 0.7571 - 45ms/epoch - 2ms/step\n",
      "Epoch 18/50\n",
      "27/27 - 0s - loss: 0.6124 - accuracy: 0.7344 - val_loss: 0.5540 - val_accuracy: 0.7476 - 44ms/epoch - 2ms/step\n",
      "Epoch 19/50\n",
      "27/27 - 0s - loss: 0.5736 - accuracy: 0.7488 - val_loss: 0.5627 - val_accuracy: 0.7714 - 44ms/epoch - 2ms/step\n",
      "Epoch 20/50\n",
      "27/27 - 0s - loss: 0.6106 - accuracy: 0.7285 - val_loss: 0.7194 - val_accuracy: 0.6429 - 45ms/epoch - 2ms/step\n",
      "Epoch 21/50\n",
      "27/27 - 0s - loss: 0.6675 - accuracy: 0.6974 - val_loss: 0.5927 - val_accuracy: 0.7429 - 44ms/epoch - 2ms/step\n",
      "Epoch 22/50\n",
      "27/27 - 0s - loss: 0.6248 - accuracy: 0.7213 - val_loss: 0.5273 - val_accuracy: 0.7429 - 44ms/epoch - 2ms/step\n",
      "Epoch 23/50\n",
      "27/27 - 0s - loss: 0.6009 - accuracy: 0.7225 - val_loss: 0.5551 - val_accuracy: 0.7619 - 44ms/epoch - 2ms/step\n",
      "Epoch 24/50\n",
      "27/27 - 0s - loss: 0.5836 - accuracy: 0.7380 - val_loss: 0.6423 - val_accuracy: 0.6952 - 45ms/epoch - 2ms/step\n",
      "Epoch 25/50\n",
      "27/27 - 0s - loss: 0.5803 - accuracy: 0.7237 - val_loss: 0.5942 - val_accuracy: 0.7190 - 44ms/epoch - 2ms/step\n",
      "Epoch 26/50\n",
      "27/27 - 0s - loss: 0.6042 - accuracy: 0.7141 - val_loss: 0.5086 - val_accuracy: 0.7810 - 44ms/epoch - 2ms/step\n",
      "Epoch 27/50\n",
      "27/27 - 0s - loss: 0.5657 - accuracy: 0.7440 - val_loss: 0.5293 - val_accuracy: 0.7619 - 44ms/epoch - 2ms/step\n",
      "Epoch 28/50\n",
      "27/27 - 0s - loss: 0.5672 - accuracy: 0.7476 - val_loss: 0.5546 - val_accuracy: 0.7714 - 53ms/epoch - 2ms/step\n",
      "Epoch 29/50\n",
      "27/27 - 0s - loss: 0.5784 - accuracy: 0.7392 - val_loss: 0.6520 - val_accuracy: 0.6667 - 50ms/epoch - 2ms/step\n",
      "Epoch 30/50\n",
      "27/27 - 0s - loss: 0.5743 - accuracy: 0.7297 - val_loss: 0.5082 - val_accuracy: 0.7810 - 50ms/epoch - 2ms/step\n",
      "Epoch 31/50\n",
      "27/27 - 0s - loss: 0.5605 - accuracy: 0.7380 - val_loss: 0.6076 - val_accuracy: 0.7143 - 44ms/epoch - 2ms/step\n",
      "Epoch 32/50\n",
      "27/27 - 0s - loss: 0.6159 - accuracy: 0.7321 - val_loss: 0.5864 - val_accuracy: 0.7143 - 44ms/epoch - 2ms/step\n",
      "Epoch 33/50\n",
      "27/27 - 0s - loss: 0.5564 - accuracy: 0.7500 - val_loss: 0.5228 - val_accuracy: 0.7619 - 44ms/epoch - 2ms/step\n",
      "Epoch 34/50\n",
      "27/27 - 0s - loss: 0.5759 - accuracy: 0.7524 - val_loss: 0.5796 - val_accuracy: 0.7333 - 43ms/epoch - 2ms/step\n",
      "Epoch 35/50\n",
      "27/27 - 0s - loss: 0.5506 - accuracy: 0.7380 - val_loss: 0.5258 - val_accuracy: 0.7571 - 44ms/epoch - 2ms/step\n",
      "Epoch 36/50\n",
      "27/27 - 0s - loss: 0.5470 - accuracy: 0.7500 - val_loss: 0.5372 - val_accuracy: 0.8000 - 48ms/epoch - 2ms/step\n",
      "Epoch 37/50\n",
      "27/27 - 0s - loss: 0.5805 - accuracy: 0.7213 - val_loss: 0.6011 - val_accuracy: 0.6952 - 44ms/epoch - 2ms/step\n",
      "Epoch 38/50\n",
      "27/27 - 0s - loss: 0.5754 - accuracy: 0.7404 - val_loss: 0.5219 - val_accuracy: 0.7762 - 44ms/epoch - 2ms/step\n",
      "Epoch 39/50\n",
      "27/27 - 0s - loss: 0.5873 - accuracy: 0.7249 - val_loss: 0.5266 - val_accuracy: 0.7714 - 43ms/epoch - 2ms/step\n",
      "Epoch 40/50\n",
      "27/27 - 0s - loss: 0.5332 - accuracy: 0.7464 - val_loss: 0.5039 - val_accuracy: 0.7810 - 44ms/epoch - 2ms/step\n",
      "Epoch 41/50\n",
      "27/27 - 0s - loss: 0.5709 - accuracy: 0.7273 - val_loss: 0.5116 - val_accuracy: 0.7619 - 43ms/epoch - 2ms/step\n",
      "Epoch 42/50\n",
      "27/27 - 0s - loss: 0.5330 - accuracy: 0.7608 - val_loss: 0.5008 - val_accuracy: 0.7905 - 44ms/epoch - 2ms/step\n",
      "Epoch 43/50\n",
      "27/27 - 0s - loss: 0.5492 - accuracy: 0.7596 - val_loss: 0.5107 - val_accuracy: 0.7571 - 43ms/epoch - 2ms/step\n",
      "Epoch 44/50\n",
      "27/27 - 0s - loss: 0.5635 - accuracy: 0.7620 - val_loss: 0.5114 - val_accuracy: 0.7857 - 43ms/epoch - 2ms/step\n",
      "Epoch 45/50\n",
      "27/27 - 0s - loss: 0.5194 - accuracy: 0.7644 - val_loss: 0.5062 - val_accuracy: 0.8048 - 43ms/epoch - 2ms/step\n",
      "Epoch 46/50\n",
      "27/27 - 0s - loss: 0.6531 - accuracy: 0.6962 - val_loss: 0.6230 - val_accuracy: 0.7048 - 43ms/epoch - 2ms/step\n",
      "Epoch 47/50\n",
      "27/27 - 0s - loss: 0.5375 - accuracy: 0.7596 - val_loss: 0.5586 - val_accuracy: 0.7476 - 43ms/epoch - 2ms/step\n",
      "Epoch 48/50\n",
      "27/27 - 0s - loss: 0.5533 - accuracy: 0.7596 - val_loss: 0.5553 - val_accuracy: 0.7429 - 61ms/epoch - 2ms/step\n",
      "Epoch 49/50\n",
      "27/27 - 0s - loss: 0.5337 - accuracy: 0.7524 - val_loss: 0.5944 - val_accuracy: 0.7476 - 49ms/epoch - 2ms/step\n",
      "Epoch 50/50\n",
      "27/27 - 0s - loss: 0.5711 - accuracy: 0.7560 - val_loss: 0.5203 - val_accuracy: 0.7524 - 45ms/epoch - 2ms/step\n"
     ]
    },
    {
     "data": {
      "image/png": "[encoded data removed]",
      "text/plain": [
       "<Figure size 640x480 with 1 Axes>"
      ]
     },
     "metadata": {},
     "output_type": "display_data"
    }
   ],
   "source": [
    "model = Sequential([\n",
    "    layers.InputLayer(10, ),\n",
    "    layers.Dense(64, activation='relu'),\n",
    "    layers.Dense(64, activation='relu'),\n",
    "    layers.Dense(64, activation='relu'),\n",
    "    layers.Dense(4, activation='softmax')\n",
    "])\n",
    "\n",
    "model.compile(\n",
    "    #loss='mae',\n",
    "    #optimizer=tf.keras.optimizers.SGD(learning_rate=0.01), \n",
    "    loss = \"categorical_crossentropy\",\n",
    "    optimizer = \"adam\",\n",
    "    metrics=[\"accuracy\"])\n",
    "\n",
    "history = model.fit(\n",
    "    X_train,\n",
    "    y_train, \n",
    "    validation_data = (X_valid, y_valid),\n",
    "    epochs = 50,\n",
    "    verbose = 2\n",
    ")\n",
    "\n",
    "plt.plot(history.history[\"accuracy\"], label=\"Accuracy\", color=\"green\")\n",
    "plt.plot(history.history[\"val_accuracy\"], label=\"Val Accuracy\", color=\"orange\")\n",
    "plt.legend()\n",
    "plt.show()"
   ]
  },
  {
   "cell_type": "code",
   "execution_count": 22,
   "metadata": {},
   "outputs": [
    {
     "name": "stdout",
     "output_type": "stream",
     "text": [
      "27/27 [==============================] - 0s 737us/step\n"
     ]
    },
    {
     "name": "stderr",
     "output_type": "stream",
     "text": [
      "/home/codespace/.local/lib/python3.10/site-packages/sklearn/preprocessing/_label.py:153: DataConversionWarning: A column-vector y was passed when a 1d array was expected. Please change the shape of y to (n_samples, ), for example using ravel().\n",
      "  y = column_or_1d(y, warn=True)\n"
     ]
    },
    {
     "data": {
      "text/plain": [
       "array(['Overcast'], dtype=object)"
      ]
     },
     "execution_count": 22,
     "metadata": {},
     "output_type": "execute_result"
    }
   ],
   "source": [
    "test_pred = model.predict(X_train)\n",
    "test_pred = np.argmax(to_categorical(test_pred), axis=1)\n",
    "test_pred = le.inverse_transform(test_pred)\n"
   ]
  },
  {
   "cell_type": "markdown",
   "metadata": {},
   "source": [
    "# Random Forest Classifier"
   ]
  },
  {
   "cell_type": "code",
   "execution_count": 27,
   "metadata": {},
   "outputs": [
    {
     "data": {
      "text/plain": [
       "0.7824427480916031"
      ]
     },
     "execution_count": 27,
     "metadata": {},
     "output_type": "execute_result"
    }
   ],
   "source": [
    "from sklearn.ensemble import RandomForestClassifier\n",
    "from sklearn.model_selection import train_test_split\n",
    "from sklearn.metrics import ConfusionMatrixDisplay, confusion_matrix\n",
    "import seaborn as sn\n",
    "\n",
    "X = df[[\"tempmax\", \"tempmin\", \"temp\", \"feelslikemax\", \"feelslikemin\", \"feelslike\", \"dew\", \"humidity\", \"windspeed\", \"winddir\"]]\n",
    "y = df[\"conditions\"]\n",
    "\n",
    "le = LabelEncoder()\n",
    "le.fit(y)\n",
    "y = le.transform(y)\n",
    "\n",
    "X_t, X_test, y_t, y_test = train_test_split(X, y, test_size=0.2, random_state=0)\n",
    "X_train, X_valid, y_train, y_valid = train_test_split(X_t, y_t, test_size=0.2, random_state=0)\n",
    "\n",
    "clf = RandomForestClassifier()\n",
    "clf.fit(X_train, y_train)\n",
    "y_preds = clf.predict(X_test)\n",
    "clf.score(X_test, y_test)\n",
    "\n",
    "\n"
   ]
  },
  {
   "cell_type": "code",
   "execution_count": 40,
   "metadata": {},
   "outputs": [
    {
     "data": {
      "text/plain": [
       "array([[0.  , 0.04, 0.05, 0.91],\n",
       "       [0.  , 0.88, 0.01, 0.11],\n",
       "       [0.  , 0.02, 0.  , 0.98],\n",
       "       ...,\n",
       "       [0.  , 0.02, 0.62, 0.36],\n",
       "       [0.  , 0.08, 0.  , 0.92],\n",
       "       [0.  , 0.02, 0.69, 0.29]])"
      ]
     },
     "execution_count": 40,
     "metadata": {},
     "output_type": "execute_result"
    }
   ],
   "source": [
    "y_class_preds = clf.predict_proba(X_test)\n",
    "y_class_preds"
   ]
  },
  {
   "cell_type": "code",
   "execution_count": 41,
   "metadata": {},
   "outputs": [
    {
     "data": {
      "text/plain": [
       "array([3, 1, 3, 1, 3, 3, 1, 3, 3, 2, 3, 3, 3, 3, 3, 3, 3, 1, 3, 3, 3, 3,\n",
       "       3, 3, 3, 3, 3, 1, 3, 3, 3, 1, 3, 3, 3, 3, 3, 1, 1, 2, 3, 3, 3, 3,\n",
       "       3, 3, 3, 3, 3, 3, 3, 3, 1, 3, 1, 1, 3, 3, 3, 3, 3, 1, 3, 3, 3, 3,\n",
       "       3, 3, 3, 3, 3, 3, 1, 3, 1, 3, 3, 3, 3, 2, 3, 3, 1, 3, 3, 1, 3, 1,\n",
       "       3, 1, 3, 3, 1, 3, 3, 3, 3, 1, 3, 1, 2, 3, 3, 1, 3, 1, 3, 1, 3, 3,\n",
       "       3, 3, 3, 1, 1, 1, 1, 3, 3, 3, 3, 3, 3, 3, 3, 1, 2, 1, 3, 1, 1, 3,\n",
       "       3, 3, 1, 3, 3, 1, 3, 1, 1, 3, 3, 1, 3, 3, 1, 3, 3, 1, 3, 3, 3, 3,\n",
       "       3, 1, 1, 1, 3, 3, 1, 1, 1, 3, 3, 1, 3, 3, 3, 3, 1, 1, 3, 3, 1, 3,\n",
       "       1, 3, 1, 1, 1, 3, 3, 3, 1, 3, 3, 3, 3, 1, 2, 3, 3, 1, 3, 3, 3, 3,\n",
       "       1, 3, 3, 3, 3, 3, 3, 3, 3, 3, 1, 3, 3, 3, 3, 1, 3, 1, 1, 3, 2, 3,\n",
       "       3, 3, 1, 3, 3, 3, 2, 3, 3, 3, 3, 1, 1, 3, 1, 3, 1, 3, 3, 1, 1, 3,\n",
       "       3, 3, 3, 3, 3, 3, 1, 1, 3, 3, 1, 2, 1, 2, 2, 3, 3, 2, 3, 2])"
      ]
     },
     "execution_count": 41,
     "metadata": {},
     "output_type": "execute_result"
    }
   ],
   "source": [
    "y_preds"
   ]
  },
  {
   "cell_type": "code",
   "execution_count": 38,
   "metadata": {},
   "outputs": [
    {
     "data": {
      "text/plain": [
       "{'Overcast': 0,\n",
       " 'Partially cloudy': 1,\n",
       " 'Rain, Overcast': 2,\n",
       " 'Rain, Partially cloudy': 3}"
      ]
     },
     "execution_count": 38,
     "metadata": {},
     "output_type": "execute_result"
    }
   ],
   "source": [
    "label_mapping = {x : y for x, y in zip(le.classes_, le.transform(le.classes_)) }\n",
    "label_mapping\n"
   ]
  },
  {
   "cell_type": "code",
   "execution_count": 23,
   "metadata": {},
   "outputs": [
    {
     "data": {
      "text/plain": [
       "(array([1, 2, 3]), array([0, 1, 2, 3]))"
      ]
     },
     "execution_count": 23,
     "metadata": {},
     "output_type": "execute_result"
    }
   ],
   "source": [
    "np.unique(y_preds), np.unique(y_test)"
   ]
  },
  {
   "cell_type": "code",
   "execution_count": 32,
   "metadata": {},
   "outputs": [
    {
     "data": {
      "text/plain": [
       "<Axes: >"
      ]
     },
     "execution_count": 32,
     "metadata": {},
     "output_type": "execute_result"
    },
    {
     "data": {
      "image/png": "[encoded data removed]",
      "text/plain": [
       "<Figure size 640x480 with 2 Axes>"
      ]
     },
     "metadata": {},
     "output_type": "display_data"
    }
   ],
   "source": [
    "CM = confusion_matrix(y_test, y_preds)\n",
    "# ConfusionMatrixDisplay(CM, display_labels=le.classes_).plot()\n",
    "sn.heatmap(CM, annot=True, cmap=\"Blues_r\")\n"
   ]
  },
  {
   "cell_type": "code",
   "execution_count": 13,
   "metadata": {},
   "outputs": [
    {
     "data": {
      "image/png": "[encoded data removed]",
      "text/plain": [
       "<Figure size 640x480 with 2 Axes>"
      ]
     },
     "metadata": {},
     "output_type": "display_data"
    }
   ],
   "source": [
    "# importing the required libraries for logistic regression\n",
    "from sklearn.linear_model import LogisticRegression\n",
    "\n",
    "np.random.seed(42)\n",
    "#njobs was set to -1 for high computational power and max_iter was increased as I was having some warning.. \n",
    "LR = LogisticRegression(solver = \"newton-cg\", multi_class = \"multinomial\", max_iter= 500, n_jobs = -1) \n",
    "\n",
    "LR.fit(X_train, y_train)\n",
    "\n",
    "y_preds = LR.predict(X_test)\n",
    "\n",
    "#Confusion Matrix for Logistic Regression\n",
    "CM = confusion_matrix(y_test, y_preds)\n",
    "ConfusionMatrixDisplay(CM).plot();"
   ]
  },
  {
   "cell_type": "code",
   "execution_count": 14,
   "metadata": {},
   "outputs": [
    {
     "name": "stderr",
     "output_type": "stream",
     "text": [
      "/home/codespace/.local/lib/python3.10/site-packages/sklearn/metrics/_classification.py:1469: UndefinedMetricWarning: Precision is ill-defined and being set to 0.0 in labels with no predicted samples. Use `zero_division` parameter to control this behavior.\n",
      "  _warn_prf(average, modifier, msg_start, len(result))\n"
     ]
    },
    {
     "data": {
      "text/plain": [
       "(0.7442748091603053,\n",
       " array([0.        , 0.69565217, 0.75      , 0.76243094]),\n",
       " array([0.        , 0.59259259, 0.5       , 0.85185185]),\n",
       " array([0.        , 0.64      , 0.6       , 0.80466472]))"
      ]
     },
     "execution_count": 14,
     "metadata": {},
     "output_type": "execute_result"
    }
   ],
   "source": [
    "from sklearn.metrics import accuracy_score, precision_score, recall_score, f1_score\n",
    "accuracy_score(y_test, y_preds), precision_score(y_test, y_preds, average=None), recall_score(y_test, y_preds, average=None), f1_score(y_test, y_preds, average=None)"
   ]
  },
  {
   "cell_type": "code",
   "execution_count": 15,
   "metadata": {},
   "outputs": [],
   "source": [
    "from sklearn.preprocessing import StandardScaler\n",
    "SS = StandardScaler()\n",
    "np.random.seed(42)\n",
    "## fit the data to calculate mean and variance of training data\n",
    "SS.fit(X_train)\n",
    "\n",
    "## standardize the training set\n",
    "X_train_SS = SS.fit_transform(X_train)\n",
    "\n",
    "## standardize the test set using the mean of train set.\n",
    "X_test_SS =SS.transform(X_test)"
   ]
  },
  {
   "cell_type": "code",
   "execution_count": 16,
   "metadata": {},
   "outputs": [],
   "source": [
    "from sklearn.neighbors import KNeighborsClassifier\n",
    "np.random.seed(42)\n",
    "KNN = KNeighborsClassifier()\n",
    "\n",
    "KNN.fit(X_train_SS, y_train)\n",
    "\n",
    "y_preds = KNN.predict(X_test_SS)"
   ]
  },
  {
   "cell_type": "code",
   "execution_count": 17,
   "metadata": {},
   "outputs": [
    {
     "data": {
      "image/png": "[encoded data removed]",
      "text/plain": [
       "<Figure size 640x480 with 2 Axes>"
      ]
     },
     "metadata": {},
     "output_type": "display_data"
    }
   ],
   "source": [
    "CM = confusion_matrix(y_test, y_preds)\n",
    "ConfusionMatrixDisplay(CM).plot();"
   ]
  },
  {
   "cell_type": "code",
   "execution_count": 18,
   "metadata": {},
   "outputs": [
    {
     "name": "stderr",
     "output_type": "stream",
     "text": [
      "/home/codespace/.local/lib/python3.10/site-packages/sklearn/metrics/_classification.py:1469: UndefinedMetricWarning: Precision is ill-defined and being set to 0.0 in labels with no predicted samples. Use `zero_division` parameter to control this behavior.\n",
      "  _warn_prf(average, modifier, msg_start, len(result))\n"
     ]
    },
    {
     "data": {
      "text/plain": [
       "(0.7175572519083969,\n",
       " array([0.        , 0.60714286, 0.81818182, 0.76646707]),\n",
       " array([0.        , 0.62962963, 0.5       , 0.79012346]),\n",
       " array([0.        , 0.61818182, 0.62068966, 0.7781155 ]))"
      ]
     },
     "execution_count": 18,
     "metadata": {},
     "output_type": "execute_result"
    }
   ],
   "source": [
    "accuracy_score(y_test, y_preds), precision_score(y_test, y_preds, average=None), recall_score(y_test, y_preds, average=None), f1_score(y_test, y_preds, average=None)"
   ]
  },
  {
   "cell_type": "code",
   "execution_count": 19,
   "metadata": {},
   "outputs": [],
   "source": [
    "from sklearn.neighbors import KNeighborsClassifier\n",
    "\n",
    "KNN = KNeighborsClassifier()\n",
    "\n",
    "KNN.fit(X_train, y_train)\n",
    "\n",
    "y_preds = KNN.predict(X_test)"
   ]
  },
  {
   "cell_type": "code",
   "execution_count": 20,
   "metadata": {},
   "outputs": [
    {
     "data": {
      "image/png": "[encoded data removed]",
      "text/plain": [
       "<Figure size 640x480 with 2 Axes>"
      ]
     },
     "metadata": {},
     "output_type": "display_data"
    }
   ],
   "source": [
    "CM = confusion_matrix(y_test, y_preds)\n",
    "ConfusionMatrixDisplay(CM).plot();"
   ]
  },
  {
   "cell_type": "code",
   "execution_count": 21,
   "metadata": {},
   "outputs": [
    {
     "name": "stderr",
     "output_type": "stream",
     "text": [
      "/home/codespace/.local/lib/python3.10/site-packages/sklearn/metrics/_classification.py:1469: UndefinedMetricWarning: Precision is ill-defined and being set to 0.0 in labels with no predicted samples. Use `zero_division` parameter to control this behavior.\n",
      "  _warn_prf(average, modifier, msg_start, len(result))\n"
     ]
    },
    {
     "data": {
      "text/plain": [
       "(0.7175572519083969,\n",
       " array([0.        , 0.65714286, 0.83333333, 0.73655914]),\n",
       " array([0.        , 0.56790123, 0.27777778, 0.84567901]),\n",
       " array([0.        , 0.60927152, 0.41666667, 0.78735632]))"
      ]
     },
     "execution_count": 21,
     "metadata": {},
     "output_type": "execute_result"
    }
   ],
   "source": [
    "accuracy_score(y_test, y_preds), precision_score(y_test, y_preds, average=None), recall_score(y_test, y_preds, average=None), f1_score(y_test, y_preds, average=None)"
   ]
  }
 ],
 "metadata": {
  "kernelspec": {
   "display_name": "Python 3 (ipykernel)",
   "language": "python",
   "name": "python3"
  },
  "language_info": {
   "codemirror_mode": {
    "name": "ipython",
    "version": 3
   },
   "file_extension": ".py",
   "mimetype": "text/x-python",
   "name": "python",
   "nbconvert_exporter": "python",
   "pygments_lexer": "ipython3",
   "version": "3.10.8"
  },
  "orig_nbformat": 4
 },
 "nbformat": 4,
 "nbformat_minor": 2
}
