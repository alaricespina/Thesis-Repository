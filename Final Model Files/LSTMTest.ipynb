{
 "cells": [
  {
   "cell_type": "code",
   "execution_count": 90,
   "metadata": {},
   "outputs": [],
   "source": [
    "import tensorflow as tf \n",
    "import numpy as np \n",
    "import pandas as pd \n",
    "import matplotlib.pyplot as plt\n",
    "\n",
    "from tensorflow import keras \n",
    "from tensorflow.keras import layers \n",
    "from tensorflow.keras.models import Sequential\n",
    "from tensorflow.keras.callbacks import ModelCheckpoint\n",
    "from tensorflow.keras.metrics import RootMeanSquaredError, MeanAbsoluteError\n",
    "from tensorflow.keras.losses import MeanSquaredError, MeanAbsoluteError\n",
    "from tensorflow.keras.optimizers import Adam \n",
    "\n",
    "from keras.models import load_model\n",
    "from sklearn.model_selection import train_test_split"
   ]
  },
  {
   "cell_type": "code",
   "execution_count": 91,
   "metadata": {},
   "outputs": [
    {
     "data": {
      "text/html": [
       "<div>\n",
       "<style scoped>\n",
       "    .dataframe tbody tr th:only-of-type {\n",
       "        vertical-align: middle;\n",
       "    }\n",
       "\n",
       "    .dataframe tbody tr th {\n",
       "        vertical-align: top;\n",
       "    }\n",
       "\n",
       "    .dataframe thead th {\n",
       "        text-align: right;\n",
       "    }\n",
       "</style>\n",
       "<table border=\"1\" class=\"dataframe\">\n",
       "  <thead>\n",
       "    <tr style=\"text-align: right;\">\n",
       "      <th></th>\n",
       "      <th>name</th>\n",
       "      <th>datetime</th>\n",
       "      <th>tempmax</th>\n",
       "      <th>tempmin</th>\n",
       "      <th>temp</th>\n",
       "      <th>feelslikemax</th>\n",
       "      <th>feelslikemin</th>\n",
       "      <th>feelslike</th>\n",
       "      <th>dew</th>\n",
       "      <th>humidity</th>\n",
       "      <th>...</th>\n",
       "      <th>solarenergy</th>\n",
       "      <th>uvindex</th>\n",
       "      <th>severerisk</th>\n",
       "      <th>sunrise</th>\n",
       "      <th>sunset</th>\n",
       "      <th>moonphase</th>\n",
       "      <th>conditions</th>\n",
       "      <th>description</th>\n",
       "      <th>icon</th>\n",
       "      <th>stations</th>\n",
       "    </tr>\n",
       "  </thead>\n",
       "  <tbody>\n",
       "    <tr>\n",
       "      <th>0</th>\n",
       "      <td>quezon city</td>\n",
       "      <td>2020-01-01</td>\n",
       "      <td>29.3</td>\n",
       "      <td>24.5</td>\n",
       "      <td>26.9</td>\n",
       "      <td>32.3</td>\n",
       "      <td>24.5</td>\n",
       "      <td>28.7</td>\n",
       "      <td>22.6</td>\n",
       "      <td>77.4</td>\n",
       "      <td>...</td>\n",
       "      <td>7.0</td>\n",
       "      <td>3</td>\n",
       "      <td>NaN</td>\n",
       "      <td>2020-01-01T06:20:49</td>\n",
       "      <td>2020-01-01T17:37:11</td>\n",
       "      <td>0.19</td>\n",
       "      <td>Rain, Partially cloudy</td>\n",
       "      <td>Partly cloudy throughout the day with a chance...</td>\n",
       "      <td>rain</td>\n",
       "      <td>98429099999,RPLC,98327099999,98428099999,RPLL,...</td>\n",
       "    </tr>\n",
       "    <tr>\n",
       "      <th>1</th>\n",
       "      <td>quezon city</td>\n",
       "      <td>2020-01-02</td>\n",
       "      <td>31.0</td>\n",
       "      <td>24.7</td>\n",
       "      <td>27.6</td>\n",
       "      <td>35.4</td>\n",
       "      <td>24.7</td>\n",
       "      <td>29.2</td>\n",
       "      <td>21.9</td>\n",
       "      <td>72.1</td>\n",
       "      <td>...</td>\n",
       "      <td>8.1</td>\n",
       "      <td>4</td>\n",
       "      <td>NaN</td>\n",
       "      <td>2020-01-02T06:21:11</td>\n",
       "      <td>2020-01-02T17:37:45</td>\n",
       "      <td>0.22</td>\n",
       "      <td>Rain, Partially cloudy</td>\n",
       "      <td>Partly cloudy throughout the day with rain.</td>\n",
       "      <td>rain</td>\n",
       "      <td>98429099999,RPLC,98327099999,98428099999,RPLL,...</td>\n",
       "    </tr>\n",
       "    <tr>\n",
       "      <th>2</th>\n",
       "      <td>quezon city</td>\n",
       "      <td>2020-01-03</td>\n",
       "      <td>31.9</td>\n",
       "      <td>22.8</td>\n",
       "      <td>27.1</td>\n",
       "      <td>34.2</td>\n",
       "      <td>22.8</td>\n",
       "      <td>28.0</td>\n",
       "      <td>19.7</td>\n",
       "      <td>65.0</td>\n",
       "      <td>...</td>\n",
       "      <td>7.7</td>\n",
       "      <td>4</td>\n",
       "      <td>NaN</td>\n",
       "      <td>2020-01-03T06:21:33</td>\n",
       "      <td>2020-01-03T17:38:20</td>\n",
       "      <td>0.25</td>\n",
       "      <td>Partially cloudy</td>\n",
       "      <td>Partly cloudy throughout the day.</td>\n",
       "      <td>partly-cloudy-day</td>\n",
       "      <td>98429099999,RPLC,98327099999,98428099999,RPLL,...</td>\n",
       "    </tr>\n",
       "    <tr>\n",
       "      <th>3</th>\n",
       "      <td>quezon city</td>\n",
       "      <td>2020-01-04</td>\n",
       "      <td>31.2</td>\n",
       "      <td>21.6</td>\n",
       "      <td>26.8</td>\n",
       "      <td>34.4</td>\n",
       "      <td>21.6</td>\n",
       "      <td>27.9</td>\n",
       "      <td>20.3</td>\n",
       "      <td>68.7</td>\n",
       "      <td>...</td>\n",
       "      <td>8.3</td>\n",
       "      <td>4</td>\n",
       "      <td>NaN</td>\n",
       "      <td>2020-01-04T06:21:54</td>\n",
       "      <td>2020-01-04T17:38:55</td>\n",
       "      <td>0.29</td>\n",
       "      <td>Rain, Partially cloudy</td>\n",
       "      <td>Partly cloudy throughout the day with late aft...</td>\n",
       "      <td>rain</td>\n",
       "      <td>98429099999,RPLC,98327099999,98428099999,RPLL,...</td>\n",
       "    </tr>\n",
       "    <tr>\n",
       "      <th>4</th>\n",
       "      <td>quezon city</td>\n",
       "      <td>2020-01-05</td>\n",
       "      <td>30.9</td>\n",
       "      <td>23.3</td>\n",
       "      <td>27.1</td>\n",
       "      <td>33.0</td>\n",
       "      <td>23.3</td>\n",
       "      <td>28.2</td>\n",
       "      <td>21.1</td>\n",
       "      <td>71.0</td>\n",
       "      <td>...</td>\n",
       "      <td>8.9</td>\n",
       "      <td>4</td>\n",
       "      <td>NaN</td>\n",
       "      <td>2020-01-05T06:22:14</td>\n",
       "      <td>2020-01-05T17:39:30</td>\n",
       "      <td>0.32</td>\n",
       "      <td>Rain, Partially cloudy</td>\n",
       "      <td>Partly cloudy throughout the day with rain cle...</td>\n",
       "      <td>rain</td>\n",
       "      <td>98429099999,RPLC,98327099999,98428099999,RPLL,...</td>\n",
       "    </tr>\n",
       "    <tr>\n",
       "      <th>...</th>\n",
       "      <td>...</td>\n",
       "      <td>...</td>\n",
       "      <td>...</td>\n",
       "      <td>...</td>\n",
       "      <td>...</td>\n",
       "      <td>...</td>\n",
       "      <td>...</td>\n",
       "      <td>...</td>\n",
       "      <td>...</td>\n",
       "      <td>...</td>\n",
       "      <td>...</td>\n",
       "      <td>...</td>\n",
       "      <td>...</td>\n",
       "      <td>...</td>\n",
       "      <td>...</td>\n",
       "      <td>...</td>\n",
       "      <td>...</td>\n",
       "      <td>...</td>\n",
       "      <td>...</td>\n",
       "      <td>...</td>\n",
       "      <td>...</td>\n",
       "    </tr>\n",
       "    <tr>\n",
       "      <th>1303</th>\n",
       "      <td>quezon city</td>\n",
       "      <td>2023-07-27</td>\n",
       "      <td>30.8</td>\n",
       "      <td>25.7</td>\n",
       "      <td>27.8</td>\n",
       "      <td>38.8</td>\n",
       "      <td>25.7</td>\n",
       "      <td>32.4</td>\n",
       "      <td>25.4</td>\n",
       "      <td>86.5</td>\n",
       "      <td>...</td>\n",
       "      <td>5.5</td>\n",
       "      <td>3</td>\n",
       "      <td>30.0</td>\n",
       "      <td>2023-07-27T05:37:39</td>\n",
       "      <td>2023-07-27T18:27:01</td>\n",
       "      <td>0.31</td>\n",
       "      <td>Rain, Overcast</td>\n",
       "      <td>Cloudy skies throughout the day with a chance ...</td>\n",
       "      <td>rain</td>\n",
       "      <td>98429099999,C6CX3,98327099999,98428099999,RPLL...</td>\n",
       "    </tr>\n",
       "    <tr>\n",
       "      <th>1304</th>\n",
       "      <td>quezon city</td>\n",
       "      <td>2023-07-28</td>\n",
       "      <td>29.9</td>\n",
       "      <td>24.2</td>\n",
       "      <td>26.9</td>\n",
       "      <td>37.3</td>\n",
       "      <td>24.2</td>\n",
       "      <td>29.6</td>\n",
       "      <td>24.9</td>\n",
       "      <td>89.5</td>\n",
       "      <td>...</td>\n",
       "      <td>7.3</td>\n",
       "      <td>4</td>\n",
       "      <td>60.0</td>\n",
       "      <td>2023-07-28T05:37:54</td>\n",
       "      <td>2023-07-28T18:26:44</td>\n",
       "      <td>0.35</td>\n",
       "      <td>Rain, Overcast</td>\n",
       "      <td>Cloudy skies throughout the day with a chance ...</td>\n",
       "      <td>rain</td>\n",
       "      <td>98429099999,C6CX3,98327099999,98428099999,RPLL...</td>\n",
       "    </tr>\n",
       "    <tr>\n",
       "      <th>1305</th>\n",
       "      <td>quezon city</td>\n",
       "      <td>2023-07-29</td>\n",
       "      <td>29.4</td>\n",
       "      <td>21.9</td>\n",
       "      <td>25.7</td>\n",
       "      <td>36.3</td>\n",
       "      <td>21.9</td>\n",
       "      <td>26.9</td>\n",
       "      <td>25.0</td>\n",
       "      <td>94.9</td>\n",
       "      <td>...</td>\n",
       "      <td>7.2</td>\n",
       "      <td>5</td>\n",
       "      <td>30.0</td>\n",
       "      <td>2023-07-29T05:38:09</td>\n",
       "      <td>2023-07-29T18:26:25</td>\n",
       "      <td>0.38</td>\n",
       "      <td>Rain, Overcast</td>\n",
       "      <td>Cloudy skies throughout the day with a chance ...</td>\n",
       "      <td>rain</td>\n",
       "      <td>98429099999,98327099999,98428099999,RPLL,98430...</td>\n",
       "    </tr>\n",
       "    <tr>\n",
       "      <th>1306</th>\n",
       "      <td>quezon city</td>\n",
       "      <td>2023-07-30</td>\n",
       "      <td>28.0</td>\n",
       "      <td>24.9</td>\n",
       "      <td>26.6</td>\n",
       "      <td>34.5</td>\n",
       "      <td>24.9</td>\n",
       "      <td>29.0</td>\n",
       "      <td>25.1</td>\n",
       "      <td>92.0</td>\n",
       "      <td>...</td>\n",
       "      <td>7.9</td>\n",
       "      <td>5</td>\n",
       "      <td>30.0</td>\n",
       "      <td>2023-07-30T05:38:24</td>\n",
       "      <td>2023-07-30T18:26:06</td>\n",
       "      <td>0.41</td>\n",
       "      <td>Rain, Overcast</td>\n",
       "      <td>Cloudy skies throughout the day with a chance ...</td>\n",
       "      <td>rain</td>\n",
       "      <td>98429099999,C6CX3,98327099999,98428099999,RPLL...</td>\n",
       "    </tr>\n",
       "    <tr>\n",
       "      <th>1307</th>\n",
       "      <td>quezon city</td>\n",
       "      <td>2023-07-31</td>\n",
       "      <td>29.9</td>\n",
       "      <td>25.2</td>\n",
       "      <td>26.6</td>\n",
       "      <td>37.3</td>\n",
       "      <td>25.2</td>\n",
       "      <td>28.9</td>\n",
       "      <td>25.3</td>\n",
       "      <td>92.5</td>\n",
       "      <td>...</td>\n",
       "      <td>8.9</td>\n",
       "      <td>9</td>\n",
       "      <td>30.0</td>\n",
       "      <td>2023-07-31T05:38:39</td>\n",
       "      <td>2023-07-31T18:25:46</td>\n",
       "      <td>0.45</td>\n",
       "      <td>Rain, Overcast</td>\n",
       "      <td>Cloudy skies throughout the day with a chance ...</td>\n",
       "      <td>rain</td>\n",
       "      <td>98429099999,C6CX3,98327099999,98428099999,RPLL...</td>\n",
       "    </tr>\n",
       "  </tbody>\n",
       "</table>\n",
       "<p>1308 rows × 33 columns</p>\n",
       "</div>"
      ],
      "text/plain": [
       "             name    datetime  tempmax  tempmin  temp  feelslikemax  \\\n",
       "0     quezon city  2020-01-01     29.3     24.5  26.9          32.3   \n",
       "1     quezon city  2020-01-02     31.0     24.7  27.6          35.4   \n",
       "2     quezon city  2020-01-03     31.9     22.8  27.1          34.2   \n",
       "3     quezon city  2020-01-04     31.2     21.6  26.8          34.4   \n",
       "4     quezon city  2020-01-05     30.9     23.3  27.1          33.0   \n",
       "...           ...         ...      ...      ...   ...           ...   \n",
       "1303  quezon city  2023-07-27     30.8     25.7  27.8          38.8   \n",
       "1304  quezon city  2023-07-28     29.9     24.2  26.9          37.3   \n",
       "1305  quezon city  2023-07-29     29.4     21.9  25.7          36.3   \n",
       "1306  quezon city  2023-07-30     28.0     24.9  26.6          34.5   \n",
       "1307  quezon city  2023-07-31     29.9     25.2  26.6          37.3   \n",
       "\n",
       "      feelslikemin  feelslike   dew  humidity  ...  solarenergy  uvindex  \\\n",
       "0             24.5       28.7  22.6      77.4  ...          7.0        3   \n",
       "1             24.7       29.2  21.9      72.1  ...          8.1        4   \n",
       "2             22.8       28.0  19.7      65.0  ...          7.7        4   \n",
       "3             21.6       27.9  20.3      68.7  ...          8.3        4   \n",
       "4             23.3       28.2  21.1      71.0  ...          8.9        4   \n",
       "...            ...        ...   ...       ...  ...          ...      ...   \n",
       "1303          25.7       32.4  25.4      86.5  ...          5.5        3   \n",
       "1304          24.2       29.6  24.9      89.5  ...          7.3        4   \n",
       "1305          21.9       26.9  25.0      94.9  ...          7.2        5   \n",
       "1306          24.9       29.0  25.1      92.0  ...          7.9        5   \n",
       "1307          25.2       28.9  25.3      92.5  ...          8.9        9   \n",
       "\n",
       "      severerisk              sunrise               sunset  moonphase  \\\n",
       "0            NaN  2020-01-01T06:20:49  2020-01-01T17:37:11       0.19   \n",
       "1            NaN  2020-01-02T06:21:11  2020-01-02T17:37:45       0.22   \n",
       "2            NaN  2020-01-03T06:21:33  2020-01-03T17:38:20       0.25   \n",
       "3            NaN  2020-01-04T06:21:54  2020-01-04T17:38:55       0.29   \n",
       "4            NaN  2020-01-05T06:22:14  2020-01-05T17:39:30       0.32   \n",
       "...          ...                  ...                  ...        ...   \n",
       "1303        30.0  2023-07-27T05:37:39  2023-07-27T18:27:01       0.31   \n",
       "1304        60.0  2023-07-28T05:37:54  2023-07-28T18:26:44       0.35   \n",
       "1305        30.0  2023-07-29T05:38:09  2023-07-29T18:26:25       0.38   \n",
       "1306        30.0  2023-07-30T05:38:24  2023-07-30T18:26:06       0.41   \n",
       "1307        30.0  2023-07-31T05:38:39  2023-07-31T18:25:46       0.45   \n",
       "\n",
       "                  conditions  \\\n",
       "0     Rain, Partially cloudy   \n",
       "1     Rain, Partially cloudy   \n",
       "2           Partially cloudy   \n",
       "3     Rain, Partially cloudy   \n",
       "4     Rain, Partially cloudy   \n",
       "...                      ...   \n",
       "1303          Rain, Overcast   \n",
       "1304          Rain, Overcast   \n",
       "1305          Rain, Overcast   \n",
       "1306          Rain, Overcast   \n",
       "1307          Rain, Overcast   \n",
       "\n",
       "                                            description               icon  \\\n",
       "0     Partly cloudy throughout the day with a chance...               rain   \n",
       "1           Partly cloudy throughout the day with rain.               rain   \n",
       "2                     Partly cloudy throughout the day.  partly-cloudy-day   \n",
       "3     Partly cloudy throughout the day with late aft...               rain   \n",
       "4     Partly cloudy throughout the day with rain cle...               rain   \n",
       "...                                                 ...                ...   \n",
       "1303  Cloudy skies throughout the day with a chance ...               rain   \n",
       "1304  Cloudy skies throughout the day with a chance ...               rain   \n",
       "1305  Cloudy skies throughout the day with a chance ...               rain   \n",
       "1306  Cloudy skies throughout the day with a chance ...               rain   \n",
       "1307  Cloudy skies throughout the day with a chance ...               rain   \n",
       "\n",
       "                                               stations  \n",
       "0     98429099999,RPLC,98327099999,98428099999,RPLL,...  \n",
       "1     98429099999,RPLC,98327099999,98428099999,RPLL,...  \n",
       "2     98429099999,RPLC,98327099999,98428099999,RPLL,...  \n",
       "3     98429099999,RPLC,98327099999,98428099999,RPLL,...  \n",
       "4     98429099999,RPLC,98327099999,98428099999,RPLL,...  \n",
       "...                                                 ...  \n",
       "1303  98429099999,C6CX3,98327099999,98428099999,RPLL...  \n",
       "1304  98429099999,C6CX3,98327099999,98428099999,RPLL...  \n",
       "1305  98429099999,98327099999,98428099999,RPLL,98430...  \n",
       "1306  98429099999,C6CX3,98327099999,98428099999,RPLL...  \n",
       "1307  98429099999,C6CX3,98327099999,98428099999,RPLL...  \n",
       "\n",
       "[1308 rows x 33 columns]"
      ]
     },
     "execution_count": 91,
     "metadata": {},
     "output_type": "execute_result"
    }
   ],
   "source": [
    "csv_filename = \"qc aggregated data.csv\"\n",
    "df = pd.read_csv(csv_filename)\n",
    "df"
   ]
  },
  {
   "cell_type": "code",
   "execution_count": 92,
   "metadata": {},
   "outputs": [
    {
     "data": {
      "text/plain": [
       "Index(['name', 'datetime', 'tempmax', 'tempmin', 'temp', 'feelslikemax',\n",
       "       'feelslikemin', 'feelslike', 'dew', 'humidity', 'precip', 'precipprob',\n",
       "       'precipcover', 'preciptype', 'snow', 'snowdepth', 'windgust',\n",
       "       'windspeed', 'winddir', 'sealevelpressure', 'cloudcover', 'visibility',\n",
       "       'solarradiation', 'solarenergy', 'uvindex', 'severerisk', 'sunrise',\n",
       "       'sunset', 'moonphase', 'conditions', 'description', 'icon', 'stations'],\n",
       "      dtype='object')"
      ]
     },
     "execution_count": 92,
     "metadata": {},
     "output_type": "execute_result"
    }
   ],
   "source": [
    "df.columns"
   ]
  },
  {
   "cell_type": "code",
   "execution_count": 93,
   "metadata": {},
   "outputs": [
    {
     "data": {
      "text/html": [
       "<div>\n",
       "<style scoped>\n",
       "    .dataframe tbody tr th:only-of-type {\n",
       "        vertical-align: middle;\n",
       "    }\n",
       "\n",
       "    .dataframe tbody tr th {\n",
       "        vertical-align: top;\n",
       "    }\n",
       "\n",
       "    .dataframe thead th {\n",
       "        text-align: right;\n",
       "    }\n",
       "</style>\n",
       "<table border=\"1\" class=\"dataframe\">\n",
       "  <thead>\n",
       "    <tr style=\"text-align: right;\">\n",
       "      <th></th>\n",
       "      <th>precip</th>\n",
       "      <th>precipprob</th>\n",
       "      <th>precipcover</th>\n",
       "      <th>conditions</th>\n",
       "      <th>description</th>\n",
       "    </tr>\n",
       "  </thead>\n",
       "  <tbody>\n",
       "    <tr>\n",
       "      <th>0</th>\n",
       "      <td>0.098</td>\n",
       "      <td>100</td>\n",
       "      <td>25.00</td>\n",
       "      <td>Rain, Partially cloudy</td>\n",
       "      <td>Partly cloudy throughout the day with a chance...</td>\n",
       "    </tr>\n",
       "    <tr>\n",
       "      <th>1</th>\n",
       "      <td>0.049</td>\n",
       "      <td>100</td>\n",
       "      <td>12.50</td>\n",
       "      <td>Rain, Partially cloudy</td>\n",
       "      <td>Partly cloudy throughout the day with rain.</td>\n",
       "    </tr>\n",
       "    <tr>\n",
       "      <th>2</th>\n",
       "      <td>0.000</td>\n",
       "      <td>0</td>\n",
       "      <td>0.00</td>\n",
       "      <td>Partially cloudy</td>\n",
       "      <td>Partly cloudy throughout the day.</td>\n",
       "    </tr>\n",
       "    <tr>\n",
       "      <th>3</th>\n",
       "      <td>0.005</td>\n",
       "      <td>100</td>\n",
       "      <td>4.17</td>\n",
       "      <td>Rain, Partially cloudy</td>\n",
       "      <td>Partly cloudy throughout the day with late aft...</td>\n",
       "    </tr>\n",
       "    <tr>\n",
       "      <th>4</th>\n",
       "      <td>0.397</td>\n",
       "      <td>100</td>\n",
       "      <td>12.50</td>\n",
       "      <td>Rain, Partially cloudy</td>\n",
       "      <td>Partly cloudy throughout the day with rain cle...</td>\n",
       "    </tr>\n",
       "    <tr>\n",
       "      <th>...</th>\n",
       "      <td>...</td>\n",
       "      <td>...</td>\n",
       "      <td>...</td>\n",
       "      <td>...</td>\n",
       "      <td>...</td>\n",
       "    </tr>\n",
       "    <tr>\n",
       "      <th>1303</th>\n",
       "      <td>37.916</td>\n",
       "      <td>100</td>\n",
       "      <td>29.17</td>\n",
       "      <td>Rain, Overcast</td>\n",
       "      <td>Cloudy skies throughout the day with a chance ...</td>\n",
       "    </tr>\n",
       "    <tr>\n",
       "      <th>1304</th>\n",
       "      <td>98.198</td>\n",
       "      <td>100</td>\n",
       "      <td>29.17</td>\n",
       "      <td>Rain, Overcast</td>\n",
       "      <td>Cloudy skies throughout the day with a chance ...</td>\n",
       "    </tr>\n",
       "    <tr>\n",
       "      <th>1305</th>\n",
       "      <td>80.292</td>\n",
       "      <td>100</td>\n",
       "      <td>29.17</td>\n",
       "      <td>Rain, Overcast</td>\n",
       "      <td>Cloudy skies throughout the day with a chance ...</td>\n",
       "    </tr>\n",
       "    <tr>\n",
       "      <th>1306</th>\n",
       "      <td>23.661</td>\n",
       "      <td>100</td>\n",
       "      <td>29.17</td>\n",
       "      <td>Rain, Overcast</td>\n",
       "      <td>Cloudy skies throughout the day with a chance ...</td>\n",
       "    </tr>\n",
       "    <tr>\n",
       "      <th>1307</th>\n",
       "      <td>31.563</td>\n",
       "      <td>100</td>\n",
       "      <td>25.00</td>\n",
       "      <td>Rain, Overcast</td>\n",
       "      <td>Cloudy skies throughout the day with a chance ...</td>\n",
       "    </tr>\n",
       "  </tbody>\n",
       "</table>\n",
       "<p>1308 rows × 5 columns</p>\n",
       "</div>"
      ],
      "text/plain": [
       "      precip  precipprob  precipcover              conditions  \\\n",
       "0      0.098         100        25.00  Rain, Partially cloudy   \n",
       "1      0.049         100        12.50  Rain, Partially cloudy   \n",
       "2      0.000           0         0.00        Partially cloudy   \n",
       "3      0.005         100         4.17  Rain, Partially cloudy   \n",
       "4      0.397         100        12.50  Rain, Partially cloudy   \n",
       "...      ...         ...          ...                     ...   \n",
       "1303  37.916         100        29.17          Rain, Overcast   \n",
       "1304  98.198         100        29.17          Rain, Overcast   \n",
       "1305  80.292         100        29.17          Rain, Overcast   \n",
       "1306  23.661         100        29.17          Rain, Overcast   \n",
       "1307  31.563         100        25.00          Rain, Overcast   \n",
       "\n",
       "                                            description  \n",
       "0     Partly cloudy throughout the day with a chance...  \n",
       "1           Partly cloudy throughout the day with rain.  \n",
       "2                     Partly cloudy throughout the day.  \n",
       "3     Partly cloudy throughout the day with late aft...  \n",
       "4     Partly cloudy throughout the day with rain cle...  \n",
       "...                                                 ...  \n",
       "1303  Cloudy skies throughout the day with a chance ...  \n",
       "1304  Cloudy skies throughout the day with a chance ...  \n",
       "1305  Cloudy skies throughout the day with a chance ...  \n",
       "1306  Cloudy skies throughout the day with a chance ...  \n",
       "1307  Cloudy skies throughout the day with a chance ...  \n",
       "\n",
       "[1308 rows x 5 columns]"
      ]
     },
     "execution_count": 93,
     "metadata": {},
     "output_type": "execute_result"
    }
   ],
   "source": [
    "df[[\"precip\", \"precipprob\", \"precipcover\", \"conditions\", \"description\"]]"
   ]
  },
  {
   "cell_type": "markdown",
   "metadata": {},
   "source": [
    "Predict: Precip, Precipprob (0 or 100), Precipcover\n",
    "Map Prediction to Conditions and Description"
   ]
  },
  {
   "cell_type": "code",
   "execution_count": 94,
   "metadata": {},
   "outputs": [
    {
     "data": {
      "text/plain": [
       "(array(['Rain, Partially cloudy', 'Partially cloudy', 'Rain, Overcast',\n",
       "        'Overcast'], dtype=object),\n",
       " array([100,   0], dtype=int64),\n",
       " array(['Partly cloudy throughout the day with a chance of rain throughout the day.',\n",
       "        'Partly cloudy throughout the day with rain.',\n",
       "        'Partly cloudy throughout the day.',\n",
       "        'Partly cloudy throughout the day with late afternoon rain.',\n",
       "        'Partly cloudy throughout the day with rain clearing later.',\n",
       "        'Becoming cloudy in the afternoon with late afternoon rain.',\n",
       "        'Partly cloudy throughout the day with afternoon rain.',\n",
       "        'Becoming cloudy in the afternoon with early morning rain.',\n",
       "        'Partly cloudy throughout the day with early morning rain.',\n",
       "        'Partly cloudy throughout the day with morning rain.',\n",
       "        'Partly cloudy throughout the day with rain in the morning and afternoon.',\n",
       "        'Becoming cloudy in the afternoon.',\n",
       "        'Becoming cloudy in the afternoon with rain.',\n",
       "        'Cloudy skies throughout the day with rain clearing later.',\n",
       "        'Cloudy skies throughout the day with a chance of rain throughout the day.',\n",
       "        'Cloudy skies throughout the day with rain.',\n",
       "        'Becoming cloudy in the afternoon with afternoon rain.',\n",
       "        'Clearing in the afternoon with rain.',\n",
       "        'Clearing in the afternoon.',\n",
       "        'Cloudy skies throughout the day with early morning rain.',\n",
       "        'Cloudy skies throughout the day.',\n",
       "        'Cloudy skies throughout the day with morning rain.',\n",
       "        'Cloudy skies throughout the day with afternoon rain.',\n",
       "        'Cloudy skies throughout the day with late afternoon rain.',\n",
       "        'Cloudy skies throughout the day with rain in the morning and afternoon.'],\n",
       "       dtype=object))"
      ]
     },
     "execution_count": 94,
     "metadata": {},
     "output_type": "execute_result"
    }
   ],
   "source": [
    "df[\"conditions\"].unique(), df[\"precipprob\"].unique(), df[\"description\"].unique()"
   ]
  },
  {
   "cell_type": "code",
   "execution_count": 95,
   "metadata": {},
   "outputs": [
    {
     "data": {
      "text/plain": [
       "<Axes: >"
      ]
     },
     "execution_count": 95,
     "metadata": {},
     "output_type": "execute_result"
    },
    {
     "data": {
      "image/png": "[encoded data removed]",
      "text/plain": [
       "<Figure size 640x480 with 1 Axes>"
      ]
     },
     "metadata": {},
     "output_type": "display_data"
    }
   ],
   "source": [
    "df[\"precip\"].plot()"
   ]
  },
  {
   "cell_type": "markdown",
   "metadata": {},
   "source": [
    "# Predicting Precipitation Probability\n",
    "\n",
    "Predicting Precipitation Probability as a Time Series using LSTM, and Comparing said LSTM Prediction to ANN"
   ]
  },
  {
   "cell_type": "code",
   "execution_count": 96,
   "metadata": {},
   "outputs": [
    {
     "data": {
      "text/plain": [
       "((1303, 5, 1), (1303,))"
      ]
     },
     "execution_count": 96,
     "metadata": {},
     "output_type": "execute_result"
    }
   ],
   "source": [
    "raw_Inputs = df[\"precip\"].copy()\n",
    "window_length = 5\n",
    "t_arr = raw_Inputs.to_numpy()\n",
    "X = []\n",
    "y= []\n",
    "\n",
    "for i in range(len(t_arr)-window_length):\n",
    "    t_row = []\n",
    "    for j in t_arr[i:i+window_length]:\n",
    "        t_row.append([j])\n",
    "    X.append(t_row)\n",
    "    y.append(t_arr[i + window_length])\n",
    "\n",
    "X = np.array(X)\n",
    "y = np.array(y)\n",
    "\n",
    "X.shape, y.shape"
   ]
  },
  {
   "cell_type": "code",
   "execution_count": 97,
   "metadata": {},
   "outputs": [],
   "source": [
    "# Train Test Split Implementation\n",
    "\n",
    "\n",
    "\n"
   ]
  },
  {
   "cell_type": "code",
   "execution_count": 98,
   "metadata": {},
   "outputs": [],
   "source": [
    "# Set Num Implementation\n",
    "train_part = 800\n",
    "valid_part = 1000\n",
    "\n",
    "X_train, y_train = X[:train_part], y[:train_part]\n",
    "X_val, y_val = X[train_part:valid_part], y[train_part:valid_part]\n",
    "X_test, y_test = X[valid_part:], y[valid_part:]"
   ]
  },
  {
   "cell_type": "code",
   "execution_count": 99,
   "metadata": {},
   "outputs": [
    {
     "data": {
      "image/png": "[encoded data removed]",
      "text/plain": [
       "<Figure size 640x480 with 1 Axes>"
      ]
     },
     "metadata": {},
     "output_type": "display_data"
    }
   ],
   "source": [
    "plt.plot(y_train, label=\"Train\")\n",
    "plt.plot(y_val, label=\"Validation\")\n",
    "plt.plot(y_test, label=\"Test\")\n",
    "plt.legend()\n",
    "plt.show()"
   ]
  },
  {
   "cell_type": "code",
   "execution_count": 100,
   "metadata": {},
   "outputs": [
    {
     "name": "stdout",
     "output_type": "stream",
     "text": [
      "Model: \"sequential_5\"\n",
      "_________________________________________________________________\n",
      " Layer (type)                Output Shape              Param #   \n",
      "=================================================================\n",
      " simple_rnn_4 (SimpleRNN)    (None, 5, 64)             4224      \n",
      "                                                                 \n",
      " simple_rnn_5 (SimpleRNN)    (None, 64)                8256      \n",
      "                                                                 \n",
      " dense_10 (Dense)            (None, 4)                 260       \n",
      "                                                                 \n",
      " dense_11 (Dense)            (None, 1)                 5         \n",
      "                                                                 \n",
      "=================================================================\n",
      "Total params: 12,745\n",
      "Trainable params: 12,745\n",
      "Non-trainable params: 0\n",
      "_________________________________________________________________\n"
     ]
    }
   ],
   "source": [
    "model = Sequential([\n",
    "    layers.InputLayer((window_length, 1)),\n",
    "    layers.SimpleRNN(64, return_sequences=True),\n",
    "    layers.SimpleRNN(64),\n",
    "    layers.Dense(4),\n",
    "    layers.Dense(1)\n",
    "])\n",
    "\n",
    "model.summary()"
   ]
  },
  {
   "cell_type": "code",
   "execution_count": 101,
   "metadata": {},
   "outputs": [],
   "source": [
    "cp = ModelCheckpoint(\"LSTMTestModel/\", save_best_only=True)\n",
    "model.compile(\n",
    "    loss = MeanSquaredError(),\n",
    "    optimizer = Adam(learning_rate=0.0001),\n",
    "    metrics = [RootMeanSquaredError()]\n",
    ")"
   ]
  },
  {
   "cell_type": "code",
   "execution_count": 102,
   "metadata": {},
   "outputs": [
    {
     "name": "stdout",
     "output_type": "stream",
     "text": [
      "Epoch 1/10\n"
     ]
    },
    {
     "name": "stdout",
     "output_type": "stream",
     "text": [
      "24/25 [===========================>..] - ETA: 0s - loss: 276.2765 - root_mean_squared_error: 16.6216"
     ]
    },
    {
     "name": "stderr",
     "output_type": "stream",
     "text": [
      "WARNING:absl:Found untraced functions such as _update_step_xla while saving (showing 1 of 1). These functions will not be directly callable after loading.\n"
     ]
    },
    {
     "name": "stdout",
     "output_type": "stream",
     "text": [
      "INFO:tensorflow:Assets written to: LSTMTestModel\\assets\n"
     ]
    },
    {
     "name": "stderr",
     "output_type": "stream",
     "text": [
      "INFO:tensorflow:Assets written to: LSTMTestModel\\assets\n"
     ]
    },
    {
     "name": "stdout",
     "output_type": "stream",
     "text": [
      "25/25 [==============================] - 7s 186ms/step - loss: 282.8980 - root_mean_squared_error: 16.8196 - val_loss: 382.7098 - val_root_mean_squared_error: 19.5630\n",
      "Epoch 2/10\n",
      "24/25 [===========================>..] - ETA: 0s - loss: 280.9283 - root_mean_squared_error: 16.7609"
     ]
    },
    {
     "name": "stderr",
     "output_type": "stream",
     "text": [
      "WARNING:absl:Found untraced functions such as _update_step_xla while saving (showing 1 of 1). These functions will not be directly callable after loading.\n"
     ]
    },
    {
     "name": "stdout",
     "output_type": "stream",
     "text": [
      "INFO:tensorflow:Assets written to: LSTMTestModel\\assets\n"
     ]
    },
    {
     "name": "stderr",
     "output_type": "stream",
     "text": [
      "INFO:tensorflow:Assets written to: LSTMTestModel\\assets\n"
     ]
    },
    {
     "name": "stdout",
     "output_type": "stream",
     "text": [
      "25/25 [==============================] - 4s 148ms/step - loss: 272.7238 - root_mean_squared_error: 16.5144 - val_loss: 366.2815 - val_root_mean_squared_error: 19.1385\n",
      "Epoch 3/10\n",
      "22/25 [=========================>....] - ETA: 0s - loss: 275.0432 - root_mean_squared_error: 16.5844"
     ]
    },
    {
     "name": "stderr",
     "output_type": "stream",
     "text": [
      "WARNING:absl:Found untraced functions such as _update_step_xla while saving (showing 1 of 1). These functions will not be directly callable after loading.\n"
     ]
    },
    {
     "name": "stdout",
     "output_type": "stream",
     "text": [
      "INFO:tensorflow:Assets written to: LSTMTestModel\\assets\n"
     ]
    },
    {
     "name": "stderr",
     "output_type": "stream",
     "text": [
      "INFO:tensorflow:Assets written to: LSTMTestModel\\assets\n"
     ]
    },
    {
     "name": "stdout",
     "output_type": "stream",
     "text": [
      "25/25 [==============================] - 4s 165ms/step - loss: 264.8877 - root_mean_squared_error: 16.2754 - val_loss: 353.8300 - val_root_mean_squared_error: 18.8104\n",
      "Epoch 4/10\n",
      "24/25 [===========================>..] - ETA: 0s - loss: 258.3673 - root_mean_squared_error: 16.0738"
     ]
    },
    {
     "name": "stderr",
     "output_type": "stream",
     "text": [
      "WARNING:absl:Found untraced functions such as _update_step_xla while saving (showing 1 of 1). These functions will not be directly callable after loading.\n"
     ]
    },
    {
     "name": "stdout",
     "output_type": "stream",
     "text": [
      "INFO:tensorflow:Assets written to: LSTMTestModel\\assets\n"
     ]
    },
    {
     "name": "stderr",
     "output_type": "stream",
     "text": [
      "INFO:tensorflow:Assets written to: LSTMTestModel\\assets\n"
     ]
    },
    {
     "name": "stdout",
     "output_type": "stream",
     "text": [
      "25/25 [==============================] - 4s 164ms/step - loss: 259.0362 - root_mean_squared_error: 16.0946 - val_loss: 342.5966 - val_root_mean_squared_error: 18.5094\n",
      "Epoch 5/10\n",
      "25/25 [==============================] - ETA: 0s - loss: 254.2821 - root_mean_squared_error: 15.9462"
     ]
    },
    {
     "name": "stderr",
     "output_type": "stream",
     "text": [
      "WARNING:absl:Found untraced functions such as _update_step_xla while saving (showing 1 of 1). These functions will not be directly callable after loading.\n"
     ]
    },
    {
     "name": "stdout",
     "output_type": "stream",
     "text": [
      "INFO:tensorflow:Assets written to: LSTMTestModel\\assets\n"
     ]
    },
    {
     "name": "stderr",
     "output_type": "stream",
     "text": [
      "INFO:tensorflow:Assets written to: LSTMTestModel\\assets\n"
     ]
    },
    {
     "name": "stdout",
     "output_type": "stream",
     "text": [
      "25/25 [==============================] - 4s 161ms/step - loss: 254.2821 - root_mean_squared_error: 15.9462 - val_loss: 333.6239 - val_root_mean_squared_error: 18.2654\n",
      "Epoch 6/10\n",
      "23/25 [==========================>...] - ETA: 0s - loss: 250.3713 - root_mean_squared_error: 15.8231"
     ]
    },
    {
     "name": "stderr",
     "output_type": "stream",
     "text": [
      "WARNING:absl:Found untraced functions such as _update_step_xla while saving (showing 1 of 1). These functions will not be directly callable after loading.\n"
     ]
    },
    {
     "name": "stdout",
     "output_type": "stream",
     "text": [
      "INFO:tensorflow:Assets written to: LSTMTestModel\\assets\n"
     ]
    },
    {
     "name": "stderr",
     "output_type": "stream",
     "text": [
      "INFO:tensorflow:Assets written to: LSTMTestModel\\assets\n"
     ]
    },
    {
     "name": "stdout",
     "output_type": "stream",
     "text": [
      "25/25 [==============================] - 4s 171ms/step - loss: 250.1181 - root_mean_squared_error: 15.8151 - val_loss: 327.5740 - val_root_mean_squared_error: 18.0990\n",
      "Epoch 7/10\n",
      "21/25 [========================>.....] - ETA: 0s - loss: 248.3302 - root_mean_squared_error: 15.7585"
     ]
    },
    {
     "name": "stderr",
     "output_type": "stream",
     "text": [
      "WARNING:absl:Found untraced functions such as _update_step_xla while saving (showing 1 of 1). These functions will not be directly callable after loading.\n"
     ]
    },
    {
     "name": "stdout",
     "output_type": "stream",
     "text": [
      "INFO:tensorflow:Assets written to: LSTMTestModel\\assets\n"
     ]
    },
    {
     "name": "stderr",
     "output_type": "stream",
     "text": [
      "INFO:tensorflow:Assets written to: LSTMTestModel\\assets\n"
     ]
    },
    {
     "name": "stdout",
     "output_type": "stream",
     "text": [
      "25/25 [==============================] - 4s 155ms/step - loss: 247.2206 - root_mean_squared_error: 15.7233 - val_loss: 321.7689 - val_root_mean_squared_error: 17.9379\n",
      "Epoch 8/10\n",
      "24/25 [===========================>..] - ETA: 0s - loss: 240.9061 - root_mean_squared_error: 15.5212"
     ]
    },
    {
     "name": "stderr",
     "output_type": "stream",
     "text": [
      "WARNING:absl:Found untraced functions such as _update_step_xla while saving (showing 1 of 1). These functions will not be directly callable after loading.\n"
     ]
    },
    {
     "name": "stdout",
     "output_type": "stream",
     "text": [
      "INFO:tensorflow:Assets written to: LSTMTestModel\\assets\n"
     ]
    },
    {
     "name": "stderr",
     "output_type": "stream",
     "text": [
      "INFO:tensorflow:Assets written to: LSTMTestModel\\assets\n"
     ]
    },
    {
     "name": "stdout",
     "output_type": "stream",
     "text": [
      "25/25 [==============================] - 4s 151ms/step - loss: 244.8408 - root_mean_squared_error: 15.6474 - val_loss: 317.5099 - val_root_mean_squared_error: 17.8188\n",
      "Epoch 9/10\n",
      "23/25 [==========================>...] - ETA: 0s - loss: 259.6639 - root_mean_squared_error: 16.1141"
     ]
    },
    {
     "name": "stderr",
     "output_type": "stream",
     "text": [
      "WARNING:absl:Found untraced functions such as _update_step_xla while saving (showing 1 of 1). These functions will not be directly callable after loading.\n"
     ]
    },
    {
     "name": "stdout",
     "output_type": "stream",
     "text": [
      "INFO:tensorflow:Assets written to: LSTMTestModel\\assets\n"
     ]
    },
    {
     "name": "stderr",
     "output_type": "stream",
     "text": [
      "INFO:tensorflow:Assets written to: LSTMTestModel\\assets\n"
     ]
    },
    {
     "name": "stdout",
     "output_type": "stream",
     "text": [
      "25/25 [==============================] - 4s 157ms/step - loss: 243.0524 - root_mean_squared_error: 15.5901 - val_loss: 313.8999 - val_root_mean_squared_error: 17.7172\n",
      "Epoch 10/10\n",
      "24/25 [===========================>..] - ETA: 0s - loss: 249.6250 - root_mean_squared_error: 15.7995"
     ]
    },
    {
     "name": "stderr",
     "output_type": "stream",
     "text": [
      "WARNING:absl:Found untraced functions such as _update_step_xla while saving (showing 1 of 1). These functions will not be directly callable after loading.\n"
     ]
    },
    {
     "name": "stdout",
     "output_type": "stream",
     "text": [
      "INFO:tensorflow:Assets written to: LSTMTestModel\\assets\n"
     ]
    },
    {
     "name": "stderr",
     "output_type": "stream",
     "text": [
      "INFO:tensorflow:Assets written to: LSTMTestModel\\assets\n"
     ]
    },
    {
     "name": "stdout",
     "output_type": "stream",
     "text": [
      "25/25 [==============================] - 4s 177ms/step - loss: 241.5388 - root_mean_squared_error: 15.5415 - val_loss: 311.0673 - val_root_mean_squared_error: 17.6371\n"
     ]
    }
   ],
   "source": [
    "history = model.fit(\n",
    "    X_train,\n",
    "    y_train,\n",
    "    validation_data=(X_val, y_val),\n",
    "    epochs = 10,\n",
    "    callbacks = [cp]\n",
    ")"
   ]
  },
  {
   "cell_type": "code",
   "execution_count": 103,
   "metadata": {},
   "outputs": [],
   "source": [
    "model = load_model(\"LSTMTestModel/\")"
   ]
  },
  {
   "cell_type": "code",
   "execution_count": 104,
   "metadata": {},
   "outputs": [
    {
     "data": {
      "text/plain": [
       "[382.7098083496094,\n",
       " 366.281494140625,\n",
       " 353.8299560546875,\n",
       " 342.5966491699219,\n",
       " 333.6238708496094,\n",
       " 327.57403564453125,\n",
       " 321.76885986328125,\n",
       " 317.5098571777344,\n",
       " 313.8998718261719,\n",
       " 311.0672912597656]"
      ]
     },
     "execution_count": 104,
     "metadata": {},
     "output_type": "execute_result"
    }
   ],
   "source": [
    "history.history[\"val_loss\"]"
   ]
  },
  {
   "cell_type": "code",
   "execution_count": 105,
   "metadata": {},
   "outputs": [
    {
     "name": "stdout",
     "output_type": "stream",
     "text": [
      "10/10 [==============================] - 0s 3ms/step\n"
     ]
    },
    {
     "data": {
      "image/png": "[encoded data removed]",
      "text/plain": [
       "<Figure size 640x480 with 1 Axes>"
      ]
     },
     "metadata": {},
     "output_type": "display_data"
    }
   ],
   "source": [
    "test_predictions = model.predict(X_test).flatten()\n",
    "u = 1\n",
    "l = 500\n",
    "plt.plot(test_predictions[u:l], label=\"Predictions\")\n",
    "plt.plot(y_test[u:l], label=\"Actual Test\")\n",
    "plt.legend()\n",
    "plt.show()\n"
   ]
  },
  {
   "cell_type": "code",
   "execution_count": 106,
   "metadata": {},
   "outputs": [
    {
     "data": {
      "text/plain": [
       "array([2.0000e-01, 3.1690e+00, 4.1000e-02, 2.8400e-01, 1.9700e-01,\n",
       "       6.5530e+00, 1.0760e+00, 1.0100e-01, 2.6000e-02, 1.2800e-01,\n",
       "       1.5000e-02, 3.5632e+01, 3.8320e+00, 0.0000e+00, 2.8260e+00,\n",
       "       1.0100e+00, 0.0000e+00, 7.6096e+01, 1.2542e+01, 6.3800e-01,\n",
       "       3.7100e+00, 1.5010e+01, 2.4000e-02, 9.9567e+01, 2.9200e+00,\n",
       "       0.0000e+00, 1.4965e+01, 9.2008e+01, 4.2517e+01, 1.2000e+00,\n",
       "       3.0750e+00, 1.0800e-01, 1.5000e-02, 7.7990e+00, 6.5190e+00,\n",
       "       1.9000e-02, 1.2200e-01, 7.0000e-03, 0.0000e+00, 3.9650e+00,\n",
       "       5.0000e-03, 1.2330e+00, 2.0000e-03, 2.0000e-03, 1.2000e-02,\n",
       "       1.0590e+00, 4.2900e+00, 6.0730e+00, 1.7725e+01, 4.7560e+00,\n",
       "       4.6870e+00, 2.9300e-01, 5.8800e-01, 0.0000e+00, 4.9000e-02,\n",
       "       0.0000e+00, 0.0000e+00, 0.0000e+00, 0.0000e+00, 6.2200e-01,\n",
       "       2.2800e+00, 2.3670e+00, 2.3000e-02, 1.1360e+00, 2.0000e-03,\n",
       "       1.7340e+00, 0.0000e+00, 0.0000e+00, 1.0150e+00, 5.1610e+00,\n",
       "       0.0000e+00, 2.0000e-02, 0.0000e+00, 1.4200e+00, 2.4470e+00,\n",
       "       1.9800e-01, 4.6050e+00, 7.5000e-01, 2.5000e-02, 1.4400e+00,\n",
       "       1.2550e+00, 0.0000e+00, 0.0000e+00, 0.0000e+00, 0.0000e+00,\n",
       "       9.0000e-03, 0.0000e+00, 0.0000e+00, 6.7500e-01, 1.2810e+00,\n",
       "       5.0000e-03, 1.8790e+00, 2.9860e+00, 2.5313e+01, 3.9520e+00,\n",
       "       2.1478e+01, 4.6122e+01, 5.2100e-01, 5.0000e-03, 0.0000e+00,\n",
       "       0.0000e+00, 0.0000e+00, 0.0000e+00, 0.0000e+00, 2.9000e-02,\n",
       "       2.2162e+01, 1.2431e+01, 9.0000e-03, 1.3400e-01, 0.0000e+00,\n",
       "       5.0000e-03, 1.8000e-02, 2.4000e-02, 2.0000e-03, 0.0000e+00,\n",
       "       5.0000e-03, 0.0000e+00, 2.0000e-03, 0.0000e+00, 0.0000e+00,\n",
       "       0.0000e+00, 0.0000e+00, 0.0000e+00, 1.9000e-02, 0.0000e+00,\n",
       "       0.0000e+00, 5.0000e-03, 1.9660e+00, 6.1000e-01, 9.0000e-03,\n",
       "       0.0000e+00, 0.0000e+00, 0.0000e+00, 0.0000e+00, 1.0000e-03,\n",
       "       0.0000e+00, 0.0000e+00, 5.0000e-03, 0.0000e+00, 0.0000e+00,\n",
       "       1.1980e+00, 4.1260e+00, 5.4700e-01, 0.0000e+00, 0.0000e+00,\n",
       "       0.0000e+00, 1.6000e-02, 0.0000e+00, 0.0000e+00, 0.0000e+00,\n",
       "       0.0000e+00, 0.0000e+00, 0.0000e+00, 0.0000e+00, 2.0000e-03,\n",
       "       0.0000e+00, 0.0000e+00, 0.0000e+00, 0.0000e+00, 3.9000e-02,\n",
       "       2.1000e-02, 0.0000e+00, 5.5540e+00, 0.0000e+00, 0.0000e+00,\n",
       "       0.0000e+00, 0.0000e+00, 0.0000e+00, 0.0000e+00, 0.0000e+00,\n",
       "       0.0000e+00, 0.0000e+00, 0.0000e+00, 0.0000e+00, 0.0000e+00,\n",
       "       0.0000e+00, 0.0000e+00, 0.0000e+00, 0.0000e+00, 0.0000e+00,\n",
       "       8.9000e-02, 0.0000e+00, 0.0000e+00, 0.0000e+00, 5.0930e+00,\n",
       "       0.0000e+00, 0.0000e+00, 0.0000e+00, 0.0000e+00, 0.0000e+00,\n",
       "       0.0000e+00, 1.8500e-01, 1.9800e-01, 5.5001e+01, 4.6900e-01,\n",
       "       1.4000e-02, 0.0000e+00, 1.1000e-02, 0.0000e+00, 0.0000e+00,\n",
       "       0.0000e+00, 0.0000e+00, 6.5630e+00, 0.0000e+00, 2.7100e-01,\n",
       "       0.0000e+00, 0.0000e+00, 0.0000e+00, 0.0000e+00, 0.0000e+00,\n",
       "       1.8500e-01, 1.0130e+00, 0.0000e+00, 2.0000e-03, 8.7500e-01,\n",
       "       1.4000e-02, 0.0000e+00, 0.0000e+00, 7.1500e-01, 6.9550e+00,\n",
       "       4.0887e+01, 1.1000e-02, 1.7700e-01, 1.4000e-02, 9.5600e-01,\n",
       "       1.0330e+00, 1.1430e+00, 0.0000e+00, 1.5766e+01, 1.3379e+01,\n",
       "       3.8450e+00, 9.3300e-01, 6.0900e-01, 6.4920e+00, 6.8340e+00,\n",
       "       1.1230e+01, 6.9540e+00, 1.7080e+00, 8.1000e-02, 2.8700e-01,\n",
       "       5.0000e-01, 9.5800e-01, 3.2000e-02, 1.5660e+00, 4.3300e-01,\n",
       "       4.7640e+00, 4.7512e+01, 4.6489e+01, 2.1320e+01, 1.1000e-02,\n",
       "       6.6440e+00, 4.8280e+01, 7.0597e+01, 1.4203e+01, 7.4590e+00,\n",
       "       0.0000e+00, 1.2460e+01, 4.7800e-01, 4.9200e-01, 5.1900e-01,\n",
       "       2.2132e+01, 4.9059e+01, 1.3100e-01, 1.1098e+01, 1.5410e+00,\n",
       "       4.8400e-01, 2.8000e-01, 8.6700e-01, 1.2140e+00, 1.2690e+01,\n",
       "       4.8410e+00, 0.0000e+00, 9.4700e-01, 2.7468e+01, 2.0000e-03,\n",
       "       0.0000e+00, 0.0000e+00, 2.4000e-02, 7.5200e-01, 1.2214e+01,\n",
       "       4.6350e+01, 1.0000e-02, 9.9800e-01, 3.6387e+01, 4.2949e+01,\n",
       "       5.7991e+01, 7.4080e+00, 4.5601e+01, 1.6774e+01, 1.4900e-01,\n",
       "       1.1541e+01, 1.7864e+01, 1.6734e+01, 1.5220e+01, 1.7326e+01,\n",
       "       2.3510e+00, 4.5630e+00, 7.7418e+01, 3.7916e+01, 9.8198e+01,\n",
       "       8.0292e+01, 2.3661e+01, 3.1563e+01])"
      ]
     },
     "execution_count": 106,
     "metadata": {},
     "output_type": "execute_result"
    }
   ],
   "source": [
    "y_test"
   ]
  },
  {
   "cell_type": "code",
   "execution_count": 107,
   "metadata": {},
   "outputs": [
    {
     "ename": "SyntaxError",
     "evalue": "invalid syntax (1365425150.py, line 2)",
     "output_type": "error",
     "traceback": [
      "\u001b[1;36m  Cell \u001b[1;32mIn[107], line 2\u001b[1;36m\u001b[0m\n\u001b[1;33m    Learning Rates\u001b[0m\n\u001b[1;37m             ^\u001b[0m\n\u001b[1;31mSyntaxError\u001b[0m\u001b[1;31m:\u001b[0m invalid syntax\n"
     ]
    }
   ],
   "source": [
    "Epochs\n",
    "Learning Rates\n",
    "Window Length\n",
    "Model Parameters (Number of LSTM layers, Number of Dense Outputs)\n",
    "SimpleRNN, LSTM"
   ]
  },
  {
   "cell_type": "code",
   "execution_count": null,
   "metadata": {},
   "outputs": [],
   "source": []
  }
 ],
 "metadata": {
  "kernelspec": {
   "display_name": "Python 3",
   "language": "python",
   "name": "python3"
  },
  "language_info": {
   "codemirror_mode": {
    "name": "ipython",
    "version": 3
   },
   "file_extension": ".py",
   "mimetype": "text/x-python",
   "name": "python",
   "nbconvert_exporter": "python",
   "pygments_lexer": "ipython3",
   "version": "3.11.3"
  },
  "orig_nbformat": 4
 },
 "nbformat": 4,
 "nbformat_minor": 2
}
