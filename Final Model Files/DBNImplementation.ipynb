{
 "cells": [
  {
   "cell_type": "code",
   "execution_count": 180,
   "metadata": {},
   "outputs": [],
   "source": [
    "import pandas as pd \n",
    "import seaborn as sns\n",
    "import matplotlib.pyplot as plt \n",
    "import numpy as np \n",
    "import os \n",
    "\n",
    "# For Data PreProcessing\n",
    "from sklearn.preprocessing import LabelEncoder\n",
    "from sklearn.model_selection import train_test_split\n",
    "from sklearn.metrics import confusion_matrix, accuracy_score\n",
    "from keras.utils import to_categorical\n",
    "from random import randint, choice\n",
    "\n",
    "# Old DBN Class\n",
    "# from dbn.tensorflow import SupervisedDBNClassification\n",
    "\n",
    "# Models used\n",
    "from sklearn.pipeline import Pipeline\n",
    "from sklearn.base import clone\n",
    "from sklearn.ensemble import RandomForestClassifier\n",
    "from sklearn.gaussian_process import GaussianProcessClassifier\n",
    "from sklearn.gaussian_process.kernels import RBF \n",
    "from sklearn.svm import SVC \n",
    "from sklearn.tree import DecisionTreeClassifier\n",
    "from sklearn.neighbors import KNeighborsClassifier\n",
    "from sklearn.neural_network import BernoulliRBM\n",
    "from sklearn.model_selection import GridSearchCV\n",
    "\n",
    "from dbn import SupervisedDBNClassification"
   ]
  },
  {
   "cell_type": "code",
   "execution_count": 181,
   "metadata": {},
   "outputs": [],
   "source": [
    "# Get Data from File\n",
    "csv_filename = \"qc aggregated data.csv\"\n",
    "df = pd.read_csv(csv_filename)\n",
    "\n",
    "# Specify Input and Output from Data\n",
    "# input_columns = [\"tempmax\", \"tempmin\", \"temp\", \"feelslikemax\", \"feelslikemin\", \"feelslike\", \"dew\", \"humidity\", \"windspeed\"]\n",
    "input_columns = [\"temp\", \"feelslike\", \"dew\", \"humidity\", \"windspeed\"]\n",
    "output_column = [\"conditions\"]\n",
    "\n",
    "df = df[input_columns + output_column]\n",
    "df.conditions = df.conditions.shift(-1)\n",
    "df.dropna(inplace=True)"
   ]
  },
  {
   "cell_type": "code",
   "execution_count": 182,
   "metadata": {},
   "outputs": [
    {
     "name": "stderr",
     "output_type": "stream",
     "text": [
      "c:\\Users\\Alaric\\AppData\\Local\\Programs\\Python\\Python311\\Lib\\site-packages\\sklearn\\preprocessing\\_label.py:114: DataConversionWarning: A column-vector y was passed when a 1d array was expected. Please change the shape of y to (n_samples, ), for example using ravel().\n",
      "  y = column_or_1d(y, warn=True)\n"
     ]
    }
   ],
   "source": [
    "X = df[input_columns].to_numpy()\n",
    "Y = df[output_column].to_numpy()\n",
    "X = X.astype(float)\n",
    "X = X - X.min()\n",
    "X = X / X.max()\n",
    "\n",
    "le = LabelEncoder()\n",
    "Y = le.fit_transform(Y)"
   ]
  },
  {
   "cell_type": "code",
   "execution_count": 183,
   "metadata": {},
   "outputs": [],
   "source": [
    "win_length = 5\n",
    "new_X = []\n",
    "new_Y = []\n",
    "for row in range(win_length, len(X)):\n",
    "    t_l = list(X[row])\n",
    "    for prev_row in range(row-1, row-win_length-1, -1):\n",
    "        t_l.extend(list(X[prev_row]))\n",
    "    new_X.append(t_l)\n",
    "\n",
    "    new_Y.append(Y[row])\n",
    "\n",
    "new_X = np.array(new_X)\n",
    "new_Y = np.array(new_Y)\n",
    "X = new_X \n",
    "Y = new_Y"
   ]
  },
  {
   "cell_type": "code",
   "execution_count": 184,
   "metadata": {},
   "outputs": [
    {
     "data": {
      "text/plain": [
       "(array([0.17201166, 0.19023324, 0.12463557, 0.46574344, 0.1122449 ,\n",
       "        0.16836735, 0.18731778, 0.13702624, 0.53862974, 0.12390671,\n",
       "        0.16180758, 0.17492711, 0.12973761, 0.53134111, 0.1377551 ,\n",
       "        0.15816327, 0.16472303, 0.11588921, 0.48177843, 0.13848397,\n",
       "        0.1574344 , 0.1654519 , 0.11588921, 0.48542274, 0.1516035 ,\n",
       "        0.15524781, 0.16399417, 0.11443149, 0.48906706, 0.12536443]),\n",
       " 3)"
      ]
     },
     "execution_count": 184,
     "metadata": {},
     "output_type": "execute_result"
    }
   ],
   "source": [
    "X[0], Y[0]"
   ]
  },
  {
   "cell_type": "code",
   "execution_count": 185,
   "metadata": {},
   "outputs": [
    {
     "data": {
      "text/plain": [
       "3"
      ]
     },
     "execution_count": 185,
     "metadata": {},
     "output_type": "execute_result"
    }
   ],
   "source": [
    "Y[1]"
   ]
  },
  {
   "cell_type": "code",
   "execution_count": 186,
   "metadata": {},
   "outputs": [
    {
     "name": "stdout",
     "output_type": "stream",
     "text": [
      "(1213, 30) 1213\n",
      "(1213, 30) 1213\n",
      "(1213, 30) 1213\n",
      "(1213, 30) 1213\n"
     ]
    }
   ],
   "source": [
    "conditions, counts = np.unique(Y, return_counts=True)\n",
    "target_num = max(counts)\n",
    "\n",
    "new_X = []\n",
    "new_Y = []\n",
    "\n",
    "for condition in conditions:\n",
    "    #print(condition)\n",
    "    available_roster = np.where(Y == condition)\n",
    "    available_roster = available_roster[0]\n",
    "\n",
    "    t_l_x = []\n",
    "    t_l_y = []\n",
    "\n",
    "\n",
    "    for roster in available_roster:\n",
    "        t_l_x.append(X[roster].tolist())\n",
    "        t_l_y.append(Y[roster])\n",
    "    \n",
    "    #print(np.array(t_l_x))\n",
    "    #break \n",
    "\n",
    "    target_clocks = target_num - len(t_l_x)\n",
    "\n",
    "    for rem in range(target_clocks):\n",
    "        r_i = choice(available_roster)\n",
    "        #print(\"Choice: \" ,r_i, \" Roster: \", available_roster)\n",
    "        t_l_x.append(X[r_i].tolist())\n",
    "        t_l_y.append(Y[r_i])\n",
    "    \n",
    "    print(np.array(t_l_x).shape, target_num)\n",
    "\n",
    "    new_X.extend(t_l_x)\n",
    "    new_Y.extend(t_l_y)\n",
    "\n",
    "new_X = np.array(new_X)\n",
    "new_Y = np.array(new_Y)\n",
    "X = new_X\n",
    "Y = new_Y\n",
    "    \n",
    "\n"
   ]
  },
  {
   "cell_type": "code",
   "execution_count": 187,
   "metadata": {},
   "outputs": [
    {
     "data": {
      "text/plain": [
       "((4852, 30), 4852, (4852,), 2)"
      ]
     },
     "execution_count": 187,
     "metadata": {},
     "output_type": "execute_result"
    }
   ],
   "source": [
    "new_X.shape, target_num * 4, new_Y.shape, new_Y[4852-1214]"
   ]
  },
  {
   "cell_type": "code",
   "execution_count": 188,
   "metadata": {},
   "outputs": [
    {
     "data": {
      "text/plain": [
       "(array([0.17201166, 0.22303207, 0.15962099, 0.62682216, 0.24125364,\n",
       "        0.17346939, 0.2244898 , 0.15816327, 0.61078717, 0.21793003,\n",
       "        0.17274052, 0.21501458, 0.15306122, 0.59110787, 0.23177843,\n",
       "        0.17274052, 0.21793003, 0.15451895, 0.59985423, 0.23833819,\n",
       "        0.16690962, 0.19897959, 0.15451895, 0.62755102, 0.2048105 ,\n",
       "        0.16326531, 0.19241983, 0.15233236, 0.6319242 , 0.22813411]),\n",
       " 0)"
      ]
     },
     "execution_count": 188,
     "metadata": {},
     "output_type": "execute_result"
    }
   ],
   "source": [
    "X[0], Y[0]"
   ]
  },
  {
   "cell_type": "code",
   "execution_count": 189,
   "metadata": {},
   "outputs": [],
   "source": [
    "# Preprocess the data (Convert raw string conditions to numerical values, and split data)\n",
    "\n",
    "X_train, X_test, Y_train, Y_test = train_test_split(X, Y, test_size=0.2)\n",
    "while (len(np.unique(Y_train)) != len(le.classes_)) or (len(np.unique(Y_test)) != len(le.classes_)):\n",
    "    X_train, X_test, Y_train, Y_test = train_test_split(X, Y, test_size=0.2)\n",
    "\n",
    "# Class mapping - used later for labelling\n",
    "label_mapping = {x: y for x, y in zip(le.transform(le.classes_), le.classes_)}\n",
    "lm = list(label_mapping.values())\n",
    "lm = [x.replace(\",\", \",\\n\") for x in lm]"
   ]
  },
  {
   "cell_type": "code",
   "execution_count": 190,
   "metadata": {},
   "outputs": [
    {
     "name": "stdout",
     "output_type": "stream",
     "text": [
      "[BernoulliRBM] Iteration 1, pseudo-likelihood = -10.88, time = 0.55s\n",
      "[BernoulliRBM] Iteration 2, pseudo-likelihood = -10.46, time = 0.76s\n",
      "[BernoulliRBM] Iteration 3, pseudo-likelihood = -10.23, time = 0.51s\n",
      "[BernoulliRBM] Iteration 4, pseudo-likelihood = -10.23, time = 0.51s\n",
      "[BernoulliRBM] Iteration 5, pseudo-likelihood = -10.09, time = 0.49s\n",
      "[BernoulliRBM] Iteration 6, pseudo-likelihood = -10.23, time = 0.50s\n",
      "[BernoulliRBM] Iteration 7, pseudo-likelihood = -10.14, time = 0.50s\n",
      "[BernoulliRBM] Iteration 8, pseudo-likelihood = -10.16, time = 0.51s\n",
      "[BernoulliRBM] Iteration 9, pseudo-likelihood = -10.28, time = 0.49s\n",
      "[BernoulliRBM] Iteration 10, pseudo-likelihood = -10.23, time = 0.51s\n",
      "[BernoulliRBM] Iteration 1, pseudo-likelihood = -354.02, time = 1.81s\n",
      "[BernoulliRBM] Iteration 2, pseudo-likelihood = -354.01, time = 2.12s\n",
      "[BernoulliRBM] Iteration 3, pseudo-likelihood = -354.00, time = 2.12s\n",
      "[BernoulliRBM] Iteration 4, pseudo-likelihood = -354.00, time = 2.12s\n",
      "[BernoulliRBM] Iteration 5, pseudo-likelihood = -354.00, time = 2.10s\n",
      "[BernoulliRBM] Iteration 6, pseudo-likelihood = -353.99, time = 2.10s\n",
      "[BernoulliRBM] Iteration 7, pseudo-likelihood = -354.02, time = 2.13s\n",
      "[BernoulliRBM] Iteration 8, pseudo-likelihood = -354.04, time = 2.12s\n",
      "[BernoulliRBM] Iteration 9, pseudo-likelihood = -354.03, time = 2.17s\n",
      "[BernoulliRBM] Iteration 10, pseudo-likelihood = -354.00, time = 2.15s\n"
     ]
    },
    {
     "data": {
      "image/png": "[encoded data removed]",
      "text/plain": [
       "<Figure size 1500x400 with 4 Axes>"
      ]
     },
     "metadata": {},
     "output_type": "display_data"
    },
    {
     "name": "stdout",
     "output_type": "stream",
     "text": [
      "Testing: 0.90216271884655 \n",
      "Training: 1.0\n"
     ]
    }
   ],
   "source": [
    "learning_rate = 0.001\n",
    "total_units = 512\n",
    "total_epochs = 10\n",
    "batch_size = 32\n",
    "\n",
    "# RBM\n",
    "rbm = BernoulliRBM(n_components=total_units, learning_rate=learning_rate, batch_size=batch_size, n_iter=total_epochs, verbose=1)\n",
    "\n",
    "# Random Forest\n",
    "r_forest = RandomForestClassifier(verbose=0)\n",
    "\n",
    "# Decision Tree\n",
    "d_tree = DecisionTreeClassifier()\n",
    "\n",
    "# SVC\n",
    "s_v_c = SVC()\n",
    "\n",
    "# Gaussian\n",
    "gpc = GaussianProcessClassifier()\n",
    "\n",
    "# K Neighbors\n",
    "kneighhclassif = KNeighborsClassifier()\n",
    "\n",
    "\n",
    "# ('rbm1', clone(rbm)),\n",
    "model = Pipeline(steps=[\n",
    "    ('rbm1', clone(rbm)),\n",
    "    ('rbm2', clone(rbm)),\n",
    "    ('rfc', clone(r_forest))\n",
    "    #(\"dtree1\", clone(d_tree))\n",
    "    #(\"support\", clone(s_v_c))\n",
    "    #(\"knn\", clone(kneighhclassif))\n",
    "    #(\"gauss\", GaussianProcessClassifier())\n",
    "    ])\n",
    "model.fit(X_train, Y_train)\n",
    "\n",
    "# Predict on training (for verification)\n",
    "Y_pred_train = model.predict(X_train)\n",
    "CM_train = confusion_matrix(Y_pred_train, Y_train)\n",
    "train_acc = accuracy_score(Y_train, Y_pred_train)\n",
    "\n",
    "# Testing Plot\n",
    "plt.figure(figsize=(15, 4))\n",
    "ax = plt.subplot(121)\n",
    "ax.set_title(\"Training - Confusion Matrix\")\n",
    "sns.heatmap(CM_train, annot=True, cmap=\"magma\", ax=ax, fmt='d')\n",
    "ax.xaxis.set_ticklabels(lm)\n",
    "ax.yaxis.set_ticklabels(lm)\n",
    "plt.yticks(rotation=0)\n",
    "\n",
    "# Predict on testing (for verification)\n",
    "Y_pred_test = model.predict(X_test)\n",
    "CM_test = confusion_matrix(Y_pred_test, Y_test)\n",
    "test_acc = accuracy_score(Y_test, Y_pred_test)\n",
    "\n",
    "ax2 = plt.subplot(122)\n",
    "ax2.set_title(\"Testing - Confusion Matrix\")\n",
    "sns.heatmap(CM_test, annot=True, cmap=\"magma\", ax=ax2, fmt='d')\n",
    "ax2.xaxis.set_ticklabels(lm)\n",
    "ax2.yaxis.set_ticklabels(lm)\n",
    "plt.yticks(rotation=0)\n",
    "\n",
    "plt.show()\n",
    "print(f\"Testing: {test_acc} \\nTraining: {train_acc}\")"
   ]
  }
 ],
 "metadata": {
  "kernelspec": {
   "display_name": "Python 3 (ipykernel)",
   "language": "python",
   "name": "python3"
  },
  "orig_nbformat": 4
 },
 "nbformat": 4,
 "nbformat_minor": 2
}
