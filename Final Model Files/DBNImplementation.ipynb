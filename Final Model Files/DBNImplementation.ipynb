{
 "cells": [
  {
   "cell_type": "code",
   "execution_count": null,
   "metadata": {},
   "outputs": [],
   "source": [
    "import pandas as pd \n",
    "import seaborn as sns\n",
    "import matplotlib.pyplot as plt \n",
    "import numpy as np \n",
    "\n",
    "from keras.utils import to_categorical\n",
    "from sklearn.preprocessing import LabelEncoder\n",
    "from sklearn.model_selection import train_test_split\n",
    "from sklearn.metrics import confusion_matrix, accuracy_score\n",
    "\n",
    "from dbn.tensorflow import SupervisedDBNClassification\n",
    "\n",
    "import os\n",
    "import tensorflow as tf\n",
    "os.environ['TF_CPP_MIN_LOG_LEVEL'] = '3' "
   ]
  },
  {
   "cell_type": "code",
   "execution_count": null,
   "metadata": {},
   "outputs": [],
   "source": [
    "tf.get_logger().setLevel(\"ERROR\")\n",
    "tf.get_logger()"
   ]
  },
  {
   "cell_type": "code",
   "execution_count": null,
   "metadata": {},
   "outputs": [],
   "source": [
    "# Get Data from File\n",
    "csv_filename = \"qc aggregated data.csv\"\n",
    "df = pd.read_csv(csv_filename)\n",
    "\n",
    "# Specify Input and Output from Data\n",
    "input_columns = [\"tempmax\", \"tempmin\", \"temp\", \"feelslikemax\", \"feelslikemin\", \"feelslike\", \"dew\", \"humidity\", \"windspeed\"]\n",
    "output_column = [\"conditions\"]\n",
    "X = df[input_columns]\n",
    "Y = df[output_column]\n",
    "\n",
    "# Preprocess the data (Convert raw string conditions to numerical values, and split data)\n",
    "X = X.to_numpy()\n",
    "le = LabelEncoder()\n",
    "Y = le.fit_transform(Y)\n",
    "X_train, X_test, Y_train, Y_test = train_test_split(X, Y, test_size=0.2)\n",
    "while (len(np.unique(Y_train)) != len(le.classes_)) or (len(np.unique(Y_test)) != len(le.classes_)):\n",
    "    X_train, X_test, Y_train, Y_test = train_test_split(X, Y, test_size=0.2)\n",
    "\n",
    "# Class mapping - used later for labelling\n",
    "label_mapping = {x: y for x, y in zip(le.transform(le.classes_), le.classes_)}\n",
    "lm = list(label_mapping.values())\n",
    "lm = [x.replace(\",\", \",\\n\") for x in lm]\n",
    "\n"
   ]
  },
  {
   "cell_type": "code",
   "execution_count": null,
   "metadata": {},
   "outputs": [],
   "source": [
    "len(np.unique(Y_test)), len(np.unique(Y_train))"
   ]
  },
  {
   "cell_type": "code",
   "execution_count": null,
   "metadata": {},
   "outputs": [],
   "source": [
    "# Create the classifier\n",
    "classifier = SupervisedDBNClassification(hidden_layers_structure=[256, 256],\n",
    "                                         learning_rate_rbm=0.05,\n",
    "                                         learning_rate=0.1,\n",
    "                                         n_epochs_rbm=100,\n",
    "                                         n_iter_backprop=10,\n",
    "                                         batch_size=32,\n",
    "                                         activation_function='relu',\n",
    "                                         dropout_p=0)\n",
    "\n",
    "# Train the classifier on the data\n",
    "classifier.fit(X_train, Y_train)"
   ]
  },
  {
   "cell_type": "code",
   "execution_count": null,
   "metadata": {},
   "outputs": [],
   "source": [
    "classifier.score(X_train, Y_train)"
   ]
  },
  {
   "cell_type": "markdown",
   "metadata": {},
   "source": [
    "# Results"
   ]
  },
  {
   "cell_type": "code",
   "execution_count": null,
   "metadata": {},
   "outputs": [],
   "source": [
    "# Predict on training (for verification)\n",
    "Y_pred_train = classifier.predict(X_train)\n",
    "CM_train = confusion_matrix(Y_pred_train, Y_train)\n",
    "train_acc = accuracy_score(Y_train, Y_pred_train)\n",
    "\n",
    "# Testing Plot\n",
    "plt.figure(figsize=(15, 4))\n",
    "ax = plt.subplot(121)\n",
    "ax.set_title(\"Testing - Confusion Matrix\")\n",
    "sns.heatmap(CM_train, annot=True, cmap=\"magma\", ax=ax, fmt='d')\n",
    "ax.xaxis.set_ticklabels(lm)\n",
    "ax.yaxis.set_ticklabels(lm)\n",
    "plt.yticks(rotation=0)\n",
    "\n",
    "# Predict on testing (for verification)\n",
    "Y_pred_test = classifier.predict(X_test)\n",
    "CM_test = confusion_matrix(Y_pred_test, Y_test)\n",
    "test_acc = accuracy_score(Y_test, Y_pred_test)\n",
    "\n",
    "ax2 = plt.subplot(122)\n",
    "ax2.set_title(\"Training - Confusion Matrix\")\n",
    "sns.heatmap(CM_test, annot=True, cmap=\"magma\", ax=ax2, fmt='d')\n",
    "ax2.xaxis.set_ticklabels(lm)\n",
    "ax2.yaxis.set_ticklabels(lm)\n",
    "plt.yticks(rotation=0)\n",
    "\n",
    "plt.show()\n",
    "print(f\"Testing: {test_acc} \\nTraining: {train_acc}\")"
   ]
  },
  {
   "cell_type": "code",
   "execution_count": null,
   "metadata": {},
   "outputs": [],
   "source": [
    "np.unique(np.array(Y_pred_train)), np.unique(Y_train)"
   ]
  }
 ],
 "metadata": {
  "kernelspec": {
   "display_name": "Python 3 (ipykernel)",
   "language": "python",
   "name": "python3"
  },
  "language_info": {
   "codemirror_mode": {
    "name": "ipython",
    "version": 3
   },
   "file_extension": ".py",
   "mimetype": "text/x-python",
   "name": "python",
   "nbconvert_exporter": "python",
   "pygments_lexer": "ipython3",
   "version": "3.10.8"
  },
  "orig_nbformat": 4
 },
 "nbformat": 4,
 "nbformat_minor": 2
}
