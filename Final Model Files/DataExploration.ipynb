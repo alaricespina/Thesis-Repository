{
 "cells": [
  {
   "cell_type": "code",
   "execution_count": 11,
   "metadata": {},
   "outputs": [],
   "source": [
    "import pandas as pd\n",
    "import numpy as np\n",
    "from random import randint"
   ]
  },
  {
   "cell_type": "code",
   "execution_count": 12,
   "metadata": {},
   "outputs": [],
   "source": [
    "# Get Data from File\n",
    "csv_filename = \"qc aggregated data.csv\"\n",
    "df = pd.read_csv(csv_filename)\n",
    "\n",
    "# Specify Input and Output from Data\n",
    "input_columns = [\"tempmax\", \"tempmin\", \"temp\", \"feelslikemax\", \"feelslikemin\", \"feelslike\", \"dew\", \"humidity\", \"windspeed\"]\n",
    "output_column = [\"conditions\"]\n",
    "df = df[input_columns + output_column]\n"
   ]
  },
  {
   "cell_type": "code",
   "execution_count": 13,
   "metadata": {},
   "outputs": [
    {
     "data": {
      "text/plain": [
       "['Partially cloudy', 'Rain, Partially cloudy', 'Rain, Overcast', 'Overcast']"
      ]
     },
     "execution_count": 13,
     "metadata": {},
     "output_type": "execute_result"
    }
   ],
   "source": [
    "max_count = 0\n",
    "all_conditions = list(df.conditions.unique())\n",
    "all_conditions"
   ]
  },
  {
   "cell_type": "code",
   "execution_count": 14,
   "metadata": {},
   "outputs": [
    {
     "name": "stdout",
     "output_type": "stream",
     "text": [
      "Partially cloudy : 695\n",
      "Rain, Partially cloudy : 1216\n",
      "Rain, Overcast : 124\n",
      "Overcast : 3\n"
     ]
    }
   ],
   "source": [
    "for condition in df.conditions.unique():\n",
    "    num_per_class = len(df[df.conditions == condition])\n",
    "    print(f\"{condition} : {num_per_class}\")\n",
    "    if num_per_class > max_count:\n",
    "        max_count = num_per_class"
   ]
  },
  {
   "cell_type": "code",
   "execution_count": 27,
   "metadata": {},
   "outputs": [
    {
     "name": "stdout",
     "output_type": "stream",
     "text": [
      "Partially cloudy\n",
      "695 695 521\n",
      "1216 695 0 New Data Len:  1216\n",
      "Rain, Partially cloudy\n",
      "1216 1216 0\n",
      "1216 1216 0 New Data Len:  2432\n",
      "Rain, Overcast\n",
      "124 124 1092\n",
      "1216 124 0 New Data Len:  3648\n",
      "Overcast\n",
      "3 3 1213\n",
      "1216 3 0 New Data Len:  4864\n"
     ]
    }
   ],
   "source": [
    "new_data = []\n",
    "\n",
    "for condition in df.conditions.unique():\n",
    "    num_per_class = len(df[df.conditions == condition])\n",
    "    t_l = df[df.conditions == condition].to_numpy().tolist()\n",
    "    print(condition)\n",
    "    print(len(t_l), num_per_class, max_count-len(t_l))\n",
    "    for rem in range(max_count-len(t_l)):\n",
    "        t_l.append(t_l[randint(0, num_per_class)])\n",
    "\n",
    "    new_data.extend(t_l)\n",
    "    print(len(t_l), num_per_class, max_count-len(t_l), \"New Data Len: \", len(new_data))\n",
    "\n",
    "new_data = np.array(new_data)\n",
    "        "
   ]
  },
  {
   "cell_type": "code",
   "execution_count": 44,
   "metadata": {},
   "outputs": [
    {
     "data": {
      "text/plain": [
       "array(['Partially cloudy', 'Partially cloudy', 'Partially cloudy', ...,\n",
       "       'Overcast', 'Overcast', 'Overcast'], dtype='<U32')"
      ]
     },
     "execution_count": 44,
     "metadata": {},
     "output_type": "execute_result"
    }
   ],
   "source": [
    "Y = new_data[:, len(new_data[0])-1]\n",
    "X = new_data[:, :len(new_data[0])-1]\n",
    "with (\"raw_X.npy\", \"wb\") as f:\n",
    "    np.save(f, X)\n",
    "with (\"raw_Y.npy\", \"rb\") as f:\n",
    "    np.save()"
   ]
  }
 ],
 "metadata": {
  "kernelspec": {
   "display_name": "Python 3 (ipykernel)",
   "language": "python",
   "name": "python3"
  },
  "language_info": {
   "codemirror_mode": {
    "name": "ipython",
    "version": 3
   },
   "file_extension": ".py",
   "mimetype": "text/x-python",
   "name": "python",
   "nbconvert_exporter": "python",
   "pygments_lexer": "ipython3",
   "version": "3.11.3"
  },
  "orig_nbformat": 4
 },
 "nbformat": 4,
 "nbformat_minor": 2
}
