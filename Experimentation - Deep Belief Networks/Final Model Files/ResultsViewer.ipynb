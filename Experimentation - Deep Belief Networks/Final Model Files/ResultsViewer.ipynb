{
 "cells": [
  {
   "cell_type": "code",
   "execution_count": 1,
   "metadata": {},
   "outputs": [],
   "source": [
    "import pickle \n",
    "import pandas as pd \n",
    "from sklearn.preprocessing import StandardScaler, MinMaxScaler, LabelEncoder, minmax_scale\n",
    "from sklearn.metrics import confusion_matrix, ConfusionMatrixDisplay, accuracy_score, classification_report\n",
    "from sklearn.model_selection import train_test_split, GridSearchCV \n",
    "from pprint import pprint\n",
    "import collections \n",
    "import random \n",
    "import numpy as np \n",
    "import os "
   ]
  },
  {
   "cell_type": "markdown",
   "metadata": {},
   "source": [
    "# Raw Actual Values"
   ]
  },
  {
   "cell_type": "code",
   "execution_count": 2,
   "metadata": {},
   "outputs": [],
   "source": [
    "Save_File = \"TensorflowAccuracySaves.pkl\"\n",
    "\n",
    "retrieved_data = None\n",
    "\n",
    "with open(Save_File, \"rb\") as f:\n",
    "    retrieved_data = pickle.load(f)\n",
    "\n",
    "for model_key in retrieved_data:\n",
    "    current_model = retrieved_data[model_key]\n",
    "    for rbm_layer in current_model:\n",
    "        current_iteration = current_model[rbm_layer]\n",
    "        print(f\"Model: {model_key}\\tLayer: {rbm_layer}\\tAcc: {current_iteration['accuracy']}\")\n",
    "    print(\"\\n\")\n"
   ]
  },
  {
   "cell_type": "markdown",
   "metadata": {},
   "source": [
    "# Testing with Actual Data"
   ]
  },
  {
   "cell_type": "code",
   "execution_count": 2,
   "metadata": {},
   "outputs": [
    {
     "name": "stderr",
     "output_type": "stream",
     "text": [
      "C:\\Users\\Alaric\\AppData\\Local\\Temp\\ipykernel_6684\\3232333252.py:14: SettingWithCopyWarning: \n",
      "A value is trying to be set on a copy of a slice from a DataFrame.\n",
      "Try using .loc[row_indexer,col_indexer] = value instead\n",
      "\n",
      "See the caveats in the documentation: https://pandas.pydata.org/pandas-docs/stable/user_guide/indexing.html#returning-a-view-versus-a-copy\n",
      "  raw_dataset[\"conditions\"] = [word.replace(\", \", \"\\n\") if (\",\" in word) else word for word in raw_dataset[\"conditions\"]]\n",
      "C:\\Users\\Alaric\\AppData\\Local\\Temp\\ipykernel_6684\\3232333252.py:15: SettingWithCopyWarning: \n",
      "A value is trying to be set on a copy of a slice from a DataFrame.\n",
      "Try using .loc[row_indexer,col_indexer] = value instead\n",
      "\n",
      "See the caveats in the documentation: https://pandas.pydata.org/pandas-docs/stable/user_guide/indexing.html#returning-a-view-versus-a-copy\n",
      "  raw_dataset[\"conditions\"] =  LE.fit_transform(raw_dataset[\"conditions\"])\n"
     ]
    },
    {
     "name": "stdout",
     "output_type": "stream",
     "text": [
      "(23497, 25) (7344, 25) (5875, 25) (23497,) (5875,) (7344,)\n"
     ]
    }
   ],
   "source": [
    "FULL_DATA = False\n",
    "LE = LabelEncoder()\n",
    "WINDOW_LENGTH = 5\n",
    "ADD_ELEMENTS = True\n",
    "\n",
    "\n",
    "concatenated_data = pd.read_csv(\"Concatenated Data.csv\")\n",
    "\n",
    "if FULL_DATA:\n",
    "    raw_dataset = concatenated_data[[\"tempmax\", \"tempmin\", \"temp\", \"feelslikemax\", \"feelslikemin\", \"feelslike\", \"dew\", \"humidity\", \"windspeed\", \"sealevelpressure\", \"conditions\"]]\n",
    "else:\n",
    "    raw_dataset = concatenated_data[[\"temp\", \"feelslike\", \"humidity\", \"windspeed\", \"sealevelpressure\", \"conditions\"]]\n",
    "\n",
    "raw_dataset[\"conditions\"] = [word.replace(\", \", \"\\n\") if (\",\" in word) else word for word in raw_dataset[\"conditions\"]]\n",
    "raw_dataset[\"conditions\"] =  LE.fit_transform(raw_dataset[\"conditions\"])\n",
    "\n",
    "t_arr = raw_dataset.copy().to_numpy()\n",
    "X = []\n",
    "y = []\n",
    "\n",
    "for i in range(len(t_arr) - WINDOW_LENGTH):\n",
    "    t_row = []\n",
    "    for j in t_arr[i : i + WINDOW_LENGTH]:\n",
    "        t_row.append(j[:-1])\n",
    "    t_row = np.array(t_row).flatten()\n",
    "    X.append(t_row)\n",
    "    y.append(t_arr[i + WINDOW_LENGTH][-1])\n",
    "\n",
    "X_orig = np.array(X, \"float32\")\n",
    "X_append = np.array(X, \"float32\")\n",
    "X_orig = minmax_scale(X_orig, feature_range = (0, 1))\n",
    "X_append = minmax_scale(X_append, feature_range = (0, 1))\n",
    "\n",
    "y = np\n",
    "\n",
    "X = minmax_scale(X, feature_range=(0, 1))\n",
    "y = np.array(y)\n",
    "\n",
    "counts = dict(collections.Counter(y))\n",
    "max_count = max(counts.values())\n",
    "\n",
    "# Data Augmentation\n",
    "\n",
    "if ADD_ELEMENTS:\n",
    "    for key, value in counts.items():\n",
    "        curX = []\n",
    "        curY = []\n",
    "        li, = np.where(y == key)\n",
    "        for i in range((max_count - value) * 10):\n",
    "            ci = random.choice(li)\n",
    "            curX.append(X[ci])\n",
    "            curY.append(y[ci])\n",
    "        tX = X.tolist()\n",
    "        tY = y.tolist()\n",
    "        tX.extend(curX)\n",
    "        tY.extend(curY)\n",
    "        X = np.array(tX)\n",
    "        y = np.array(tY)        \n",
    "\n",
    "X_train, X_test, y_train, y_test = train_test_split(X, y, test_size = 0.2)\n",
    "X_train, X_valid, y_train, y_valid = train_test_split(X_train, y_train, test_size = 0.2)\n",
    "print(X_train.shape, X_test.shape, X_valid.shape, y_train.shape, y_valid.shape, y_test.shape)\n"
   ]
  },
  {
   "cell_type": "code",
   "execution_count": null,
   "metadata": {},
   "outputs": [],
   "source": []
  }
 ],
 "metadata": {
  "kernelspec": {
   "display_name": "Python 3",
   "language": "python",
   "name": "python3"
  },
  "language_info": {
   "codemirror_mode": {
    "name": "ipython",
    "version": 3
   },
   "file_extension": ".py",
   "mimetype": "text/x-python",
   "name": "python",
   "nbconvert_exporter": "python",
   "pygments_lexer": "ipython3",
   "version": "3.10.0"
  }
 },
 "nbformat": 4,
 "nbformat_minor": 2
}
