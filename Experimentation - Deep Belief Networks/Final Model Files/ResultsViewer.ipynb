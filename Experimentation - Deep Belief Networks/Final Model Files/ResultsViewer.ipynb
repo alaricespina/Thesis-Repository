{
 "cells": [
  {
   "cell_type": "code",
   "execution_count": 1,
   "metadata": {},
   "outputs": [],
   "source": [
    "import pickle \n",
    "import pandas as pd \n",
    "from sklearn.preprocessing import StandardScaler, MinMaxScaler, LabelEncoder, minmax_scale\n",
    "from sklearn.metrics import confusion_matrix, ConfusionMatrixDisplay, accuracy_score, classification_report\n",
    "from sklearn.model_selection import train_test_split, GridSearchCV \n",
    "from pprint import pprint\n",
    "from keras.models import load_model\n",
    "from tqdm import tqdm \n",
    "\n",
    "import collections \n",
    "import random \n",
    "import numpy as np \n",
    "import os "
   ]
  },
  {
   "cell_type": "markdown",
   "metadata": {},
   "source": [
    "# Raw Actual Values"
   ]
  },
  {
   "cell_type": "code",
   "execution_count": null,
   "metadata": {},
   "outputs": [],
   "source": [
    "Save_File = \"TensorflowAccuracySaves.pkl\"\n",
    "\n",
    "retrieved_data = None\n",
    "\n",
    "with open(Save_File, \"rb\") as f:\n",
    "    retrieved_data = pickle.load(f)\n",
    "\n",
    "for model_key in retrieved_data:\n",
    "    current_model = retrieved_data[model_key]\n",
    "    for rbm_layer in current_model:\n",
    "        current_iteration = current_model[rbm_layer]\n",
    "        print(f\"Model: {model_key}\\tLayer: {rbm_layer}\\tAcc: {current_iteration['accuracy']}\")\n",
    "    print(\"\\n\")\n"
   ]
  },
  {
   "cell_type": "markdown",
   "metadata": {},
   "source": [
    "# Testing with Actual Data"
   ]
  },
  {
   "cell_type": "code",
   "execution_count": 2,
   "metadata": {},
   "outputs": [],
   "source": [
    "FULL_DATA = False\n",
    "LE = LabelEncoder()\n",
    "WINDOW_LENGTH = 5\n"
   ]
  },
  {
   "cell_type": "code",
   "execution_count": 3,
   "metadata": {},
   "outputs": [
    {
     "name": "stderr",
     "output_type": "stream",
     "text": [
      "C:\\Users\\Alaric\\AppData\\Local\\Temp\\ipykernel_3840\\2654789865.py:8: SettingWithCopyWarning: \n",
      "A value is trying to be set on a copy of a slice from a DataFrame.\n",
      "Try using .loc[row_indexer,col_indexer] = value instead\n",
      "\n",
      "See the caveats in the documentation: https://pandas.pydata.org/pandas-docs/stable/user_guide/indexing.html#returning-a-view-versus-a-copy\n",
      "  raw_dataset[\"conditions\"] = [word.replace(\", \", \"\\n\") if (\",\" in word) else word for word in raw_dataset[\"conditions\"]]\n",
      "C:\\Users\\Alaric\\AppData\\Local\\Temp\\ipykernel_3840\\2654789865.py:9: SettingWithCopyWarning: \n",
      "A value is trying to be set on a copy of a slice from a DataFrame.\n",
      "Try using .loc[row_indexer,col_indexer] = value instead\n",
      "\n",
      "See the caveats in the documentation: https://pandas.pydata.org/pandas-docs/stable/user_guide/indexing.html#returning-a-view-versus-a-copy\n",
      "  raw_dataset[\"conditions\"] =  LE.fit_transform(raw_dataset[\"conditions\"])\n"
     ]
    }
   ],
   "source": [
    "concatenated_data = pd.read_csv(\"Concatenated Data.csv\")\n",
    "\n",
    "if FULL_DATA:\n",
    "    raw_dataset = concatenated_data[[\"tempmax\", \"tempmin\", \"temp\", \"feelslikemax\", \"feelslikemin\", \"feelslike\", \"dew\", \"humidity\", \"windspeed\", \"sealevelpressure\", \"conditions\"]]\n",
    "else:\n",
    "    raw_dataset = concatenated_data[[\"temp\", \"feelslike\", \"humidity\", \"windspeed\", \"sealevelpressure\", \"conditions\"]]\n",
    "\n",
    "raw_dataset[\"conditions\"] = [word.replace(\", \", \"\\n\") if (\",\" in word) else word for word in raw_dataset[\"conditions\"]]\n",
    "raw_dataset[\"conditions\"] =  LE.fit_transform(raw_dataset[\"conditions\"])\n",
    "\n",
    "t_arr = raw_dataset.copy().to_numpy()\n",
    "X = []\n",
    "y = []\n",
    "\n",
    "for i in range(len(t_arr) - WINDOW_LENGTH):\n",
    "    t_row = []\n",
    "    for j in t_arr[i : i + WINDOW_LENGTH]:\n",
    "        t_row.append(j[:-1])\n",
    "    t_row = np.array(t_row).flatten()\n",
    "    X.append(t_row)\n",
    "    y.append(t_arr[i + WINDOW_LENGTH][-1])\n",
    "\n",
    "\n",
    "X_orig = np.array(X, \"float32\")\n",
    "X_append = np.array(X, \"float32\")\n",
    "X_orig = minmax_scale(X_orig, feature_range = (0, 1))\n",
    "X_append = minmax_scale(X_append, feature_range = (0, 1))\n",
    "\n",
    "\n",
    "y_orig = np.array(y)\n",
    "y_append = np.array(y)\n",
    "counts = dict(collections.Counter(y))\n",
    "max_count = max(counts.values())"
   ]
  },
  {
   "cell_type": "code",
   "execution_count": 4,
   "metadata": {},
   "outputs": [
    {
     "name": "stdout",
     "output_type": "stream",
     "text": [
      "Currently @  1.0 Have 1682 values and 1682 missing values\n",
      "Temp Lengths 1682 1682\n",
      "Currently @  3.0 Have 1424 values and 1940 missing values\n",
      "Temp Lengths 1940 1940\n",
      "Currently @  0.0 Have 17 values and 3347 missing values\n",
      "Temp Lengths 3347 3347\n",
      "Currently @  2.0 Have 273 values and 3091 missing values\n",
      "Temp Lengths 3091 3091\n"
     ]
    }
   ],
   "source": [
    "DATA_MULTIPLIER = 2\n",
    "# Iterate through all of the counts of each items stored in the dictionary\n",
    "# key = Weather Condition\n",
    "# value = Occurence of Weather Condition\n",
    "for key, value in counts.items():\n",
    "    # Temporary Arrays\n",
    "    curX = []\n",
    "    curY = []\n",
    "    \n",
    "    # Get the indexes which is == current key (current weather condition)\n",
    "    possibleChoices, = np.where(y_orig == key)\n",
    "\n",
    "    # Create a list of copies from possible choices (Get from Orig since it is unmodified)\n",
    "    print(\"Currently @ \", key, \"Have\", value, \"values and\", (max_count * DATA_MULTIPLIER - value), \"missing values\")\n",
    "    for i in range((max_count * DATA_MULTIPLIER - value)):\n",
    "        currentIndex = random.choice(possibleChoices)\n",
    "        curX.append(X_orig[currentIndex])\n",
    "        curY.append(y_orig[currentIndex])\n",
    "\n",
    "    print(\"Temp Lengths\", len(curX), len(curY))\n",
    "    # Convert current X and Y to python lists\n",
    "    # Extend the current X and Y with the temporary X and Y arrays (Which have copies of such weather condition)\n",
    "    # Turn current X and Y to Np Arrays\n",
    "    # Would not recursively do it, since the value and count is calculated before this\n",
    "    tX = X_append.tolist()\n",
    "    tY = y_append.tolist()\n",
    "\n",
    "    tX.extend(curX)\n",
    "    tY.extend(curY)\n",
    "    \n",
    "    X_append = np.array(tX)\n",
    "    y_append = np.array(tY)        \n",
    "\n",
    "# Original Values\n",
    "X_train, X_orig_test, y_train, y_orig_test = train_test_split(X_orig, y_orig, test_size = 0.2)\n",
    "X_orig_train, X_orig_valid, y_orig_train, y_orig_valid = train_test_split(X_train, y_train, test_size = 0.2)\n",
    "\n",
    "# Appended Values\n",
    "X_train, X_append_test, y_train, y_append_test = train_test_split(X_append, y_append, test_size = 0.2)\n",
    "X_append_train, X_append_valid, y_append_train, y_append_valid = train_test_split(X_train, y_train, test_size = 0.2)\n"
   ]
  },
  {
   "cell_type": "code",
   "execution_count": 105,
   "metadata": {},
   "outputs": [
    {
     "data": {
      "text/plain": [
       "{1.0: 3364, 3.0: 3364, 0.0: 3364, 2.0: 3364}"
      ]
     },
     "execution_count": 105,
     "metadata": {},
     "output_type": "execute_result"
    }
   ],
   "source": [
    "dict(collections.Counter(y_append))"
   ]
  },
  {
   "cell_type": "code",
   "execution_count": null,
   "metadata": {},
   "outputs": [],
   "source": [
    "Keras_Models_Path = \"1 - KERAS MODELS\"\n",
    "SciKit_Models_Path = \"2 - SCIKIT MODELS\"\n",
    "Keras_Model_Names = os.listdir(Keras_Models_Path)\n",
    "SciKit_Model_Names = os.listdir(SciKit_Models_Path)"
   ]
  },
  {
   "cell_type": "markdown",
   "metadata": {},
   "source": [
    "# Loop Through Keras Models"
   ]
  },
  {
   "cell_type": "code",
   "execution_count": null,
   "metadata": {},
   "outputs": [],
   "source": [
    "# Actual Keras Results\n",
    "Actual_TF_Results = {}"
   ]
  },
  {
   "cell_type": "markdown",
   "metadata": {},
   "source": [
    "# Tensorflow Models"
   ]
  },
  {
   "cell_type": "code",
   "execution_count": null,
   "metadata": {},
   "outputs": [],
   "source": [
    "# Original Only\n",
    "for keras_model_name in tqdm(Keras_Model_Names):\n",
    "    CurrentPredictor = load_model(os.path.join(Keras_Models_Path, keras_model_name))\n",
    "    preds = CurrentPredictor.predict(X_orig_train)\n",
    "    preds = np.argmax(preds, axis = 1)\n",
    "    current_accuracy = accuracy_score(y_orig_train, preds)\n",
    "    current_name = keras_model_name.replace(\".keras\", \"\").replace(\"_\", \" \")\n",
    "    Actual_TF_Results[current_name] = current_accuracy\n",
    "    # print(current_name, \" : \", current_accuracy * 100)\n",
    "\n"
   ]
  },
  {
   "cell_type": "code",
   "execution_count": null,
   "metadata": {},
   "outputs": [],
   "source": [
    "sorted(Actual_TF_Results.items(), key = lambda x : x[1], reverse = True)"
   ]
  },
  {
   "cell_type": "code",
   "execution_count": null,
   "metadata": {},
   "outputs": [],
   "source": [
    "with open(\"ActualTensorflowAccuracy.pkl\", \"wb\") as f:\n",
    "    pickle.dump(Actual_TF_Results, f)"
   ]
  },
  {
   "cell_type": "markdown",
   "metadata": {},
   "source": [
    "# SciKit Models"
   ]
  },
  {
   "cell_type": "code",
   "execution_count": null,
   "metadata": {},
   "outputs": [],
   "source": [
    "Actual_SK_Results = {}"
   ]
  },
  {
   "cell_type": "code",
   "execution_count": null,
   "metadata": {},
   "outputs": [],
   "source": [
    "for scikit_model_name in tqdm(SciKit_Model_Names):\n",
    "    CurrentPredictor = None \n",
    "    with open(os.path.join(SciKit_Models_Path, scikit_model_name), \"rb\") as f:\n",
    "        CurrentPredictor = pickle.load(f)\n",
    "\n",
    "    preds = CurrentPredictor.predict(X_orig_train)\n",
    "    current_accuracy = accuracy_score(y_orig_train, preds)\n",
    "    current_name = scikit_model_name.replace(\".pkl\", \"\").replace(\"_\", \" \")\n",
    "\n",
    "    Actual_SK_Results[current_name] = current_accuracy\n",
    "    # print(current_name, \" : \", current_accuracy * 100)\n"
   ]
  },
  {
   "cell_type": "code",
   "execution_count": null,
   "metadata": {},
   "outputs": [],
   "source": [
    "sorted(Actual_SK_Results.items(), key = lambda x : x[1], reverse = True)"
   ]
  },
  {
   "cell_type": "code",
   "execution_count": null,
   "metadata": {},
   "outputs": [],
   "source": [
    "with open(\"ActualSciKitAccuracy.pkl\", \"wb\") as f:\n",
    "    pickle.dump(Actual_SK_Results, f)"
   ]
  },
  {
   "cell_type": "markdown",
   "metadata": {},
   "source": [
    "# Try and Increase Accuracy through ReAugment"
   ]
  },
  {
   "cell_type": "code",
   "execution_count": null,
   "metadata": {},
   "outputs": [],
   "source": [
    "# counts = dict(collections.Counter(y))"
   ]
  },
  {
   "cell_type": "code",
   "execution_count": 106,
   "metadata": {},
   "outputs": [
    {
     "data": {
      "text/plain": [
       "0.9556381372662873"
      ]
     },
     "execution_count": 106,
     "metadata": {},
     "output_type": "execute_result"
    }
   ],
   "source": [
    "# Goal - Augment Accuracy\n",
    "CurrentPredictor = None \n",
    "with open(os.path.join(SciKit_Models_Path, \"RANDOM FOREST_0_Layers.pkl\"), \"rb\") as f:\n",
    "    CurrentPredictor = pickle.load(f)\n",
    "\n",
    "preds = CurrentPredictor.predict(X_append_train)\n",
    "accuracy_score(y_append_train, preds)"
   ]
  },
  {
   "cell_type": "code",
   "execution_count": 107,
   "metadata": {},
   "outputs": [
    {
     "data": {
      "text/plain": [
       "<sklearn.metrics._plot.confusion_matrix.ConfusionMatrixDisplay at 0x1fec88ce200>"
      ]
     },
     "execution_count": 107,
     "metadata": {},
     "output_type": "execute_result"
    },
    {
     "data": {
      "image/png": "[encoded data removed]",
      "text/plain": [
       "<Figure size 640x480 with 2 Axes>"
      ]
     },
     "metadata": {},
     "output_type": "display_data"
    }
   ],
   "source": [
    "ConfusionMatrixDisplay(confusion_matrix(y_append_train, preds), display_labels = LE.classes_).plot()"
   ]
  },
  {
   "cell_type": "code",
   "execution_count": 108,
   "metadata": {},
   "outputs": [
    {
     "data": {
      "text/plain": [
       "0.9148250460405156"
      ]
     },
     "execution_count": 108,
     "metadata": {},
     "output_type": "execute_result"
    }
   ],
   "source": [
    "# Goal - Augment Accuracy\n",
    "CurrentPredictor = None \n",
    "with open(os.path.join(SciKit_Models_Path, \"RANDOM FOREST_0_Layers.pkl\"), \"rb\") as f:\n",
    "    CurrentPredictor = pickle.load(f)\n",
    "\n",
    "preds = CurrentPredictor.predict(X_orig_train)\n",
    "accuracy_score(y_orig_train, preds)"
   ]
  },
  {
   "cell_type": "code",
   "execution_count": 109,
   "metadata": {},
   "outputs": [
    {
     "data": {
      "text/plain": [
       "<sklearn.metrics._plot.confusion_matrix.ConfusionMatrixDisplay at 0x1fec78f3dc0>"
      ]
     },
     "execution_count": 109,
     "metadata": {},
     "output_type": "execute_result"
    },
    {
     "data": {
      "image/png": "[encoded data removed]",
      "text/plain": [
       "<Figure size 640x480 with 2 Axes>"
      ]
     },
     "metadata": {},
     "output_type": "display_data"
    }
   ],
   "source": [
    "ConfusionMatrixDisplay(confusion_matrix(y_orig_train, preds), display_labels = LE.classes_).plot()"
   ]
  },
  {
   "cell_type": "code",
   "execution_count": 110,
   "metadata": {},
   "outputs": [
    {
     "data": {
      "text/plain": [
       "{1.0: 1682, 3.0: 1424, 0.0: 17, 2.0: 273}"
      ]
     },
     "execution_count": 110,
     "metadata": {},
     "output_type": "execute_result"
    }
   ],
   "source": [
    "dict(collections.Counter(y_orig))"
   ]
  },
  {
   "cell_type": "code",
   "execution_count": 111,
   "metadata": {},
   "outputs": [
    {
     "data": {
      "text/plain": [
       "{1.0: 3364, 3.0: 3364, 0.0: 3364, 2.0: 3364}"
      ]
     },
     "execution_count": 111,
     "metadata": {},
     "output_type": "execute_result"
    }
   ],
   "source": [
    "dict(collections.Counter(y_append))"
   ]
  },
  {
   "cell_type": "code",
   "execution_count": 113,
   "metadata": {},
   "outputs": [],
   "source": [
    "# max(dict(collections.Counter(y_orig)).values())\n",
    "\n",
    "rel_or = {}\n",
    "for x in counts:\n",
    "    rel_or[x] = counts[x] / max_count"
   ]
  },
  {
   "cell_type": "code",
   "execution_count": 114,
   "metadata": {},
   "outputs": [
    {
     "data": {
      "text/plain": [
       "{1.0: 1.0,\n",
       " 3.0: 0.8466111771700356,\n",
       " 0.0: 0.010107015457788348,\n",
       " 2.0: 0.16230677764565993}"
      ]
     },
     "execution_count": 114,
     "metadata": {},
     "output_type": "execute_result"
    }
   ],
   "source": [
    "rel_or"
   ]
  },
  {
   "cell_type": "code",
   "execution_count": null,
   "metadata": {},
   "outputs": [],
   "source": [
    "# Repeat Until Target Length is achieved\n",
    "# Loop Through Augment, and Remove Random Samples\n",
    "# Testing Evaluate again "
   ]
  }
 ],
 "metadata": {
  "kernelspec": {
   "display_name": "Python 3",
   "language": "python",
   "name": "python3"
  },
  "language_info": {
   "codemirror_mode": {
    "name": "ipython",
    "version": 3
   },
   "file_extension": ".py",
   "mimetype": "text/x-python",
   "name": "python",
   "nbconvert_exporter": "python",
   "pygments_lexer": "ipython3",
   "version": "3.10.0"
  }
 },
 "nbformat": 4,
 "nbformat_minor": 2
}
