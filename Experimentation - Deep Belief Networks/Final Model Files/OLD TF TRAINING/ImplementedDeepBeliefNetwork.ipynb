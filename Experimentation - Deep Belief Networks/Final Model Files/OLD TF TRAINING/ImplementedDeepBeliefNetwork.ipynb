{
 "cells": [
  {
   "cell_type": "markdown",
   "metadata": {},
   "source": [
    "# Import"
   ]
  },
  {
   "cell_type": "code",
   "execution_count": 2,
   "metadata": {},
   "outputs": [],
   "source": [
    "import pandas as pd \n",
    "import matplotlib.pyplot as plt \n",
    "import pandas as pd \n",
    "import numpy as np \n",
    "import tensorflow as tf \n",
    "import pickle \n",
    "import joblib\n",
    "\n",
    "from pprint import pprint\n",
    "from tqdm import tqdm\n",
    "\n",
    "from tensorflow import keras \n",
    "from tensorflow.keras import layers \n",
    "from tensorflow.keras.models import Sequential, load_model\n",
    "from tensorflow.keras.callbacks import ModelCheckpoint\n",
    "from tensorflow.keras.metrics import RootMeanSquaredError, MeanAbsoluteError\n",
    "from tensorflow.keras.losses import MeanSquaredError, MeanAbsoluteError\n",
    "from tensorflow.keras.optimizers import Adam \n",
    "\n",
    "from sklearn.model_selection import train_test_split, GridSearchCV \n",
    "from sklearn.preprocessing import StandardScaler, MinMaxScaler, LabelEncoder, minmax_scale\n",
    "\n",
    "from sklearn.ensemble import RandomForestRegressor\n",
    "\n",
    "from sklearn.neural_network import BernoulliRBM\n",
    "from sklearn.ensemble import RandomForestClassifier, AdaBoostClassifier\n",
    "from sklearn.svm import SVC\n",
    "from sklearn.neighbors import KNeighborsClassifier\n",
    "from sklearn.gaussian_process import GaussianProcessClassifier\n",
    "from sklearn.tree import DecisionTreeClassifier\n",
    "from sklearn.neural_network import MLPClassifier\n",
    "from sklearn.linear_model import LogisticRegression\n",
    "from sklearn.pipeline import Pipeline\n",
    "from sklearn.metrics import confusion_matrix, ConfusionMatrixDisplay, accuracy_score, classification_report\n",
    "from sklearn.datasets import load_digits\n",
    "\n",
    "from tensorflow.keras.callbacks import ModelCheckpoint\n",
    "\n",
    "from scipy.ndimage import convolve\n",
    "\n",
    "from keras.utils import to_categorical\n",
    "\n",
    "from imblearn.over_sampling import SMOTE, RandomOverSampler, ADASYN\n",
    "\n",
    "import collections \n",
    "import random"
   ]
  },
  {
   "cell_type": "markdown",
   "metadata": {},
   "source": [
    "# Data Preparation"
   ]
  },
  {
   "cell_type": "code",
   "execution_count": 3,
   "metadata": {},
   "outputs": [],
   "source": [
    "FULL_DATA = False\n",
    "LE = LabelEncoder()\n",
    "WINDOW_LENGTH = 7\n",
    "DATA_MULTIPLIER = 1\n",
    "ADD_ELEMENTS = True\n",
    "RETAIN_RATIO = True"
   ]
  },
  {
   "cell_type": "code",
   "execution_count": null,
   "metadata": {},
   "outputs": [
    {
     "name": "stdout",
     "output_type": "stream",
     "text": [
      "(4344, 35) (1358, 35) (1086, 35) (4344,) (1086,) (1358,)\n"
     ]
    },
    {
     "name": "stderr",
     "output_type": "stream",
     "text": [
      "C:\\Users\\Alaric\\AppData\\Local\\Temp\\ipykernel_3956\\2416956651.py:9: SettingWithCopyWarning: \n",
      "A value is trying to be set on a copy of a slice from a DataFrame.\n",
      "Try using .loc[row_indexer,col_indexer] = value instead\n",
      "\n",
      "See the caveats in the documentation: https://pandas.pydata.org/pandas-docs/stable/user_guide/indexing.html#returning-a-view-versus-a-copy\n",
      "  raw_dataset[\"conditions\"] = raw_dataset[\"conditions\"].replace(\n",
      "C:\\Users\\Alaric\\AppData\\Local\\Temp\\ipykernel_3956\\2416956651.py:15: SettingWithCopyWarning: \n",
      "A value is trying to be set on a copy of a slice from a DataFrame.\n",
      "Try using .loc[row_indexer,col_indexer] = value instead\n",
      "\n",
      "See the caveats in the documentation: https://pandas.pydata.org/pandas-docs/stable/user_guide/indexing.html#returning-a-view-versus-a-copy\n",
      "  raw_dataset[\"conditions\"] = [word.replace(\", \", \"\\n\") if (\",\" in word) else word for word in raw_dataset[\"conditions\"]]\n",
      "C:\\Users\\Alaric\\AppData\\Local\\Temp\\ipykernel_3956\\2416956651.py:16: SettingWithCopyWarning: \n",
      "A value is trying to be set on a copy of a slice from a DataFrame.\n",
      "Try using .loc[row_indexer,col_indexer] = value instead\n",
      "\n",
      "See the caveats in the documentation: https://pandas.pydata.org/pandas-docs/stable/user_guide/indexing.html#returning-a-view-versus-a-copy\n",
      "  raw_dataset[\"conditions\"] =  LE.fit_transform(raw_dataset[\"conditions\"])\n"
     ]
    }
   ],
   "source": [
    "concatenated_data = pd.read_csv(\"Concatenated Data.csv\")\n",
    "\n",
    "raw_dataset = concatenated_data[[\"temp\", \"feelslike\", \"humidity\", \"windspeed\", \"sealevelpressure\", \"conditions\"]]\n",
    "\n",
    "# raw_dataset[\"raw_conditions\"] = raw_dataset[\"conditions\"]\n",
    "raw_dataset[\"conditions\"] = [word.replace(\", \", \"\\n\") if (\",\" in word) else word for word in raw_dataset[\"conditions\"]]\n",
    "raw_dataset[\"conditions\"] =  LE.fit_transform(raw_dataset[\"conditions\"])\n",
    "\n",
    "t_arr = raw_dataset.copy().to_numpy()\n",
    "X = []\n",
    "y = []\n",
    "\n",
    "for i in range(len(t_arr) - WINDOW_LENGTH):\n",
    "    t_row = []\n",
    "    for j in t_arr[i : i + WINDOW_LENGTH]:\n",
    "        t_row.append(j[:-1])\n",
    "    t_row = np.array(t_row).flatten()\n",
    "    X.append(t_row)\n",
    "    y.append(t_arr[i + WINDOW_LENGTH][-1])\n",
    "\n",
    "X = np.array(X, \"float32\")\n",
    "X = minmax_scale(X, feature_range=(0, 1))\n",
    "y = np.array(y)\n",
    "\n",
    "counts = dict(collections.Counter(y))\n",
    "max_count = max(counts.values())\n",
    "\n",
    "# Data Augmentation\n",
    "\n",
    "X_orig_train, X_orig_test, y_orig_train, y_orig_test = train_test_split(X, y, test_size = 0.2, random_state=828)\n",
    "X_orig_train, X_orig_valid, y_orig_train, y_orig_valid = train_test_split(X_orig_train, y_orig_train, test_size = 0.2, random_state=828)\n",
    "\n",
    "if ADD_ELEMENTS:\n",
    "    for key, value in counts.items():\n",
    "        curX = []\n",
    "        curY = []\n",
    "        li, = np.where(y == key)\n",
    "        if not RETAIN_RATIO:\n",
    "            for i in range((max_count - value) * DATA_MULTIPLIER):\n",
    "                ci = random.choice(li)\n",
    "                curX.append(X[ci])\n",
    "                curY.append(y[ci])\n",
    "        else:\n",
    "            for i in range(value * DATA_MULTIPLIER):\n",
    "                ci = random.choice(li)\n",
    "                curX.append(X[ci])\n",
    "                curY.append(y[ci])\n",
    "\n",
    "        tX = X.tolist()\n",
    "        tY = y.tolist()\n",
    "        tX.extend(curX)\n",
    "        tY.extend(curY)\n",
    "        X = np.array(tX)\n",
    "        y = np.array(tY)        \n",
    "\n",
    "X_train, X_test, y_train, y_test = train_test_split(X, y, test_size = 0.2, random_state=828)\n",
    "X_train, X_valid, y_train, y_valid = train_test_split(X_train, y_train, test_size = 0.2, random_state=828)\n",
    "\n",
    "print(X_train.shape, X_test.shape, X_valid.shape, y_train.shape, y_valid.shape, y_test.shape)\n"
   ]
  },
  {
   "cell_type": "markdown",
   "metadata": {},
   "source": [
    "# Implement : DBN + RFC"
   ]
  },
  {
   "cell_type": "code",
   "execution_count": null,
   "metadata": {},
   "outputs": [
    {
     "data": {
      "text/plain": [
       "['FinalRFCModel.pkl']"
      ]
     },
     "execution_count": 36,
     "metadata": {},
     "output_type": "execute_result"
    }
   ],
   "source": [
    "MLPipeline = Pipeline([\n",
    "    (\"[DBN] RBM 1\", BernoulliRBM(n_components = X_train.shape[1], learning_rate = 0.01, n_iter = 100, verbose = 0)),\n",
    "    (\"[DBN] RBM 2\", BernoulliRBM(n_components = X_train.shape[1], learning_rate = 0.01, n_iter = 100, verbose = 0)),\n",
    "    (\"[DBN] RBM 3\", BernoulliRBM(n_components = X_train.shape[1], learning_rate = 0.01, n_iter = 100, verbose = 0)),\n",
    "    (\"[DBN] RBM 4\", BernoulliRBM(n_components = X_train.shape[1], learning_rate = 0.01, n_iter = 100, verbose = 0)),\n",
    "    (\"[DBN] RBM 5\", BernoulliRBM(n_components = X_train.shape[1], learning_rate = 0.01, n_iter = 100, verbose = 0)),\n",
    "    # (\"RandomForestClassifier\", RandomForestClassifier(class_weight='balanced'))\n",
    "    (\"RandomForestClassifier\", RandomForestClassifier(random_state=828))\n",
    "])\n",
    "\n",
    "MLPipeline.fit(X_train, y_train)\n",
    "joblib.dump(MLPipeline, 'FinalRFCModel.pkl')\n"
   ]
  },
  {
   "cell_type": "code",
   "execution_count": 11,
   "metadata": {},
   "outputs": [],
   "source": [
    "MLPipeline = joblib.load(\"FinalRFCModel.pkl\")"
   ]
  },
  {
   "cell_type": "code",
   "execution_count": 14,
   "metadata": {},
   "outputs": [
    {
     "data": {
      "text/plain": [
       "96.89226519337016"
      ]
     },
     "execution_count": 14,
     "metadata": {},
     "output_type": "execute_result"
    }
   ],
   "source": [
    "y_pred = MLPipeline.predict(X_train)\n",
    "accuracy_score(y_train, y_pred) * 100"
   ]
  },
  {
   "cell_type": "code",
   "execution_count": 15,
   "metadata": {},
   "outputs": [
    {
     "data": {
      "text/plain": [
       "88.07069219440353"
      ]
     },
     "execution_count": 15,
     "metadata": {},
     "output_type": "execute_result"
    }
   ],
   "source": [
    "y_pred = MLPipeline.predict(X_test)\n",
    "accuracy_score(y_test, y_pred) * 100"
   ]
  },
  {
   "cell_type": "code",
   "execution_count": 16,
   "metadata": {},
   "outputs": [
    {
     "name": "stdout",
     "output_type": "stream",
     "text": [
      "              precision    recall  f1-score   support\n",
      "\n",
      "      Cloudy     1.0000    1.0000    1.0000         8\n",
      "       Rainy     0.8611    0.8730    0.8670       575\n",
      "       Sunny     0.8947    0.9203    0.9073       665\n",
      "       Windy     0.8916    0.6727    0.7668       110\n",
      "\n",
      "    accuracy                         0.8807      1358\n",
      "   macro avg     0.9118    0.8665    0.8853      1358\n",
      "weighted avg     0.8808    0.8807    0.8794      1358\n",
      "\n"
     ]
    }
   ],
   "source": [
    "print(classification_report(y_test, y_pred, target_names=LE.classes_, digits=4))"
   ]
  },
  {
   "cell_type": "code",
   "execution_count": null,
   "metadata": {},
   "outputs": [
    {
     "data": {
      "image/png": "[encoded data removed]",
      "text/plain": [
       "<Figure size 640x480 with 1 Axes>"
      ]
     },
     "metadata": {},
     "output_type": "display_data"
    }
   ],
   "source": [
    "ConfusionMatrixDisplay(confusion_matrix = confusion_matrix(y_test, y_pred), display_labels = LE.classes_).plot(cmap=\"binary\").im_.colorbar.remove()\n",
    "plt.xlabel(\"Predicted\")\n",
    "plt.ylabel(\"Observation\")\n",
    "plt.show()"
   ]
  }
 ],
 "metadata": {
  "kernelspec": {
   "display_name": "Python 3",
   "language": "python",
   "name": "python3"
  },
  "language_info": {
   "codemirror_mode": {
    "name": "ipython",
    "version": 3
   },
   "file_extension": ".py",
   "mimetype": "text/x-python",
   "name": "python",
   "nbconvert_exporter": "python",
   "pygments_lexer": "ipython3",
   "version": "3.10.10"
  }
 },
 "nbformat": 4,
 "nbformat_minor": 2
}
