{
 "cells": [
  {
   "cell_type": "markdown",
   "metadata": {},
   "source": [
    "# Import"
   ]
  },
  {
   "cell_type": "code",
   "execution_count": null,
   "metadata": {},
   "outputs": [],
   "source": [
    "import pandas as pd \n",
    "import matplotlib.pyplot as plt \n",
    "import pandas as pd \n",
    "import numpy as np \n",
    "import tensorflow as tf \n",
    "import pickle \n",
    "import joblib\n",
    "\n",
    "from pprint import pprint\n",
    "from tqdm import tqdm\n",
    "from tensorflow import keras \n",
    "from tensorflow.keras import layers \n",
    "from tensorflow.keras.models import Sequential, load_model\n",
    "from tensorflow.keras.callbacks import ModelCheckpoint\n",
    "from tensorflow.keras.metrics import RootMeanSquaredError, MeanAbsoluteError\n",
    "from tensorflow.keras.losses import MeanSquaredError, MeanAbsoluteError\n",
    "from tensorflow.keras.optimizers import Adam \n",
    "from sklearn.model_selection import train_test_split, GridSearchCV \n",
    "from sklearn.preprocessing import StandardScaler, MinMaxScaler, LabelEncoder, minmax_scale\n",
    "from sklearn.ensemble import RandomForestRegressor\n",
    "from SciKit.RBM import BernoulliRBM\n",
    "from sklearn.ensemble import RandomForestClassifier, AdaBoostClassifier\n",
    "from sklearn.svm import SVC\n",
    "from sklearn.neighbors import KNeighborsClassifier\n",
    "from sklearn.gaussian_process import GaussianProcessClassifier\n",
    "from sklearn.tree import DecisionTreeClassifier\n",
    "from sklearn.neural_network import MLPClassifier\n",
    "from sklearn.linear_model import LogisticRegression\n",
    "from sklearn.pipeline import Pipeline\n",
    "from sklearn.metrics import confusion_matrix, ConfusionMatrixDisplay, accuracy_score, classification_report\n",
    "from sklearn.datasets import load_digits\n",
    "from imblearn.over_sampling import SMOTE, RandomOverSampler, ADASYN\n",
    "\n",
    "import collections \n",
    "import random"
   ]
  },
  {
   "cell_type": "markdown",
   "metadata": {},
   "source": [
    "# Data Preparation"
   ]
  },
  {
   "cell_type": "code",
   "execution_count": 11,
   "metadata": {},
   "outputs": [],
   "source": [
    "FULL_DATA = False\n",
    "LE = LabelEncoder()\n",
    "WINDOW_LENGTH = 7\n",
    "DATA_MULTIPLIER = 1\n",
    "ADD_ELEMENTS = True\n",
    "RETAIN_RATIO = True"
   ]
  },
  {
   "cell_type": "code",
   "execution_count": 12,
   "metadata": {},
   "outputs": [
    {
     "name": "stderr",
     "output_type": "stream",
     "text": [
      "C:\\Users\\Alaric\\AppData\\Local\\Temp\\ipykernel_15900\\3811572742.py:6: SettingWithCopyWarning: \n",
      "A value is trying to be set on a copy of a slice from a DataFrame.\n",
      "Try using .loc[row_indexer,col_indexer] = value instead\n",
      "\n",
      "See the caveats in the documentation: https://pandas.pydata.org/pandas-docs/stable/user_guide/indexing.html#returning-a-view-versus-a-copy\n",
      "  raw_dataset[\"conditions\"] = [word.replace(\", \", \"\\n\") if (\",\" in word) else word for word in raw_dataset[\"conditions\"]]\n",
      "C:\\Users\\Alaric\\AppData\\Local\\Temp\\ipykernel_15900\\3811572742.py:7: SettingWithCopyWarning: \n",
      "A value is trying to be set on a copy of a slice from a DataFrame.\n",
      "Try using .loc[row_indexer,col_indexer] = value instead\n",
      "\n",
      "See the caveats in the documentation: https://pandas.pydata.org/pandas-docs/stable/user_guide/indexing.html#returning-a-view-versus-a-copy\n",
      "  raw_dataset[\"conditions\"] =  LE.fit_transform(raw_dataset[\"conditions\"])\n"
     ]
    },
    {
     "name": "stdout",
     "output_type": "stream",
     "text": [
      "(4344, 35) (1358, 35) (1086, 35) (4344,) (1086,) (1358,)\n"
     ]
    }
   ],
   "source": [
    "concatenated_data = pd.read_csv(\"Concatenated Data.csv\")\n",
    "\n",
    "raw_dataset = concatenated_data[[\"temp\", \"feelslike\", \"humidity\", \"windspeed\", \"sealevelpressure\", \"conditions\"]]\n",
    "\n",
    "# raw_dataset[\"raw_conditions\"] = raw_dataset[\"conditions\"]\n",
    "raw_dataset[\"conditions\"] = [word.replace(\", \", \"\\n\") if (\",\" in word) else word for word in raw_dataset[\"conditions\"]]\n",
    "raw_dataset[\"conditions\"] =  LE.fit_transform(raw_dataset[\"conditions\"])\n",
    "\n",
    "t_arr = raw_dataset.copy().to_numpy()\n",
    "X = []\n",
    "y = []\n",
    "\n",
    "for i in range(len(t_arr) - WINDOW_LENGTH):\n",
    "    t_row = []\n",
    "    for j in t_arr[i : i + WINDOW_LENGTH]:\n",
    "        t_row.append(j[:-1])\n",
    "    t_row = np.array(t_row).flatten()\n",
    "    X.append(t_row)\n",
    "    y.append(t_arr[i + WINDOW_LENGTH][-1])\n",
    "\n",
    "X = np.array(X, \"float32\")\n",
    "X = minmax_scale(X, feature_range=(0, 1))\n",
    "y = np.array(y)\n",
    "\n",
    "counts = dict(collections.Counter(y))\n",
    "max_count = max(counts.values())\n",
    "\n",
    "# Data Augmentation\n",
    "\n",
    "X_orig_train, X_orig_test, y_orig_train, y_orig_test = train_test_split(X, y, test_size = 0.2, random_state=828)\n",
    "X_orig_train, X_orig_valid, y_orig_train, y_orig_valid = train_test_split(X_orig_train, y_orig_train, test_size = 0.2, random_state=828)\n",
    "\n",
    "if ADD_ELEMENTS:\n",
    "    for key, value in counts.items():\n",
    "        curX = []\n",
    "        curY = []\n",
    "        li, = np.where(y == key)\n",
    "        if not RETAIN_RATIO:\n",
    "            for i in range((max_count - value) * DATA_MULTIPLIER):\n",
    "                ci = random.choice(li)\n",
    "                curX.append(X[ci])\n",
    "                curY.append(y[ci])\n",
    "        else:\n",
    "            for i in range(value * DATA_MULTIPLIER):\n",
    "                ci = random.choice(li)\n",
    "                curX.append(X[ci])\n",
    "                curY.append(y[ci])\n",
    "\n",
    "        tX = X.tolist()\n",
    "        tY = y.tolist()\n",
    "        tX.extend(curX)\n",
    "        tY.extend(curY)\n",
    "        X = np.array(tX)\n",
    "        y = np.array(tY)        \n",
    "\n",
    "X_train, X_test, y_train, y_test = train_test_split(X, y, test_size = 0.2, random_state=828)\n",
    "X_train, X_valid, y_train, y_valid = train_test_split(X_train, y_train, test_size = 0.2, random_state=828)\n",
    "\n",
    "print(X_train.shape, X_test.shape, X_valid.shape, y_train.shape, y_valid.shape, y_test.shape)\n"
   ]
  },
  {
   "cell_type": "markdown",
   "metadata": {},
   "source": [
    "# Implement : DBN + RFC"
   ]
  },
  {
   "cell_type": "code",
   "execution_count": null,
   "metadata": {},
   "outputs": [
    {
     "name": "stdout",
     "output_type": "stream",
     "text": [
      "[BernoulliRBM] Iteration 1, pseudo-likelihood: -53.75, time= 0.57s\n",
      "[BernoulliRBM] Iteration 2, pseudo-likelihood: -52.87, time= 0.0s\n",
      "[BernoulliRBM] Iteration 3, pseudo-likelihood: -56.78, time= 0.17s\n",
      "[BernoulliRBM] Iteration 4, pseudo-likelihood: -60.27, time= 0.11s\n",
      "[BernoulliRBM] Iteration 5, pseudo-likelihood: -60.37, time= 0.5s\n",
      "[BernoulliRBM] Iteration 6, pseudo-likelihood: -63.75, time= 0.18s\n",
      "[BernoulliRBM] Iteration 7, pseudo-likelihood: -57.23, time= 0.17s\n",
      "[BernoulliRBM] Iteration 8, pseudo-likelihood: -64.84, time= 0.22s\n",
      "[BernoulliRBM] Iteration 9, pseudo-likelihood: -62.32, time= 0.08s\n",
      "[BernoulliRBM] Iteration 10, pseudo-likelihood: -70.19, time= 0.3s\n",
      "[BernoulliRBM] Iteration 1, pseudo-likelihood: -57.15, time= 0.17s\n",
      "[BernoulliRBM] Iteration 2, pseudo-likelihood: -56.97, time= 0.34s\n",
      "[BernoulliRBM] Iteration 3, pseudo-likelihood: -60.3, time= 0.37s\n",
      "[BernoulliRBM] Iteration 4, pseudo-likelihood: -55.78, time= 0.37s\n",
      "[BernoulliRBM] Iteration 5, pseudo-likelihood: -65.04, time= 0.02s\n",
      "[BernoulliRBM] Iteration 6, pseudo-likelihood: -64.04, time= 0.6s\n",
      "[BernoulliRBM] Iteration 7, pseudo-likelihood: -63.59, time= 0.48s\n",
      "[BernoulliRBM] Iteration 8, pseudo-likelihood: -68.34, time= 0.03s\n",
      "[BernoulliRBM] Iteration 9, pseudo-likelihood: -62.75, time= 0.17s\n",
      "[BernoulliRBM] Iteration 10, pseudo-likelihood: -65.95, time= 0.25s\n",
      "[BernoulliRBM] Iteration 1, pseudo-likelihood: -57.52, time= 0.45s\n",
      "[BernoulliRBM] Iteration 2, pseudo-likelihood: -60.91, time= 0.44s\n",
      "[BernoulliRBM] Iteration 3, pseudo-likelihood: -62.6, time= 0.07s\n",
      "[BernoulliRBM] Iteration 4, pseudo-likelihood: -58.21, time= 0.52s\n",
      "[BernoulliRBM] Iteration 5, pseudo-likelihood: -62.19, time= 0.48s\n",
      "[BernoulliRBM] Iteration 6, pseudo-likelihood: -57.3, time= 0.47s\n",
      "[BernoulliRBM] Iteration 7, pseudo-likelihood: -63.97, time= 0.58s\n",
      "[BernoulliRBM] Iteration 8, pseudo-likelihood: -63.9, time= 0.39s\n",
      "[BernoulliRBM] Iteration 9, pseudo-likelihood: -66.25, time= 0.39s\n",
      "[BernoulliRBM] Iteration 10, pseudo-likelihood: -67.48, time= 0.54s\n",
      "[BernoulliRBM] Iteration 1, pseudo-likelihood: -53.16, time= 0.35s\n",
      "[BernoulliRBM] Iteration 2, pseudo-likelihood: -54.39, time= 0.16s\n",
      "[BernoulliRBM] Iteration 3, pseudo-likelihood: -61.59, time= 0.33s\n",
      "[BernoulliRBM] Iteration 4, pseudo-likelihood: -56.05, time= 0.39s\n",
      "[BernoulliRBM] Iteration 5, pseudo-likelihood: -62.24, time= 0.0s\n",
      "[BernoulliRBM] Iteration 6, pseudo-likelihood: -63.51, time= 0.14s\n",
      "[BernoulliRBM] Iteration 7, pseudo-likelihood: -64.44, time= 0.48s\n",
      "[BernoulliRBM] Iteration 8, pseudo-likelihood: -66.5, time= 0.08s\n",
      "[BernoulliRBM] Iteration 9, pseudo-likelihood: -65.94, time= 0.0s\n",
      "[BernoulliRBM] Iteration 10, pseudo-likelihood: -60.19, time= 0.14s\n",
      "[BernoulliRBM] Iteration 1, pseudo-likelihood: -52.91, time= 0.57s\n",
      "[BernoulliRBM] Iteration 2, pseudo-likelihood: -59.15, time= 0.29s\n",
      "[BernoulliRBM] Iteration 3, pseudo-likelihood: -57.55, time= 0.33s\n",
      "[BernoulliRBM] Iteration 4, pseudo-likelihood: -62.46, time= 0.35s\n",
      "[BernoulliRBM] Iteration 5, pseudo-likelihood: -59.12, time= 0.24s\n",
      "[BernoulliRBM] Iteration 6, pseudo-likelihood: -62.14, time= 0.48s\n",
      "[BernoulliRBM] Iteration 7, pseudo-likelihood: -67.96, time= 0.06s\n",
      "[BernoulliRBM] Iteration 8, pseudo-likelihood: -67.36, time= 0.08s\n",
      "[BernoulliRBM] Iteration 9, pseudo-likelihood: -64.9, time= 0.4s\n",
      "[BernoulliRBM] Iteration 10, pseudo-likelihood: -68.19, time= 0.05s\n"
     ]
    },
    {
     "data": {
      "text/plain": [
       "['FinalRFCModelTest.pkl']"
      ]
     },
     "execution_count": 13,
     "metadata": {},
     "output_type": "execute_result"
    }
   ],
   "source": [
    "MLPipeline = Pipeline([\n",
    "    (\"[DBN] RBM 1\", BernoulliRBM(n_components = X_train.shape[1] * 8, learning_rate = 0.01, n_iter = 10, verbose = 1)),\n",
    "    (\"[DBN] RBM 2\", BernoulliRBM(n_components = X_train.shape[1] * 4, learning_rate = 0.01, n_iter = 10, verbose = 1)),\n",
    "    (\"[DBN] RBM 3\", BernoulliRBM(n_components = X_train.shape[1] * 2, learning_rate = 0.01, n_iter = 10, verbose = 1)),\n",
    "    (\"[DBN] RBM 4\", BernoulliRBM(n_components = X_train.shape[1], learning_rate = 0.01, n_iter = 10, verbose = 1)),\n",
    "    (\"[DBN] RBM 5\", BernoulliRBM(n_components = X_train.shape[1], learning_rate = 0.02, n_iter = 10, verbose = 1)),\n",
    "    # (\"RandomForestClassifier\", RandomForestClassifier(class_weight='balanced'))\n",
    "    (\"RandomForestClassifier\", RandomForestClassifier(random_state=828))\n",
    "])\n",
    "\n",
    "MLPipeline.fit(X_train, y_train)\n",
    "joblib.dump(MLPipeline, 'FinalRFCModel.pkl')\n"
   ]
  },
  {
   "cell_type": "code",
   "execution_count": null,
   "metadata": {},
   "outputs": [],
   "source": [
    "MLPipeline = joblib.load(\"FinalRFCModel.pkl\")"
   ]
  },
  {
   "cell_type": "code",
   "execution_count": 15,
   "metadata": {},
   "outputs": [
    {
     "data": {
      "text/plain": [
       "100.0"
      ]
     },
     "execution_count": 15,
     "metadata": {},
     "output_type": "execute_result"
    }
   ],
   "source": [
    "y_pred = MLPipeline.predict(X_train)\n",
    "accuracy_score(y_train, y_pred) * 100"
   ]
  },
  {
   "cell_type": "code",
   "execution_count": 16,
   "metadata": {},
   "outputs": [
    {
     "data": {
      "text/plain": [
       "88.43888070692194"
      ]
     },
     "execution_count": 16,
     "metadata": {},
     "output_type": "execute_result"
    }
   ],
   "source": [
    "y_pred = MLPipeline.predict(X_test)\n",
    "accuracy_score(y_test, y_pred) * 100"
   ]
  },
  {
   "cell_type": "code",
   "execution_count": 17,
   "metadata": {},
   "outputs": [
    {
     "name": "stdout",
     "output_type": "stream",
     "text": [
      "              precision    recall  f1-score   support\n",
      "\n",
      "      Cloudy     1.0000    0.7500    0.8571         8\n",
      "       Rainy     0.8591    0.8800    0.8694       575\n",
      "       Sunny     0.8996    0.9158    0.9076       665\n",
      "       Windy     0.9302    0.7273    0.8163       110\n",
      "\n",
      "    accuracy                         0.8844      1358\n",
      "   macro avg     0.9222    0.8183    0.8626      1358\n",
      "weighted avg     0.8855    0.8844    0.8837      1358\n",
      "\n"
     ]
    }
   ],
   "source": [
    "print(classification_report(y_test, y_pred, target_names=LE.classes_, digits=4))"
   ]
  },
  {
   "cell_type": "code",
   "execution_count": 18,
   "metadata": {},
   "outputs": [
    {
     "data": {
      "image/png": "[encoded data removed]",
      "text/plain": [
       "<Figure size 640x480 with 1 Axes>"
      ]
     },
     "metadata": {},
     "output_type": "display_data"
    }
   ],
   "source": [
    "ConfusionMatrixDisplay(confusion_matrix = confusion_matrix(y_test, y_pred), display_labels = LE.classes_).plot(cmap=\"binary\").im_.colorbar.remove()\n",
    "plt.xlabel(\"Predicted\")\n",
    "plt.ylabel(\"Observation\")\n",
    "plt.show()"
   ]
  }
 ],
 "metadata": {
  "kernelspec": {
   "display_name": "Python 3",
   "language": "python",
   "name": "python3"
  },
  "language_info": {
   "codemirror_mode": {
    "name": "ipython",
    "version": 3
   },
   "file_extension": ".py",
   "mimetype": "text/x-python",
   "name": "python",
   "nbconvert_exporter": "python",
   "pygments_lexer": "ipython3",
   "version": "3.10.10"
  }
 },
 "nbformat": 4,
 "nbformat_minor": 2
}
