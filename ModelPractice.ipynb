{
 "cells": [
  {
   "cell_type": "code",
   "execution_count": 220,
   "metadata": {},
   "outputs": [],
   "source": [
    "import matplotlib.pyplot as plt\n",
    "import numpy as np\n",
    "import pandas as pd\n",
    "import tensorflow as tf\n",
    "\n",
    "from tensorflow import keras\n",
    "from tensorflow.keras import layers\n",
    "\n",
    "\n",
    "# Make NumPy printouts easier to read.\n",
    "np.set_printoptions(precision=3, suppress=True)"
   ]
  },
  {
   "attachments": {},
   "cell_type": "markdown",
   "metadata": {},
   "source": [
    "# DATA GENERATION"
   ]
  },
  {
   "cell_type": "code",
   "execution_count": 221,
   "metadata": {},
   "outputs": [
    {
     "name": "stdout",
     "output_type": "stream",
     "text": [
      "     A    B         C     D  TARGET\n",
      "0  0.0  0.5  0.666667  0.75     0.8\n",
      "1  1.0  1.0  1.000000  1.00     1.0\n",
      "2  2.0  1.5  1.333333  1.25     1.2\n",
      "3  3.0  2.0  1.666667  1.50     1.4\n",
      "4  4.0  2.5  2.000000  1.75     1.6\n"
     ]
    }
   ],
   "source": [
    "WIDTH = 5\n",
    "HEIGHT = 500\n",
    "\n",
    "sample_data = [[(i+j)/(i+1) for i in range(WIDTH)] for j in range(HEIGHT)]\n",
    "\n",
    "names = \"ABCDEFGHIJKLMNOPQRSTUVWXYZabcdefghijklmnopqrstuvwxyz\"\n",
    "column_names = [names[i] for i in range(WIDTH-1)] + [\"TARGET\"]\n",
    "orig_data = pd.DataFrame(sample_data)\n",
    "\n",
    "orig_data.columns = column_names\n",
    "\n",
    "print(orig_data.head())"
   ]
  },
  {
   "attachments": {},
   "cell_type": "markdown",
   "metadata": {},
   "source": [
    "DATA SPLITTING"
   ]
  },
  {
   "cell_type": "code",
   "execution_count": 222,
   "metadata": {},
   "outputs": [],
   "source": [
    "dataset = orig_data.copy()\n",
    "train_dataset = dataset.sample(frac=0.8, random_state=0)\n",
    "test_dataset = dataset.drop(train_dataset.index)\n",
    "\n",
    "train_features = train_dataset.copy()\n",
    "test_features = test_dataset.copy()\n",
    "\n",
    "train_labels = train_features.pop('TARGET')\n",
    "test_labels = test_features.pop('TARGET')"
   ]
  },
  {
   "cell_type": "markdown",
   "metadata": {},
   "source": [
    "Adding the Normalizer"
   ]
  },
  {
   "cell_type": "code",
   "execution_count": 223,
   "metadata": {},
   "outputs": [],
   "source": [
    "normalizer = tf.keras.layers.Normalization(axis=-1)\n",
    "normalizer.adapt(np.array(train_features))"
   ]
  },
  {
   "attachments": {},
   "cell_type": "markdown",
   "metadata": {},
   "source": [
    "Sequential Model (Deep Neural Network)"
   ]
  },
  {
   "cell_type": "code",
   "execution_count": 235,
   "metadata": {},
   "outputs": [
    {
     "ename": "AttributeError",
     "evalue": "'Normalization' object has no attribute 'shape'",
     "output_type": "error",
     "traceback": [
      "\u001b[1;31m---------------------------------------------------------------------------\u001b[0m",
      "\u001b[1;31mAttributeError\u001b[0m                            Traceback (most recent call last)",
      "\u001b[1;32mc:\\Users\\Alaric\\Documents\\Code\\ThesisMachineLearning\\CPE200L-THESIS-OSSS\\ModelPractice.ipynb Cell 9\u001b[0m in \u001b[0;36m<cell line: 16>\u001b[1;34m()\u001b[0m\n\u001b[0;32m     <a href='vscode-notebook-cell:/c%3A/Users/Alaric/Documents/Code/ThesisMachineLearning/CPE200L-THESIS-OSSS/ModelPractice.ipynb#X21sZmlsZQ%3D%3D?line=11'>12</a>\u001b[0m   model\u001b[39m.\u001b[39mcompile(loss\u001b[39m=\u001b[39m\u001b[39m'\u001b[39m\u001b[39mmean_absolute_error\u001b[39m\u001b[39m'\u001b[39m,\n\u001b[0;32m     <a href='vscode-notebook-cell:/c%3A/Users/Alaric/Documents/Code/ThesisMachineLearning/CPE200L-THESIS-OSSS/ModelPractice.ipynb#X21sZmlsZQ%3D%3D?line=12'>13</a>\u001b[0m                 optimizer\u001b[39m=\u001b[39mtf\u001b[39m.\u001b[39mkeras\u001b[39m.\u001b[39moptimizers\u001b[39m.\u001b[39mAdam(\u001b[39m0.001\u001b[39m))\n\u001b[0;32m     <a href='vscode-notebook-cell:/c%3A/Users/Alaric/Documents/Code/ThesisMachineLearning/CPE200L-THESIS-OSSS/ModelPractice.ipynb#X21sZmlsZQ%3D%3D?line=13'>14</a>\u001b[0m   \u001b[39mreturn\u001b[39;00m model\n\u001b[1;32m---> <a href='vscode-notebook-cell:/c%3A/Users/Alaric/Documents/Code/ThesisMachineLearning/CPE200L-THESIS-OSSS/ModelPractice.ipynb#X21sZmlsZQ%3D%3D?line=15'>16</a>\u001b[0m dnn_model \u001b[39m=\u001b[39m build_and_compile_model(normalizer)\n\u001b[0;32m     <a href='vscode-notebook-cell:/c%3A/Users/Alaric/Documents/Code/ThesisMachineLearning/CPE200L-THESIS-OSSS/ModelPractice.ipynb#X21sZmlsZQ%3D%3D?line=16'>17</a>\u001b[0m dnn_model\u001b[39m.\u001b[39msummary()\n",
      "\u001b[1;32mc:\\Users\\Alaric\\Documents\\Code\\ThesisMachineLearning\\CPE200L-THESIS-OSSS\\ModelPractice.ipynb Cell 9\u001b[0m in \u001b[0;36mbuild_and_compile_model\u001b[1;34m(norm)\u001b[0m\n\u001b[0;32m      <a href='vscode-notebook-cell:/c%3A/Users/Alaric/Documents/Code/ThesisMachineLearning/CPE200L-THESIS-OSSS/ModelPractice.ipynb#X21sZmlsZQ%3D%3D?line=0'>1</a>\u001b[0m \u001b[39mdef\u001b[39;00m \u001b[39mbuild_and_compile_model\u001b[39m(norm):\n\u001b[1;32m----> <a href='vscode-notebook-cell:/c%3A/Users/Alaric/Documents/Code/ThesisMachineLearning/CPE200L-THESIS-OSSS/ModelPractice.ipynb#X21sZmlsZQ%3D%3D?line=1'>2</a>\u001b[0m   \u001b[39mprint\u001b[39m(norm\u001b[39m.\u001b[39;49mshape)\n\u001b[0;32m      <a href='vscode-notebook-cell:/c%3A/Users/Alaric/Documents/Code/ThesisMachineLearning/CPE200L-THESIS-OSSS/ModelPractice.ipynb#X21sZmlsZQ%3D%3D?line=2'>3</a>\u001b[0m   model \u001b[39m=\u001b[39m keras\u001b[39m.\u001b[39mSequential([\n\u001b[0;32m      <a href='vscode-notebook-cell:/c%3A/Users/Alaric/Documents/Code/ThesisMachineLearning/CPE200L-THESIS-OSSS/ModelPractice.ipynb#X21sZmlsZQ%3D%3D?line=3'>4</a>\u001b[0m       norm,\n\u001b[0;32m      <a href='vscode-notebook-cell:/c%3A/Users/Alaric/Documents/Code/ThesisMachineLearning/CPE200L-THESIS-OSSS/ModelPractice.ipynb#X21sZmlsZQ%3D%3D?line=4'>5</a>\u001b[0m       layers\u001b[39m.\u001b[39mLSTM(\u001b[39m3\u001b[39m, return_sequences\u001b[39m=\u001b[39m\u001b[39mTrue\u001b[39;00m),\n\u001b[1;32m   (...)\u001b[0m\n\u001b[0;32m      <a href='vscode-notebook-cell:/c%3A/Users/Alaric/Documents/Code/ThesisMachineLearning/CPE200L-THESIS-OSSS/ModelPractice.ipynb#X21sZmlsZQ%3D%3D?line=8'>9</a>\u001b[0m       layers\u001b[39m.\u001b[39mDense(\u001b[39m1\u001b[39m)\n\u001b[0;32m     <a href='vscode-notebook-cell:/c%3A/Users/Alaric/Documents/Code/ThesisMachineLearning/CPE200L-THESIS-OSSS/ModelPractice.ipynb#X21sZmlsZQ%3D%3D?line=9'>10</a>\u001b[0m   ])\n\u001b[0;32m     <a href='vscode-notebook-cell:/c%3A/Users/Alaric/Documents/Code/ThesisMachineLearning/CPE200L-THESIS-OSSS/ModelPractice.ipynb#X21sZmlsZQ%3D%3D?line=11'>12</a>\u001b[0m   model\u001b[39m.\u001b[39mcompile(loss\u001b[39m=\u001b[39m\u001b[39m'\u001b[39m\u001b[39mmean_absolute_error\u001b[39m\u001b[39m'\u001b[39m,\n\u001b[0;32m     <a href='vscode-notebook-cell:/c%3A/Users/Alaric/Documents/Code/ThesisMachineLearning/CPE200L-THESIS-OSSS/ModelPractice.ipynb#X21sZmlsZQ%3D%3D?line=12'>13</a>\u001b[0m                 optimizer\u001b[39m=\u001b[39mtf\u001b[39m.\u001b[39mkeras\u001b[39m.\u001b[39moptimizers\u001b[39m.\u001b[39mAdam(\u001b[39m0.001\u001b[39m))\n",
      "\u001b[1;31mAttributeError\u001b[0m: 'Normalization' object has no attribute 'shape'"
     ]
    }
   ],
   "source": [
    "def build_and_compile_model(norm):\n",
    "  model = keras.Sequential([\n",
    "      norm,     \n",
    "      layers.Dense(64, activation='relu'),\n",
    "      layers.Dense(64, activation='relu'),\n",
    "      layers.Dense(64, activation='relu'),\n",
    "      layers.Dense(1)\n",
    "  ])\n",
    "\n",
    "  model.compile(loss='mean_absolute_error',\n",
    "                optimizer=tf.keras.optimizers.Adam(0.001))\n",
    "  return model\n",
    "\n",
    "dnn_model = build_and_compile_model(normalizer)\n",
    "dnn_model.summary()"
   ]
  },
  {
   "attachments": {},
   "cell_type": "markdown",
   "metadata": {},
   "source": [
    "Early Stopping Mechanism"
   ]
  },
  {
   "cell_type": "code",
   "execution_count": 225,
   "metadata": {},
   "outputs": [],
   "source": [
    "early_stopping = keras.callbacks.EarlyStopping(\n",
    "    patience = 5,\n",
    "    min_delta = 0.001,\n",
    "    restore_best_weights = True\n",
    ")"
   ]
  },
  {
   "attachments": {},
   "cell_type": "markdown",
   "metadata": {},
   "source": [
    "Fit the model to the train features (X) and train labels (Y)"
   ]
  },
  {
   "cell_type": "code",
   "execution_count": 226,
   "metadata": {},
   "outputs": [
    {
     "name": "stdout",
     "output_type": "stream",
     "text": [
      "Epoch 1/100\n",
      "13/13 [==============================] - 12s 424ms/step - loss: 49.9529 - val_loss: 52.2635\n",
      "Epoch 2/100\n",
      "13/13 [==============================] - 6s 485ms/step - loss: 49.3003 - val_loss: 51.3701\n",
      "Epoch 3/100\n",
      "13/13 [==============================] - 2s 145ms/step - loss: 48.1657 - val_loss: 49.4731\n",
      "Epoch 4/100\n",
      "13/13 [==============================] - 3s 286ms/step - loss: 46.0495 - val_loss: 46.2194\n",
      "Epoch 5/100\n",
      "13/13 [==============================] - 2s 160ms/step - loss: 42.5236 - val_loss: 40.9516\n",
      "Epoch 6/100\n",
      "13/13 [==============================] - 2s 194ms/step - loss: 37.0501 - val_loss: 32.2454\n",
      "Epoch 7/100\n",
      "13/13 [==============================] - 2s 177ms/step - loss: 26.7364 - val_loss: 16.8258\n",
      "Epoch 8/100\n",
      "13/13 [==============================] - 2s 174ms/step - loss: 18.0768 - val_loss: 18.2470\n",
      "Epoch 9/100\n",
      "13/13 [==============================] - 2s 176ms/step - loss: 16.7715 - val_loss: 14.7791\n",
      "Epoch 10/100\n",
      "13/13 [==============================] - 2s 183ms/step - loss: 15.0273 - val_loss: 13.8994\n",
      "Epoch 11/100\n",
      "13/13 [==============================] - 2s 196ms/step - loss: 13.9126 - val_loss: 12.7836\n",
      "Epoch 12/100\n",
      "13/13 [==============================] - 2s 180ms/step - loss: 12.6436 - val_loss: 11.3685\n",
      "Epoch 13/100\n",
      "13/13 [==============================] - 2s 170ms/step - loss: 11.1236 - val_loss: 9.7776\n",
      "Epoch 14/100\n",
      "13/13 [==============================] - 2s 199ms/step - loss: 9.4598 - val_loss: 8.2120\n",
      "Epoch 15/100\n",
      "13/13 [==============================] - 2s 171ms/step - loss: 7.6188 - val_loss: 6.1144\n",
      "Epoch 16/100\n",
      "13/13 [==============================] - 2s 196ms/step - loss: 5.5130 - val_loss: 4.0974\n",
      "Epoch 17/100\n",
      "13/13 [==============================] - 3s 223ms/step - loss: 3.0390 - val_loss: 1.6310\n",
      "Epoch 18/100\n",
      "13/13 [==============================] - 2s 188ms/step - loss: 1.5876 - val_loss: 1.3539\n",
      "Epoch 19/100\n",
      "13/13 [==============================] - 2s 174ms/step - loss: 1.2725 - val_loss: 1.0564\n",
      "Epoch 20/100\n",
      "13/13 [==============================] - 2s 185ms/step - loss: 0.9220 - val_loss: 0.7027\n",
      "Epoch 21/100\n",
      "13/13 [==============================] - 2s 157ms/step - loss: 0.9429 - val_loss: 0.5863\n",
      "Epoch 22/100\n",
      "13/13 [==============================] - 2s 183ms/step - loss: 0.5123 - val_loss: 0.4515\n",
      "Epoch 23/100\n",
      "13/13 [==============================] - 2s 169ms/step - loss: 0.5242 - val_loss: 0.3562\n",
      "Epoch 24/100\n",
      "13/13 [==============================] - 2s 174ms/step - loss: 0.3137 - val_loss: 0.2213\n",
      "Epoch 25/100\n",
      "13/13 [==============================] - 2s 196ms/step - loss: 0.2565 - val_loss: 0.2405\n",
      "Epoch 26/100\n",
      "13/13 [==============================] - 2s 177ms/step - loss: 0.1708 - val_loss: 0.1607\n",
      "Epoch 27/100\n",
      "13/13 [==============================] - 2s 179ms/step - loss: 0.1751 - val_loss: 0.2632\n",
      "Epoch 28/100\n",
      "13/13 [==============================] - 2s 163ms/step - loss: 0.3589 - val_loss: 0.5582\n",
      "Epoch 29/100\n",
      "13/13 [==============================] - 2s 152ms/step - loss: 0.3565 - val_loss: 0.2596\n",
      "Epoch 30/100\n",
      "13/13 [==============================] - 2s 176ms/step - loss: 0.1858 - val_loss: 0.1153\n",
      "Epoch 31/100\n",
      "13/13 [==============================] - 2s 172ms/step - loss: 0.1824 - val_loss: 0.1722\n",
      "Epoch 32/100\n",
      "13/13 [==============================] - 2s 163ms/step - loss: 0.2252 - val_loss: 0.3900\n",
      "Epoch 33/100\n",
      "13/13 [==============================] - 2s 161ms/step - loss: 0.2733 - val_loss: 0.1426\n",
      "Epoch 34/100\n",
      "13/13 [==============================] - 2s 193ms/step - loss: 0.2603 - val_loss: 0.1760\n",
      "Epoch 35/100\n",
      "13/13 [==============================] - 2s 191ms/step - loss: 0.1920 - val_loss: 0.2531\n"
     ]
    }
   ],
   "source": [
    "history = dnn_model.fit(\n",
    "    train_features,\n",
    "    train_labels,\n",
    "    validation_data = (test_features, test_labels),\n",
    "    verbose=1, \n",
    "    callbacks = [early_stopping],\n",
    "    epochs=100)"
   ]
  },
  {
   "attachments": {},
   "cell_type": "markdown",
   "metadata": {},
   "source": [
    "Loss Curve"
   ]
  },
  {
   "cell_type": "code",
   "execution_count": 227,
   "metadata": {},
   "outputs": [
    {
     "name": "stdout",
     "output_type": "stream",
     "text": [
      "Minimum Validation Loss: 0.1153\n"
     ]
    },
    {
     "data": {
      "image/png": "[encoded data removed]",
      "text/plain": [
       "<Figure size 432x288 with 1 Axes>"
      ]
     },
     "metadata": {
      "needs_background": "light"
     },
     "output_type": "display_data"
    }
   ],
   "source": [
    "history_df = pd.DataFrame(history.history)\n",
    "history_df.loc[0:, ['loss', 'val_loss']].plot()\n",
    "print((\"Minimum Validation Loss: {:0.4f}\").format(history_df['val_loss'].min()))\n",
    "\n",
    "plt.show()"
   ]
  },
  {
   "attachments": {},
   "cell_type": "markdown",
   "metadata": {},
   "source": [
    "Prediction Curve"
   ]
  },
  {
   "cell_type": "code",
   "execution_count": 228,
   "metadata": {},
   "outputs": [
    {
     "name": "stdout",
     "output_type": "stream",
     "text": [
      "4/4 [==============================] - 7s 5ms/step\n"
     ]
    },
    {
     "data": {
      "image/png": "[encoded data removed]",
      "text/plain": [
       "<Figure size 432x288 with 1 Axes>"
      ]
     },
     "metadata": {
      "needs_background": "light"
     },
     "output_type": "display_data"
    }
   ],
   "source": [
    "test_predictions = dnn_model.predict(test_features).flatten()\n",
    "\n",
    "a = plt.axes(aspect='equal')\n",
    "plt.scatter(range(len(test_labels)), test_labels, color=\"red\")\n",
    "plt.scatter(range(len(test_labels)), test_predictions, color=\"green\")\n",
    "plt.xlabel('Features Test')\n",
    "plt.ylabel('Predictions and Labels')\n",
    "\n",
    "plt.show()"
   ]
  },
  {
   "attachments": {},
   "cell_type": "markdown",
   "metadata": {},
   "source": [
    "Evaluate Accuracy"
   ]
  },
  {
   "cell_type": "code",
   "execution_count": 229,
   "metadata": {},
   "outputs": [
    {
     "data": {
      "text/plain": [
       "count    100.000000\n",
       "mean       0.998207\n",
       "std        0.004052\n",
       "min        0.968347\n",
       "25%        0.997106\n",
       "50%        0.998285\n",
       "75%        0.999839\n",
       "max        1.005642\n",
       "Name: Accuracy, dtype: float64"
      ]
     },
     "execution_count": 229,
     "metadata": {},
     "output_type": "execute_result"
    }
   ],
   "source": [
    "test_labels_copy = test_labels.copy()\n",
    "\n",
    "predict_df = pd.DataFrame(test_predictions, columns=[\"PREDICTED\"])\n",
    "predict_df.index = test_labels_copy.index\n",
    "\n",
    "accuracy_df = pd.concat([test_features, test_labels, predict_df], axis=1)\n",
    "accuracy_df[\"Accuracy\"] = accuracy_df.PREDICTED/accuracy_df.TARGET\n",
    "accuracy_df.Accuracy.describe()"
   ]
  },
  {
   "attachments": {},
   "cell_type": "markdown",
   "metadata": {},
   "source": [
    "FURTHER ACCURACY TEST"
   ]
  },
  {
   "cell_type": "code",
   "execution_count": 231,
   "metadata": {},
   "outputs": [
    {
     "name": "stdout",
     "output_type": "stream",
     "text": [
      "       A      B           C       D  TARGET\n",
      "0  500.0  250.5  167.333333  125.75   100.8\n",
      "1  501.0  251.0  167.666667  126.00   101.0\n",
      "2  502.0  251.5  168.000000  126.25   101.2\n",
      "3  503.0  252.0  168.333333  126.50   101.4\n",
      "4  504.0  252.5  168.666667  126.75   101.6\n"
     ]
    }
   ],
   "source": [
    "WIDTH = 5\n",
    "REFERENCE_HEIGHT = HEIGHT\n",
    "TEST_HEIGHT = 500\n",
    "\n",
    "\n",
    "test_accuracy_data = [[(i+j)/(i+1) for i in range(WIDTH)] for j in range(REFERENCE_HEIGHT, REFERENCE_HEIGHT + TEST_HEIGHT)]\n",
    "\n",
    "names = \"ABCDEFGHIJKLMNOPQRSTUVWXYZabcdefghijklmnopqrstuvwxyz\"\n",
    "column_names = [names[i] for i in range(WIDTH-1)] + [\"TARGET\"]\n",
    "test_accuracy_data = pd.DataFrame(test_accuracy_data)\n",
    "\n",
    "test_accuracy_data.columns = column_names\n",
    "\n",
    "print(test_accuracy_data.head())"
   ]
  },
  {
   "attachments": {},
   "cell_type": "markdown",
   "metadata": {},
   "source": [
    "Predict using the model"
   ]
  },
  {
   "cell_type": "code",
   "execution_count": 232,
   "metadata": {},
   "outputs": [
    {
     "name": "stdout",
     "output_type": "stream",
     "text": [
      "16/16 [==============================] - 5s 4ms/step\n"
     ]
    },
    {
     "data": {
      "image/png": "[encoded data removed]",
      "text/plain": [
       "<Figure size 432x288 with 1 Axes>"
      ]
     },
     "metadata": {
      "needs_background": "light"
     },
     "output_type": "display_data"
    }
   ],
   "source": [
    "test_features2 = test_accuracy_data.copy()\n",
    "test_labels2 = test_features2.pop('TARGET')\n",
    "\n",
    "test_predictions2 = dnn_model.predict(test_features2).flatten()\n",
    "\n",
    "a = plt.axes(aspect='equal')\n",
    "plt.scatter(range(len(test_labels2)), test_labels2, color=\"red\")\n",
    "plt.scatter(range(len(test_labels2)), test_predictions2, color=\"green\")\n",
    "plt.xlabel('Features Test')\n",
    "plt.ylabel('Predictions and Labels')\n",
    "\n",
    "plt.show()"
   ]
  },
  {
   "attachments": {},
   "cell_type": "markdown",
   "metadata": {},
   "source": [
    "Accuracy Level 2"
   ]
  },
  {
   "cell_type": "code",
   "execution_count": null,
   "metadata": {},
   "outputs": [],
   "source": [
    "test_labels2_copy = test_labels2.copy()\n",
    "\n",
    "predict2_df = pd.DataFrame(test_predictions2, columns=[\"PREDICTED\"])\n",
    "predict2_df.index = test_labels2_copy.index\n",
    "\n",
    "accuracy2_df = pd.concat([test_features2, test_labels2, predict2_df], axis=1)\n",
    "accuracy2_df[\"Accuracy\"] = accuracy2_df.PREDICTED/accuracy2_df.TARGET\n",
    "accuracy2_df.Accuracy.describe()"
   ]
  },
  {
   "cell_type": "markdown",
   "metadata": {},
   "source": [
    "Save Model"
   ]
  },
  {
   "cell_type": "code",
   "execution_count": null,
   "metadata": {},
   "outputs": [],
   "source": [
    "#dnn_model.save('DNN_TEST_MODEL')"
   ]
  }
 ],
 "metadata": {
  "kernelspec": {
   "display_name": "Python 3",
   "language": "python",
   "name": "python3"
  },
  "language_info": {
   "codemirror_mode": {
    "name": "ipython",
    "version": 3
   },
   "file_extension": ".py",
   "mimetype": "text/x-python",
   "name": "python",
   "nbconvert_exporter": "python",
   "pygments_lexer": "ipython3",
   "version": "3.9.2"
  },
  "orig_nbformat": 4,
  "vscode": {
   "interpreter": {
    "hash": "2966a61383ff9c7e136d2cab556bc1d3f7015bf83f9afddc1a15537aae5f0f0f"
   }
  }
 },
 "nbformat": 4,
 "nbformat_minor": 2
}
