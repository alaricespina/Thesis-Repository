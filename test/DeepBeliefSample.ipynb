{
 "cells": [
  {
   "cell_type": "code",
   "execution_count": 3,
   "metadata": {},
   "outputs": [
    {
     "ename": "AttributeError",
     "evalue": "module 'tensorflow' has no attribute 'Session'",
     "output_type": "error",
     "traceback": [
      "\u001b[1;31m---------------------------------------------------------------------------\u001b[0m",
      "\u001b[1;31mAttributeError\u001b[0m                            Traceback (most recent call last)",
      "\u001b[1;32mc:\\Users\\Alaric\\Documents\\Code\\ThesisMachineLearning\\CPE200L-THESIS-OSSS\\DeepBeliefSample.ipynb Cell 1\u001b[0m in \u001b[0;36m<cell line: 8>\u001b[1;34m()\u001b[0m\n\u001b[0;32m      <a href='vscode-notebook-cell:/c%3A/Users/Alaric/Documents/Code/ThesisMachineLearning/CPE200L-THESIS-OSSS/DeepBeliefSample.ipynb#W0sZmlsZQ%3D%3D?line=4'>5</a>\u001b[0m \u001b[39mfrom\u001b[39;00m \u001b[39msklearn\u001b[39;00m\u001b[39m.\u001b[39;00m\u001b[39mmodel_selection\u001b[39;00m \u001b[39mimport\u001b[39;00m train_test_split\n\u001b[0;32m      <a href='vscode-notebook-cell:/c%3A/Users/Alaric/Documents/Code/ThesisMachineLearning/CPE200L-THESIS-OSSS/DeepBeliefSample.ipynb#W0sZmlsZQ%3D%3D?line=5'>6</a>\u001b[0m \u001b[39mfrom\u001b[39;00m \u001b[39msklearn\u001b[39;00m\u001b[39m.\u001b[39;00m\u001b[39mmetrics\u001b[39;00m \u001b[39mimport\u001b[39;00m accuracy_score\n\u001b[1;32m----> <a href='vscode-notebook-cell:/c%3A/Users/Alaric/Documents/Code/ThesisMachineLearning/CPE200L-THESIS-OSSS/DeepBeliefSample.ipynb#W0sZmlsZQ%3D%3D?line=7'>8</a>\u001b[0m \u001b[39mfrom\u001b[39;00m \u001b[39mdbn\u001b[39;00m\u001b[39m.\u001b[39;00m\u001b[39mtensorflow\u001b[39;00m \u001b[39mimport\u001b[39;00m SupervisedDBNClassification\n",
      "File \u001b[1;32mc:\\Users\\Alaric\\Documents\\Code\\ThesisMachineLearning\\CPE200L-THESIS-OSSS\\dbn\\tensorflow\\__init__.py:1\u001b[0m, in \u001b[0;36m<module>\u001b[1;34m\u001b[0m\n\u001b[1;32m----> 1\u001b[0m \u001b[39mfrom\u001b[39;00m \u001b[39m.\u001b[39;00m\u001b[39mmodels\u001b[39;00m \u001b[39mimport\u001b[39;00m BinaryRBM, UnsupervisedDBN, SupervisedDBNRegression, SupervisedDBNClassification\n",
      "File \u001b[1;32mc:\\Users\\Alaric\\Documents\\Code\\ThesisMachineLearning\\CPE200L-THESIS-OSSS\\dbn\\tensorflow\\models.py:19\u001b[0m, in \u001b[0;36m<module>\u001b[1;34m\u001b[0m\n\u001b[0;32m     15\u001b[0m \u001b[39mdef\u001b[39;00m \u001b[39mclose_session\u001b[39m():\n\u001b[0;32m     16\u001b[0m     sess\u001b[39m.\u001b[39mclose()\n\u001b[1;32m---> 19\u001b[0m sess \u001b[39m=\u001b[39m tf\u001b[39m.\u001b[39;49mSession()\n\u001b[0;32m     20\u001b[0m atexit\u001b[39m.\u001b[39mregister(close_session)\n\u001b[0;32m     23\u001b[0m \u001b[39mdef\u001b[39;00m \u001b[39mweight_variable\u001b[39m(func, shape, stddev, dtype\u001b[39m=\u001b[39mtf\u001b[39m.\u001b[39mfloat32):\n",
      "\u001b[1;31mAttributeError\u001b[0m: module 'tensorflow' has no attribute 'Session'"
     ]
    }
   ],
   "source": [
    "import numpy as np\n",
    "\n",
    "np.random.seed(1337)  # for reproducibility\n",
    "from sklearn.datasets import load_digits\n",
    "from sklearn.model_selection import train_test_split\n",
    "from sklearn.metrics import accuracy_score\n",
    "\n",
    "from dbn.tensorflow import SupervisedDBNClassification\n",
    "# use \"from dbn import SupervisedDBNClassification\" for computations on CPU with numpy\n",
    "\n"
   ]
  },
  {
   "cell_type": "code",
   "execution_count": null,
   "metadata": {},
   "outputs": [],
   "source": [
    "# Loading dataset\n",
    "digits = load_digits()\n",
    "X, Y = digits.data, digits.target\n",
    "\n",
    "# Data scaling\n",
    "X = (X / 16).astype(np.float32)\n",
    "\n",
    "# Splitting data\n",
    "X_train, X_test, Y_train, Y_test = train_test_split(X, Y, test_size=0.2, random_state=0)\n",
    "\n",
    "# Training\n",
    "classifier = SupervisedDBNClassification(hidden_layers_structure=[256, 256],\n",
    "                                         learning_rate_rbm=0.05,\n",
    "                                         learning_rate=0.1,\n",
    "                                         n_epochs_rbm=10,\n",
    "                                         n_iter_backprop=100,\n",
    "                                         batch_size=32,\n",
    "                                         activation_function='relu',\n",
    "                                         dropout_p=0.2)\n",
    "classifier.fit(X_train, Y_train)\n",
    "\n",
    "# Save the model\n",
    "classifier.save('model.pkl')\n",
    "\n",
    "# Restore it\n",
    "classifier = SupervisedDBNClassification.load('model.pkl')\n",
    "\n",
    "# Test\n",
    "Y_pred = classifier.predict(X_test)\n",
    "print('Done.\\nAccuracy: %f' % accuracy_score(Y_test, Y_pred))"
   ]
  }
 ],
 "metadata": {
  "kernelspec": {
   "display_name": "Python 3",
   "language": "python",
   "name": "python3"
  },
  "language_info": {
   "codemirror_mode": {
    "name": "ipython",
    "version": 3
   },
   "file_extension": ".py",
   "mimetype": "text/x-python",
   "name": "python",
   "nbconvert_exporter": "python",
   "pygments_lexer": "ipython3",
   "version": "3.9.2"
  },
  "orig_nbformat": 4
 },
 "nbformat": 4,
 "nbformat_minor": 2
}
