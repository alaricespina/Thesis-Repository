{
 "cells": [
  {
   "cell_type": "markdown",
   "metadata": {},
   "source": [
    "# Algos\n",
    "- LSTM\n",
    "- Gauss RBM + SciKit RFC\n",
    "- PyRBM\n",
    "- Custom DBN"
   ]
  },
  {
   "cell_type": "code",
   "execution_count": 55,
   "metadata": {},
   "outputs": [],
   "source": [
    "import pandas as pd \n",
    "import matplotlib.pyplot as plt \n",
    "import pandas as pd \n",
    "import numpy as np \n",
    "import tensorflow as tf \n",
    "\n",
    "from tensorflow import keras \n",
    "from tensorflow.keras import layers \n",
    "from tensorflow.keras.models import Sequential\n",
    "from tensorflow.keras.callbacks import ModelCheckpoint\n",
    "from tensorflow.keras.metrics import RootMeanSquaredError, MeanAbsoluteError\n",
    "from tensorflow.keras.losses import MeanSquaredError, MeanAbsoluteError\n",
    "from tensorflow.keras.optimizers import Adam \n",
    "\n",
    "from sklearn.model_selection import train_test_split, GridSearchCV \n",
    "from sklearn.preprocessing import StandardScaler, MinMaxScaler, LabelEncoder, minmax_scale\n",
    "\n",
    "from sklearn.ensemble import RandomForestRegressor\n",
    "\n",
    "from sklearn.neural_network import BernoulliRBM\n",
    "from sklearn.ensemble import RandomForestClassifier, AdaBoostClassifier\n",
    "from sklearn.svm import SVC\n",
    "from sklearn.gaussian_process import GaussianProcessClassifier\n",
    "from sklearn.tree import DecisionTreeClassifier\n",
    "from sklearn.neural_network import MLPClassifier\n",
    "from sklearn.linear_model import LogisticRegression\n",
    "from sklearn.pipeline import Pipeline\n",
    "from sklearn.metrics import confusion_matrix, ConfusionMatrixDisplay, accuracy_score, classification_report\n",
    "from sklearn.datasets import load_digits\n",
    "\n",
    "from scipy.ndimage import convolve\n",
    "\n",
    "\n",
    "import collections \n",
    "import random"
   ]
  },
  {
   "cell_type": "markdown",
   "metadata": {},
   "source": [
    "# Noisy Data"
   ]
  },
  {
   "cell_type": "code",
   "execution_count": 29,
   "metadata": {},
   "outputs": [],
   "source": [
    "csv_filename = \"MXNWSS.csv\"\n",
    "df = pd.read_csv(csv_filename)\n",
    "\n",
    "window_length = 5 \n",
    "t_arr = df[\"value\"].to_numpy().reshape(-1, 1)\n",
    "SS = StandardScaler()\n",
    "\n",
    "t_arr = SS.fit_transform(t_arr).flatten()\n",
    "\n",
    "X = []\n",
    "y = []\n",
    "\n",
    "# print(\"Rearranging Data\")\n",
    "for i in range(len(t_arr)-window_length):\n",
    "    t_row = []\n",
    "    for j in t_arr[i:i+window_length]:\n",
    "        t_row.append([j])\n",
    "    X.append(t_row)\n",
    "    y.append(t_arr[i + window_length])\n",
    "\n",
    "X = np.array(X)\n",
    "y = np.array(y)\n",
    "\n",
    "# print(X.shape, y.shape)\n",
    "\n",
    "X_train = X[:600]\n",
    "X_valid = X[:800]\n",
    "X_test = X[:1000]\n",
    "\n",
    "y_train = y[:600]\n",
    "y_valid = y[:800]\n",
    "y_test = y[:1000]\n",
    "\n",
    "# X_train, X_test, y_train, y_test = train_test_split(X, y, test_size = 0.2)\n",
    "# X_train, X_valid, y_train, y_valid = train_test_split(X_train, y_train, test_size = 0.1)\n",
    "\n",
    "# print(X_train.shape, y_train.shape, X_test.shape, y_test.shape, X_valid.shape, y_valid.shape)"
   ]
  },
  {
   "cell_type": "markdown",
   "metadata": {},
   "source": [
    "# LSTM"
   ]
  },
  {
   "cell_type": "code",
   "execution_count": 32,
   "metadata": {},
   "outputs": [
    {
     "name": "stdout",
     "output_type": "stream",
     "text": [
      "Epoch 1/10\n"
     ]
    },
    {
     "name": "stderr",
     "output_type": "stream",
     "text": [
      "WARNING:absl:Found untraced functions such as _update_step_xla while saving (showing 1 of 1). These functions will not be directly callable after loading.\n"
     ]
    },
    {
     "name": "stdout",
     "output_type": "stream",
     "text": [
      "INFO:tensorflow:Assets written to: LSTMTestModel\\assets\n"
     ]
    },
    {
     "name": "stderr",
     "output_type": "stream",
     "text": [
      "INFO:tensorflow:Assets written to: LSTMTestModel\\assets\n"
     ]
    },
    {
     "name": "stdout",
     "output_type": "stream",
     "text": [
      "19/19 - 9s - loss: 1.1949 - root_mean_squared_error: 1.0931 - val_loss: 0.9176 - val_root_mean_squared_error: 0.9579 - 9s/epoch - 474ms/step\n",
      "Epoch 2/10\n"
     ]
    },
    {
     "name": "stderr",
     "output_type": "stream",
     "text": [
      "WARNING:absl:Found untraced functions such as _update_step_xla while saving (showing 1 of 1). These functions will not be directly callable after loading.\n"
     ]
    },
    {
     "name": "stdout",
     "output_type": "stream",
     "text": [
      "INFO:tensorflow:Assets written to: LSTMTestModel\\assets\n"
     ]
    },
    {
     "name": "stderr",
     "output_type": "stream",
     "text": [
      "INFO:tensorflow:Assets written to: LSTMTestModel\\assets\n"
     ]
    },
    {
     "name": "stdout",
     "output_type": "stream",
     "text": [
      "19/19 - 5s - loss: 0.7952 - root_mean_squared_error: 0.8917 - val_loss: 0.7676 - val_root_mean_squared_error: 0.8761 - 5s/epoch - 248ms/step\n",
      "Epoch 3/10\n"
     ]
    },
    {
     "name": "stderr",
     "output_type": "stream",
     "text": [
      "WARNING:absl:Found untraced functions such as _update_step_xla while saving (showing 1 of 1). These functions will not be directly callable after loading.\n"
     ]
    },
    {
     "name": "stdout",
     "output_type": "stream",
     "text": [
      "INFO:tensorflow:Assets written to: LSTMTestModel\\assets\n"
     ]
    },
    {
     "name": "stderr",
     "output_type": "stream",
     "text": [
      "INFO:tensorflow:Assets written to: LSTMTestModel\\assets\n"
     ]
    },
    {
     "name": "stdout",
     "output_type": "stream",
     "text": [
      "19/19 - 5s - loss: 0.7277 - root_mean_squared_error: 0.8531 - val_loss: 0.7270 - val_root_mean_squared_error: 0.8527 - 5s/epoch - 271ms/step\n",
      "Epoch 4/10\n"
     ]
    },
    {
     "name": "stderr",
     "output_type": "stream",
     "text": [
      "WARNING:absl:Found untraced functions such as _update_step_xla while saving (showing 1 of 1). These functions will not be directly callable after loading.\n"
     ]
    },
    {
     "name": "stdout",
     "output_type": "stream",
     "text": [
      "INFO:tensorflow:Assets written to: LSTMTestModel\\assets\n"
     ]
    },
    {
     "name": "stderr",
     "output_type": "stream",
     "text": [
      "INFO:tensorflow:Assets written to: LSTMTestModel\\assets\n"
     ]
    },
    {
     "name": "stdout",
     "output_type": "stream",
     "text": [
      "19/19 - 5s - loss: 0.6941 - root_mean_squared_error: 0.8331 - val_loss: 0.7120 - val_root_mean_squared_error: 0.8438 - 5s/epoch - 256ms/step\n",
      "Epoch 5/10\n"
     ]
    },
    {
     "name": "stderr",
     "output_type": "stream",
     "text": [
      "WARNING:absl:Found untraced functions such as _update_step_xla while saving (showing 1 of 1). These functions will not be directly callable after loading.\n"
     ]
    },
    {
     "name": "stdout",
     "output_type": "stream",
     "text": [
      "INFO:tensorflow:Assets written to: LSTMTestModel\\assets\n"
     ]
    },
    {
     "name": "stderr",
     "output_type": "stream",
     "text": [
      "INFO:tensorflow:Assets written to: LSTMTestModel\\assets\n"
     ]
    },
    {
     "name": "stdout",
     "output_type": "stream",
     "text": [
      "19/19 - 5s - loss: 0.6838 - root_mean_squared_error: 0.8269 - val_loss: 0.7078 - val_root_mean_squared_error: 0.8413 - 5s/epoch - 273ms/step\n",
      "Epoch 6/10\n"
     ]
    },
    {
     "name": "stderr",
     "output_type": "stream",
     "text": [
      "WARNING:absl:Found untraced functions such as _update_step_xla while saving (showing 1 of 1). These functions will not be directly callable after loading.\n"
     ]
    },
    {
     "name": "stdout",
     "output_type": "stream",
     "text": [
      "INFO:tensorflow:Assets written to: LSTMTestModel\\assets\n"
     ]
    },
    {
     "name": "stderr",
     "output_type": "stream",
     "text": [
      "INFO:tensorflow:Assets written to: LSTMTestModel\\assets\n"
     ]
    },
    {
     "name": "stdout",
     "output_type": "stream",
     "text": [
      "19/19 - 5s - loss: 0.6768 - root_mean_squared_error: 0.8227 - val_loss: 0.7043 - val_root_mean_squared_error: 0.8392 - 5s/epoch - 281ms/step\n",
      "Epoch 7/10\n"
     ]
    },
    {
     "name": "stderr",
     "output_type": "stream",
     "text": [
      "WARNING:absl:Found untraced functions such as _update_step_xla while saving (showing 1 of 1). These functions will not be directly callable after loading.\n"
     ]
    },
    {
     "name": "stdout",
     "output_type": "stream",
     "text": [
      "INFO:tensorflow:Assets written to: LSTMTestModel\\assets\n"
     ]
    },
    {
     "name": "stderr",
     "output_type": "stream",
     "text": [
      "INFO:tensorflow:Assets written to: LSTMTestModel\\assets\n"
     ]
    },
    {
     "name": "stdout",
     "output_type": "stream",
     "text": [
      "19/19 - 5s - loss: 0.6735 - root_mean_squared_error: 0.8207 - val_loss: 0.7006 - val_root_mean_squared_error: 0.8370 - 5s/epoch - 246ms/step\n",
      "Epoch 8/10\n",
      "19/19 - 0s - loss: 0.6708 - root_mean_squared_error: 0.8190 - val_loss: 0.7047 - val_root_mean_squared_error: 0.8395 - 227ms/epoch - 12ms/step\n",
      "Epoch 9/10\n"
     ]
    },
    {
     "name": "stderr",
     "output_type": "stream",
     "text": [
      "WARNING:absl:Found untraced functions such as _update_step_xla while saving (showing 1 of 1). These functions will not be directly callable after loading.\n"
     ]
    },
    {
     "name": "stdout",
     "output_type": "stream",
     "text": [
      "INFO:tensorflow:Assets written to: LSTMTestModel\\assets\n"
     ]
    },
    {
     "name": "stderr",
     "output_type": "stream",
     "text": [
      "INFO:tensorflow:Assets written to: LSTMTestModel\\assets\n"
     ]
    },
    {
     "name": "stdout",
     "output_type": "stream",
     "text": [
      "19/19 - 5s - loss: 0.6717 - root_mean_squared_error: 0.8196 - val_loss: 0.6998 - val_root_mean_squared_error: 0.8365 - 5s/epoch - 243ms/step\n",
      "Epoch 10/10\n"
     ]
    },
    {
     "name": "stderr",
     "output_type": "stream",
     "text": [
      "WARNING:absl:Found untraced functions such as _update_step_xla while saving (showing 1 of 1). These functions will not be directly callable after loading.\n"
     ]
    },
    {
     "name": "stdout",
     "output_type": "stream",
     "text": [
      "INFO:tensorflow:Assets written to: LSTMTestModel\\assets\n"
     ]
    },
    {
     "name": "stderr",
     "output_type": "stream",
     "text": [
      "INFO:tensorflow:Assets written to: LSTMTestModel\\assets\n"
     ]
    },
    {
     "name": "stdout",
     "output_type": "stream",
     "text": [
      "19/19 - 5s - loss: 0.6719 - root_mean_squared_error: 0.8197 - val_loss: 0.6979 - val_root_mean_squared_error: 0.8354 - 5s/epoch - 261ms/step\n"
     ]
    }
   ],
   "source": [
    "model = Sequential([\n",
    "    layers.InputLayer((window_length, 1)),\n",
    "    layers.SimpleRNN(64, return_sequences=True),\n",
    "    layers.SimpleRNN(64),\n",
    "    layers.Dense(4),\n",
    "    layers.Dense(1)\n",
    "])\n",
    "\n",
    "# print(model.summary())\n",
    "\n",
    "cp = ModelCheckpoint(\"LSTMTestModel/\", save_best_only=True)\n",
    "model.compile(\n",
    "    loss = MeanSquaredError(),\n",
    "    optimizer = Adam(learning_rate=0.0001),\n",
    "    metrics = [RootMeanSquaredError()]\n",
    ")\n",
    "\n",
    "history = model.fit(\n",
    "    X_train,\n",
    "    y_train,\n",
    "    validation_data=(X_valid, y_valid),\n",
    "    epochs = 10,\n",
    "    callbacks = [cp],\n",
    "    verbose = 2\n",
    ")\n",
    "\n"
   ]
  },
  {
   "cell_type": "code",
   "execution_count": 33,
   "metadata": {},
   "outputs": [
    {
     "data": {
      "image/png": "[encoded data removed]",
      "text/plain": [
       "<Figure size 640x480 with 1 Axes>"
      ]
     },
     "metadata": {},
     "output_type": "display_data"
    }
   ],
   "source": [
    "plt.plot(history.history[\"loss\"], label=\"Loss\")\n",
    "plt.plot(history.history[\"val_loss\"], label=\"Val Loss\")\n",
    "plt.plot(history.history[\"root_mean_squared_error\"], label=\"RMSE\")\n",
    "plt.plot(history.history[\"val_root_mean_squared_error\"], label=\"Val RMSE\")\n",
    "plt.title(\"Training History\")\n",
    "plt.legend()\n",
    "plt.show()\n",
    "\n",
    "view_length = 100\n",
    "plt.figure(figsize=(10, 5))\n",
    "plt.plot(SS.inverse_transform(model.predict(X_test))[:view_length], label=\"Model Output\")\n",
    "plt.plot(y_test[:view_length], label=\"Actual\")\n",
    "plt.title(\"Viewing Predictions\")\n",
    "plt.legend()\n",
    "plt.show()"
   ]
  },
  {
   "cell_type": "markdown",
   "metadata": {},
   "source": [
    "# RBM Playground"
   ]
  },
  {
   "cell_type": "code",
   "execution_count": 95,
   "metadata": {},
   "outputs": [
    {
     "name": "stdout",
     "output_type": "stream",
     "text": [
      "(1293, 64) (144, 64) (360, 64) (1293,) (144,) (360,)\n",
      "[BernoulliRBM] Iteration 1, pseudo-likelihood = -34.91, time = 0.12s\n",
      "[BernoulliRBM] Iteration 2, pseudo-likelihood = -33.17, time = 0.06s\n",
      "[BernoulliRBM] Iteration 3, pseudo-likelihood = -29.89, time = 0.06s\n",
      "[BernoulliRBM] Iteration 4, pseudo-likelihood = -26.94, time = 0.06s\n",
      "[BernoulliRBM] Iteration 5, pseudo-likelihood = -25.97, time = 0.06s\n",
      "[BernoulliRBM] Iteration 6, pseudo-likelihood = -25.85, time = 0.06s\n",
      "[BernoulliRBM] Iteration 7, pseudo-likelihood = -24.12, time = 0.06s\n",
      "[BernoulliRBM] Iteration 8, pseudo-likelihood = -22.88, time = 0.07s\n",
      "[BernoulliRBM] Iteration 9, pseudo-likelihood = -23.18, time = 0.07s\n",
      "[BernoulliRBM] Iteration 10, pseudo-likelihood = -23.51, time = 0.10s\n",
      "[BernoulliRBM] Iteration 1, pseudo-likelihood = -53.05, time = 0.04s\n",
      "[BernoulliRBM] Iteration 2, pseudo-likelihood = -48.96, time = 0.07s\n",
      "[BernoulliRBM] Iteration 3, pseudo-likelihood = -46.59, time = 0.09s\n",
      "[BernoulliRBM] Iteration 4, pseudo-likelihood = -45.06, time = 0.08s\n",
      "[BernoulliRBM] Iteration 5, pseudo-likelihood = -43.67, time = 0.10s\n",
      "[BernoulliRBM] Iteration 6, pseudo-likelihood = -43.73, time = 0.08s\n",
      "[BernoulliRBM] Iteration 7, pseudo-likelihood = -42.43, time = 0.08s\n",
      "[BernoulliRBM] Iteration 8, pseudo-likelihood = -44.51, time = 0.09s\n",
      "[BernoulliRBM] Iteration 9, pseudo-likelihood = -41.90, time = 0.11s\n",
      "[BernoulliRBM] Iteration 10, pseudo-likelihood = -44.56, time = 0.08s\n",
      "[BernoulliRBM] Iteration 11, pseudo-likelihood = -42.07, time = 0.07s\n",
      "[BernoulliRBM] Iteration 12, pseudo-likelihood = -41.63, time = 0.41s\n",
      "[BernoulliRBM] Iteration 13, pseudo-likelihood = -43.13, time = 0.51s\n",
      "[BernoulliRBM] Iteration 14, pseudo-likelihood = -41.49, time = 0.50s\n",
      "[BernoulliRBM] Iteration 15, pseudo-likelihood = -41.53, time = 0.55s\n",
      "[BernoulliRBM] Iteration 16, pseudo-likelihood = -43.01, time = 0.12s\n",
      "[BernoulliRBM] Iteration 17, pseudo-likelihood = -40.64, time = 0.11s\n",
      "[BernoulliRBM] Iteration 18, pseudo-likelihood = -42.59, time = 0.08s\n",
      "[BernoulliRBM] Iteration 19, pseudo-likelihood = -42.41, time = 0.07s\n",
      "[BernoulliRBM] Iteration 20, pseudo-likelihood = -40.64, time = 0.08s\n",
      "[BernoulliRBM] Iteration 1, pseudo-likelihood = -19.95, time = 0.08s\n",
      "[BernoulliRBM] Iteration 2, pseudo-likelihood = -18.74, time = 0.11s\n",
      "[BernoulliRBM] Iteration 3, pseudo-likelihood = -17.87, time = 0.10s\n",
      "[BernoulliRBM] Iteration 4, pseudo-likelihood = -16.47, time = 0.10s\n",
      "[BernoulliRBM] Iteration 5, pseudo-likelihood = -15.98, time = 0.10s\n",
      "[BernoulliRBM] Iteration 6, pseudo-likelihood = -13.96, time = 0.09s\n",
      "[BernoulliRBM] Iteration 7, pseudo-likelihood = -15.60, time = 0.10s\n",
      "[BernoulliRBM] Iteration 8, pseudo-likelihood = -13.91, time = 0.09s\n",
      "[BernoulliRBM] Iteration 9, pseudo-likelihood = -15.07, time = 0.08s\n",
      "[BernoulliRBM] Iteration 10, pseudo-likelihood = -14.40, time = 0.09s\n",
      "[BernoulliRBM] Iteration 11, pseudo-likelihood = -14.71, time = 0.10s\n",
      "[BernoulliRBM] Iteration 12, pseudo-likelihood = -14.02, time = 0.10s\n",
      "[BernoulliRBM] Iteration 13, pseudo-likelihood = -14.76, time = 0.11s\n",
      "[BernoulliRBM] Iteration 14, pseudo-likelihood = -13.80, time = 0.09s\n",
      "[BernoulliRBM] Iteration 15, pseudo-likelihood = -15.61, time = 0.10s\n",
      "[BernoulliRBM] Iteration 16, pseudo-likelihood = -13.52, time = 0.09s\n",
      "[BernoulliRBM] Iteration 17, pseudo-likelihood = -14.49, time = 0.10s\n",
      "[BernoulliRBM] Iteration 18, pseudo-likelihood = -14.64, time = 0.08s\n",
      "[BernoulliRBM] Iteration 19, pseudo-likelihood = -13.34, time = 0.09s\n",
      "[BernoulliRBM] Iteration 20, pseudo-likelihood = -15.09, time = 0.13s\n",
      "[BernoulliRBM] Iteration 21, pseudo-likelihood = -14.40, time = 0.11s\n",
      "[BernoulliRBM] Iteration 22, pseudo-likelihood = -12.90, time = 0.09s\n",
      "[BernoulliRBM] Iteration 23, pseudo-likelihood = -14.93, time = 0.12s\n",
      "[BernoulliRBM] Iteration 24, pseudo-likelihood = -14.85, time = 0.11s\n",
      "[BernoulliRBM] Iteration 25, pseudo-likelihood = -14.84, time = 0.11s\n",
      "[BernoulliRBM] Iteration 26, pseudo-likelihood = -15.02, time = 0.10s\n",
      "[BernoulliRBM] Iteration 27, pseudo-likelihood = -13.51, time = 0.11s\n",
      "[BernoulliRBM] Iteration 28, pseudo-likelihood = -14.48, time = 0.10s\n",
      "[BernoulliRBM] Iteration 29, pseudo-likelihood = -14.01, time = 0.10s\n",
      "[BernoulliRBM] Iteration 30, pseudo-likelihood = -13.57, time = 0.13s\n",
      "[BernoulliRBM] Iteration 31, pseudo-likelihood = -15.55, time = 0.08s\n",
      "[BernoulliRBM] Iteration 32, pseudo-likelihood = -13.76, time = 0.09s\n",
      "[BernoulliRBM] Iteration 33, pseudo-likelihood = -14.04, time = 0.09s\n",
      "[BernoulliRBM] Iteration 34, pseudo-likelihood = -13.97, time = 0.08s\n",
      "[BernoulliRBM] Iteration 35, pseudo-likelihood = -14.22, time = 0.11s\n",
      "[BernoulliRBM] Iteration 36, pseudo-likelihood = -14.18, time = 0.10s\n",
      "[BernoulliRBM] Iteration 37, pseudo-likelihood = -14.71, time = 0.10s\n",
      "[BernoulliRBM] Iteration 38, pseudo-likelihood = -13.44, time = 0.08s\n",
      "[BernoulliRBM] Iteration 39, pseudo-likelihood = -13.65, time = 0.08s\n",
      "[BernoulliRBM] Iteration 40, pseudo-likelihood = -13.66, time = 0.10s\n",
      "[BernoulliRBM] Iteration 1, pseudo-likelihood = -47.26, time = 0.06s\n",
      "[BernoulliRBM] Iteration 2, pseudo-likelihood = -42.75, time = 0.10s\n",
      "[BernoulliRBM] Iteration 3, pseudo-likelihood = -39.02, time = 0.11s\n",
      "[BernoulliRBM] Iteration 4, pseudo-likelihood = -38.09, time = 0.11s\n",
      "[BernoulliRBM] Iteration 5, pseudo-likelihood = -36.86, time = 0.10s\n",
      "[BernoulliRBM] Iteration 6, pseudo-likelihood = -39.22, time = 0.11s\n",
      "[BernoulliRBM] Iteration 7, pseudo-likelihood = -37.88, time = 0.11s\n",
      "[BernoulliRBM] Iteration 8, pseudo-likelihood = -37.65, time = 0.08s\n",
      "[BernoulliRBM] Iteration 9, pseudo-likelihood = -38.55, time = 0.08s\n",
      "[BernoulliRBM] Iteration 10, pseudo-likelihood = -37.80, time = 0.09s\n",
      "[BernoulliRBM] Iteration 11, pseudo-likelihood = -38.50, time = 0.10s\n",
      "[BernoulliRBM] Iteration 12, pseudo-likelihood = -38.01, time = 0.10s\n",
      "[BernoulliRBM] Iteration 13, pseudo-likelihood = -36.21, time = 0.12s\n",
      "[BernoulliRBM] Iteration 14, pseudo-likelihood = -38.67, time = 0.09s\n",
      "[BernoulliRBM] Iteration 15, pseudo-likelihood = -37.96, time = 0.12s\n",
      "[BernoulliRBM] Iteration 16, pseudo-likelihood = -37.96, time = 0.10s\n",
      "[BernoulliRBM] Iteration 17, pseudo-likelihood = -37.85, time = 0.10s\n",
      "[BernoulliRBM] Iteration 18, pseudo-likelihood = -37.69, time = 0.07s\n",
      "[BernoulliRBM] Iteration 19, pseudo-likelihood = -38.21, time = 0.11s\n",
      "[BernoulliRBM] Iteration 20, pseudo-likelihood = -37.29, time = 0.10s\n",
      "[BernoulliRBM] Iteration 21, pseudo-likelihood = -36.11, time = 0.10s\n",
      "[BernoulliRBM] Iteration 22, pseudo-likelihood = -36.80, time = 0.11s\n",
      "[BernoulliRBM] Iteration 23, pseudo-likelihood = -37.44, time = 0.11s\n",
      "[BernoulliRBM] Iteration 24, pseudo-likelihood = -38.24, time = 0.07s\n",
      "[BernoulliRBM] Iteration 25, pseudo-likelihood = -37.11, time = 0.08s\n",
      "[BernoulliRBM] Iteration 26, pseudo-likelihood = -37.44, time = 0.08s\n",
      "[BernoulliRBM] Iteration 27, pseudo-likelihood = -37.63, time = 0.12s\n",
      "[BernoulliRBM] Iteration 28, pseudo-likelihood = -36.92, time = 0.10s\n",
      "[BernoulliRBM] Iteration 29, pseudo-likelihood = -37.67, time = 0.07s\n",
      "[BernoulliRBM] Iteration 30, pseudo-likelihood = -37.09, time = 0.09s\n",
      "[BernoulliRBM] Iteration 31, pseudo-likelihood = -37.22, time = 0.10s\n",
      "[BernoulliRBM] Iteration 32, pseudo-likelihood = -37.16, time = 0.09s\n",
      "[BernoulliRBM] Iteration 33, pseudo-likelihood = -37.24, time = 0.10s\n",
      "[BernoulliRBM] Iteration 34, pseudo-likelihood = -36.37, time = 0.12s\n",
      "[BernoulliRBM] Iteration 35, pseudo-likelihood = -36.51, time = 0.12s\n",
      "[BernoulliRBM] Iteration 36, pseudo-likelihood = -37.50, time = 0.44s\n",
      "[BernoulliRBM] Iteration 37, pseudo-likelihood = -36.83, time = 1.39s\n",
      "[BernoulliRBM] Iteration 38, pseudo-likelihood = -37.83, time = 0.40s\n",
      "[BernoulliRBM] Iteration 39, pseudo-likelihood = -35.92, time = 0.11s\n",
      "[BernoulliRBM] Iteration 40, pseudo-likelihood = -35.77, time = 0.09s\n",
      "[BernoulliRBM] Iteration 41, pseudo-likelihood = -38.35, time = 0.08s\n",
      "[BernoulliRBM] Iteration 42, pseudo-likelihood = -36.91, time = 0.10s\n",
      "[BernoulliRBM] Iteration 43, pseudo-likelihood = -37.10, time = 0.07s\n",
      "[BernoulliRBM] Iteration 44, pseudo-likelihood = -36.23, time = 0.08s\n",
      "[BernoulliRBM] Iteration 45, pseudo-likelihood = -36.94, time = 0.09s\n",
      "[BernoulliRBM] Iteration 46, pseudo-likelihood = -36.77, time = 0.10s\n",
      "[BernoulliRBM] Iteration 47, pseudo-likelihood = -36.81, time = 0.10s\n",
      "[BernoulliRBM] Iteration 48, pseudo-likelihood = -37.13, time = 0.09s\n",
      "[BernoulliRBM] Iteration 49, pseudo-likelihood = -36.77, time = 0.09s\n",
      "[BernoulliRBM] Iteration 50, pseudo-likelihood = -35.73, time = 0.10s\n",
      "[BernoulliRBM] Iteration 51, pseudo-likelihood = -36.06, time = 0.11s\n",
      "[BernoulliRBM] Iteration 52, pseudo-likelihood = -36.86, time = 0.11s\n",
      "[BernoulliRBM] Iteration 53, pseudo-likelihood = -36.66, time = 0.09s\n",
      "[BernoulliRBM] Iteration 54, pseudo-likelihood = -36.74, time = 0.10s\n",
      "[BernoulliRBM] Iteration 55, pseudo-likelihood = -38.00, time = 0.10s\n",
      "[BernoulliRBM] Iteration 56, pseudo-likelihood = -36.14, time = 0.10s\n",
      "[BernoulliRBM] Iteration 57, pseudo-likelihood = -36.63, time = 0.12s\n",
      "[BernoulliRBM] Iteration 58, pseudo-likelihood = -37.91, time = 0.12s\n",
      "[BernoulliRBM] Iteration 59, pseudo-likelihood = -38.07, time = 0.08s\n",
      "[BernoulliRBM] Iteration 60, pseudo-likelihood = -37.94, time = 0.10s\n",
      "[BernoulliRBM] Iteration 61, pseudo-likelihood = -36.38, time = 0.08s\n",
      "[BernoulliRBM] Iteration 62, pseudo-likelihood = -35.44, time = 0.09s\n",
      "[BernoulliRBM] Iteration 63, pseudo-likelihood = -35.58, time = 0.11s\n",
      "[BernoulliRBM] Iteration 64, pseudo-likelihood = -35.99, time = 0.09s\n",
      "[BernoulliRBM] Iteration 65, pseudo-likelihood = -35.82, time = 0.09s\n",
      "[BernoulliRBM] Iteration 66, pseudo-likelihood = -36.61, time = 0.10s\n",
      "[BernoulliRBM] Iteration 67, pseudo-likelihood = -36.67, time = 0.11s\n",
      "[BernoulliRBM] Iteration 68, pseudo-likelihood = -35.97, time = 0.15s\n",
      "[BernoulliRBM] Iteration 69, pseudo-likelihood = -36.81, time = 0.09s\n",
      "[BernoulliRBM] Iteration 70, pseudo-likelihood = -36.37, time = 0.09s\n",
      "[BernoulliRBM] Iteration 71, pseudo-likelihood = -36.43, time = 0.08s\n",
      "[BernoulliRBM] Iteration 72, pseudo-likelihood = -37.34, time = 0.09s\n",
      "[BernoulliRBM] Iteration 73, pseudo-likelihood = -35.25, time = 0.09s\n",
      "[BernoulliRBM] Iteration 74, pseudo-likelihood = -36.39, time = 0.09s\n",
      "[BernoulliRBM] Iteration 75, pseudo-likelihood = -36.15, time = 0.10s\n",
      "[BernoulliRBM] Iteration 76, pseudo-likelihood = -36.15, time = 0.09s\n",
      "[BernoulliRBM] Iteration 77, pseudo-likelihood = -35.80, time = 0.08s\n",
      "[BernoulliRBM] Iteration 78, pseudo-likelihood = -34.26, time = 0.10s\n",
      "[BernoulliRBM] Iteration 79, pseudo-likelihood = -36.60, time = 0.10s\n",
      "[BernoulliRBM] Iteration 80, pseudo-likelihood = -36.43, time = 0.09s\n",
      "[BernoulliRBM] Iteration 1, pseudo-likelihood = -16.68, time = 0.08s\n",
      "[BernoulliRBM] Iteration 2, pseudo-likelihood = -19.71, time = 0.12s\n",
      "[BernoulliRBM] Iteration 3, pseudo-likelihood = -15.58, time = 0.08s\n",
      "[BernoulliRBM] Iteration 4, pseudo-likelihood = -15.37, time = 0.09s\n",
      "[BernoulliRBM] Iteration 5, pseudo-likelihood = -14.87, time = 0.08s\n",
      "[BernoulliRBM] Iteration 6, pseudo-likelihood = -13.34, time = 0.12s\n",
      "[BernoulliRBM] Iteration 7, pseudo-likelihood = -14.16, time = 0.10s\n",
      "[BernoulliRBM] Iteration 8, pseudo-likelihood = -12.75, time = 0.12s\n",
      "[BernoulliRBM] Iteration 9, pseudo-likelihood = -13.45, time = 0.12s\n",
      "[BernoulliRBM] Iteration 10, pseudo-likelihood = -12.31, time = 0.10s\n",
      "[BernoulliRBM] Iteration 11, pseudo-likelihood = -11.99, time = 0.13s\n",
      "[BernoulliRBM] Iteration 12, pseudo-likelihood = -12.32, time = 0.09s\n",
      "[BernoulliRBM] Iteration 13, pseudo-likelihood = -11.71, time = 0.09s\n",
      "[BernoulliRBM] Iteration 14, pseudo-likelihood = -11.61, time = 0.09s\n",
      "[BernoulliRBM] Iteration 15, pseudo-likelihood = -11.29, time = 0.07s\n",
      "[BernoulliRBM] Iteration 16, pseudo-likelihood = -11.59, time = 0.11s\n",
      "[BernoulliRBM] Iteration 17, pseudo-likelihood = -11.75, time = 0.08s\n",
      "[BernoulliRBM] Iteration 18, pseudo-likelihood = -12.32, time = 0.09s\n",
      "[BernoulliRBM] Iteration 19, pseudo-likelihood = -11.69, time = 0.09s\n",
      "[BernoulliRBM] Iteration 20, pseudo-likelihood = -11.46, time = 0.09s\n",
      "[BernoulliRBM] Iteration 21, pseudo-likelihood = -10.91, time = 0.11s\n",
      "[BernoulliRBM] Iteration 22, pseudo-likelihood = -10.76, time = 0.12s\n",
      "[BernoulliRBM] Iteration 23, pseudo-likelihood = -11.80, time = 0.10s\n",
      "[BernoulliRBM] Iteration 24, pseudo-likelihood = -10.76, time = 0.09s\n",
      "[BernoulliRBM] Iteration 25, pseudo-likelihood = -10.05, time = 0.10s\n",
      "[BernoulliRBM] Iteration 26, pseudo-likelihood = -11.33, time = 0.08s\n",
      "[BernoulliRBM] Iteration 27, pseudo-likelihood = -10.78, time = 0.10s\n",
      "[BernoulliRBM] Iteration 28, pseudo-likelihood = -10.66, time = 0.08s\n",
      "[BernoulliRBM] Iteration 29, pseudo-likelihood = -11.02, time = 0.07s\n",
      "[BernoulliRBM] Iteration 30, pseudo-likelihood = -11.19, time = 0.10s\n",
      "[BernoulliRBM] Iteration 31, pseudo-likelihood = -12.21, time = 0.09s\n",
      "[BernoulliRBM] Iteration 32, pseudo-likelihood = -10.41, time = 0.10s\n",
      "[BernoulliRBM] Iteration 33, pseudo-likelihood = -12.30, time = 0.08s\n",
      "[BernoulliRBM] Iteration 34, pseudo-likelihood = -10.70, time = 0.08s\n",
      "[BernoulliRBM] Iteration 35, pseudo-likelihood = -11.08, time = 0.10s\n",
      "[BernoulliRBM] Iteration 36, pseudo-likelihood = -10.20, time = 0.10s\n",
      "[BernoulliRBM] Iteration 37, pseudo-likelihood = -10.51, time = 0.09s\n",
      "[BernoulliRBM] Iteration 38, pseudo-likelihood = -10.39, time = 0.12s\n",
      "[BernoulliRBM] Iteration 39, pseudo-likelihood = -9.95, time = 0.09s\n",
      "[BernoulliRBM] Iteration 40, pseudo-likelihood = -11.50, time = 0.11s\n",
      "[BernoulliRBM] Iteration 41, pseudo-likelihood = -11.30, time = 0.11s\n",
      "[BernoulliRBM] Iteration 42, pseudo-likelihood = -10.56, time = 0.11s\n",
      "[BernoulliRBM] Iteration 43, pseudo-likelihood = -11.36, time = 0.09s\n",
      "[BernoulliRBM] Iteration 44, pseudo-likelihood = -10.71, time = 0.09s\n",
      "[BernoulliRBM] Iteration 45, pseudo-likelihood = -12.16, time = 0.09s\n",
      "[BernoulliRBM] Iteration 46, pseudo-likelihood = -10.16, time = 0.08s\n",
      "[BernoulliRBM] Iteration 47, pseudo-likelihood = -11.58, time = 0.10s\n",
      "[BernoulliRBM] Iteration 48, pseudo-likelihood = -10.50, time = 0.09s\n",
      "[BernoulliRBM] Iteration 49, pseudo-likelihood = -11.50, time = 0.11s\n",
      "[BernoulliRBM] Iteration 50, pseudo-likelihood = -11.43, time = 0.09s\n",
      "[BernoulliRBM] Iteration 51, pseudo-likelihood = -10.45, time = 0.09s\n",
      "[BernoulliRBM] Iteration 52, pseudo-likelihood = -11.65, time = 0.10s\n",
      "[BernoulliRBM] Iteration 53, pseudo-likelihood = -10.37, time = 0.12s\n",
      "[BernoulliRBM] Iteration 54, pseudo-likelihood = -11.85, time = 0.11s\n",
      "[BernoulliRBM] Iteration 55, pseudo-likelihood = -10.93, time = 0.09s\n",
      "[BernoulliRBM] Iteration 56, pseudo-likelihood = -9.97, time = 0.11s\n",
      "[BernoulliRBM] Iteration 57, pseudo-likelihood = -11.64, time = 0.11s\n",
      "[BernoulliRBM] Iteration 58, pseudo-likelihood = -10.91, time = 0.18s\n",
      "[BernoulliRBM] Iteration 59, pseudo-likelihood = -10.73, time = 0.08s\n",
      "[BernoulliRBM] Iteration 60, pseudo-likelihood = -11.20, time = 0.11s\n",
      "[BernoulliRBM] Iteration 61, pseudo-likelihood = -10.38, time = 0.12s\n",
      "[BernoulliRBM] Iteration 62, pseudo-likelihood = -10.14, time = 0.11s\n",
      "[BernoulliRBM] Iteration 63, pseudo-likelihood = -11.87, time = 0.10s\n",
      "[BernoulliRBM] Iteration 64, pseudo-likelihood = -10.53, time = 0.12s\n",
      "[BernoulliRBM] Iteration 65, pseudo-likelihood = -10.26, time = 0.11s\n",
      "[BernoulliRBM] Iteration 66, pseudo-likelihood = -10.51, time = 0.15s\n",
      "[BernoulliRBM] Iteration 67, pseudo-likelihood = -10.16, time = 0.12s\n",
      "[BernoulliRBM] Iteration 68, pseudo-likelihood = -11.27, time = 0.09s\n",
      "[BernoulliRBM] Iteration 69, pseudo-likelihood = -10.40, time = 0.11s\n",
      "[BernoulliRBM] Iteration 70, pseudo-likelihood = -11.33, time = 0.13s\n",
      "[BernoulliRBM] Iteration 71, pseudo-likelihood = -10.85, time = 0.16s\n",
      "[BernoulliRBM] Iteration 72, pseudo-likelihood = -12.38, time = 0.11s\n",
      "[BernoulliRBM] Iteration 73, pseudo-likelihood = -10.71, time = 0.12s\n",
      "[BernoulliRBM] Iteration 74, pseudo-likelihood = -10.73, time = 0.10s\n",
      "[BernoulliRBM] Iteration 75, pseudo-likelihood = -10.00, time = 0.14s\n",
      "[BernoulliRBM] Iteration 76, pseudo-likelihood = -11.32, time = 0.25s\n",
      "[BernoulliRBM] Iteration 77, pseudo-likelihood = -10.19, time = 0.17s\n",
      "[BernoulliRBM] Iteration 78, pseudo-likelihood = -10.25, time = 0.10s\n",
      "[BernoulliRBM] Iteration 79, pseudo-likelihood = -10.10, time = 0.08s\n",
      "[BernoulliRBM] Iteration 80, pseudo-likelihood = -9.93, time = 0.09s\n",
      "[BernoulliRBM] Iteration 81, pseudo-likelihood = -10.42, time = 0.08s\n",
      "[BernoulliRBM] Iteration 82, pseudo-likelihood = -12.26, time = 0.11s\n",
      "[BernoulliRBM] Iteration 83, pseudo-likelihood = -10.97, time = 0.13s\n",
      "[BernoulliRBM] Iteration 84, pseudo-likelihood = -11.30, time = 0.15s\n",
      "[BernoulliRBM] Iteration 85, pseudo-likelihood = -10.82, time = 0.16s\n",
      "[BernoulliRBM] Iteration 86, pseudo-likelihood = -10.90, time = 0.16s\n",
      "[BernoulliRBM] Iteration 87, pseudo-likelihood = -10.59, time = 0.15s\n",
      "[BernoulliRBM] Iteration 88, pseudo-likelihood = -10.77, time = 0.19s\n",
      "[BernoulliRBM] Iteration 89, pseudo-likelihood = -10.40, time = 0.20s\n",
      "[BernoulliRBM] Iteration 90, pseudo-likelihood = -10.95, time = 0.15s\n",
      "[BernoulliRBM] Iteration 91, pseudo-likelihood = -10.45, time = 0.14s\n",
      "[BernoulliRBM] Iteration 92, pseudo-likelihood = -10.50, time = 0.13s\n",
      "[BernoulliRBM] Iteration 93, pseudo-likelihood = -9.51, time = 0.13s\n",
      "[BernoulliRBM] Iteration 94, pseudo-likelihood = -10.20, time = 0.21s\n",
      "[BernoulliRBM] Iteration 95, pseudo-likelihood = -10.63, time = 0.17s\n",
      "[BernoulliRBM] Iteration 96, pseudo-likelihood = -10.80, time = 0.11s\n",
      "[BernoulliRBM] Iteration 97, pseudo-likelihood = -10.66, time = 0.10s\n",
      "[BernoulliRBM] Iteration 98, pseudo-likelihood = -10.85, time = 0.10s\n",
      "[BernoulliRBM] Iteration 99, pseudo-likelihood = -9.70, time = 0.08s\n",
      "[BernoulliRBM] Iteration 100, pseudo-likelihood = -10.60, time = 0.10s\n",
      "[BernoulliRBM] Iteration 101, pseudo-likelihood = -12.04, time = 0.09s\n",
      "[BernoulliRBM] Iteration 102, pseudo-likelihood = -10.54, time = 0.12s\n",
      "[BernoulliRBM] Iteration 103, pseudo-likelihood = -10.94, time = 0.10s\n",
      "[BernoulliRBM] Iteration 104, pseudo-likelihood = -10.31, time = 0.12s\n",
      "[BernoulliRBM] Iteration 105, pseudo-likelihood = -10.69, time = 0.11s\n",
      "[BernoulliRBM] Iteration 106, pseudo-likelihood = -10.85, time = 0.10s\n",
      "[BernoulliRBM] Iteration 107, pseudo-likelihood = -12.43, time = 0.11s\n",
      "[BernoulliRBM] Iteration 108, pseudo-likelihood = -10.40, time = 0.11s\n",
      "[BernoulliRBM] Iteration 109, pseudo-likelihood = -10.45, time = 0.14s\n",
      "[BernoulliRBM] Iteration 110, pseudo-likelihood = -11.01, time = 0.11s\n",
      "[BernoulliRBM] Iteration 111, pseudo-likelihood = -10.16, time = 0.10s\n",
      "[BernoulliRBM] Iteration 112, pseudo-likelihood = -10.97, time = 0.10s\n",
      "[BernoulliRBM] Iteration 113, pseudo-likelihood = -10.82, time = 0.10s\n",
      "[BernoulliRBM] Iteration 114, pseudo-likelihood = -10.36, time = 0.11s\n",
      "[BernoulliRBM] Iteration 115, pseudo-likelihood = -10.91, time = 0.08s\n",
      "[BernoulliRBM] Iteration 116, pseudo-likelihood = -11.17, time = 0.11s\n",
      "[BernoulliRBM] Iteration 117, pseudo-likelihood = -10.27, time = 0.09s\n",
      "[BernoulliRBM] Iteration 118, pseudo-likelihood = -11.45, time = 0.10s\n",
      "[BernoulliRBM] Iteration 119, pseudo-likelihood = -11.62, time = 0.12s\n",
      "[BernoulliRBM] Iteration 120, pseudo-likelihood = -10.61, time = 0.15s\n",
      "[BernoulliRBM] Iteration 121, pseudo-likelihood = -10.02, time = 0.11s\n",
      "[BernoulliRBM] Iteration 122, pseudo-likelihood = -9.88, time = 0.13s\n",
      "[BernoulliRBM] Iteration 123, pseudo-likelihood = -10.09, time = 0.11s\n",
      "[BernoulliRBM] Iteration 124, pseudo-likelihood = -10.56, time = 0.10s\n",
      "[BernoulliRBM] Iteration 125, pseudo-likelihood = -10.26, time = 0.25s\n",
      "[BernoulliRBM] Iteration 126, pseudo-likelihood = -10.36, time = 0.10s\n",
      "[BernoulliRBM] Iteration 127, pseudo-likelihood = -10.65, time = 0.13s\n",
      "[BernoulliRBM] Iteration 128, pseudo-likelihood = -10.80, time = 0.10s\n",
      "[BernoulliRBM] Iteration 129, pseudo-likelihood = -9.76, time = 0.10s\n",
      "[BernoulliRBM] Iteration 130, pseudo-likelihood = -10.81, time = 0.12s\n",
      "[BernoulliRBM] Iteration 131, pseudo-likelihood = -10.20, time = 0.13s\n",
      "[BernoulliRBM] Iteration 132, pseudo-likelihood = -10.44, time = 0.12s\n",
      "[BernoulliRBM] Iteration 133, pseudo-likelihood = -11.06, time = 0.12s\n",
      "[BernoulliRBM] Iteration 134, pseudo-likelihood = -10.82, time = 0.11s\n",
      "[BernoulliRBM] Iteration 135, pseudo-likelihood = -10.31, time = 0.12s\n",
      "[BernoulliRBM] Iteration 136, pseudo-likelihood = -10.23, time = 0.11s\n",
      "[BernoulliRBM] Iteration 137, pseudo-likelihood = -10.29, time = 0.11s\n",
      "[BernoulliRBM] Iteration 138, pseudo-likelihood = -11.15, time = 0.11s\n",
      "[BernoulliRBM] Iteration 139, pseudo-likelihood = -11.18, time = 0.13s\n",
      "[BernoulliRBM] Iteration 140, pseudo-likelihood = -9.48, time = 0.12s\n",
      "[BernoulliRBM] Iteration 141, pseudo-likelihood = -10.84, time = 0.09s\n",
      "[BernoulliRBM] Iteration 142, pseudo-likelihood = -10.21, time = 0.09s\n",
      "[BernoulliRBM] Iteration 143, pseudo-likelihood = -10.88, time = 0.10s\n",
      "[BernoulliRBM] Iteration 144, pseudo-likelihood = -11.16, time = 0.12s\n",
      "[BernoulliRBM] Iteration 145, pseudo-likelihood = -10.16, time = 0.12s\n",
      "[BernoulliRBM] Iteration 146, pseudo-likelihood = -10.87, time = 0.11s\n",
      "[BernoulliRBM] Iteration 147, pseudo-likelihood = -10.67, time = 0.11s\n",
      "[BernoulliRBM] Iteration 148, pseudo-likelihood = -9.97, time = 0.08s\n",
      "[BernoulliRBM] Iteration 149, pseudo-likelihood = -10.86, time = 0.11s\n",
      "[BernoulliRBM] Iteration 150, pseudo-likelihood = -11.01, time = 0.11s\n",
      "[BernoulliRBM] Iteration 151, pseudo-likelihood = -10.03, time = 0.10s\n",
      "[BernoulliRBM] Iteration 152, pseudo-likelihood = -10.76, time = 0.08s\n",
      "[BernoulliRBM] Iteration 153, pseudo-likelihood = -10.71, time = 0.09s\n",
      "[BernoulliRBM] Iteration 154, pseudo-likelihood = -10.87, time = 0.12s\n",
      "[BernoulliRBM] Iteration 155, pseudo-likelihood = -10.36, time = 0.10s\n",
      "[BernoulliRBM] Iteration 156, pseudo-likelihood = -11.35, time = 0.13s\n",
      "[BernoulliRBM] Iteration 157, pseudo-likelihood = -10.38, time = 0.10s\n",
      "[BernoulliRBM] Iteration 158, pseudo-likelihood = -10.77, time = 0.13s\n",
      "[BernoulliRBM] Iteration 159, pseudo-likelihood = -10.47, time = 0.11s\n",
      "[BernoulliRBM] Iteration 160, pseudo-likelihood = -10.33, time = 0.09s\n",
      "Accuracy 0.7055555555555556\n"
     ]
    },
    {
     "data": {
      "image/png": "[encoded data removed]",
      "text/plain": [
       "<Figure size 640x480 with 2 Axes>"
      ]
     },
     "metadata": {},
     "output_type": "display_data"
    }
   ],
   "source": [
    "X, y = load_digits(return_X_y = True)\n",
    "\n",
    "# X = np.asarray(X, \"float32\")\n",
    "# X = minmax_scale(X, feature_range=(0, 1))\n",
    "\n",
    "X_train, X_test, y_train, y_test = train_test_split(X, y, test_size = 0.2)\n",
    "X_train, X_valid, y_train, y_valid = train_test_split(X_train, y_train, test_size = 0.1)\n",
    "\n",
    "print(X_train.shape, X_valid.shape, X_test.shape, y_train.shape, y_valid.shape, y_test.shape)\n",
    "\n",
    "# (\"random forest\", RandomForestClassifier()),\n",
    "# (\"ada boost\", AdaBoostClassifier()),   \n",
    "# (\"gaussian process\", GaussianProcessClassifier()),\n",
    "# (\"decision tree\", DecisionTreeClassifier()),\n",
    "# (\"mlp\", MLPClassifier()),\n",
    "# (\"svm\", SVC())\n",
    "\n",
    "# print(\"Before RBM: \", X_train[0])\n",
    "\n",
    "pipe = Pipeline([\n",
    "    (\"mms1\", MinMaxScaler()),\n",
    "    (\"rbm1\", BernoulliRBM(n_components=100, learning_rate = 0.1, n_iter = 10, verbose = True)),\n",
    "    (\"mms2\", MinMaxScaler()),\n",
    "    (\"rbm2\", BernoulliRBM(n_components=100, learning_rate = 0.1, n_iter = 20, verbose = True)),\n",
    "    (\"mms3\", MinMaxScaler()),\n",
    "    (\"rbm3\", BernoulliRBM(n_components=100, learning_rate = 0.1, n_iter = 40, verbose = True)),\n",
    "    (\"mms4\", MinMaxScaler()),\n",
    "    (\"rbm4\", BernoulliRBM(n_components=100, learning_rate = 0.1, n_iter = 80, verbose = True)),\n",
    "    (\"mms5\", MinMaxScaler()),\n",
    "    (\"rbm5\", BernoulliRBM(n_components=100, learning_rate = 0.1, n_iter = 160, verbose = True)),\n",
    "    (\"final_classifier\", RandomForestClassifier())\n",
    "])\n",
    "# print(\"After RBM: \",X_train[0])\n",
    "pipe.fit(X_train, y_train)\n",
    "y_pred = pipe.predict(X_test)\n",
    "\n",
    "print(\"Accuracy\", accuracy_score(y_test, y_pred))\n",
    "\n",
    "r_cm = confusion_matrix(y_test, y_pred)\n",
    "disp = ConfusionMatrixDisplay(confusion_matrix = r_cm)\n",
    "\n",
    "disp.plot()\n",
    "plt.show()\n",
    "\n",
    "# 97.5, 98.8, 95.5 - SS + RFC\n",
    "# 98, 97, 98 - SS + SVC\n",
    "# 98, 98, 98 - SV"
   ]
  },
  {
   "cell_type": "markdown",
   "metadata": {},
   "source": [
    "# SciKit"
   ]
  },
  {
   "cell_type": "code",
   "execution_count": 86,
   "metadata": {},
   "outputs": [
    {
     "name": "stderr",
     "output_type": "stream",
     "text": [
      "C:\\Users\\Alaric\\AppData\\Local\\Temp\\ipykernel_14920\\261078787.py:4: SettingWithCopyWarning: \n",
      "A value is trying to be set on a copy of a slice from a DataFrame.\n",
      "Try using .loc[row_indexer,col_indexer] = value instead\n",
      "\n",
      "See the caveats in the documentation: https://pandas.pydata.org/pandas-docs/stable/user_guide/indexing.html#returning-a-view-versus-a-copy\n",
      "  raw_dataset[\"conditions\"] = [word.replace(\", \", \"\\n\") if (\",\" in word) else word for word in raw_dataset[\"conditions\"]]\n",
      "C:\\Users\\Alaric\\AppData\\Local\\Temp\\ipykernel_14920\\261078787.py:17: SettingWithCopyWarning: \n",
      "A value is trying to be set on a copy of a slice from a DataFrame.\n",
      "Try using .loc[row_indexer,col_indexer] = value instead\n",
      "\n",
      "See the caveats in the documentation: https://pandas.pydata.org/pandas-docs/stable/user_guide/indexing.html#returning-a-view-versus-a-copy\n",
      "  raw_dataset[column] = Scaler.fit_transform(raw_dataset[[column]])\n",
      "C:\\Users\\Alaric\\AppData\\Local\\Temp\\ipykernel_14920\\261078787.py:17: SettingWithCopyWarning: \n",
      "A value is trying to be set on a copy of a slice from a DataFrame.\n",
      "Try using .loc[row_indexer,col_indexer] = value instead\n",
      "\n",
      "See the caveats in the documentation: https://pandas.pydata.org/pandas-docs/stable/user_guide/indexing.html#returning-a-view-versus-a-copy\n",
      "  raw_dataset[column] = Scaler.fit_transform(raw_dataset[[column]])\n",
      "C:\\Users\\Alaric\\AppData\\Local\\Temp\\ipykernel_14920\\261078787.py:17: SettingWithCopyWarning: \n",
      "A value is trying to be set on a copy of a slice from a DataFrame.\n",
      "Try using .loc[row_indexer,col_indexer] = value instead\n",
      "\n",
      "See the caveats in the documentation: https://pandas.pydata.org/pandas-docs/stable/user_guide/indexing.html#returning-a-view-versus-a-copy\n",
      "  raw_dataset[column] = Scaler.fit_transform(raw_dataset[[column]])\n",
      "C:\\Users\\Alaric\\AppData\\Local\\Temp\\ipykernel_14920\\261078787.py:17: SettingWithCopyWarning: \n",
      "A value is trying to be set on a copy of a slice from a DataFrame.\n",
      "Try using .loc[row_indexer,col_indexer] = value instead\n",
      "\n",
      "See the caveats in the documentation: https://pandas.pydata.org/pandas-docs/stable/user_guide/indexing.html#returning-a-view-versus-a-copy\n",
      "  raw_dataset[column] = Scaler.fit_transform(raw_dataset[[column]])\n",
      "C:\\Users\\Alaric\\AppData\\Local\\Temp\\ipykernel_14920\\261078787.py:17: SettingWithCopyWarning: \n",
      "A value is trying to be set on a copy of a slice from a DataFrame.\n",
      "Try using .loc[row_indexer,col_indexer] = value instead\n",
      "\n",
      "See the caveats in the documentation: https://pandas.pydata.org/pandas-docs/stable/user_guide/indexing.html#returning-a-view-versus-a-copy\n",
      "  raw_dataset[column] = Scaler.fit_transform(raw_dataset[[column]])\n",
      "C:\\Users\\Alaric\\AppData\\Local\\Temp\\ipykernel_14920\\261078787.py:19: SettingWithCopyWarning: \n",
      "A value is trying to be set on a copy of a slice from a DataFrame.\n",
      "Try using .loc[row_indexer,col_indexer] = value instead\n",
      "\n",
      "See the caveats in the documentation: https://pandas.pydata.org/pandas-docs/stable/user_guide/indexing.html#returning-a-view-versus-a-copy\n",
      "  raw_dataset[\"conditions\"] =  LE.fit_transform(raw_dataset[\"conditions\"])\n"
     ]
    }
   ],
   "source": [
    "concatenated_data = pd.read_csv(\"Concatenated Data.csv\")\n",
    "# raw_dataset = concatenated_data[[\"tempmax\", \"tempmin\", \"temp\", \"feelslikemax\", \"feelslikemin\", \"feelslike\", \"dew\", \"humidity\", \"windspeed\", \"sealevelpressure\", \"conditions\"]]\n",
    "raw_dataset = concatenated_data[[\"temp\", \"feelslike\", \"humidity\", \"windspeed\", \"sealevelpressure\", \"conditions\"]]\n",
    "raw_dataset[\"conditions\"] = [word.replace(\", \", \"\\n\") if (\",\" in word) else word for word in raw_dataset[\"conditions\"]]\n",
    "\n",
    "LE = LabelEncoder()\n",
    "\n",
    "SS = StandardScaler()\n",
    "\n",
    "ScalerObjects = []\n",
    "\n",
    "# for column in raw_dataset.columns:\n",
    "#     if column == \"conditions\":\n",
    "#         continue \n",
    "    \n",
    "#     Scaler = BernoulliRBM()\n",
    "#     raw_dataset[column] = Scaler.fit_transform(raw_dataset[[column]])\n",
    "\n",
    "raw_dataset[\"conditions\"] =  LE.fit_transform(raw_dataset[\"conditions\"])\n",
    "# raw_dataset[\"tempmax\"] = SS.fit_transform(raw_dataset[\"tempmax\"])\n",
    "# print(LE.classes_)\n",
    "\n",
    "# exit\n",
    "# y = raw_dataset.pop(\"conditions\").to_numpy()\n",
    "# X = raw_dataset.to_numpy()\n",
    "\n",
    "t_arr = raw_dataset.copy().to_numpy()\n",
    "window_length = 1\n",
    "\n",
    "X = []\n",
    "y = []\n",
    "\n",
    "# print(\"Rearranging Data\")\n",
    "for i in range(len(t_arr)-window_length):\n",
    "    t_row = []\n",
    "    for j in t_arr[i:i+window_length]:\n",
    "        t_row.append(j[:-1])\n",
    "    t_row = np.array(t_row).flatten()\n",
    "    X.append(t_row)\n",
    "    y.append(t_arr[i + window_length][-1])\n",
    "\n",
    "X = np.array(X, \"float32\")\n",
    "X = minmax_scale(X, feature_range(0, 1))\n",
    "y = np.array(y)\n",
    "\n",
    "counts = dict(collections.Counter(y))\n",
    "max_count = max(counts.values())\n",
    "# print(counts, max_count)\n",
    "\n",
    "# Adding Elements (Eessential)\n",
    "for key, value in counts.items():\n",
    "    curX = []\n",
    "    curY = []\n",
    "    li, = np.where(y == key)\n",
    "    for i in range((max_count - value) * 10):\n",
    "        ci = random.choice(li)\n",
    "        curX.append(X[ci])\n",
    "        curY.append(y[ci])\n",
    "    tX = X.tolist()\n",
    "    tY = y.tolist()\n",
    "    tX.extend(curX)\n",
    "    tY.extend(curY)\n",
    "    X = np.array(tX)\n",
    "    y = np.array(tY)        \n",
    "\n",
    "X_train, X_test, y_train, y_test = train_test_split(X, y, test_size = 0.2)\n"
   ]
  },
  {
   "cell_type": "code",
   "execution_count": 88,
   "metadata": {},
   "outputs": [
    {
     "data": {
      "text/plain": [
       "array([1., 1., 1., 1., 0.])"
      ]
     },
     "execution_count": 88,
     "metadata": {},
     "output_type": "execute_result"
    }
   ],
   "source": [
    "X_train[2]"
   ]
  },
  {
   "cell_type": "code",
   "execution_count": 83,
   "metadata": {},
   "outputs": [
    {
     "name": "stdout",
     "output_type": "stream",
     "text": [
      "X train shape: (29472, 5)\n",
      "random forest 0.9758414766558089\n"
     ]
    }
   ],
   "source": [
    "# pipe = Pipeline([\n",
    "#     ('rbm1', BernoulliRBM(n_components = 5, learning_rate = 0.01, batch_size=100, n_iter=10, verbose = 1)),\n",
    "#     ('rfc', RandomForestClassifier())\n",
    "# ])\n",
    "# print(\"Initial X_train:\", X_train[0])\n",
    "# rbm1 = BernoulliRBM(n_components=10, learning_rate=0.01, batch_size = 10, n_iter = 10, verbose = 1)\n",
    "# X_train = rbm1.fit_transform(X_train, y_train)\n",
    "# print(\"After Training X_train:\", X_train[0])\n",
    "\n",
    "classifiers = [\n",
    "    (\"random forest\", RandomForestClassifier()),\n",
    "    (\"ada boost\", AdaBoostClassifier()),\n",
    "    \n",
    "    # (\"gaussian process\", GaussianProcessClassifier()),\n",
    "    (\"decision tree\", DecisionTreeClassifier()),\n",
    "    (\"mlp\", MLPClassifier()),\n",
    "    (\"svm\", SVC())\n",
    "]\n",
    "\n",
    "# Random Forest - 86%\n",
    "\n",
    "print(\"X train shape:\", X_train.shape)\n",
    "\n",
    "for (name, _clf) in classifiers:\n",
    "\n",
    "    predictor = Pipeline([\n",
    "        # ('rbm1', BernoulliRBM(n_components = 10, learning_rate = 0.01, batch_size = 1, n_iter = 10, verbose = 1)),\n",
    "        # ('ss1', StandardScaler()),\n",
    "        # ('rbm2', BernoulliRBM(n_components = 5, learning_rate = 0.01, batch_size = 10, n_iter = 10, verbose = 1)),\n",
    "        # ('rbm3', BernoulliRBM(n_components = 5, learning_rate = 0.01, batch_size = 10, n_iter = 10, verbose = 1)),\n",
    "        # ('rbm4', BernoulliRBM(n_components = 5, learning_rate = 0.01, batch_size = 10, n_iter = 10, verbose = 1)),\n",
    "        # ('rbm5', BernoulliRBM(n_components = 5, learning_rate = 0.01, batch_size = 10, n_iter = 10, verbose = 1)),\n",
    "        (name, _clf)\n",
    "    ])\n",
    "    predictor.fit(X_train, y_train)\n",
    "    y_pred = predictor.predict(X_test)\n",
    "    print(name, accuracy_score(y_test, y_pred))\n",
    "\n",
    "    break \n",
    "\n",
    "# predictor = SVC(C=2.0) - 24%\n",
    "\n",
    "\n",
    "\n",
    "\n",
    "# predictor.fit(X_train, y_train)\n",
    "# y_pred = predictor.predict(X_test)\n",
    "\n",
    "# pipe.fit(X_train, y_train)\n",
    "\n",
    "# y_pred = pipe.predict(X_test)\n",
    "# r_cm = confusion_matrix(y_test, y_pred)\n",
    "# disp = ConfusionMatrixDisplay(confusion_matrix = r_cm, display_labels = LE.classes_)\n",
    "\n",
    "# disp.plot()\n",
    "# plt.show()\n"
   ]
  },
  {
   "cell_type": "code",
   "execution_count": 65,
   "metadata": {},
   "outputs": [],
   "source": [
    "def nudge_dataset(X, Y):\n",
    "    \"\"\"\n",
    "    This produces a dataset 5 times bigger than the original one,\n",
    "    by moving the 8x8 images in X around by 1px to left, right, down, up\n",
    "    \"\"\"\n",
    "    direction_vectors = [\n",
    "        [[0, 1, 0], [0, 0, 0], [0, 0, 0]],\n",
    "        [[0, 0, 0], [1, 0, 0], [0, 0, 0]],\n",
    "        [[0, 0, 0], [0, 0, 1], [0, 0, 0]],\n",
    "        [[0, 0, 0], [0, 0, 0], [0, 1, 0]],\n",
    "    ]\n",
    "\n",
    "    def shift(x, w):\n",
    "        return convolve(x.reshape((8, 8)), mode=\"constant\", weights=w).ravel()\n",
    "\n",
    "    X = np.concatenate(\n",
    "        [X] + [np.apply_along_axis(shift, 1, X, vector) for vector in direction_vectors]\n",
    "    )\n",
    "    Y = np.concatenate([Y for _ in range(5)], axis=0)\n",
    "    return X, Y\n",
    "\n",
    "\n",
    "X, y = load_digits(return_X_y=True)\n",
    "X = np.asarray(X, \"float32\")\n",
    "X, Y = nudge_dataset(X, y)\n",
    "X = minmax_scale(X, feature_range=(0, 1))  # 0-1 scaling\n",
    "\n",
    "X_train, X_test, Y_train, Y_test = train_test_split(X, Y, test_size=0.2, random_state=0)"
   ]
  },
  {
   "cell_type": "code",
   "execution_count": 66,
   "metadata": {},
   "outputs": [],
   "source": [
    "# logistic = LogisticRegression(solver=\"newton-cg\", tol=1)\n",
    "rfc = RandomForestClassifier()\n",
    "\n",
    "rbm = BernoulliRBM(random_state=0, verbose=True)\n",
    "\n",
    "rbm_features_classifier = Pipeline(\n",
    "    steps=[\n",
    "        (\"rbm\", rbm), \n",
    "        # (\"logistic\", logistic)\n",
    "        (\"rfc\", rfc)\n",
    "        ]\n",
    "    )\n"
   ]
  },
  {
   "cell_type": "code",
   "execution_count": 68,
   "metadata": {},
   "outputs": [
    {
     "name": "stdout",
     "output_type": "stream",
     "text": [
      "[BernoulliRBM] Iteration 1, pseudo-likelihood = -25.57, time = 0.31s\n",
      "[BernoulliRBM] Iteration 2, pseudo-likelihood = -23.68, time = 0.34s\n",
      "[BernoulliRBM] Iteration 3, pseudo-likelihood = -22.74, time = 0.33s\n",
      "[BernoulliRBM] Iteration 4, pseudo-likelihood = -21.92, time = 0.41s\n",
      "[BernoulliRBM] Iteration 5, pseudo-likelihood = -21.70, time = 0.35s\n",
      "[BernoulliRBM] Iteration 6, pseudo-likelihood = -21.03, time = 0.46s\n",
      "[BernoulliRBM] Iteration 7, pseudo-likelihood = -20.90, time = 0.57s\n",
      "[BernoulliRBM] Iteration 8, pseudo-likelihood = -20.47, time = 0.37s\n",
      "[BernoulliRBM] Iteration 9, pseudo-likelihood = -20.56, time = 0.39s\n",
      "[BernoulliRBM] Iteration 10, pseudo-likelihood = -20.18, time = 0.40s\n"
     ]
    },
    {
     "data": {
      "text/html": [
       "<style>#sk-container-id-3 {color: black;}#sk-container-id-3 pre{padding: 0;}#sk-container-id-3 div.sk-toggleable {background-color: white;}#sk-container-id-3 label.sk-toggleable__label {cursor: pointer;display: block;width: 100%;margin-bottom: 0;padding: 0.3em;box-sizing: border-box;text-align: center;}#sk-container-id-3 label.sk-toggleable__label-arrow:before {content: \"▸\";float: left;margin-right: 0.25em;color: #696969;}#sk-container-id-3 label.sk-toggleable__label-arrow:hover:before {color: black;}#sk-container-id-3 div.sk-estimator:hover label.sk-toggleable__label-arrow:before {color: black;}#sk-container-id-3 div.sk-toggleable__content {max-height: 0;max-width: 0;overflow: hidden;text-align: left;background-color: #f0f8ff;}#sk-container-id-3 div.sk-toggleable__content pre {margin: 0.2em;color: black;border-radius: 0.25em;background-color: #f0f8ff;}#sk-container-id-3 input.sk-toggleable__control:checked~div.sk-toggleable__content {max-height: 200px;max-width: 100%;overflow: auto;}#sk-container-id-3 input.sk-toggleable__control:checked~label.sk-toggleable__label-arrow:before {content: \"▾\";}#sk-container-id-3 div.sk-estimator input.sk-toggleable__control:checked~label.sk-toggleable__label {background-color: #d4ebff;}#sk-container-id-3 div.sk-label input.sk-toggleable__control:checked~label.sk-toggleable__label {background-color: #d4ebff;}#sk-container-id-3 input.sk-hidden--visually {border: 0;clip: rect(1px 1px 1px 1px);clip: rect(1px, 1px, 1px, 1px);height: 1px;margin: -1px;overflow: hidden;padding: 0;position: absolute;width: 1px;}#sk-container-id-3 div.sk-estimator {font-family: monospace;background-color: #f0f8ff;border: 1px dotted black;border-radius: 0.25em;box-sizing: border-box;margin-bottom: 0.5em;}#sk-container-id-3 div.sk-estimator:hover {background-color: #d4ebff;}#sk-container-id-3 div.sk-parallel-item::after {content: \"\";width: 100%;border-bottom: 1px solid gray;flex-grow: 1;}#sk-container-id-3 div.sk-label:hover label.sk-toggleable__label {background-color: #d4ebff;}#sk-container-id-3 div.sk-serial::before {content: \"\";position: absolute;border-left: 1px solid gray;box-sizing: border-box;top: 0;bottom: 0;left: 50%;z-index: 0;}#sk-container-id-3 div.sk-serial {display: flex;flex-direction: column;align-items: center;background-color: white;padding-right: 0.2em;padding-left: 0.2em;position: relative;}#sk-container-id-3 div.sk-item {position: relative;z-index: 1;}#sk-container-id-3 div.sk-parallel {display: flex;align-items: stretch;justify-content: center;background-color: white;position: relative;}#sk-container-id-3 div.sk-item::before, #sk-container-id-3 div.sk-parallel-item::before {content: \"\";position: absolute;border-left: 1px solid gray;box-sizing: border-box;top: 0;bottom: 0;left: 50%;z-index: -1;}#sk-container-id-3 div.sk-parallel-item {display: flex;flex-direction: column;z-index: 1;position: relative;background-color: white;}#sk-container-id-3 div.sk-parallel-item:first-child::after {align-self: flex-end;width: 50%;}#sk-container-id-3 div.sk-parallel-item:last-child::after {align-self: flex-start;width: 50%;}#sk-container-id-3 div.sk-parallel-item:only-child::after {width: 0;}#sk-container-id-3 div.sk-dashed-wrapped {border: 1px dashed gray;margin: 0 0.4em 0.5em 0.4em;box-sizing: border-box;padding-bottom: 0.4em;background-color: white;}#sk-container-id-3 div.sk-label label {font-family: monospace;font-weight: bold;display: inline-block;line-height: 1.2em;}#sk-container-id-3 div.sk-label-container {text-align: center;}#sk-container-id-3 div.sk-container {/* jupyter's `normalize.less` sets `[hidden] { display: none; }` but bootstrap.min.css set `[hidden] { display: none !important; }` so we also need the `!important` here to be able to override the default hidden behavior on the sphinx rendered scikit-learn.org. See: https://github.com/scikit-learn/scikit-learn/issues/21755 */display: inline-block !important;position: relative;}#sk-container-id-3 div.sk-text-repr-fallback {display: none;}</style><div id=\"sk-container-id-3\" class=\"sk-top-container\"><div class=\"sk-text-repr-fallback\"><pre>RandomForestClassifier()</pre><b>In a Jupyter environment, please rerun this cell to show the HTML representation or trust the notebook. <br />On GitHub, the HTML representation is unable to render, please try loading this page with nbviewer.org.</b></div><div class=\"sk-container\" hidden><div class=\"sk-item\"><div class=\"sk-estimator sk-toggleable\"><input class=\"sk-toggleable__control sk-hidden--visually\" id=\"sk-estimator-id-3\" type=\"checkbox\" checked><label for=\"sk-estimator-id-3\" class=\"sk-toggleable__label sk-toggleable__label-arrow\">RandomForestClassifier</label><div class=\"sk-toggleable__content\"><pre>RandomForestClassifier()</pre></div></div></div></div></div>"
      ],
      "text/plain": [
       "RandomForestClassifier()"
      ]
     },
     "execution_count": 68,
     "metadata": {},
     "output_type": "execute_result"
    }
   ],
   "source": [
    "from sklearn.base import clone\n",
    "\n",
    "# Hyper-parameters. These were set by cross-validation,\n",
    "# using a GridSearchCV. Here we are not performing cross-validation to\n",
    "# save time.\n",
    "rbm.learning_rate = 0.06\n",
    "rbm.n_iter = 10\n",
    "\n",
    "# More components tend to give better prediction performance, but larger\n",
    "# fitting time\n",
    "rbm.n_components = 100\n",
    "# logistic.C = 6000\n",
    "\n",
    "# Training RBM-Logistic Pipeline\n",
    "rbm_features_classifier.fit(X_train, Y_train)\n",
    "\n",
    "# Training the Logistic regression classifier directly on the pixel\n",
    "raw_pixel_classifier = clone(rfc)\n",
    "# raw_pixel_classifier.C = 100.0\n",
    "raw_pixel_classifier.fit(X_train, Y_train)"
   ]
  },
  {
   "cell_type": "code",
   "execution_count": 69,
   "metadata": {},
   "outputs": [
    {
     "name": "stdout",
     "output_type": "stream",
     "text": [
      "Logistic regression using RBM features:\n",
      "              precision    recall  f1-score   support\n",
      "\n",
      "           0       0.98      0.98      0.98       174\n",
      "           1       0.93      0.96      0.94       184\n",
      "           2       0.98      0.97      0.98       166\n",
      "           3       0.94      0.92      0.93       194\n",
      "           4       0.95      0.95      0.95       186\n",
      "           5       0.96      0.94      0.95       181\n",
      "           6       0.99      0.99      0.99       207\n",
      "           7       0.91      0.99      0.95       154\n",
      "           8       0.94      0.89      0.92       182\n",
      "           9       0.93      0.92      0.93       169\n",
      "\n",
      "    accuracy                           0.95      1797\n",
      "   macro avg       0.95      0.95      0.95      1797\n",
      "weighted avg       0.95      0.95      0.95      1797\n",
      "\n",
      "Accuracy Score:\n",
      "0.9510294936004452\n"
     ]
    }
   ],
   "source": [
    "# The one with the RBM\n",
    "Y_pred = rbm_features_classifier.predict(X_test)\n",
    "print(\n",
    "    f\"Logistic regression using RBM features:\\n{classification_report(Y_test, Y_pred)}\\nAccuracy Score:\\n{accuracy_score(Y_test, Y_pred)}\"\n",
    ")"
   ]
  },
  {
   "cell_type": "code",
   "execution_count": 70,
   "metadata": {},
   "outputs": [
    {
     "name": "stdout",
     "output_type": "stream",
     "text": [
      "Logistic regression using raw pixel features:\n",
      "              precision    recall  f1-score   support\n",
      "\n",
      "           0       0.98      0.98      0.98       174\n",
      "           1       0.96      0.99      0.98       184\n",
      "           2       0.99      1.00      0.99       166\n",
      "           3       0.98      0.93      0.96       194\n",
      "           4       0.98      0.96      0.97       186\n",
      "           5       0.97      0.95      0.96       181\n",
      "           6       0.99      0.98      0.98       207\n",
      "           7       0.93      0.99      0.96       154\n",
      "           8       0.95      0.95      0.95       182\n",
      "           9       0.96      0.95      0.96       169\n",
      "\n",
      "    accuracy                           0.97      1797\n",
      "   macro avg       0.97      0.97      0.97      1797\n",
      "weighted avg       0.97      0.97      0.97      1797\n",
      "\n",
      "Accuracy Score:\n",
      "0.9688369504730105\n"
     ]
    }
   ],
   "source": [
    "Y_pred = raw_pixel_classifier.predict(X_test)\n",
    "print(\n",
    "    f\"Logistic regression using raw pixel features:\\n{classification_report(Y_test, Y_pred)}\\nAccuracy Score:\\n{accuracy_score(Y_test, Y_pred)}\"\n",
    ")"
   ]
  },
  {
   "cell_type": "code",
   "execution_count": 52,
   "metadata": {},
   "outputs": [
    {
     "data": {
      "image/png": "[encoded data removed]",
      "text/plain": [
       "<Figure size 1000x1000 with 100 Axes>"
      ]
     },
     "metadata": {},
     "output_type": "display_data"
    }
   ],
   "source": [
    "plt.figure(figsize=(5, 10))\n",
    "for i, comp in enumerate(rbm.components_):\n",
    "    plt.subplot(10, 10, i + 1)\n",
    "    plt.imshow(comp.reshape((8, 8)), cmap=plt.cm.gray_r, interpolation=\"nearest\")\n",
    "    plt.xticks(())\n",
    "    plt.yticks(())\n",
    "plt.suptitle(\"100 components extracted by RBM\", fontsize=16)\n",
    "plt.subplots_adjust(0.08, 0.02, 0.92, 0.85, 0.08, 0.23)\n",
    "\n",
    "plt.show()"
   ]
  }
 ],
 "metadata": {
  "kernelspec": {
   "display_name": "Python 3",
   "language": "python",
   "name": "python3"
  },
  "language_info": {
   "codemirror_mode": {
    "name": "ipython",
    "version": 3
   },
   "file_extension": ".py",
   "mimetype": "text/x-python",
   "name": "python",
   "nbconvert_exporter": "python",
   "pygments_lexer": "ipython3",
   "version": "3.11.3"
  }
 },
 "nbformat": 4,
 "nbformat_minor": 2
}
