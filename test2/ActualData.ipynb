{
 "cells": [
  {
   "cell_type": "code",
   "execution_count": null,
   "metadata": {},
   "outputs": [],
   "source": [
    "import pandas as pd\n",
    "import tensorflow as tf\n",
    "import matplotlib.pyplot as plt\n",
    "import numpy as np\n",
    "\n",
    "\n",
    "from tensorflow import keras\n",
    "from tensorflow.keras import layers\n",
    "from tensorflow.keras.models import Sequential\n",
    "from tensorflow.keras.layers import Dense, Flatten\n",
    "from tensorflow.keras.callbacks import EarlyStopping, ModelCheckpoint\n",
    "from tensorflow.keras import activations\n",
    "\n",
    "from sklearn.preprocessing import LabelEncoder\n",
    "from sklearn.model_selection import train_test_split"
   ]
  },
  {
   "cell_type": "code",
   "execution_count": null,
   "metadata": {},
   "outputs": [],
   "source": [
    "keras.losses.CategoricalCrossentropy(from_logits=True).name"
   ]
  },
  {
   "cell_type": "code",
   "execution_count": null,
   "metadata": {},
   "outputs": [],
   "source": [
    "qc_raw_data_df = pd.read_csv(\"QC_2016_01_01_TO_2018_08_31.csv\")\n",
    "qc_raw_data_df.describe().T"
   ]
  },
  {
   "cell_type": "code",
   "execution_count": null,
   "metadata": {},
   "outputs": [],
   "source": [
    "qc_data = qc_raw_data_df.copy()\n",
    "qc_data.columns"
   ]
  },
  {
   "cell_type": "code",
   "execution_count": null,
   "metadata": {},
   "outputs": [],
   "source": [
    "features = [\"temp\", \"feelslike\", \"dew\", \"humidity\", \"windspeed\", \"cloudcover\", \"visibility\"]\n",
    "\n",
    "# Weather Condition\n",
    "target = [\"conditions\"]\n",
    "# target = [\"conditions\", \"description\"]\n",
    "\n",
    "# Precipitation Coverage, Amount, Probability\n",
    "# target = [\"precipcover\"]\n",
    "# target = [\"precipprob\", \"precipcover\"]\n",
    "# target = [\"precipprob\", \"precipcover\", \"preciptype\"]\n",
    "\n",
    "X = qc_data[features]\n",
    "X.head()\n"
   ]
  },
  {
   "cell_type": "code",
   "execution_count": null,
   "metadata": {},
   "outputs": [],
   "source": [
    "X.isna().sum()"
   ]
  },
  {
   "cell_type": "code",
   "execution_count": null,
   "metadata": {},
   "outputs": [],
   "source": [
    "Y = qc_data[target]\n",
    "Y[\"conditions\"].unique()\n"
   ]
  },
  {
   "cell_type": "code",
   "execution_count": null,
   "metadata": {},
   "outputs": [],
   "source": [
    "Y = Y.conditions.to_list()\n",
    "Y"
   ]
  },
  {
   "cell_type": "code",
   "execution_count": null,
   "metadata": {},
   "outputs": [],
   "source": [
    "X_train, X_test, Y_train, Y_test = train_test_split(X, Y, test_size=0.2, random_state=0)\n",
    "Le = LabelEncoder()\n",
    "Le.fit(Y_train)\n",
    "y_train_encoded = Le.transform(Y_train)\n",
    "y_test_encoded = Le.transform(Y_test)\n",
    "x_train_encoded = X_train.to_numpy()\n",
    "x_test_encoded = X_test.to_numpy()"
   ]
  },
  {
   "cell_type": "code",
   "execution_count": null,
   "metadata": {},
   "outputs": [],
   "source": [
    "np.unique(y_train_encoded)"
   ]
  },
  {
   "cell_type": "code",
   "execution_count": null,
   "metadata": {},
   "outputs": [],
   "source": [
    "x_train_encoded.shape"
   ]
  },
  {
   "cell_type": "code",
   "execution_count": null,
   "metadata": {},
   "outputs": [],
   "source": [
    "es_function = EarlyStopping(\n",
    "    patience = 5,\n",
    "    min_delta = 0.001,\n",
    "    restore_best_weights = True\n",
    ")\n",
    "checkpoint_filepath = \"tmp/best_weights\"\n",
    "\n",
    "model_checkpoint_function = ModelCheckpoint(\n",
    "    filepath = checkpoint_filepath,\n",
    "    save_weights_only = True,\n",
    "    monitor = 'val_accuracy',\n",
    "    mode = 'max',\n",
    "    save_best_only=True\n",
    ")"
   ]
  },
  {
   "cell_type": "code",
   "execution_count": null,
   "metadata": {},
   "outputs": [],
   "source": [
    "ann_model = Sequential(\n",
    "    [\n",
    "        Flatten(input_shape=[11]),\n",
    "        Dense(128, activation=activations.relu),\n",
    "        #Dense(512, activation=\"sigmoid\"),\n",
    "        #Dense(512, activation=\"sigmoid\"),\n",
    "        #Dense(512, activation=\"sigmoid\"),\n",
    "        Dense(4)\n",
    "    ]\n",
    ")\n",
    "\n",
    "print(ann_model.summary())\n",
    "\n",
    "loss_function = keras.losses.CategoricalCrossentropy(from_logits=True)\n",
    "optimizer_function = keras.optimizers.SGD(learning_rate=0.0001)\n",
    "metrics = [\"accuracy\"]\n",
    "\n",
    "ann_model.compile(loss=loss_function, optimizer=optimizer_function, metrics=metrics)\n",
    "\n",
    "batch_size = 512\n",
    "epochs = 100\n",
    "\n",
    "history = ann_model.fit(x_train_encoded, y_train_encoded, \n",
    "              #batch_size=batch_size, \n",
    "              epochs=epochs, \n",
    "              validation_data = (x_test_encoded, y_test_encoded),\n",
    "              callbacks = [model_checkpoint_function],\n",
    "              shuffle=True, verbose=2)"
   ]
  },
  {
   "cell_type": "code",
   "execution_count": null,
   "metadata": {},
   "outputs": [],
   "source": [
    "history.params"
   ]
  },
  {
   "cell_type": "code",
   "execution_count": null,
   "metadata": {},
   "outputs": [],
   "source": [
    "history_df = pd.DataFrame(history.history)\n",
    "history_df.loc[0:, ['loss', 'val_loss']].plot()\n",
    "print((\"Minimum Validation Loss: {:0.4f}\").format(history_df['val_loss'].min()))\n",
    "\n",
    "plt.show()\n"
   ]
  },
  {
   "cell_type": "code",
   "execution_count": null,
   "metadata": {},
   "outputs": [],
   "source": [
    "history_df.loc[0:, ['accuracy', 'val_accuracy']].plot()\n",
    "print((\"Maximum Obtained Accuracy: {:0.4f}\").format(history_df['val_accuracy'].max()))\n",
    "\n",
    "plt.show()\n",
    "\n",
    "#0.8051 without early stopping\n",
    "#0.7795 with early stopping"
   ]
  },
  {
   "cell_type": "code",
   "execution_count": null,
   "metadata": {},
   "outputs": [],
   "source": [
    "ann_model.load_weights(checkpoint_filepath)\n",
    "ann_model.predict(x_test_encoded).flatten()"
   ]
  }
 ],
 "metadata": {
  "kernelspec": {
   "display_name": "Python 3",
   "language": "python",
   "name": "python3"
  },
  "language_info": {
   "codemirror_mode": {
    "name": "ipython",
    "version": 3
   },
   "file_extension": ".py",
   "mimetype": "text/x-python",
   "name": "python",
   "nbconvert_exporter": "python",
   "pygments_lexer": "ipython3",
   "version": "3.9.2"
  },
  "orig_nbformat": 4,
  "vscode": {
   "interpreter": {
    "hash": "2966a61383ff9c7e136d2cab556bc1d3f7015bf83f9afddc1a15537aae5f0f0f"
   }
  }
 },
 "nbformat": 4,
 "nbformat_minor": 2
}
